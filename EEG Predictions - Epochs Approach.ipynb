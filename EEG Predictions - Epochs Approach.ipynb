{
  "cells": [
    {
      "cell_type": "markdown",
      "metadata": {
        "id": "view-in-github",
        "colab_type": "text"
      },
      "source": [
        "<a href=\"https://colab.research.google.com/github/sobieddch90/mcd_udg_tfm-egg_analysis/blob/main/EEG%20Predictions%20-%20Epochs%20Approach.ipynb\" target=\"_parent\"><img src=\"https://colab.research.google.com/assets/colab-badge.svg\" alt=\"Open In Colab\"/></a>"
      ]
    },
    {
      "cell_type": "markdown",
      "metadata": {
        "id": "56o8JMMh85Bd"
      },
      "source": [
        "# Reading and Prepare Data\n"
      ]
    },
    {
      "cell_type": "markdown",
      "metadata": {
        "id": "iHopY5Jz8_oR"
      },
      "source": [
        "Install Libraries & Download the\n",
        "\n",
        "- Open Neuro: `pip install openneuro-py`\n",
        "- MNE: `pip install mne`\n"
      ]
    },
    {
      "cell_type": "code",
      "source": [
        "%%capture\n",
        "!pip install mne\n",
        "!pip install xgboost"
      ],
      "metadata": {
        "id": "G9bX7eBBdomz"
      },
      "execution_count": 1,
      "outputs": []
    },
    {
      "cell_type": "code",
      "execution_count": 2,
      "metadata": {
        "id": "dCPZPXL-8IS6"
      },
      "outputs": [],
      "source": [
        "import numpy as np\n",
        "import pandas as pd\n",
        "import json\n",
        "import os\n",
        "from google.colab import drive\n",
        "\n",
        "import mne\n",
        "\n",
        "import matplotlib.pyplot as plt\n",
        "import seaborn as sns\n",
        "\n",
        "from sklearn.model_selection import train_test_split\n",
        "from sklearn.ensemble import RandomForestClassifier"
      ]
    },
    {
      "cell_type": "code",
      "source": [
        "drive.mount('/content/drive')"
      ],
      "metadata": {
        "colab": {
          "base_uri": "https://localhost:8080/"
        },
        "id": "jdcsHq73deYX",
        "outputId": "6b0508d7-933c-4c75-dda1-7cb25382ebd7"
      },
      "execution_count": 3,
      "outputs": [
        {
          "output_type": "stream",
          "name": "stdout",
          "text": [
            "Drive already mounted at /content/drive; to attempt to forcibly remount, call drive.mount(\"/content/drive\", force_remount=True).\n"
          ]
        }
      ]
    },
    {
      "cell_type": "markdown",
      "metadata": {
        "id": "Ss_sPRMs9Jjk"
      },
      "source": [
        "Read the Data\n"
      ]
    },
    {
      "cell_type": "code",
      "execution_count": 4,
      "metadata": {
        "colab": {
          "base_uri": "https://localhost:8080/",
          "height": 206
        },
        "id": "MHwp8F_n9ucs",
        "outputId": "930acb10-4d3f-4f82-9795-ac4d1b3df0a2"
      },
      "outputs": [
        {
          "output_type": "execute_result",
          "data": {
            "text/plain": [
              "  participant_id Gender  Age Group  MMSE\n",
              "0        sub-001      F   57     A    16\n",
              "1        sub-002      F   78     A    22\n",
              "2        sub-003      M   70     A    14\n",
              "3        sub-004      F   67     A    20\n",
              "4        sub-005      M   70     A    22"
            ],
            "text/html": [
              "\n",
              "\n",
              "  <div id=\"df-9fcd2ba8-ce01-4304-8890-7c734d445652\">\n",
              "    <div class=\"colab-df-container\">\n",
              "      <div>\n",
              "<style scoped>\n",
              "    .dataframe tbody tr th:only-of-type {\n",
              "        vertical-align: middle;\n",
              "    }\n",
              "\n",
              "    .dataframe tbody tr th {\n",
              "        vertical-align: top;\n",
              "    }\n",
              "\n",
              "    .dataframe thead th {\n",
              "        text-align: right;\n",
              "    }\n",
              "</style>\n",
              "<table border=\"1\" class=\"dataframe\">\n",
              "  <thead>\n",
              "    <tr style=\"text-align: right;\">\n",
              "      <th></th>\n",
              "      <th>participant_id</th>\n",
              "      <th>Gender</th>\n",
              "      <th>Age</th>\n",
              "      <th>Group</th>\n",
              "      <th>MMSE</th>\n",
              "    </tr>\n",
              "  </thead>\n",
              "  <tbody>\n",
              "    <tr>\n",
              "      <th>0</th>\n",
              "      <td>sub-001</td>\n",
              "      <td>F</td>\n",
              "      <td>57</td>\n",
              "      <td>A</td>\n",
              "      <td>16</td>\n",
              "    </tr>\n",
              "    <tr>\n",
              "      <th>1</th>\n",
              "      <td>sub-002</td>\n",
              "      <td>F</td>\n",
              "      <td>78</td>\n",
              "      <td>A</td>\n",
              "      <td>22</td>\n",
              "    </tr>\n",
              "    <tr>\n",
              "      <th>2</th>\n",
              "      <td>sub-003</td>\n",
              "      <td>M</td>\n",
              "      <td>70</td>\n",
              "      <td>A</td>\n",
              "      <td>14</td>\n",
              "    </tr>\n",
              "    <tr>\n",
              "      <th>3</th>\n",
              "      <td>sub-004</td>\n",
              "      <td>F</td>\n",
              "      <td>67</td>\n",
              "      <td>A</td>\n",
              "      <td>20</td>\n",
              "    </tr>\n",
              "    <tr>\n",
              "      <th>4</th>\n",
              "      <td>sub-005</td>\n",
              "      <td>M</td>\n",
              "      <td>70</td>\n",
              "      <td>A</td>\n",
              "      <td>22</td>\n",
              "    </tr>\n",
              "  </tbody>\n",
              "</table>\n",
              "</div>\n",
              "      <button class=\"colab-df-convert\" onclick=\"convertToInteractive('df-9fcd2ba8-ce01-4304-8890-7c734d445652')\"\n",
              "              title=\"Convert this dataframe to an interactive table.\"\n",
              "              style=\"display:none;\">\n",
              "\n",
              "  <svg xmlns=\"http://www.w3.org/2000/svg\" height=\"24px\"viewBox=\"0 0 24 24\"\n",
              "       width=\"24px\">\n",
              "    <path d=\"M0 0h24v24H0V0z\" fill=\"none\"/>\n",
              "    <path d=\"M18.56 5.44l.94 2.06.94-2.06 2.06-.94-2.06-.94-.94-2.06-.94 2.06-2.06.94zm-11 1L8.5 8.5l.94-2.06 2.06-.94-2.06-.94L8.5 2.5l-.94 2.06-2.06.94zm10 10l.94 2.06.94-2.06 2.06-.94-2.06-.94-.94-2.06-.94 2.06-2.06.94z\"/><path d=\"M17.41 7.96l-1.37-1.37c-.4-.4-.92-.59-1.43-.59-.52 0-1.04.2-1.43.59L10.3 9.45l-7.72 7.72c-.78.78-.78 2.05 0 2.83L4 21.41c.39.39.9.59 1.41.59.51 0 1.02-.2 1.41-.59l7.78-7.78 2.81-2.81c.8-.78.8-2.07 0-2.86zM5.41 20L4 18.59l7.72-7.72 1.47 1.35L5.41 20z\"/>\n",
              "  </svg>\n",
              "      </button>\n",
              "\n",
              "\n",
              "\n",
              "    <div id=\"df-1133c171-a0f7-4e65-a6d1-beeb86277182\">\n",
              "      <button class=\"colab-df-quickchart\" onclick=\"quickchart('df-1133c171-a0f7-4e65-a6d1-beeb86277182')\"\n",
              "              title=\"Suggest charts.\"\n",
              "              style=\"display:none;\">\n",
              "\n",
              "<svg xmlns=\"http://www.w3.org/2000/svg\" height=\"24px\"viewBox=\"0 0 24 24\"\n",
              "     width=\"24px\">\n",
              "    <g>\n",
              "        <path d=\"M19 3H5c-1.1 0-2 .9-2 2v14c0 1.1.9 2 2 2h14c1.1 0 2-.9 2-2V5c0-1.1-.9-2-2-2zM9 17H7v-7h2v7zm4 0h-2V7h2v10zm4 0h-2v-4h2v4z\"/>\n",
              "    </g>\n",
              "</svg>\n",
              "      </button>\n",
              "    </div>\n",
              "\n",
              "<style>\n",
              "  .colab-df-quickchart {\n",
              "    background-color: #E8F0FE;\n",
              "    border: none;\n",
              "    border-radius: 50%;\n",
              "    cursor: pointer;\n",
              "    display: none;\n",
              "    fill: #1967D2;\n",
              "    height: 32px;\n",
              "    padding: 0 0 0 0;\n",
              "    width: 32px;\n",
              "  }\n",
              "\n",
              "  .colab-df-quickchart:hover {\n",
              "    background-color: #E2EBFA;\n",
              "    box-shadow: 0px 1px 2px rgba(60, 64, 67, 0.3), 0px 1px 3px 1px rgba(60, 64, 67, 0.15);\n",
              "    fill: #174EA6;\n",
              "  }\n",
              "\n",
              "  [theme=dark] .colab-df-quickchart {\n",
              "    background-color: #3B4455;\n",
              "    fill: #D2E3FC;\n",
              "  }\n",
              "\n",
              "  [theme=dark] .colab-df-quickchart:hover {\n",
              "    background-color: #434B5C;\n",
              "    box-shadow: 0px 1px 3px 1px rgba(0, 0, 0, 0.15);\n",
              "    filter: drop-shadow(0px 1px 2px rgba(0, 0, 0, 0.3));\n",
              "    fill: #FFFFFF;\n",
              "  }\n",
              "</style>\n",
              "\n",
              "    <script>\n",
              "      async function quickchart(key) {\n",
              "        const containerElement = document.querySelector('#' + key);\n",
              "        const charts = await google.colab.kernel.invokeFunction(\n",
              "            'suggestCharts', [key], {});\n",
              "      }\n",
              "    </script>\n",
              "\n",
              "      <script>\n",
              "\n",
              "function displayQuickchartButton(domScope) {\n",
              "  let quickchartButtonEl =\n",
              "    domScope.querySelector('#df-1133c171-a0f7-4e65-a6d1-beeb86277182 button.colab-df-quickchart');\n",
              "  quickchartButtonEl.style.display =\n",
              "    google.colab.kernel.accessAllowed ? 'block' : 'none';\n",
              "}\n",
              "\n",
              "        displayQuickchartButton(document);\n",
              "      </script>\n",
              "      <style>\n",
              "    .colab-df-container {\n",
              "      display:flex;\n",
              "      flex-wrap:wrap;\n",
              "      gap: 12px;\n",
              "    }\n",
              "\n",
              "    .colab-df-convert {\n",
              "      background-color: #E8F0FE;\n",
              "      border: none;\n",
              "      border-radius: 50%;\n",
              "      cursor: pointer;\n",
              "      display: none;\n",
              "      fill: #1967D2;\n",
              "      height: 32px;\n",
              "      padding: 0 0 0 0;\n",
              "      width: 32px;\n",
              "    }\n",
              "\n",
              "    .colab-df-convert:hover {\n",
              "      background-color: #E2EBFA;\n",
              "      box-shadow: 0px 1px 2px rgba(60, 64, 67, 0.3), 0px 1px 3px 1px rgba(60, 64, 67, 0.15);\n",
              "      fill: #174EA6;\n",
              "    }\n",
              "\n",
              "    [theme=dark] .colab-df-convert {\n",
              "      background-color: #3B4455;\n",
              "      fill: #D2E3FC;\n",
              "    }\n",
              "\n",
              "    [theme=dark] .colab-df-convert:hover {\n",
              "      background-color: #434B5C;\n",
              "      box-shadow: 0px 1px 3px 1px rgba(0, 0, 0, 0.15);\n",
              "      filter: drop-shadow(0px 1px 2px rgba(0, 0, 0, 0.3));\n",
              "      fill: #FFFFFF;\n",
              "    }\n",
              "  </style>\n",
              "\n",
              "      <script>\n",
              "        const buttonEl =\n",
              "          document.querySelector('#df-9fcd2ba8-ce01-4304-8890-7c734d445652 button.colab-df-convert');\n",
              "        buttonEl.style.display =\n",
              "          google.colab.kernel.accessAllowed ? 'block' : 'none';\n",
              "\n",
              "        async function convertToInteractive(key) {\n",
              "          const element = document.querySelector('#df-9fcd2ba8-ce01-4304-8890-7c734d445652');\n",
              "          const dataTable =\n",
              "            await google.colab.kernel.invokeFunction('convertToInteractive',\n",
              "                                                     [key], {});\n",
              "          if (!dataTable) return;\n",
              "\n",
              "          const docLinkHtml = 'Like what you see? Visit the ' +\n",
              "            '<a target=\"_blank\" href=https://colab.research.google.com/notebooks/data_table.ipynb>data table notebook</a>'\n",
              "            + ' to learn more about interactive tables.';\n",
              "          element.innerHTML = '';\n",
              "          dataTable['output_type'] = 'display_data';\n",
              "          await google.colab.output.renderOutput(dataTable, element);\n",
              "          const docLink = document.createElement('div');\n",
              "          docLink.innerHTML = docLinkHtml;\n",
              "          element.appendChild(docLink);\n",
              "        }\n",
              "      </script>\n",
              "    </div>\n",
              "  </div>\n"
            ]
          },
          "metadata": {},
          "execution_count": 4
        }
      ],
      "source": [
        "path = '/content/drive/MyDrive/EEG_Dataset/ds004504'\n",
        "filename_part = 'participants.tsv'\n",
        "df_partipants = pd.read_csv(path+'/'+filename_part, sep='\\t')\n",
        "df_partipants.head()"
      ]
    },
    {
      "cell_type": "code",
      "execution_count": 5,
      "metadata": {
        "colab": {
          "base_uri": "https://localhost:8080/",
          "height": 472
        },
        "id": "wDGOxcVay4Zq",
        "outputId": "3e6e97b0-063f-4284-de00-5a4b421bdd77"
      },
      "outputs": [
        {
          "output_type": "display_data",
          "data": {
            "text/plain": [
              "<Figure size 640x480 with 1 Axes>"
            ],
            "image/png": "[encoded data removed]"
          },
          "metadata": {}
        }
      ],
      "source": [
        "sns.countplot(x=df_partipants[\"Group\"])\n",
        "plt.title('Distribution of Subjects by Group')\n",
        "plt.show()"
      ]
    },
    {
      "cell_type": "code",
      "execution_count": 6,
      "metadata": {
        "colab": {
          "base_uri": "https://localhost:8080/"
        },
        "id": "-W-xBMmC8iVL",
        "outputId": "6fc3568b-10c9-481f-c4d3-6401d4cbe93f"
      },
      "outputs": [
        {
          "output_type": "stream",
          "name": "stdout",
          "text": [
            "88\n",
            "['sub-001', 'sub-002', 'sub-003', 'sub-004', 'sub-005']\n"
          ]
        }
      ],
      "source": [
        "path_derivatives = path+'/derivatives/'\n",
        "\n",
        "dir_list = os.listdir(path_derivatives)\n",
        "dir_list.sort()\n",
        "print(len(dir_list))\n",
        "print(dir_list[:5])"
      ]
    },
    {
      "cell_type": "code",
      "execution_count": 7,
      "metadata": {
        "colab": {
          "base_uri": "https://localhost:8080/"
        },
        "id": "pC0NgOge9S4z",
        "outputId": "37461b54-cdd4-4a47-cbac-aa9935178346"
      },
      "outputs": [
        {
          "output_type": "stream",
          "name": "stdout",
          "text": [
            "EEG Files Loaded: 88\n"
          ]
        }
      ],
      "source": [
        "eeg_data = []\n",
        "\n",
        "for l in dir_list:\n",
        "  folder = path_derivatives+l+'/eeg/'\n",
        "  f = l+'_task-eyesclosed_eeg.set'\n",
        "  #print(l)\n",
        "  r = mne.io.read_raw_eeglab(folder+f, preload=False, verbose='CRITICAL')\n",
        "  participant_info = {'id': l}\n",
        "  r.info['subject_info'] = participant_info\n",
        "  eeg_data.append(r)\n",
        "\n",
        "print('EEG Files Loaded:',len(eeg_data))"
      ]
    },
    {
      "cell_type": "markdown",
      "metadata": {
        "id": "CoDc_4hb9ykq"
      },
      "source": [
        "## Preselect Datasets\n"
      ]
    },
    {
      "cell_type": "markdown",
      "metadata": {
        "id": "w0SU-GChemaR"
      },
      "source": [
        "Show Maximum Time Distribution.\n"
      ]
    },
    {
      "cell_type": "code",
      "execution_count": 8,
      "metadata": {
        "colab": {
          "base_uri": "https://localhost:8080/",
          "height": 452
        },
        "id": "Rb5P-jX9enIt",
        "outputId": "1f67c96f-a195-48a2-8a70-657f442052b5"
      },
      "outputs": [
        {
          "output_type": "display_data",
          "data": {
            "text/plain": [
              "<Figure size 640x480 with 1 Axes>"
            ],
            "image/png": "[encoded data removed]"
          },
          "metadata": {}
        }
      ],
      "source": [
        "time_max = []\n",
        "\n",
        "for r in eeg_data:\n",
        "  time_max.append(r.tmax)\n",
        "\n",
        "const_min = np.full(len(eeg_data),550)\n",
        "const_max = np.full(len(eeg_data),1000)\n",
        "\n",
        "plt.plot(time_max)\n",
        "plt.plot(const_min, linestyle='dotted', c='gray')\n",
        "plt.plot(const_max, linestyle='dotted', c='gray')\n",
        "\n",
        "plt.title('Time Max by Subject')\n",
        "plt.show()"
      ]
    },
    {
      "cell_type": "markdown",
      "metadata": {
        "id": "t2BGUX0WEeOR"
      },
      "source": [
        "Select Alzheimer and Fronto Temporal Dementia Subjects from Participants Info\n"
      ]
    },
    {
      "cell_type": "code",
      "execution_count": 9,
      "metadata": {
        "colab": {
          "base_uri": "https://localhost:8080/",
          "height": 432
        },
        "id": "B14UdDJRjV0J",
        "outputId": "1d168897-2eb2-4c58-b619-d1f030b3fd34"
      },
      "outputs": [
        {
          "output_type": "stream",
          "name": "stdout",
          "text": [
            "Subjects from Alzheimer and Fronto Temporal Dementia datasets: 59\n"
          ]
        },
        {
          "output_type": "stream",
          "name": "stderr",
          "text": [
            "<ipython-input-9-254eb9f5bfa6>:7: SettingWithCopyWarning: \n",
            "A value is trying to be set on a copy of a slice from a DataFrame.\n",
            "Try using .loc[row_indexer,col_indexer] = value instead\n",
            "\n",
            "See the caveats in the documentation: https://pandas.pydata.org/pandas-docs/stable/user_guide/indexing.html#returning-a-view-versus-a-copy\n",
            "  df_ad_ftd['Gender'] = df_ad_ftd['Gender'].replace(gender_dict)\n",
            "<ipython-input-9-254eb9f5bfa6>:8: SettingWithCopyWarning: \n",
            "A value is trying to be set on a copy of a slice from a DataFrame.\n",
            "Try using .loc[row_indexer,col_indexer] = value instead\n",
            "\n",
            "See the caveats in the documentation: https://pandas.pydata.org/pandas-docs/stable/user_guide/indexing.html#returning-a-view-versus-a-copy\n",
            "  df_ad_ftd['Group'] = df_ad_ftd['Group'].replace(group_dict)\n"
          ]
        },
        {
          "output_type": "execute_result",
          "data": {
            "text/plain": [
              "  participant_id  Gender  Age  Group  MMSE\n",
              "0        sub-001       1   57      0    16\n",
              "1        sub-002       1   78      0    22\n",
              "2        sub-003       0   70      0    14\n",
              "3        sub-004       1   67      0    20\n",
              "4        sub-005       0   70      0    22"
            ],
            "text/html": [
              "\n",
              "\n",
              "  <div id=\"df-e43d9294-02ea-4157-b8a7-76790f5e16dc\">\n",
              "    <div class=\"colab-df-container\">\n",
              "      <div>\n",
              "<style scoped>\n",
              "    .dataframe tbody tr th:only-of-type {\n",
              "        vertical-align: middle;\n",
              "    }\n",
              "\n",
              "    .dataframe tbody tr th {\n",
              "        vertical-align: top;\n",
              "    }\n",
              "\n",
              "    .dataframe thead th {\n",
              "        text-align: right;\n",
              "    }\n",
              "</style>\n",
              "<table border=\"1\" class=\"dataframe\">\n",
              "  <thead>\n",
              "    <tr style=\"text-align: right;\">\n",
              "      <th></th>\n",
              "      <th>participant_id</th>\n",
              "      <th>Gender</th>\n",
              "      <th>Age</th>\n",
              "      <th>Group</th>\n",
              "      <th>MMSE</th>\n",
              "    </tr>\n",
              "  </thead>\n",
              "  <tbody>\n",
              "    <tr>\n",
              "      <th>0</th>\n",
              "      <td>sub-001</td>\n",
              "      <td>1</td>\n",
              "      <td>57</td>\n",
              "      <td>0</td>\n",
              "      <td>16</td>\n",
              "    </tr>\n",
              "    <tr>\n",
              "      <th>1</th>\n",
              "      <td>sub-002</td>\n",
              "      <td>1</td>\n",
              "      <td>78</td>\n",
              "      <td>0</td>\n",
              "      <td>22</td>\n",
              "    </tr>\n",
              "    <tr>\n",
              "      <th>2</th>\n",
              "      <td>sub-003</td>\n",
              "      <td>0</td>\n",
              "      <td>70</td>\n",
              "      <td>0</td>\n",
              "      <td>14</td>\n",
              "    </tr>\n",
              "    <tr>\n",
              "      <th>3</th>\n",
              "      <td>sub-004</td>\n",
              "      <td>1</td>\n",
              "      <td>67</td>\n",
              "      <td>0</td>\n",
              "      <td>20</td>\n",
              "    </tr>\n",
              "    <tr>\n",
              "      <th>4</th>\n",
              "      <td>sub-005</td>\n",
              "      <td>0</td>\n",
              "      <td>70</td>\n",
              "      <td>0</td>\n",
              "      <td>22</td>\n",
              "    </tr>\n",
              "  </tbody>\n",
              "</table>\n",
              "</div>\n",
              "      <button class=\"colab-df-convert\" onclick=\"convertToInteractive('df-e43d9294-02ea-4157-b8a7-76790f5e16dc')\"\n",
              "              title=\"Convert this dataframe to an interactive table.\"\n",
              "              style=\"display:none;\">\n",
              "\n",
              "  <svg xmlns=\"http://www.w3.org/2000/svg\" height=\"24px\"viewBox=\"0 0 24 24\"\n",
              "       width=\"24px\">\n",
              "    <path d=\"M0 0h24v24H0V0z\" fill=\"none\"/>\n",
              "    <path d=\"M18.56 5.44l.94 2.06.94-2.06 2.06-.94-2.06-.94-.94-2.06-.94 2.06-2.06.94zm-11 1L8.5 8.5l.94-2.06 2.06-.94-2.06-.94L8.5 2.5l-.94 2.06-2.06.94zm10 10l.94 2.06.94-2.06 2.06-.94-2.06-.94-.94-2.06-.94 2.06-2.06.94z\"/><path d=\"M17.41 7.96l-1.37-1.37c-.4-.4-.92-.59-1.43-.59-.52 0-1.04.2-1.43.59L10.3 9.45l-7.72 7.72c-.78.78-.78 2.05 0 2.83L4 21.41c.39.39.9.59 1.41.59.51 0 1.02-.2 1.41-.59l7.78-7.78 2.81-2.81c.8-.78.8-2.07 0-2.86zM5.41 20L4 18.59l7.72-7.72 1.47 1.35L5.41 20z\"/>\n",
              "  </svg>\n",
              "      </button>\n",
              "\n",
              "\n",
              "\n",
              "    <div id=\"df-69e2731c-03cb-40f1-8102-ffda330bf39e\">\n",
              "      <button class=\"colab-df-quickchart\" onclick=\"quickchart('df-69e2731c-03cb-40f1-8102-ffda330bf39e')\"\n",
              "              title=\"Suggest charts.\"\n",
              "              style=\"display:none;\">\n",
              "\n",
              "<svg xmlns=\"http://www.w3.org/2000/svg\" height=\"24px\"viewBox=\"0 0 24 24\"\n",
              "     width=\"24px\">\n",
              "    <g>\n",
              "        <path d=\"M19 3H5c-1.1 0-2 .9-2 2v14c0 1.1.9 2 2 2h14c1.1 0 2-.9 2-2V5c0-1.1-.9-2-2-2zM9 17H7v-7h2v7zm4 0h-2V7h2v10zm4 0h-2v-4h2v4z\"/>\n",
              "    </g>\n",
              "</svg>\n",
              "      </button>\n",
              "    </div>\n",
              "\n",
              "<style>\n",
              "  .colab-df-quickchart {\n",
              "    background-color: #E8F0FE;\n",
              "    border: none;\n",
              "    border-radius: 50%;\n",
              "    cursor: pointer;\n",
              "    display: none;\n",
              "    fill: #1967D2;\n",
              "    height: 32px;\n",
              "    padding: 0 0 0 0;\n",
              "    width: 32px;\n",
              "  }\n",
              "\n",
              "  .colab-df-quickchart:hover {\n",
              "    background-color: #E2EBFA;\n",
              "    box-shadow: 0px 1px 2px rgba(60, 64, 67, 0.3), 0px 1px 3px 1px rgba(60, 64, 67, 0.15);\n",
              "    fill: #174EA6;\n",
              "  }\n",
              "\n",
              "  [theme=dark] .colab-df-quickchart {\n",
              "    background-color: #3B4455;\n",
              "    fill: #D2E3FC;\n",
              "  }\n",
              "\n",
              "  [theme=dark] .colab-df-quickchart:hover {\n",
              "    background-color: #434B5C;\n",
              "    box-shadow: 0px 1px 3px 1px rgba(0, 0, 0, 0.15);\n",
              "    filter: drop-shadow(0px 1px 2px rgba(0, 0, 0, 0.3));\n",
              "    fill: #FFFFFF;\n",
              "  }\n",
              "</style>\n",
              "\n",
              "    <script>\n",
              "      async function quickchart(key) {\n",
              "        const containerElement = document.querySelector('#' + key);\n",
              "        const charts = await google.colab.kernel.invokeFunction(\n",
              "            'suggestCharts', [key], {});\n",
              "      }\n",
              "    </script>\n",
              "\n",
              "      <script>\n",
              "\n",
              "function displayQuickchartButton(domScope) {\n",
              "  let quickchartButtonEl =\n",
              "    domScope.querySelector('#df-69e2731c-03cb-40f1-8102-ffda330bf39e button.colab-df-quickchart');\n",
              "  quickchartButtonEl.style.display =\n",
              "    google.colab.kernel.accessAllowed ? 'block' : 'none';\n",
              "}\n",
              "\n",
              "        displayQuickchartButton(document);\n",
              "      </script>\n",
              "      <style>\n",
              "    .colab-df-container {\n",
              "      display:flex;\n",
              "      flex-wrap:wrap;\n",
              "      gap: 12px;\n",
              "    }\n",
              "\n",
              "    .colab-df-convert {\n",
              "      background-color: #E8F0FE;\n",
              "      border: none;\n",
              "      border-radius: 50%;\n",
              "      cursor: pointer;\n",
              "      display: none;\n",
              "      fill: #1967D2;\n",
              "      height: 32px;\n",
              "      padding: 0 0 0 0;\n",
              "      width: 32px;\n",
              "    }\n",
              "\n",
              "    .colab-df-convert:hover {\n",
              "      background-color: #E2EBFA;\n",
              "      box-shadow: 0px 1px 2px rgba(60, 64, 67, 0.3), 0px 1px 3px 1px rgba(60, 64, 67, 0.15);\n",
              "      fill: #174EA6;\n",
              "    }\n",
              "\n",
              "    [theme=dark] .colab-df-convert {\n",
              "      background-color: #3B4455;\n",
              "      fill: #D2E3FC;\n",
              "    }\n",
              "\n",
              "    [theme=dark] .colab-df-convert:hover {\n",
              "      background-color: #434B5C;\n",
              "      box-shadow: 0px 1px 3px 1px rgba(0, 0, 0, 0.15);\n",
              "      filter: drop-shadow(0px 1px 2px rgba(0, 0, 0, 0.3));\n",
              "      fill: #FFFFFF;\n",
              "    }\n",
              "  </style>\n",
              "\n",
              "      <script>\n",
              "        const buttonEl =\n",
              "          document.querySelector('#df-e43d9294-02ea-4157-b8a7-76790f5e16dc button.colab-df-convert');\n",
              "        buttonEl.style.display =\n",
              "          google.colab.kernel.accessAllowed ? 'block' : 'none';\n",
              "\n",
              "        async function convertToInteractive(key) {\n",
              "          const element = document.querySelector('#df-e43d9294-02ea-4157-b8a7-76790f5e16dc');\n",
              "          const dataTable =\n",
              "            await google.colab.kernel.invokeFunction('convertToInteractive',\n",
              "                                                     [key], {});\n",
              "          if (!dataTable) return;\n",
              "\n",
              "          const docLinkHtml = 'Like what you see? Visit the ' +\n",
              "            '<a target=\"_blank\" href=https://colab.research.google.com/notebooks/data_table.ipynb>data table notebook</a>'\n",
              "            + ' to learn more about interactive tables.';\n",
              "          element.innerHTML = '';\n",
              "          dataTable['output_type'] = 'display_data';\n",
              "          await google.colab.output.renderOutput(dataTable, element);\n",
              "          const docLink = document.createElement('div');\n",
              "          docLink.innerHTML = docLinkHtml;\n",
              "          element.appendChild(docLink);\n",
              "        }\n",
              "      </script>\n",
              "    </div>\n",
              "  </div>\n"
            ]
          },
          "metadata": {},
          "execution_count": 9
        }
      ],
      "source": [
        "df_ad_ftd = df_partipants[df_partipants['Group'].isin(['A','F'])]\n",
        "\n",
        "# Encoding Gender, Groups (Classes)\n",
        "gender_dict = {'M':0, 'F':1}\n",
        "group_dict = {'A':0, 'F':1}\n",
        "\n",
        "df_ad_ftd['Gender'] = df_ad_ftd['Gender'].replace(gender_dict)\n",
        "df_ad_ftd['Group'] = df_ad_ftd['Group'].replace(group_dict)\n",
        "\n",
        "print('Subjects from Alzheimer and Fronto Temporal Dementia datasets:',len(df_ad_ftd))\n",
        "df_ad_ftd.head()"
      ]
    },
    {
      "cell_type": "markdown",
      "metadata": {
        "id": "2WDdBCY9zeaO"
      },
      "source": [
        "Filtering Subjects with raw data between 550 and 1000 seconds.\n"
      ]
    },
    {
      "cell_type": "code",
      "execution_count": 10,
      "metadata": {
        "colab": {
          "base_uri": "https://localhost:8080/",
          "height": 241
        },
        "id": "O9ecCyDR_ycK",
        "outputId": "34bf2b2a-5d70-4cbd-c1ad-995617c44791"
      },
      "outputs": [
        {
          "output_type": "stream",
          "name": "stdout",
          "text": [
            "Participants Info: 56\n",
            "EEG Data Subjects: 56\n"
          ]
        },
        {
          "output_type": "execute_result",
          "data": {
            "text/plain": [
              "  participant_id  Gender  Age  Group  MMSE\n",
              "0        sub-001       1   57      0    16\n",
              "1        sub-002       1   78      0    22\n",
              "3        sub-004       1   67      0    20\n",
              "4        sub-005       0   70      0    22\n",
              "5        sub-006       1   61      0    14"
            ],
            "text/html": [
              "\n",
              "\n",
              "  <div id=\"df-c1a5161d-49ce-42e6-8fd7-73d7c804b0bc\">\n",
              "    <div class=\"colab-df-container\">\n",
              "      <div>\n",
              "<style scoped>\n",
              "    .dataframe tbody tr th:only-of-type {\n",
              "        vertical-align: middle;\n",
              "    }\n",
              "\n",
              "    .dataframe tbody tr th {\n",
              "        vertical-align: top;\n",
              "    }\n",
              "\n",
              "    .dataframe thead th {\n",
              "        text-align: right;\n",
              "    }\n",
              "</style>\n",
              "<table border=\"1\" class=\"dataframe\">\n",
              "  <thead>\n",
              "    <tr style=\"text-align: right;\">\n",
              "      <th></th>\n",
              "      <th>participant_id</th>\n",
              "      <th>Gender</th>\n",
              "      <th>Age</th>\n",
              "      <th>Group</th>\n",
              "      <th>MMSE</th>\n",
              "    </tr>\n",
              "  </thead>\n",
              "  <tbody>\n",
              "    <tr>\n",
              "      <th>0</th>\n",
              "      <td>sub-001</td>\n",
              "      <td>1</td>\n",
              "      <td>57</td>\n",
              "      <td>0</td>\n",
              "      <td>16</td>\n",
              "    </tr>\n",
              "    <tr>\n",
              "      <th>1</th>\n",
              "      <td>sub-002</td>\n",
              "      <td>1</td>\n",
              "      <td>78</td>\n",
              "      <td>0</td>\n",
              "      <td>22</td>\n",
              "    </tr>\n",
              "    <tr>\n",
              "      <th>3</th>\n",
              "      <td>sub-004</td>\n",
              "      <td>1</td>\n",
              "      <td>67</td>\n",
              "      <td>0</td>\n",
              "      <td>20</td>\n",
              "    </tr>\n",
              "    <tr>\n",
              "      <th>4</th>\n",
              "      <td>sub-005</td>\n",
              "      <td>0</td>\n",
              "      <td>70</td>\n",
              "      <td>0</td>\n",
              "      <td>22</td>\n",
              "    </tr>\n",
              "    <tr>\n",
              "      <th>5</th>\n",
              "      <td>sub-006</td>\n",
              "      <td>1</td>\n",
              "      <td>61</td>\n",
              "      <td>0</td>\n",
              "      <td>14</td>\n",
              "    </tr>\n",
              "  </tbody>\n",
              "</table>\n",
              "</div>\n",
              "      <button class=\"colab-df-convert\" onclick=\"convertToInteractive('df-c1a5161d-49ce-42e6-8fd7-73d7c804b0bc')\"\n",
              "              title=\"Convert this dataframe to an interactive table.\"\n",
              "              style=\"display:none;\">\n",
              "\n",
              "  <svg xmlns=\"http://www.w3.org/2000/svg\" height=\"24px\"viewBox=\"0 0 24 24\"\n",
              "       width=\"24px\">\n",
              "    <path d=\"M0 0h24v24H0V0z\" fill=\"none\"/>\n",
              "    <path d=\"M18.56 5.44l.94 2.06.94-2.06 2.06-.94-2.06-.94-.94-2.06-.94 2.06-2.06.94zm-11 1L8.5 8.5l.94-2.06 2.06-.94-2.06-.94L8.5 2.5l-.94 2.06-2.06.94zm10 10l.94 2.06.94-2.06 2.06-.94-2.06-.94-.94-2.06-.94 2.06-2.06.94z\"/><path d=\"M17.41 7.96l-1.37-1.37c-.4-.4-.92-.59-1.43-.59-.52 0-1.04.2-1.43.59L10.3 9.45l-7.72 7.72c-.78.78-.78 2.05 0 2.83L4 21.41c.39.39.9.59 1.41.59.51 0 1.02-.2 1.41-.59l7.78-7.78 2.81-2.81c.8-.78.8-2.07 0-2.86zM5.41 20L4 18.59l7.72-7.72 1.47 1.35L5.41 20z\"/>\n",
              "  </svg>\n",
              "      </button>\n",
              "\n",
              "\n",
              "\n",
              "    <div id=\"df-c89287cd-4034-4e49-b68d-aa31c329d13d\">\n",
              "      <button class=\"colab-df-quickchart\" onclick=\"quickchart('df-c89287cd-4034-4e49-b68d-aa31c329d13d')\"\n",
              "              title=\"Suggest charts.\"\n",
              "              style=\"display:none;\">\n",
              "\n",
              "<svg xmlns=\"http://www.w3.org/2000/svg\" height=\"24px\"viewBox=\"0 0 24 24\"\n",
              "     width=\"24px\">\n",
              "    <g>\n",
              "        <path d=\"M19 3H5c-1.1 0-2 .9-2 2v14c0 1.1.9 2 2 2h14c1.1 0 2-.9 2-2V5c0-1.1-.9-2-2-2zM9 17H7v-7h2v7zm4 0h-2V7h2v10zm4 0h-2v-4h2v4z\"/>\n",
              "    </g>\n",
              "</svg>\n",
              "      </button>\n",
              "    </div>\n",
              "\n",
              "<style>\n",
              "  .colab-df-quickchart {\n",
              "    background-color: #E8F0FE;\n",
              "    border: none;\n",
              "    border-radius: 50%;\n",
              "    cursor: pointer;\n",
              "    display: none;\n",
              "    fill: #1967D2;\n",
              "    height: 32px;\n",
              "    padding: 0 0 0 0;\n",
              "    width: 32px;\n",
              "  }\n",
              "\n",
              "  .colab-df-quickchart:hover {\n",
              "    background-color: #E2EBFA;\n",
              "    box-shadow: 0px 1px 2px rgba(60, 64, 67, 0.3), 0px 1px 3px 1px rgba(60, 64, 67, 0.15);\n",
              "    fill: #174EA6;\n",
              "  }\n",
              "\n",
              "  [theme=dark] .colab-df-quickchart {\n",
              "    background-color: #3B4455;\n",
              "    fill: #D2E3FC;\n",
              "  }\n",
              "\n",
              "  [theme=dark] .colab-df-quickchart:hover {\n",
              "    background-color: #434B5C;\n",
              "    box-shadow: 0px 1px 3px 1px rgba(0, 0, 0, 0.15);\n",
              "    filter: drop-shadow(0px 1px 2px rgba(0, 0, 0, 0.3));\n",
              "    fill: #FFFFFF;\n",
              "  }\n",
              "</style>\n",
              "\n",
              "    <script>\n",
              "      async function quickchart(key) {\n",
              "        const containerElement = document.querySelector('#' + key);\n",
              "        const charts = await google.colab.kernel.invokeFunction(\n",
              "            'suggestCharts', [key], {});\n",
              "      }\n",
              "    </script>\n",
              "\n",
              "      <script>\n",
              "\n",
              "function displayQuickchartButton(domScope) {\n",
              "  let quickchartButtonEl =\n",
              "    domScope.querySelector('#df-c89287cd-4034-4e49-b68d-aa31c329d13d button.colab-df-quickchart');\n",
              "  quickchartButtonEl.style.display =\n",
              "    google.colab.kernel.accessAllowed ? 'block' : 'none';\n",
              "}\n",
              "\n",
              "        displayQuickchartButton(document);\n",
              "      </script>\n",
              "      <style>\n",
              "    .colab-df-container {\n",
              "      display:flex;\n",
              "      flex-wrap:wrap;\n",
              "      gap: 12px;\n",
              "    }\n",
              "\n",
              "    .colab-df-convert {\n",
              "      background-color: #E8F0FE;\n",
              "      border: none;\n",
              "      border-radius: 50%;\n",
              "      cursor: pointer;\n",
              "      display: none;\n",
              "      fill: #1967D2;\n",
              "      height: 32px;\n",
              "      padding: 0 0 0 0;\n",
              "      width: 32px;\n",
              "    }\n",
              "\n",
              "    .colab-df-convert:hover {\n",
              "      background-color: #E2EBFA;\n",
              "      box-shadow: 0px 1px 2px rgba(60, 64, 67, 0.3), 0px 1px 3px 1px rgba(60, 64, 67, 0.15);\n",
              "      fill: #174EA6;\n",
              "    }\n",
              "\n",
              "    [theme=dark] .colab-df-convert {\n",
              "      background-color: #3B4455;\n",
              "      fill: #D2E3FC;\n",
              "    }\n",
              "\n",
              "    [theme=dark] .colab-df-convert:hover {\n",
              "      background-color: #434B5C;\n",
              "      box-shadow: 0px 1px 3px 1px rgba(0, 0, 0, 0.15);\n",
              "      filter: drop-shadow(0px 1px 2px rgba(0, 0, 0, 0.3));\n",
              "      fill: #FFFFFF;\n",
              "    }\n",
              "  </style>\n",
              "\n",
              "      <script>\n",
              "        const buttonEl =\n",
              "          document.querySelector('#df-c1a5161d-49ce-42e6-8fd7-73d7c804b0bc button.colab-df-convert');\n",
              "        buttonEl.style.display =\n",
              "          google.colab.kernel.accessAllowed ? 'block' : 'none';\n",
              "\n",
              "        async function convertToInteractive(key) {\n",
              "          const element = document.querySelector('#df-c1a5161d-49ce-42e6-8fd7-73d7c804b0bc');\n",
              "          const dataTable =\n",
              "            await google.colab.kernel.invokeFunction('convertToInteractive',\n",
              "                                                     [key], {});\n",
              "          if (!dataTable) return;\n",
              "\n",
              "          const docLinkHtml = 'Like what you see? Visit the ' +\n",
              "            '<a target=\"_blank\" href=https://colab.research.google.com/notebooks/data_table.ipynb>data table notebook</a>'\n",
              "            + ' to learn more about interactive tables.';\n",
              "          element.innerHTML = '';\n",
              "          dataTable['output_type'] = 'display_data';\n",
              "          await google.colab.output.renderOutput(dataTable, element);\n",
              "          const docLink = document.createElement('div');\n",
              "          docLink.innerHTML = docLinkHtml;\n",
              "          element.appendChild(docLink);\n",
              "        }\n",
              "      </script>\n",
              "    </div>\n",
              "  </div>\n"
            ]
          },
          "metadata": {},
          "execution_count": 10
        }
      ],
      "source": [
        "eeg_data_filtered = []\n",
        "list_participants_id = []\n",
        "\n",
        "for r in eeg_data:\n",
        "  # filtering only Alzheimer and Fronto Temporal Dementia subjects\n",
        "  if r.info['subject_info']['id'] in df_ad_ftd['participant_id'].tolist():\n",
        "    if r.tmax >= 550:\n",
        "      eeg_data_filtered.append(r)\n",
        "      list_participants_id.append(r.info['subject_info']['id'])\n",
        "\n",
        "df_ad_ftd = df_ad_ftd[df_ad_ftd['participant_id'].isin(list_participants_id)]\n",
        "\n",
        "print('Participants Info:',len(df_ad_ftd))\n",
        "print('EEG Data Subjects:',len(eeg_data_filtered))\n",
        "df_ad_ftd.head()"
      ]
    },
    {
      "cell_type": "markdown",
      "source": [
        "Remove list of raw data to optimize usage of RAM"
      ],
      "metadata": {
        "id": "0JKK4ZtsgagN"
      }
    },
    {
      "cell_type": "code",
      "source": [
        "del eeg_data"
      ],
      "metadata": {
        "id": "H3sLlCRwgLXw"
      },
      "execution_count": 11,
      "outputs": []
    },
    {
      "cell_type": "markdown",
      "metadata": {
        "id": "XxkMbVK6zv51"
      },
      "source": [
        "# Feature Extraction\n"
      ]
    },
    {
      "cell_type": "markdown",
      "metadata": {
        "id": "wJuRzWPm0yXe"
      },
      "source": [
        "Epochs\n"
      ]
    },
    {
      "cell_type": "code",
      "execution_count": 12,
      "metadata": {
        "colab": {
          "base_uri": "https://localhost:8080/"
        },
        "id": "fcFkKoBLzx0L",
        "outputId": "df06d352-9676-43c7-9e64-d59204fadd1d"
      },
      "outputs": [
        {
          "output_type": "stream",
          "name": "stdout",
          "text": [
            "Epochs created: 56\n"
          ]
        }
      ],
      "source": [
        "start_time = 0\n",
        "end_time = 550\n",
        "\n",
        "duration = 60.0\n",
        "overlapping = 20.0\n",
        "\n",
        "epochs = []\n",
        "\n",
        "for raw in eeg_data_filtered:\n",
        "  ep = mne.make_fixed_length_epochs(raw.copy().crop(tmin=start_time, tmax=end_time),\n",
        "                                    duration=duration, overlap=overlapping, preload=False, verbose='CRITICAL')\n",
        "  epochs.append(ep)\n",
        "\n",
        "print('Epochs created:', len(epochs))"
      ]
    },
    {
      "cell_type": "code",
      "execution_count": 13,
      "metadata": {
        "colab": {
          "base_uri": "https://localhost:8080/",
          "height": 587
        },
        "id": "0Q5o1cVn4pbl",
        "outputId": "10cbac87-bc04-4b7d-a309-799c089162b5"
      },
      "outputs": [
        {
          "output_type": "stream",
          "name": "stdout",
          "text": [
            "Using data from preloaded Raw for 13 events and 30000 original time points ...\n",
            "0 bad epochs dropped\n",
            "Not setting metadata\n",
            "13 matching events found\n",
            "No baseline correction applied\n",
            "0 projection items activated\n"
          ]
        },
        {
          "output_type": "display_data",
          "data": {
            "text/plain": [
              "<Figure size 640x480 with 4 Axes>"
            ],
            "image/png": "[encoded data removed]"
          },
          "metadata": {}
        }
      ],
      "source": [
        "fig = epochs[0].plot_image(picks=[\"Fp1\"])\n",
        "plt.show()"
      ]
    },
    {
      "cell_type": "code",
      "source": [
        "epochs[0].get_data().shape"
      ],
      "metadata": {
        "colab": {
          "base_uri": "https://localhost:8080/"
        },
        "id": "RwWNVB1zg_Gg",
        "outputId": "c0535cbb-e813-40e6-c194-425acc2d60c0"
      },
      "execution_count": 14,
      "outputs": [
        {
          "output_type": "stream",
          "name": "stdout",
          "text": [
            "Using data from preloaded Raw for 13 events and 30000 original time points ...\n"
          ]
        },
        {
          "output_type": "execute_result",
          "data": {
            "text/plain": [
              "(13, 19, 30000)"
            ]
          },
          "metadata": {},
          "execution_count": 14
        }
      ]
    },
    {
      "cell_type": "code",
      "execution_count": 15,
      "metadata": {
        "colab": {
          "base_uri": "https://localhost:8080/"
        },
        "id": "VdhwYzml2Z_-",
        "outputId": "b1d3831d-07bf-4d23-a364-885a63d19601"
      },
      "outputs": [
        {
          "output_type": "stream",
          "name": "stdout",
          "text": [
            "Using data from preloaded Raw for 13 events and 30000 original time points ...\n",
            "Using data from preloaded Raw for 13 events and 30000 original time points ...\n",
            "Using data from preloaded Raw for 13 events and 30000 original time points ...\n",
            "0 bad epochs dropped\n",
            "Using data from preloaded Raw for 13 events and 30000 original time points ...\n",
            "Using data from preloaded Raw for 13 events and 30000 original time points ...\n",
            "0 bad epochs dropped\n",
            "Using data from preloaded Raw for 13 events and 30000 original time points ...\n",
            "Using data from preloaded Raw for 13 events and 30000 original time points ...\n",
            "0 bad epochs dropped\n",
            "Using data from preloaded Raw for 13 events and 30000 original time points ...\n",
            "Using data from preloaded Raw for 13 events and 30000 original time points ...\n",
            "0 bad epochs dropped\n",
            "Using data from preloaded Raw for 13 events and 30000 original time points ...\n",
            "Using data from preloaded Raw for 13 events and 30000 original time points ...\n",
            "0 bad epochs dropped\n",
            "Using data from preloaded Raw for 13 events and 30000 original time points ...\n",
            "Using data from preloaded Raw for 13 events and 30000 original time points ...\n",
            "0 bad epochs dropped\n",
            "Using data from preloaded Raw for 13 events and 30000 original time points ...\n",
            "Using data from preloaded Raw for 13 events and 30000 original time points ...\n",
            "0 bad epochs dropped\n",
            "Using data from preloaded Raw for 13 events and 30000 original time points ...\n",
            "Using data from preloaded Raw for 13 events and 30000 original time points ...\n",
            "0 bad epochs dropped\n",
            "Using data from preloaded Raw for 13 events and 30000 original time points ...\n",
            "Using data from preloaded Raw for 13 events and 30000 original time points ...\n",
            "0 bad epochs dropped\n",
            "Using data from preloaded Raw for 13 events and 30000 original time points ...\n",
            "Using data from preloaded Raw for 13 events and 30000 original time points ...\n",
            "0 bad epochs dropped\n",
            "Using data from preloaded Raw for 13 events and 30000 original time points ...\n",
            "Using data from preloaded Raw for 13 events and 30000 original time points ...\n",
            "0 bad epochs dropped\n",
            "Using data from preloaded Raw for 13 events and 30000 original time points ...\n",
            "Using data from preloaded Raw for 13 events and 30000 original time points ...\n",
            "0 bad epochs dropped\n",
            "Using data from preloaded Raw for 13 events and 30000 original time points ...\n",
            "Using data from preloaded Raw for 13 events and 30000 original time points ...\n",
            "0 bad epochs dropped\n",
            "Using data from preloaded Raw for 13 events and 30000 original time points ...\n",
            "Using data from preloaded Raw for 13 events and 30000 original time points ...\n",
            "0 bad epochs dropped\n",
            "Using data from preloaded Raw for 13 events and 30000 original time points ...\n",
            "Using data from preloaded Raw for 13 events and 30000 original time points ...\n",
            "0 bad epochs dropped\n",
            "Using data from preloaded Raw for 13 events and 30000 original time points ...\n",
            "Using data from preloaded Raw for 13 events and 30000 original time points ...\n",
            "0 bad epochs dropped\n",
            "Using data from preloaded Raw for 13 events and 30000 original time points ...\n",
            "Using data from preloaded Raw for 13 events and 30000 original time points ...\n",
            "0 bad epochs dropped\n",
            "Using data from preloaded Raw for 13 events and 30000 original time points ...\n",
            "Using data from preloaded Raw for 13 events and 30000 original time points ...\n",
            "0 bad epochs dropped\n",
            "Using data from preloaded Raw for 13 events and 30000 original time points ...\n",
            "Using data from preloaded Raw for 13 events and 30000 original time points ...\n",
            "0 bad epochs dropped\n",
            "Using data from preloaded Raw for 13 events and 30000 original time points ...\n",
            "Using data from preloaded Raw for 13 events and 30000 original time points ...\n",
            "0 bad epochs dropped\n",
            "Using data from preloaded Raw for 13 events and 30000 original time points ...\n",
            "Using data from preloaded Raw for 13 events and 30000 original time points ...\n",
            "0 bad epochs dropped\n",
            "Using data from preloaded Raw for 13 events and 30000 original time points ...\n",
            "Using data from preloaded Raw for 13 events and 30000 original time points ...\n",
            "0 bad epochs dropped\n",
            "Using data from preloaded Raw for 13 events and 30000 original time points ...\n",
            "Using data from preloaded Raw for 13 events and 30000 original time points ...\n",
            "0 bad epochs dropped\n",
            "Using data from preloaded Raw for 13 events and 30000 original time points ...\n",
            "Using data from preloaded Raw for 13 events and 30000 original time points ...\n",
            "0 bad epochs dropped\n",
            "Using data from preloaded Raw for 13 events and 30000 original time points ...\n",
            "Using data from preloaded Raw for 13 events and 30000 original time points ...\n",
            "0 bad epochs dropped\n",
            "Using data from preloaded Raw for 13 events and 30000 original time points ...\n",
            "Using data from preloaded Raw for 13 events and 30000 original time points ...\n",
            "0 bad epochs dropped\n",
            "Using data from preloaded Raw for 13 events and 30000 original time points ...\n",
            "Using data from preloaded Raw for 13 events and 30000 original time points ...\n",
            "0 bad epochs dropped\n",
            "Using data from preloaded Raw for 13 events and 30000 original time points ...\n",
            "Using data from preloaded Raw for 13 events and 30000 original time points ...\n",
            "0 bad epochs dropped\n",
            "Using data from preloaded Raw for 13 events and 30000 original time points ...\n",
            "Using data from preloaded Raw for 13 events and 30000 original time points ...\n",
            "0 bad epochs dropped\n",
            "Using data from preloaded Raw for 13 events and 30000 original time points ...\n",
            "Using data from preloaded Raw for 13 events and 30000 original time points ...\n",
            "0 bad epochs dropped\n",
            "Using data from preloaded Raw for 13 events and 30000 original time points ...\n",
            "Using data from preloaded Raw for 13 events and 30000 original time points ...\n",
            "0 bad epochs dropped\n",
            "Using data from preloaded Raw for 13 events and 30000 original time points ...\n",
            "Using data from preloaded Raw for 13 events and 30000 original time points ...\n",
            "0 bad epochs dropped\n",
            "Using data from preloaded Raw for 13 events and 30000 original time points ...\n",
            "Using data from preloaded Raw for 13 events and 30000 original time points ...\n",
            "0 bad epochs dropped\n",
            "Using data from preloaded Raw for 13 events and 30000 original time points ...\n",
            "Using data from preloaded Raw for 13 events and 30000 original time points ...\n",
            "0 bad epochs dropped\n",
            "Using data from preloaded Raw for 13 events and 30000 original time points ...\n",
            "Using data from preloaded Raw for 13 events and 30000 original time points ...\n",
            "0 bad epochs dropped\n",
            "Using data from preloaded Raw for 13 events and 30000 original time points ...\n",
            "Using data from preloaded Raw for 13 events and 30000 original time points ...\n",
            "0 bad epochs dropped\n",
            "Using data from preloaded Raw for 13 events and 30000 original time points ...\n",
            "Using data from preloaded Raw for 13 events and 30000 original time points ...\n",
            "0 bad epochs dropped\n",
            "Using data from preloaded Raw for 13 events and 30000 original time points ...\n",
            "Using data from preloaded Raw for 13 events and 30000 original time points ...\n",
            "0 bad epochs dropped\n",
            "Using data from preloaded Raw for 13 events and 30000 original time points ...\n",
            "Using data from preloaded Raw for 13 events and 30000 original time points ...\n",
            "0 bad epochs dropped\n",
            "Using data from preloaded Raw for 13 events and 30000 original time points ...\n",
            "Using data from preloaded Raw for 13 events and 30000 original time points ...\n",
            "0 bad epochs dropped\n",
            "Using data from preloaded Raw for 13 events and 30000 original time points ...\n",
            "Using data from preloaded Raw for 13 events and 30000 original time points ...\n",
            "0 bad epochs dropped\n",
            "Using data from preloaded Raw for 13 events and 30000 original time points ...\n",
            "Using data from preloaded Raw for 13 events and 30000 original time points ...\n",
            "0 bad epochs dropped\n",
            "Using data from preloaded Raw for 13 events and 30000 original time points ...\n",
            "Using data from preloaded Raw for 13 events and 30000 original time points ...\n",
            "0 bad epochs dropped\n",
            "Using data from preloaded Raw for 13 events and 30000 original time points ...\n",
            "Using data from preloaded Raw for 13 events and 30000 original time points ...\n",
            "0 bad epochs dropped\n",
            "Using data from preloaded Raw for 13 events and 30000 original time points ...\n",
            "Using data from preloaded Raw for 13 events and 30000 original time points ...\n",
            "0 bad epochs dropped\n",
            "Using data from preloaded Raw for 13 events and 30000 original time points ...\n",
            "Using data from preloaded Raw for 13 events and 30000 original time points ...\n",
            "0 bad epochs dropped\n",
            "Using data from preloaded Raw for 13 events and 30000 original time points ...\n",
            "Using data from preloaded Raw for 13 events and 30000 original time points ...\n",
            "0 bad epochs dropped\n",
            "Using data from preloaded Raw for 13 events and 30000 original time points ...\n",
            "Using data from preloaded Raw for 13 events and 30000 original time points ...\n",
            "0 bad epochs dropped\n",
            "Using data from preloaded Raw for 13 events and 30000 original time points ...\n",
            "Using data from preloaded Raw for 13 events and 30000 original time points ...\n",
            "0 bad epochs dropped\n",
            "Using data from preloaded Raw for 13 events and 30000 original time points ...\n",
            "Using data from preloaded Raw for 13 events and 30000 original time points ...\n",
            "0 bad epochs dropped\n",
            "Using data from preloaded Raw for 13 events and 30000 original time points ...\n",
            "Using data from preloaded Raw for 13 events and 30000 original time points ...\n",
            "0 bad epochs dropped\n",
            "Using data from preloaded Raw for 13 events and 30000 original time points ...\n",
            "Using data from preloaded Raw for 13 events and 30000 original time points ...\n",
            "0 bad epochs dropped\n",
            "Using data from preloaded Raw for 13 events and 30000 original time points ...\n",
            "Using data from preloaded Raw for 13 events and 30000 original time points ...\n",
            "0 bad epochs dropped\n",
            "Using data from preloaded Raw for 13 events and 30000 original time points ...\n",
            "Using data from preloaded Raw for 13 events and 30000 original time points ...\n",
            "0 bad epochs dropped\n",
            "Using data from preloaded Raw for 13 events and 30000 original time points ...\n",
            "Using data from preloaded Raw for 13 events and 30000 original time points ...\n",
            "0 bad epochs dropped\n",
            "Using data from preloaded Raw for 13 events and 30000 original time points ...\n"
          ]
        }
      ],
      "source": [
        "# Get features from Epochs (epochs)\n",
        "features = []\n",
        "for i, epoch in enumerate(epochs):\n",
        "  n_epochs, n_channels, n_times = epoch.get_data().shape\n",
        "  epoch_data = epoch.get_data().reshape(n_epochs, n_channels*n_times)\n",
        "  features.append(epoch_data)"
      ]
    },
    {
      "cell_type": "code",
      "source": [
        "features[0].shape"
      ],
      "metadata": {
        "colab": {
          "base_uri": "https://localhost:8080/"
        },
        "id": "5F5EoJLCh3iI",
        "outputId": "29ce07c8-61d9-435b-b199-f7c19bb0f1d9"
      },
      "execution_count": 16,
      "outputs": [
        {
          "output_type": "execute_result",
          "data": {
            "text/plain": [
              "(13, 570000)"
            ]
          },
          "metadata": {},
          "execution_count": 16
        }
      ]
    },
    {
      "cell_type": "code",
      "source": [
        "len(features)"
      ],
      "metadata": {
        "colab": {
          "base_uri": "https://localhost:8080/"
        },
        "id": "sJat0AVFIa8H",
        "outputId": "0385cbe9-5a76-4c41-bc79-6ae0dbc5b279"
      },
      "execution_count": 17,
      "outputs": [
        {
          "output_type": "execute_result",
          "data": {
            "text/plain": [
              "56"
            ]
          },
          "metadata": {},
          "execution_count": 17
        }
      ]
    },
    {
      "cell_type": "code",
      "source": [
        "labels = df_ad_ftd['Group'].tolist()\n",
        "len(labels)"
      ],
      "metadata": {
        "colab": {
          "base_uri": "https://localhost:8080/"
        },
        "id": "4dVpbxzpIUYs",
        "outputId": "214d11d5-7d7b-4e6b-a716-75f26a6ce9d8"
      },
      "execution_count": 18,
      "outputs": [
        {
          "output_type": "execute_result",
          "data": {
            "text/plain": [
              "56"
            ]
          },
          "metadata": {},
          "execution_count": 18
        }
      ]
    },
    {
      "cell_type": "markdown",
      "source": [
        "Concatenate all Subjects Epochs and Adding Participants Info (Age, Gender, MMSE, Group)"
      ],
      "metadata": {
        "id": "hAmPnV6yqVP1"
      }
    },
    {
      "cell_type": "code",
      "source": [
        "for i in range(len(features)):\n",
        "  f = features[i]\n",
        "  data = df_ad_ftd.iloc[i][['Age','Gender']].tolist()\n",
        "  additional_data = np.tile(data, (f.shape[0], 1))\n",
        "  f = np.concatenate((f, additional_data), axis=1)\n",
        "  features[i] = f\n",
        "\n",
        "features[0].shape"
      ],
      "metadata": {
        "colab": {
          "base_uri": "https://localhost:8080/"
        },
        "id": "tkxvo5DikI3O",
        "outputId": "191a9119-ddc2-4418-f901-df843a576430"
      },
      "execution_count": 19,
      "outputs": [
        {
          "output_type": "execute_result",
          "data": {
            "text/plain": [
              "(13, 570002)"
            ]
          },
          "metadata": {},
          "execution_count": 19
        }
      ]
    },
    {
      "cell_type": "markdown",
      "source": [
        "Remove EEG Raw data filtered and Epochs List to free up space in RAM"
      ],
      "metadata": {
        "id": "S3TOCkeqp1v6"
      }
    },
    {
      "cell_type": "code",
      "source": [
        "del epochs\n",
        "del eeg_data_filtered"
      ],
      "metadata": {
        "id": "ggcrh92ypyPQ"
      },
      "execution_count": 20,
      "outputs": []
    },
    {
      "cell_type": "markdown",
      "source": [
        "## Train Test Split from Epochs"
      ],
      "metadata": {
        "id": "sG-JO4L7i-fx"
      }
    },
    {
      "cell_type": "code",
      "source": [
        "from sklearn.model_selection import train_test_split\n",
        "\n",
        "X_train, X_test, y_train, y_test = train_test_split(features, labels, test_size=0.2, random_state=42)\n",
        "\n",
        "X_train_concat = np.concatenate(X_train, axis=0)\n",
        "X_test_concat = np.concatenate(X_test, axis=0)\n",
        "\n",
        "y_train_concat = np.repeat(y_train, [array.shape[0] for array in X_train], axis=0)\n",
        "y_test_concat = np.repeat(y_test, [array.shape[0] for array in X_test], axis=0)\n",
        "\n",
        "print(X_train_concat.shape, len(y_train_concat))\n",
        "print(X_test_concat.shape, len(y_test_concat))"
      ],
      "metadata": {
        "colab": {
          "base_uri": "https://localhost:8080/"
        },
        "id": "2S5o_5J0jCLh",
        "outputId": "7ef91e70-8efe-47fa-a1a5-c8ea26146ce2"
      },
      "execution_count": 21,
      "outputs": [
        {
          "output_type": "stream",
          "name": "stdout",
          "text": [
            "(572, 570002) 572\n",
            "(156, 570002) 156\n"
          ]
        }
      ]
    },
    {
      "cell_type": "code",
      "source": [
        "del features"
      ],
      "metadata": {
        "id": "j2g3SkQKpgG2"
      },
      "execution_count": 22,
      "outputs": []
    },
    {
      "cell_type": "markdown",
      "metadata": {
        "id": "XB8CAxMbQSea"
      },
      "source": [
        "---\n"
      ]
    },
    {
      "cell_type": "markdown",
      "source": [
        "# Prediction"
      ],
      "metadata": {
        "id": "GX5DGTXTNWBJ"
      }
    },
    {
      "cell_type": "code",
      "source": [
        "del ep, epoch, epoch_data, f, time_max\n",
        "del X_train, X_test, y_train, y_test\n",
        "del df_partipants"
      ],
      "metadata": {
        "id": "9g8oUo36wU-q"
      },
      "execution_count": 23,
      "outputs": []
    },
    {
      "cell_type": "code",
      "source": [
        "from sklearn.metrics import accuracy_score\n",
        "import xgboost as xgb\n",
        "from sklearn.ensemble import AdaBoostClassifier\n",
        "from sklearn.ensemble import RandomForestClassifier\n",
        "from sklearn.svm import SVC"
      ],
      "metadata": {
        "id": "hIDJdkrqLOeD"
      },
      "execution_count": 27,
      "outputs": []
    },
    {
      "cell_type": "markdown",
      "source": [
        "## XGBoost"
      ],
      "metadata": {
        "id": "rrKqRyCdoAv2"
      }
    },
    {
      "cell_type": "code",
      "source": [
        "'''xgb_classifier = xgb.XGBClassifier()\n",
        "xgb_classifier.fit(X_train_concat, y_train_concat)\n",
        "\n",
        "xgb_predict = xgb_classifier.predict(X_test_concat)\n",
        "\n",
        "# Accuracy\n",
        "accuracy = accuracy_score(y_test_concat, xgb_predict)\n",
        "print(\"Accuracy: %.2f%%\" % (accuracy * 100.0))'''"
      ],
      "metadata": {
        "colab": {
          "base_uri": "https://localhost:8080/",
          "height": 53
        },
        "id": "gk5BYGVNow6a",
        "outputId": "00096844-3002-4247-da45-394867615334"
      },
      "execution_count": 25,
      "outputs": [
        {
          "output_type": "execute_result",
          "data": {
            "text/plain": [
              "'xgb_classifier = xgb.XGBClassifier()\\nxgb_classifier.fit(X_train_concat, y_train_concat)\\n\\nxgb_predict = xgb_classifier.predict(X_test_concat)\\n\\n# Accuracy\\naccuracy = accuracy_score(y_test_concat, xgb_predict)\\nprint(\"Accuracy: %.2f%%\" % (accuracy * 100.0))'"
            ],
            "application/vnd.google.colaboratory.intrinsic+json": {
              "type": "string"
            }
          },
          "metadata": {},
          "execution_count": 25
        }
      ]
    },
    {
      "cell_type": "markdown",
      "source": [
        "## AdaBoost"
      ],
      "metadata": {
        "id": "txU-MbCtoYtY"
      }
    },
    {
      "cell_type": "code",
      "source": [
        "'''adaboost_classifier = AdaBoostClassifier()\n",
        "adaboost_classifier.fit(X_train_concat, y_train_concat)\n",
        "\n",
        "adaboost_predict = adaboost_classifier.predict(X_test_concat)\n",
        "\n",
        "# Accuracy\n",
        "accuracy = accuracy_score(y_test_concat, adaboost_predict)\n",
        "print(\"Accuracy: %.2f%%\" % (accuracy * 100.0))'''"
      ],
      "metadata": {
        "colab": {
          "base_uri": "https://localhost:8080/",
          "height": 53
        },
        "id": "8ENVYSuaoXrT",
        "outputId": "db3a2e92-b667-46bc-8faa-bca016f14ccd"
      },
      "execution_count": 30,
      "outputs": [
        {
          "output_type": "execute_result",
          "data": {
            "text/plain": [
              "'adaboost_classifier = AdaBoostClassifier()\\nadaboost_classifier.fit(X_train_concat, y_train_concat)\\n\\nadaboost_predict = adaboost_classifier.predict(X_test_concat)\\n\\n# Accuracy\\naccuracy = accuracy_score(y_test_concat, adaboost_predict)\\nprint(\"Accuracy: %.2f%%\" % (accuracy * 100.0))'"
            ],
            "application/vnd.google.colaboratory.intrinsic+json": {
              "type": "string"
            }
          },
          "metadata": {},
          "execution_count": 30
        }
      ]
    },
    {
      "cell_type": "markdown",
      "source": [
        "## Random Forest"
      ],
      "metadata": {
        "id": "sXsHw3W85g-J"
      }
    },
    {
      "cell_type": "code",
      "source": [
        "rf_classifier = RandomForestClassifier()\n",
        "rf_classifier.fit(X_train_concat, y_train_concat)\n",
        "\n",
        "rf_predict = rf_classifier.predict(X_test_concat)\n",
        "\n",
        "# Accuracy\n",
        "accuracy = accuracy_score(y_test_concat, rf_predict)\n",
        "print(\"Accuracy: %.2f%%\" % (accuracy * 100.0))"
      ],
      "metadata": {
        "id": "8KyE381X5hXC",
        "outputId": "0eb0ce72-a24f-49a0-a762-de8458c7e916",
        "colab": {
          "base_uri": "https://localhost:8080/"
        }
      },
      "execution_count": 28,
      "outputs": [
        {
          "output_type": "stream",
          "name": "stdout",
          "text": [
            "Accuracy: 64.10%\n"
          ]
        }
      ]
    },
    {
      "cell_type": "markdown",
      "source": [
        "## Support Vector Classifier"
      ],
      "metadata": {
        "id": "TTuACLUD5dik"
      }
    },
    {
      "cell_type": "code",
      "source": [
        "svc_classifier = SVC()\n",
        "svc_classifier.fit(X_train_concat, y_train_concat)\n",
        "\n",
        "svc_predict = svc_classifier.predict(X_test_concat)\n",
        "\n",
        "# Accuracy\n",
        "accuracy = accuracy_score(y_test_concat, svc_predict)\n",
        "print(\"Accuracy: %.2f%%\" % (accuracy * 100.0))"
      ],
      "metadata": {
        "id": "Q93dGAh25dBc",
        "outputId": "4f534f53-6b09-4bf9-fcbd-48f4c7512f34",
        "colab": {
          "base_uri": "https://localhost:8080/"
        }
      },
      "execution_count": 29,
      "outputs": [
        {
          "output_type": "stream",
          "name": "stdout",
          "text": [
            "Accuracy: 58.33%\n"
          ]
        }
      ]
    }
  ],
  "metadata": {
    "colab": {
      "gpuType": "T4",
      "provenance": [],
      "include_colab_link": true
    },
    "kernelspec": {
      "display_name": "Python 3",
      "name": "python3"
    },
    "language_info": {
      "codemirror_mode": {
        "name": "ipython",
        "version": 3
      },
      "file_extension": ".py",
      "mimetype": "text/x-python",
      "name": "python",
      "nbconvert_exporter": "python",
      "pygments_lexer": "ipython3",
      "version": "3.11.0"
    }
  },
  "nbformat": 4,
  "nbformat_minor": 0
}