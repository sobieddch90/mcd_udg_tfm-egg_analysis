{
  "cells": [
    {
      "cell_type": "markdown",
      "metadata": {
        "id": "56o8JMMh85Bd"
      },
      "source": [
        "# Reading and Prepare Data\n"
      ]
    },
    {
      "cell_type": "markdown",
      "metadata": {
        "id": "iHopY5Jz8_oR"
      },
      "source": [
        "Install Libraries & Download the\n",
        "\n",
        "- Open Neuro: `pip install openneuro-py`\n",
        "- MNE: `pip install mne`\n"
      ]
    },
    {
      "cell_type": "code",
      "execution_count": 1,
      "metadata": {
        "id": "dCPZPXL-8IS6"
      },
      "outputs": [],
      "source": [
        "import numpy as np\n",
        "import pandas as pd\n",
        "import json\n",
        "import os\n",
        "\n",
        "import openneuro as on\n",
        "import mne\n",
        "\n",
        "import matplotlib.pyplot as plt\n",
        "import seaborn as sns\n",
        "\n",
        "from sklearn.model_selection import train_test_split\n",
        "from sklearn.ensemble import RandomForestClassifier"
      ]
    },
    {
      "cell_type": "code",
      "execution_count": null,
      "metadata": {
        "colab": {
          "base_uri": "https://localhost:8080/",
          "height": 257,
          "referenced_widgets": [
            "31eb69c2bc1544d38e70dba10f696bd6",
            "de6ced9bb4d94f34ac886dc5831380b3",
            "2700308b524c45f59edddcaf8a23b918",
            "e8e92ce165c949f6a8648358d57e71e3",
            "2a971e18ce054340a68d99e4f014a8d8",
            "cda80586910e4ff08561fce643c748ea",
            "1279b2d524204191836acbbf2f169f8e",
            "8b26d6db621b4ca6b24d499a63a186c9",
            "ce2f0635eb40449ba16f75f952ad6cbf",
            "1922d3c1e9e64f5f9163b974bcc25ffd",
            "622c721ceb7c48f1a0b1492eb2767874"
          ]
        },
        "id": "LhpBmlTL74YT",
        "outputId": "2bb85c8a-86fa-4756-b0bd-9d0c07db0f62"
      },
      "outputs": [
        {
          "name": "stdout",
          "output_type": "stream",
          "text": [
            "\n",
            "👋 Hello! This is openneuro-py 2023.1.0. Great to see you! 🤗\n",
            "\n",
            "   👉 Please report problems 🤯 and bugs 🪲 at\n",
            "      https://github.com/hoechenberger/openneuro-py/issues\n",
            "\n",
            "🌍 Preparing to download ds004504 …\n"
          ]
        },
        {
          "data": {
            "application/vnd.jupyter.widget-view+json": {
              "model_id": "8e1cc452f5f041d9a4d43e6758c84271",
              "version_major": 2,
              "version_minor": 0
            },
            "text/plain": [
              "📁 Traversing directories for ds004504 : 0 entities [00:00, ? entities/s]"
            ]
          },
          "metadata": {},
          "output_type": "display_data"
        },
        {
          "name": "stdout",
          "output_type": "stream",
          "text": [
            "📥 Retrieving up to 357 files (5 concurrent downloads). \n",
            "✅ Finished downloading ds004504.\n",
            " \n",
            "🧠 Please enjoy your brains.\n",
            " \n"
          ]
        },
        {
          "data": {
            "application/vnd.jupyter.widget-view+json": {
              "model_id": "9e4beb0969924a5c9d41669799be198d",
              "version_major": 2,
              "version_minor": 0
            },
            "text/plain": [
              "CHANGES:   0%|          | 0.00/327 [00:00<?, ?B/s]"
            ]
          },
          "metadata": {},
          "output_type": "display_data"
        },
        {
          "data": {
            "application/vnd.jupyter.widget-view+json": {
              "model_id": "02e23eb29cf346c49f65e5c20c3c8204",
              "version_major": 2,
              "version_minor": 0
            },
            "text/plain": [
              "participants.tsv:   0%|          | 0.00/1.67k [00:00<?, ?B/s]"
            ]
          },
          "metadata": {},
          "output_type": "display_data"
        },
        {
          "data": {
            "application/vnd.jupyter.widget-view+json": {
              "model_id": "d584c753ab0648d3a76078b8dc87bc7d",
              "version_major": 2,
              "version_minor": 0
            },
            "text/plain": [
              "participants.json:   0%|          | 0.00/613 [00:00<?, ?B/s]"
            ]
          },
          "metadata": {},
          "output_type": "display_data"
        },
        {
          "data": {
            "application/vnd.jupyter.widget-view+json": {
              "model_id": "e9cab61534014a5cb1cc2c8b98861b5b",
              "version_major": 2,
              "version_minor": 0
            },
            "text/plain": [
              "README:   0%|          | 0.00/6.61k [00:00<?, ?B/s]"
            ]
          },
          "metadata": {},
          "output_type": "display_data"
        },
        {
          "data": {
            "application/vnd.jupyter.widget-view+json": {
              "model_id": "2784569874de4abc866e5037fc90c5ad",
              "version_major": 2,
              "version_minor": 0
            },
            "text/plain": [
              "dataset_description.json:   0%|          | 0.00/2.80k [00:00<?, ?B/s]"
            ]
          },
          "metadata": {},
          "output_type": "display_data"
        },
        {
          "data": {
            "application/vnd.jupyter.widget-view+json": {
              "model_id": "c11350d81f3442c4a8c8880518d2dfbc",
              "version_major": 2,
              "version_minor": 0
            },
            "text/plain": [
              "sub-002_task-eyesclosed_eeg.set:   0%|          | 0.00/30.7M [00:00<?, ?B/s]"
            ]
          },
          "metadata": {},
          "output_type": "display_data"
        },
        {
          "data": {
            "application/vnd.jupyter.widget-view+json": {
              "model_id": "67d931ae5abe40ec9a75c927533ce1fc",
              "version_major": 2,
              "version_minor": 0
            },
            "text/plain": [
              "sub-001_task-eyesclosed_eeg.set:   0%|          | 0.00/23.2M [00:00<?, ?B/s]"
            ]
          },
          "metadata": {},
          "output_type": "display_data"
        },
        {
          "data": {
            "application/vnd.jupyter.widget-view+json": {
              "model_id": "3da5ebcc1fb8402aacd21fe2d1474807",
              "version_major": 2,
              "version_minor": 0
            },
            "text/plain": [
              "sub-003_task-eyesclosed_eeg.set:   0%|          | 0.00/12.5M [00:00<?, ?B/s]"
            ]
          },
          "metadata": {},
          "output_type": "display_data"
        },
        {
          "data": {
            "application/vnd.jupyter.widget-view+json": {
              "model_id": "220178d4e79142d895eb5f9ba9fff1d2",
              "version_major": 2,
              "version_minor": 0
            },
            "text/plain": [
              "sub-004_task-eyesclosed_eeg.set:   0%|          | 0.00/28.7M [00:00<?, ?B/s]"
            ]
          },
          "metadata": {},
          "output_type": "display_data"
        },
        {
          "data": {
            "application/vnd.jupyter.widget-view+json": {
              "model_id": "08ca5271adb1424ba2299b24696e692e",
              "version_major": 2,
              "version_minor": 0
            },
            "text/plain": [
              "sub-005_task-eyesclosed_eeg.set:   0%|          | 0.00/31.1M [00:00<?, ?B/s]"
            ]
          },
          "metadata": {},
          "output_type": "display_data"
        },
        {
          "data": {
            "application/vnd.jupyter.widget-view+json": {
              "model_id": "c5938a5400c7435ebd6a2313cbe941a4",
              "version_major": 2,
              "version_minor": 0
            },
            "text/plain": [
              "sub-006_task-eyesclosed_eeg.set:   0%|          | 0.00/25.7M [00:00<?, ?B/s]"
            ]
          },
          "metadata": {},
          "output_type": "display_data"
        },
        {
          "data": {
            "application/vnd.jupyter.widget-view+json": {
              "model_id": "f89ac2e51b364a24a71b017f7d7ab123",
              "version_major": 2,
              "version_minor": 0
            },
            "text/plain": [
              "sub-010_task-eyesclosed_eeg.set:   0%|          | 0.00/52.0M [00:00<?, ?B/s]"
            ]
          },
          "metadata": {},
          "output_type": "display_data"
        },
        {
          "data": {
            "application/vnd.jupyter.widget-view+json": {
              "model_id": "d5c328ccc6d1492791233f6ba482709c",
              "version_major": 2,
              "version_minor": 0
            },
            "text/plain": [
              "sub-009_task-eyesclosed_eeg.set:   0%|          | 0.00/24.9M [00:00<?, ?B/s]"
            ]
          },
          "metadata": {},
          "output_type": "display_data"
        },
        {
          "data": {
            "application/vnd.jupyter.widget-view+json": {
              "model_id": "cc633b61be3842ce9caba4dca1f295d0",
              "version_major": 2,
              "version_minor": 0
            },
            "text/plain": [
              "sub-007_task-eyesclosed_eeg.set:   0%|          | 0.00/31.1M [00:00<?, ?B/s]"
            ]
          },
          "metadata": {},
          "output_type": "display_data"
        },
        {
          "data": {
            "application/vnd.jupyter.widget-view+json": {
              "model_id": "c104c365cbfd4790a9c481388cd6d13b",
              "version_major": 2,
              "version_minor": 0
            },
            "text/plain": [
              "sub-008_task-eyesclosed_eeg.set:   0%|          | 0.00/32.2M [00:00<?, ?B/s]"
            ]
          },
          "metadata": {},
          "output_type": "display_data"
        },
        {
          "data": {
            "application/vnd.jupyter.widget-view+json": {
              "model_id": "20f8256d69f64c17b1b9c086e4db6cdb",
              "version_major": 2,
              "version_minor": 0
            },
            "text/plain": [
              "sub-011_task-eyesclosed_eeg.set:   0%|          | 0.00/31.3M [00:00<?, ?B/s]"
            ]
          },
          "metadata": {},
          "output_type": "display_data"
        },
        {
          "data": {
            "application/vnd.jupyter.widget-view+json": {
              "model_id": "c73ecb357cac4af1b4a1f014753558a4",
              "version_major": 2,
              "version_minor": 0
            },
            "text/plain": [
              "sub-012_task-eyesclosed_eeg.set:   0%|          | 0.00/35.9M [00:00<?, ?B/s]"
            ]
          },
          "metadata": {},
          "output_type": "display_data"
        },
        {
          "data": {
            "application/vnd.jupyter.widget-view+json": {
              "model_id": "d0c6d9fd5a7a42e3b3194307e9c146ca",
              "version_major": 2,
              "version_minor": 0
            },
            "text/plain": [
              "sub-014_task-eyesclosed_eeg.set:   0%|          | 0.00/37.9M [00:00<?, ?B/s]"
            ]
          },
          "metadata": {},
          "output_type": "display_data"
        },
        {
          "data": {
            "application/vnd.jupyter.widget-view+json": {
              "model_id": "e33db745787d4469b6ddc652f6ddf689",
              "version_major": 2,
              "version_minor": 0
            },
            "text/plain": [
              "sub-015_task-eyesclosed_eeg.set:   0%|          | 0.00/36.6M [00:00<?, ?B/s]"
            ]
          },
          "metadata": {},
          "output_type": "display_data"
        },
        {
          "data": {
            "application/vnd.jupyter.widget-view+json": {
              "model_id": "461125f3ceb44fe0ac9591d69bbea674",
              "version_major": 2,
              "version_minor": 0
            },
            "text/plain": [
              "sub-013_task-eyesclosed_eeg.set:   0%|          | 0.00/34.0M [00:00<?, ?B/s]"
            ]
          },
          "metadata": {},
          "output_type": "display_data"
        },
        {
          "data": {
            "application/vnd.jupyter.widget-view+json": {
              "model_id": "d034cbc212874a98a8b1b83ccd1b053d",
              "version_major": 2,
              "version_minor": 0
            },
            "text/plain": [
              "sub-016_task-eyesclosed_eeg.set:   0%|          | 0.00/39.5M [00:00<?, ?B/s]"
            ]
          },
          "metadata": {},
          "output_type": "display_data"
        },
        {
          "data": {
            "application/vnd.jupyter.widget-view+json": {
              "model_id": "acac321387b44efb814b6475993d5535",
              "version_major": 2,
              "version_minor": 0
            },
            "text/plain": [
              "sub-017_task-eyesclosed_eeg.set:   0%|          | 0.00/34.2M [00:00<?, ?B/s]"
            ]
          },
          "metadata": {},
          "output_type": "display_data"
        },
        {
          "data": {
            "application/vnd.jupyter.widget-view+json": {
              "model_id": "ed7cc4c137554189a7727137931edd36",
              "version_major": 2,
              "version_minor": 0
            },
            "text/plain": [
              "sub-018_task-eyesclosed_eeg.set:   0%|          | 0.00/34.3M [00:00<?, ?B/s]"
            ]
          },
          "metadata": {},
          "output_type": "display_data"
        },
        {
          "data": {
            "application/vnd.jupyter.widget-view+json": {
              "model_id": "0646f51523c24ca1ab529899ef5a4f2d",
              "version_major": 2,
              "version_minor": 0
            },
            "text/plain": [
              "sub-019_task-eyesclosed_eeg.set:   0%|          | 0.00/37.3M [00:00<?, ?B/s]"
            ]
          },
          "metadata": {},
          "output_type": "display_data"
        },
        {
          "data": {
            "application/vnd.jupyter.widget-view+json": {
              "model_id": "6f7722d11b3342ed863eff1f7cf1efee",
              "version_major": 2,
              "version_minor": 0
            },
            "text/plain": [
              "sub-020_task-eyesclosed_eeg.set:   0%|          | 0.00/33.6M [00:00<?, ?B/s]"
            ]
          },
          "metadata": {},
          "output_type": "display_data"
        },
        {
          "data": {
            "application/vnd.jupyter.widget-view+json": {
              "model_id": "ca342d33fccd44e6bb5e5ef39bb09ba1",
              "version_major": 2,
              "version_minor": 0
            },
            "text/plain": [
              "sub-021_task-eyesclosed_eeg.set:   0%|          | 0.00/37.4M [00:00<?, ?B/s]"
            ]
          },
          "metadata": {},
          "output_type": "display_data"
        },
        {
          "data": {
            "application/vnd.jupyter.widget-view+json": {
              "model_id": "06ea9be91503410c9257748772e239ff",
              "version_major": 2,
              "version_minor": 0
            },
            "text/plain": [
              "sub-022_task-eyesclosed_eeg.set:   0%|          | 0.00/33.4M [00:00<?, ?B/s]"
            ]
          },
          "metadata": {},
          "output_type": "display_data"
        },
        {
          "data": {
            "application/vnd.jupyter.widget-view+json": {
              "model_id": "5b389ac5287f4e5b8b0f77215125c225",
              "version_major": 2,
              "version_minor": 0
            },
            "text/plain": [
              "sub-023_task-eyesclosed_eeg.set:   0%|          | 0.00/33.9M [00:00<?, ?B/s]"
            ]
          },
          "metadata": {},
          "output_type": "display_data"
        },
        {
          "data": {
            "application/vnd.jupyter.widget-view+json": {
              "model_id": "8da3b3fcdb2342c38d4e7f2392865753",
              "version_major": 2,
              "version_minor": 0
            },
            "text/plain": [
              "sub-024_task-eyesclosed_eeg.set:   0%|          | 0.00/30.9M [00:00<?, ?B/s]"
            ]
          },
          "metadata": {},
          "output_type": "display_data"
        },
        {
          "data": {
            "application/vnd.jupyter.widget-view+json": {
              "model_id": "60db97841f094bdaba944cf78267d6dd",
              "version_major": 2,
              "version_minor": 0
            },
            "text/plain": [
              "sub-025_task-eyesclosed_eeg.set:   0%|          | 0.00/27.8M [00:00<?, ?B/s]"
            ]
          },
          "metadata": {},
          "output_type": "display_data"
        },
        {
          "data": {
            "application/vnd.jupyter.widget-view+json": {
              "model_id": "415dd238f1d643edba052b39a305b207",
              "version_major": 2,
              "version_minor": 0
            },
            "text/plain": [
              "sub-026_task-eyesclosed_eeg.set:   0%|          | 0.00/36.5M [00:00<?, ?B/s]"
            ]
          },
          "metadata": {},
          "output_type": "display_data"
        },
        {
          "data": {
            "application/vnd.jupyter.widget-view+json": {
              "model_id": "b4e72f82025d4c778a5192ad7b4ec694",
              "version_major": 2,
              "version_minor": 0
            },
            "text/plain": [
              "sub-027_task-eyesclosed_eeg.set:   0%|          | 0.00/33.6M [00:00<?, ?B/s]"
            ]
          },
          "metadata": {},
          "output_type": "display_data"
        },
        {
          "data": {
            "application/vnd.jupyter.widget-view+json": {
              "model_id": "a489d86673714c09bca64fd1397093d5",
              "version_major": 2,
              "version_minor": 0
            },
            "text/plain": [
              "sub-029_task-eyesclosed_eeg.set:   0%|          | 0.00/29.9M [00:00<?, ?B/s]"
            ]
          },
          "metadata": {},
          "output_type": "display_data"
        },
        {
          "data": {
            "application/vnd.jupyter.widget-view+json": {
              "model_id": "44707ecfaca1460e82fccb34ad13bb8a",
              "version_major": 2,
              "version_minor": 0
            },
            "text/plain": [
              "sub-028_task-eyesclosed_eeg.set:   0%|          | 0.00/33.2M [00:00<?, ?B/s]"
            ]
          },
          "metadata": {},
          "output_type": "display_data"
        },
        {
          "data": {
            "application/vnd.jupyter.widget-view+json": {
              "model_id": "534b9350858648bf8356282e04ec5a80",
              "version_major": 2,
              "version_minor": 0
            },
            "text/plain": [
              "sub-030_task-eyesclosed_eeg.set:   0%|          | 0.00/22.5M [00:00<?, ?B/s]"
            ]
          },
          "metadata": {},
          "output_type": "display_data"
        },
        {
          "data": {
            "application/vnd.jupyter.widget-view+json": {
              "model_id": "0700c9d02bc04b9a91f5ce137ea56b71",
              "version_major": 2,
              "version_minor": 0
            },
            "text/plain": [
              "sub-032_task-eyesclosed_eeg.set:   0%|          | 0.00/32.4M [00:00<?, ?B/s]"
            ]
          },
          "metadata": {},
          "output_type": "display_data"
        },
        {
          "data": {
            "application/vnd.jupyter.widget-view+json": {
              "model_id": "f207028efea04f85add766d19a5a71cb",
              "version_major": 2,
              "version_minor": 0
            },
            "text/plain": [
              "sub-033_task-eyesclosed_eeg.set:   0%|          | 0.00/28.7M [00:00<?, ?B/s]"
            ]
          },
          "metadata": {},
          "output_type": "display_data"
        },
        {
          "data": {
            "application/vnd.jupyter.widget-view+json": {
              "model_id": "09aa820cd07a46b4a4e5b781b33425be",
              "version_major": 2,
              "version_minor": 0
            },
            "text/plain": [
              "sub-031_task-eyesclosed_eeg.set:   0%|          | 0.00/46.7M [00:00<?, ?B/s]"
            ]
          },
          "metadata": {},
          "output_type": "display_data"
        },
        {
          "data": {
            "application/vnd.jupyter.widget-view+json": {
              "model_id": "f2cae4e1c1e04b9cae7bc09e98f0c49a",
              "version_major": 2,
              "version_minor": 0
            },
            "text/plain": [
              "sub-034_task-eyesclosed_eeg.set:   0%|          | 0.00/39.4M [00:00<?, ?B/s]"
            ]
          },
          "metadata": {},
          "output_type": "display_data"
        },
        {
          "data": {
            "application/vnd.jupyter.widget-view+json": {
              "model_id": "0c5b9a06b19c428d8dccca655cf0737d",
              "version_major": 2,
              "version_minor": 0
            },
            "text/plain": [
              "sub-035_task-eyesclosed_eeg.set:   0%|          | 0.00/30.1M [00:00<?, ?B/s]"
            ]
          },
          "metadata": {},
          "output_type": "display_data"
        },
        {
          "data": {
            "application/vnd.jupyter.widget-view+json": {
              "model_id": "2389193b22ea488d922f96d8da9da18b",
              "version_major": 2,
              "version_minor": 0
            },
            "text/plain": [
              "sub-036_task-eyesclosed_eeg.set:   0%|          | 0.00/34.2M [00:00<?, ?B/s]"
            ]
          },
          "metadata": {},
          "output_type": "display_data"
        },
        {
          "data": {
            "application/vnd.jupyter.widget-view+json": {
              "model_id": "d8041c1e6b5c4693bdf615628dd35894",
              "version_major": 2,
              "version_minor": 0
            },
            "text/plain": [
              "sub-037_task-eyesclosed_eeg.set:   0%|          | 0.00/30.1M [00:00<?, ?B/s]"
            ]
          },
          "metadata": {},
          "output_type": "display_data"
        },
        {
          "data": {
            "application/vnd.jupyter.widget-view+json": {
              "model_id": "64c1de54e62e48d48c502144fc2ca237",
              "version_major": 2,
              "version_minor": 0
            },
            "text/plain": [
              "sub-039_task-eyesclosed_eeg.set:   0%|          | 0.00/34.5M [00:00<?, ?B/s]"
            ]
          },
          "metadata": {},
          "output_type": "display_data"
        },
        {
          "data": {
            "application/vnd.jupyter.widget-view+json": {
              "model_id": "32269d906459426993521113ad33669b",
              "version_major": 2,
              "version_minor": 0
            },
            "text/plain": [
              "sub-038_task-eyesclosed_eeg.set:   0%|          | 0.00/36.2M [00:00<?, ?B/s]"
            ]
          },
          "metadata": {},
          "output_type": "display_data"
        },
        {
          "data": {
            "application/vnd.jupyter.widget-view+json": {
              "model_id": "72a571558c04401bbe6834e5c96afa97",
              "version_major": 2,
              "version_minor": 0
            },
            "text/plain": [
              "sub-040_task-eyesclosed_eeg.set:   0%|          | 0.00/39.2M [00:00<?, ?B/s]"
            ]
          },
          "metadata": {},
          "output_type": "display_data"
        },
        {
          "data": {
            "application/vnd.jupyter.widget-view+json": {
              "model_id": "bb00aaef3d5643e99882598503498ef1",
              "version_major": 2,
              "version_minor": 0
            },
            "text/plain": [
              "sub-041_task-eyesclosed_eeg.set:   0%|          | 0.00/36.0M [00:00<?, ?B/s]"
            ]
          },
          "metadata": {},
          "output_type": "display_data"
        },
        {
          "data": {
            "application/vnd.jupyter.widget-view+json": {
              "model_id": "91acacf7e3bd494f81f750d458f5f23e",
              "version_major": 2,
              "version_minor": 0
            },
            "text/plain": [
              "sub-042_task-eyesclosed_eeg.set:   0%|          | 0.00/39.1M [00:00<?, ?B/s]"
            ]
          },
          "metadata": {},
          "output_type": "display_data"
        },
        {
          "data": {
            "application/vnd.jupyter.widget-view+json": {
              "model_id": "618e1b9d97374f688d066081179d6037",
              "version_major": 2,
              "version_minor": 0
            },
            "text/plain": [
              "sub-043_task-eyesclosed_eeg.set:   0%|          | 0.00/32.1M [00:00<?, ?B/s]"
            ]
          },
          "metadata": {},
          "output_type": "display_data"
        },
        {
          "data": {
            "application/vnd.jupyter.widget-view+json": {
              "model_id": "24e774bf46f748f9844c5aba518cf4cd",
              "version_major": 2,
              "version_minor": 0
            },
            "text/plain": [
              "sub-044_task-eyesclosed_eeg.set:   0%|          | 0.00/34.1M [00:00<?, ?B/s]"
            ]
          },
          "metadata": {},
          "output_type": "display_data"
        },
        {
          "data": {
            "application/vnd.jupyter.widget-view+json": {
              "model_id": "92388bf0e4a84f79953ed2d05635c9d0",
              "version_major": 2,
              "version_minor": 0
            },
            "text/plain": [
              "sub-045_task-eyesclosed_eeg.set:   0%|          | 0.00/34.6M [00:00<?, ?B/s]"
            ]
          },
          "metadata": {},
          "output_type": "display_data"
        },
        {
          "data": {
            "application/vnd.jupyter.widget-view+json": {
              "model_id": "19ca4f33256d4abfb107523b6e16ea72",
              "version_major": 2,
              "version_minor": 0
            },
            "text/plain": [
              "sub-046_task-eyesclosed_eeg.set:   0%|          | 0.00/30.6M [00:00<?, ?B/s]"
            ]
          },
          "metadata": {},
          "output_type": "display_data"
        },
        {
          "data": {
            "application/vnd.jupyter.widget-view+json": {
              "model_id": "3fc2aee5f0454f80824add50a2ae7f17",
              "version_major": 2,
              "version_minor": 0
            },
            "text/plain": [
              "sub-047_task-eyesclosed_eeg.set:   0%|          | 0.00/32.8M [00:00<?, ?B/s]"
            ]
          },
          "metadata": {},
          "output_type": "display_data"
        },
        {
          "data": {
            "application/vnd.jupyter.widget-view+json": {
              "model_id": "8b7786ab6c3747088b01feb9bdc92000",
              "version_major": 2,
              "version_minor": 0
            },
            "text/plain": [
              "sub-048_task-eyesclosed_eeg.set:   0%|          | 0.00/40.2M [00:00<?, ?B/s]"
            ]
          },
          "metadata": {},
          "output_type": "display_data"
        },
        {
          "data": {
            "application/vnd.jupyter.widget-view+json": {
              "model_id": "baf5748ce24443149d0df30ff0f4b9dd",
              "version_major": 2,
              "version_minor": 0
            },
            "text/plain": [
              "sub-049_task-eyesclosed_eeg.set:   0%|          | 0.00/31.7M [00:00<?, ?B/s]"
            ]
          },
          "metadata": {},
          "output_type": "display_data"
        },
        {
          "data": {
            "application/vnd.jupyter.widget-view+json": {
              "model_id": "ce192a8148434ee6b41758cb0cdf995f",
              "version_major": 2,
              "version_minor": 0
            },
            "text/plain": [
              "sub-050_task-eyesclosed_eeg.set:   0%|          | 0.00/33.2M [00:00<?, ?B/s]"
            ]
          },
          "metadata": {},
          "output_type": "display_data"
        },
        {
          "data": {
            "application/vnd.jupyter.widget-view+json": {
              "model_id": "6641feabfb7d43df9c410b1d875c6fc7",
              "version_major": 2,
              "version_minor": 0
            },
            "text/plain": [
              "sub-051_task-eyesclosed_eeg.set:   0%|          | 0.00/30.6M [00:00<?, ?B/s]"
            ]
          },
          "metadata": {},
          "output_type": "display_data"
        },
        {
          "data": {
            "application/vnd.jupyter.widget-view+json": {
              "model_id": "089a5e3c81374af98a230bf6a0d938f2",
              "version_major": 2,
              "version_minor": 0
            },
            "text/plain": [
              "sub-053_task-eyesclosed_eeg.set:   0%|          | 0.00/31.7M [00:00<?, ?B/s]"
            ]
          },
          "metadata": {},
          "output_type": "display_data"
        },
        {
          "data": {
            "application/vnd.jupyter.widget-view+json": {
              "model_id": "cc2ae5d8e82647948c62f707a1b8fac6",
              "version_major": 2,
              "version_minor": 0
            },
            "text/plain": [
              "sub-052_task-eyesclosed_eeg.set:   0%|          | 0.00/30.9M [00:00<?, ?B/s]"
            ]
          },
          "metadata": {},
          "output_type": "display_data"
        },
        {
          "data": {
            "application/vnd.jupyter.widget-view+json": {
              "model_id": "9e438f67058b4da79e22cb33b063a732",
              "version_major": 2,
              "version_minor": 0
            },
            "text/plain": [
              "sub-054_task-eyesclosed_eeg.set:   0%|          | 0.00/34.0M [00:00<?, ?B/s]"
            ]
          },
          "metadata": {},
          "output_type": "display_data"
        },
        {
          "data": {
            "application/vnd.jupyter.widget-view+json": {
              "model_id": "c89e294e67c44dccbbfa39e18e044fda",
              "version_major": 2,
              "version_minor": 0
            },
            "text/plain": [
              "sub-055_task-eyesclosed_eeg.set:   0%|          | 0.00/33.1M [00:00<?, ?B/s]"
            ]
          },
          "metadata": {},
          "output_type": "display_data"
        },
        {
          "data": {
            "application/vnd.jupyter.widget-view+json": {
              "model_id": "23a89f3f59444f4086b5829a5d8a5372",
              "version_major": 2,
              "version_minor": 0
            },
            "text/plain": [
              "sub-056_task-eyesclosed_eeg.set:   0%|          | 0.00/32.2M [00:00<?, ?B/s]"
            ]
          },
          "metadata": {},
          "output_type": "display_data"
        },
        {
          "data": {
            "application/vnd.jupyter.widget-view+json": {
              "model_id": "cea00e5b541d4c2391e47149dcb2fe88",
              "version_major": 2,
              "version_minor": 0
            },
            "text/plain": [
              "sub-060_task-eyesclosed_eeg.set:   0%|          | 0.00/30.4M [00:00<?, ?B/s]"
            ]
          },
          "metadata": {},
          "output_type": "display_data"
        },
        {
          "data": {
            "application/vnd.jupyter.widget-view+json": {
              "model_id": "e5ed951c190c4d81aeb7ce2719f4792a",
              "version_major": 2,
              "version_minor": 0
            },
            "text/plain": [
              "sub-058_task-eyesclosed_eeg.set:   0%|          | 0.00/30.7M [00:00<?, ?B/s]"
            ]
          },
          "metadata": {},
          "output_type": "display_data"
        },
        {
          "data": {
            "application/vnd.jupyter.widget-view+json": {
              "model_id": "14587acf9fff4d1ca6c39512f83aaa14",
              "version_major": 2,
              "version_minor": 0
            },
            "text/plain": [
              "sub-057_task-eyesclosed_eeg.set:   0%|          | 0.00/30.8M [00:00<?, ?B/s]"
            ]
          },
          "metadata": {},
          "output_type": "display_data"
        },
        {
          "data": {
            "application/vnd.jupyter.widget-view+json": {
              "model_id": "7c53e0fb652f436fa9a85a83ec2c3431",
              "version_major": 2,
              "version_minor": 0
            },
            "text/plain": [
              "sub-059_task-eyesclosed_eeg.set:   0%|          | 0.00/32.0M [00:00<?, ?B/s]"
            ]
          },
          "metadata": {},
          "output_type": "display_data"
        },
        {
          "data": {
            "application/vnd.jupyter.widget-view+json": {
              "model_id": "cbfb0a4d17bd45a685edf83a77fc4480",
              "version_major": 2,
              "version_minor": 0
            },
            "text/plain": [
              "sub-061_task-eyesclosed_eeg.set:   0%|          | 0.00/32.6M [00:00<?, ?B/s]"
            ]
          },
          "metadata": {},
          "output_type": "display_data"
        },
        {
          "data": {
            "application/vnd.jupyter.widget-view+json": {
              "model_id": "7dad313dd62b42e895daf63fd89f48d8",
              "version_major": 2,
              "version_minor": 0
            },
            "text/plain": [
              "sub-063_task-eyesclosed_eeg.set:   0%|          | 0.00/32.7M [00:00<?, ?B/s]"
            ]
          },
          "metadata": {},
          "output_type": "display_data"
        },
        {
          "data": {
            "application/vnd.jupyter.widget-view+json": {
              "model_id": "670caaad691b494bb7360fb51c835f81",
              "version_major": 2,
              "version_minor": 0
            },
            "text/plain": [
              "sub-064_task-eyesclosed_eeg.set:   0%|          | 0.00/34.4M [00:00<?, ?B/s]"
            ]
          },
          "metadata": {},
          "output_type": "display_data"
        },
        {
          "data": {
            "application/vnd.jupyter.widget-view+json": {
              "model_id": "a95e81e04ccf4b938cbdc47aca01dfd6",
              "version_major": 2,
              "version_minor": 0
            },
            "text/plain": [
              "sub-062_task-eyesclosed_eeg.set:   0%|          | 0.00/36.5M [00:00<?, ?B/s]"
            ]
          },
          "metadata": {},
          "output_type": "display_data"
        },
        {
          "data": {
            "application/vnd.jupyter.widget-view+json": {
              "model_id": "6641fb9a35654df6ba3ab2bd421560d3",
              "version_major": 2,
              "version_minor": 0
            },
            "text/plain": [
              "sub-065_task-eyesclosed_eeg.set:   0%|          | 0.00/34.2M [00:00<?, ?B/s]"
            ]
          },
          "metadata": {},
          "output_type": "display_data"
        },
        {
          "data": {
            "application/vnd.jupyter.widget-view+json": {
              "model_id": "9445f2352c5f4259bf671b8afded50d5",
              "version_major": 2,
              "version_minor": 0
            },
            "text/plain": [
              "sub-066_task-eyesclosed_eeg.set:   0%|          | 0.00/22.3M [00:00<?, ?B/s]"
            ]
          },
          "metadata": {},
          "output_type": "display_data"
        },
        {
          "data": {
            "application/vnd.jupyter.widget-view+json": {
              "model_id": "3550635e0da748a3bbd30a783e1edada",
              "version_major": 2,
              "version_minor": 0
            },
            "text/plain": [
              "sub-067_task-eyesclosed_eeg.set:   0%|          | 0.00/24.9M [00:00<?, ?B/s]"
            ]
          },
          "metadata": {},
          "output_type": "display_data"
        },
        {
          "data": {
            "application/vnd.jupyter.widget-view+json": {
              "model_id": "aa7f7792d58a496c8fdc0b6a05167e13",
              "version_major": 2,
              "version_minor": 0
            },
            "text/plain": [
              "sub-068_task-eyesclosed_eeg.set:   0%|          | 0.00/23.3M [00:00<?, ?B/s]"
            ]
          },
          "metadata": {},
          "output_type": "display_data"
        },
        {
          "data": {
            "application/vnd.jupyter.widget-view+json": {
              "model_id": "d7e9570549be484eab0a1301320f652a",
              "version_major": 2,
              "version_minor": 0
            },
            "text/plain": [
              "sub-069_task-eyesclosed_eeg.set:   0%|          | 0.00/25.8M [00:00<?, ?B/s]"
            ]
          },
          "metadata": {},
          "output_type": "display_data"
        },
        {
          "data": {
            "application/vnd.jupyter.widget-view+json": {
              "model_id": "ccd1d014c79e437bb9330ce2dcaff994",
              "version_major": 2,
              "version_minor": 0
            },
            "text/plain": [
              "sub-070_task-eyesclosed_eeg.set:   0%|          | 0.00/18.6M [00:00<?, ?B/s]"
            ]
          },
          "metadata": {},
          "output_type": "display_data"
        },
        {
          "data": {
            "application/vnd.jupyter.widget-view+json": {
              "model_id": "9bc41ac1fcb54a2b90981e6b284f6301",
              "version_major": 2,
              "version_minor": 0
            },
            "text/plain": [
              "sub-071_task-eyesclosed_eeg.set:   0%|          | 0.00/25.2M [00:00<?, ?B/s]"
            ]
          },
          "metadata": {},
          "output_type": "display_data"
        },
        {
          "data": {
            "application/vnd.jupyter.widget-view+json": {
              "model_id": "6f3e53d76aad4820954aa4c82eb33ba0",
              "version_major": 2,
              "version_minor": 0
            },
            "text/plain": [
              "sub-072_task-eyesclosed_eeg.set:   0%|          | 0.00/26.7M [00:00<?, ?B/s]"
            ]
          },
          "metadata": {},
          "output_type": "display_data"
        },
        {
          "data": {
            "application/vnd.jupyter.widget-view+json": {
              "model_id": "8f74c2a6bbb5415ab362f8d04e124e62",
              "version_major": 2,
              "version_minor": 0
            },
            "text/plain": [
              "sub-075_task-eyesclosed_eeg.set:   0%|          | 0.00/30.4M [00:00<?, ?B/s]"
            ]
          },
          "metadata": {},
          "output_type": "display_data"
        },
        {
          "data": {
            "application/vnd.jupyter.widget-view+json": {
              "model_id": "bed0bec7ddb6441cb98de217e886637f",
              "version_major": 2,
              "version_minor": 0
            },
            "text/plain": [
              "sub-073_task-eyesclosed_eeg.set:   0%|          | 0.00/34.7M [00:00<?, ?B/s]"
            ]
          },
          "metadata": {},
          "output_type": "display_data"
        },
        {
          "data": {
            "application/vnd.jupyter.widget-view+json": {
              "model_id": "6ef693e41088492e911ac161e45e78c6",
              "version_major": 2,
              "version_minor": 0
            },
            "text/plain": [
              "sub-074_task-eyesclosed_eeg.set:   0%|          | 0.00/41.2M [00:00<?, ?B/s]"
            ]
          },
          "metadata": {},
          "output_type": "display_data"
        },
        {
          "data": {
            "application/vnd.jupyter.widget-view+json": {
              "model_id": "e843e193d24e434d889b00672387fdbd",
              "version_major": 2,
              "version_minor": 0
            },
            "text/plain": [
              "sub-076_task-eyesclosed_eeg.set:   0%|          | 0.00/31.7M [00:00<?, ?B/s]"
            ]
          },
          "metadata": {},
          "output_type": "display_data"
        },
        {
          "data": {
            "application/vnd.jupyter.widget-view+json": {
              "model_id": "0f9e512319a043119613c68f292a46bf",
              "version_major": 2,
              "version_minor": 0
            },
            "text/plain": [
              "sub-077_task-eyesclosed_eeg.set:   0%|          | 0.00/28.4M [00:00<?, ?B/s]"
            ]
          },
          "metadata": {},
          "output_type": "display_data"
        },
        {
          "data": {
            "application/vnd.jupyter.widget-view+json": {
              "model_id": "edc9ba4f88854e9f8c00fc69983524de",
              "version_major": 2,
              "version_minor": 0
            },
            "text/plain": [
              "sub-079_task-eyesclosed_eeg.set:   0%|          | 0.00/33.2M [00:00<?, ?B/s]"
            ]
          },
          "metadata": {},
          "output_type": "display_data"
        },
        {
          "data": {
            "application/vnd.jupyter.widget-view+json": {
              "model_id": "a92bbcb9efa0453fb75019a5ceca42a4",
              "version_major": 2,
              "version_minor": 0
            },
            "text/plain": [
              "sub-080_task-eyesclosed_eeg.set:   0%|          | 0.00/37.2M [00:00<?, ?B/s]"
            ]
          },
          "metadata": {},
          "output_type": "display_data"
        },
        {
          "data": {
            "application/vnd.jupyter.widget-view+json": {
              "model_id": "3ba5fb60f44b4404a0ffc04eae2f5779",
              "version_major": 2,
              "version_minor": 0
            },
            "text/plain": [
              "sub-078_task-eyesclosed_eeg.set:   0%|          | 0.00/35.4M [00:00<?, ?B/s]"
            ]
          },
          "metadata": {},
          "output_type": "display_data"
        },
        {
          "data": {
            "application/vnd.jupyter.widget-view+json": {
              "model_id": "c63d69d002aa48099d0ee02131098da0",
              "version_major": 2,
              "version_minor": 0
            },
            "text/plain": [
              "sub-082_task-eyesclosed_eeg.set:   0%|          | 0.00/30.1M [00:00<?, ?B/s]"
            ]
          },
          "metadata": {},
          "output_type": "display_data"
        },
        {
          "data": {
            "application/vnd.jupyter.widget-view+json": {
              "model_id": "597d8f9beddd4ebfbc9aad2e0dbcd500",
              "version_major": 2,
              "version_minor": 0
            },
            "text/plain": [
              "sub-081_task-eyesclosed_eeg.set:   0%|          | 0.00/33.5M [00:00<?, ?B/s]"
            ]
          },
          "metadata": {},
          "output_type": "display_data"
        },
        {
          "data": {
            "application/vnd.jupyter.widget-view+json": {
              "model_id": "2c97d2e5bfe6475bb05124cd49cac50d",
              "version_major": 2,
              "version_minor": 0
            },
            "text/plain": [
              "sub-084_task-eyesclosed_eeg.set:   0%|          | 0.00/25.2M [00:00<?, ?B/s]"
            ]
          },
          "metadata": {},
          "output_type": "display_data"
        },
        {
          "data": {
            "application/vnd.jupyter.widget-view+json": {
              "model_id": "861542858984491898f04a847d75eecb",
              "version_major": 2,
              "version_minor": 0
            },
            "text/plain": [
              "sub-083_task-eyesclosed_eeg.set:   0%|          | 0.00/35.3M [00:00<?, ?B/s]"
            ]
          },
          "metadata": {},
          "output_type": "display_data"
        },
        {
          "data": {
            "application/vnd.jupyter.widget-view+json": {
              "model_id": "c98b215b67e34073b7b2e73bdce975f4",
              "version_major": 2,
              "version_minor": 0
            },
            "text/plain": [
              "sub-085_task-eyesclosed_eeg.set:   0%|          | 0.00/22.8M [00:00<?, ?B/s]"
            ]
          },
          "metadata": {},
          "output_type": "display_data"
        },
        {
          "data": {
            "application/vnd.jupyter.widget-view+json": {
              "model_id": "73be0f4ed62e44729339b3ee3cce5aec",
              "version_major": 2,
              "version_minor": 0
            },
            "text/plain": [
              "sub-086_task-eyesclosed_eeg.set:   0%|          | 0.00/23.6M [00:00<?, ?B/s]"
            ]
          },
          "metadata": {},
          "output_type": "display_data"
        },
        {
          "data": {
            "application/vnd.jupyter.widget-view+json": {
              "model_id": "beac61039d85467283a0b85fd2fee183",
              "version_major": 2,
              "version_minor": 0
            },
            "text/plain": [
              "sub-087_task-eyesclosed_eeg.set:   0%|          | 0.00/24.5M [00:00<?, ?B/s]"
            ]
          },
          "metadata": {},
          "output_type": "display_data"
        },
        {
          "data": {
            "application/vnd.jupyter.widget-view+json": {
              "model_id": "bf612f1c79b942c195af107762e95cda",
              "version_major": 2,
              "version_minor": 0
            },
            "text/plain": [
              "sub-001_task-eyesclosed_channels.tsv:   0%|          | 0.00/284 [00:00<?, ?B/s]"
            ]
          },
          "metadata": {},
          "output_type": "display_data"
        },
        {
          "data": {
            "application/vnd.jupyter.widget-view+json": {
              "model_id": "f98d4b7da785428496e5dbe171694a62",
              "version_major": 2,
              "version_minor": 0
            },
            "text/plain": [
              "sub-088_task-eyesclosed_eeg.set:   0%|          | 0.00/31.9M [00:00<?, ?B/s]"
            ]
          },
          "metadata": {},
          "output_type": "display_data"
        },
        {
          "data": {
            "application/vnd.jupyter.widget-view+json": {
              "model_id": "537a5b8ccb8e4d48a5199500fc451a74",
              "version_major": 2,
              "version_minor": 0
            },
            "text/plain": [
              "sub-001_task-eyesclosed_eeg.json:   0%|          | 0.00/868 [00:00<?, ?B/s]"
            ]
          },
          "metadata": {},
          "output_type": "display_data"
        },
        {
          "data": {
            "application/vnd.jupyter.widget-view+json": {
              "model_id": "db6fc520779142a0898d850b794771db",
              "version_major": 2,
              "version_minor": 0
            },
            "text/plain": [
              "sub-001_task-eyesclosed_eeg.set:   0%|          | 0.00/22.9M [00:00<?, ?B/s]"
            ]
          },
          "metadata": {},
          "output_type": "display_data"
        },
        {
          "data": {
            "application/vnd.jupyter.widget-view+json": {
              "model_id": "7962f430cd54441eb1ffb3c7d0f4286e",
              "version_major": 2,
              "version_minor": 0
            },
            "text/plain": [
              "sub-002_task-eyesclosed_channels.tsv:   0%|          | 0.00/284 [00:00<?, ?B/s]"
            ]
          },
          "metadata": {},
          "output_type": "display_data"
        },
        {
          "data": {
            "application/vnd.jupyter.widget-view+json": {
              "model_id": "2ea7f3e94e5d48e29d1ddb507461b2bb",
              "version_major": 2,
              "version_minor": 0
            },
            "text/plain": [
              "sub-002_task-eyesclosed_eeg.json:   0%|          | 0.00/868 [00:00<?, ?B/s]"
            ]
          },
          "metadata": {},
          "output_type": "display_data"
        },
        {
          "data": {
            "application/vnd.jupyter.widget-view+json": {
              "model_id": "7ef7cf5dd055403b9242fde11ed790e8",
              "version_major": 2,
              "version_minor": 0
            },
            "text/plain": [
              "sub-002_task-eyesclosed_eeg.set:   0%|          | 0.00/30.3M [00:00<?, ?B/s]"
            ]
          },
          "metadata": {},
          "output_type": "display_data"
        },
        {
          "data": {
            "application/vnd.jupyter.widget-view+json": {
              "model_id": "7b290c79111d4abca48aa773c1dfa4c2",
              "version_major": 2,
              "version_minor": 0
            },
            "text/plain": [
              "sub-003_task-eyesclosed_channels.tsv:   0%|          | 0.00/284 [00:00<?, ?B/s]"
            ]
          },
          "metadata": {},
          "output_type": "display_data"
        },
        {
          "data": {
            "application/vnd.jupyter.widget-view+json": {
              "model_id": "27e3e4e474c542989ee2791b466b734b",
              "version_major": 2,
              "version_minor": 0
            },
            "text/plain": [
              "sub-003_task-eyesclosed_eeg.json:   0%|          | 0.00/868 [00:00<?, ?B/s]"
            ]
          },
          "metadata": {},
          "output_type": "display_data"
        },
        {
          "data": {
            "application/vnd.jupyter.widget-view+json": {
              "model_id": "6d4254f2115a42fe9746162983a3ec06",
              "version_major": 2,
              "version_minor": 0
            },
            "text/plain": [
              "sub-003_task-eyesclosed_eeg.set:   0%|          | 0.00/11.8M [00:00<?, ?B/s]"
            ]
          },
          "metadata": {},
          "output_type": "display_data"
        },
        {
          "data": {
            "application/vnd.jupyter.widget-view+json": {
              "model_id": "172f980e872e4efd93722be57bcba298",
              "version_major": 2,
              "version_minor": 0
            },
            "text/plain": [
              "sub-004_task-eyesclosed_eeg.json:   0%|          | 0.00/868 [00:00<?, ?B/s]"
            ]
          },
          "metadata": {},
          "output_type": "display_data"
        },
        {
          "data": {
            "application/vnd.jupyter.widget-view+json": {
              "model_id": "4b8bad4cf6c64912b32978bf3ff03d19",
              "version_major": 2,
              "version_minor": 0
            },
            "text/plain": [
              "sub-004_task-eyesclosed_eeg.set:   0%|          | 0.00/27.0M [00:00<?, ?B/s]"
            ]
          },
          "metadata": {},
          "output_type": "display_data"
        },
        {
          "data": {
            "application/vnd.jupyter.widget-view+json": {
              "model_id": "44cb2f59e001498cbefde5243f28e68b",
              "version_major": 2,
              "version_minor": 0
            },
            "text/plain": [
              "sub-004_task-eyesclosed_channels.tsv:   0%|          | 0.00/284 [00:00<?, ?B/s]"
            ]
          },
          "metadata": {},
          "output_type": "display_data"
        },
        {
          "data": {
            "application/vnd.jupyter.widget-view+json": {
              "model_id": "48e53f8c1aba4ca2bcd9439380fdee89",
              "version_major": 2,
              "version_minor": 0
            },
            "text/plain": [
              "sub-005_task-eyesclosed_channels.tsv:   0%|          | 0.00/284 [00:00<?, ?B/s]"
            ]
          },
          "metadata": {},
          "output_type": "display_data"
        },
        {
          "data": {
            "application/vnd.jupyter.widget-view+json": {
              "model_id": "0983a3b32a6e4d0f823ba498c17d1359",
              "version_major": 2,
              "version_minor": 0
            },
            "text/plain": [
              "sub-005_task-eyesclosed_eeg.json:   0%|          | 0.00/868 [00:00<?, ?B/s]"
            ]
          },
          "metadata": {},
          "output_type": "display_data"
        },
        {
          "data": {
            "application/vnd.jupyter.widget-view+json": {
              "model_id": "f74fef4e86dd473db7e7b490835be0fe",
              "version_major": 2,
              "version_minor": 0
            },
            "text/plain": [
              "sub-006_task-eyesclosed_eeg.json:   0%|          | 0.00/868 [00:00<?, ?B/s]"
            ]
          },
          "metadata": {},
          "output_type": "display_data"
        },
        {
          "data": {
            "application/vnd.jupyter.widget-view+json": {
              "model_id": "8fe3ab7bb8274fec92265f8ab7e81ec2",
              "version_major": 2,
              "version_minor": 0
            },
            "text/plain": [
              "sub-005_task-eyesclosed_eeg.set:   0%|          | 0.00/30.7M [00:00<?, ?B/s]"
            ]
          },
          "metadata": {},
          "output_type": "display_data"
        },
        {
          "data": {
            "application/vnd.jupyter.widget-view+json": {
              "model_id": "415e2a0e571e4fa1ac774f3a14a48c93",
              "version_major": 2,
              "version_minor": 0
            },
            "text/plain": [
              "sub-006_task-eyesclosed_channels.tsv:   0%|          | 0.00/284 [00:00<?, ?B/s]"
            ]
          },
          "metadata": {},
          "output_type": "display_data"
        },
        {
          "data": {
            "application/vnd.jupyter.widget-view+json": {
              "model_id": "c74d3f25bfec4bf28bc35a33e29cb093",
              "version_major": 2,
              "version_minor": 0
            },
            "text/plain": [
              "sub-006_task-eyesclosed_eeg.set:   0%|          | 0.00/24.3M [00:00<?, ?B/s]"
            ]
          },
          "metadata": {},
          "output_type": "display_data"
        },
        {
          "data": {
            "application/vnd.jupyter.widget-view+json": {
              "model_id": "42a924366d794878882d56adb84a96e8",
              "version_major": 2,
              "version_minor": 0
            },
            "text/plain": [
              "sub-007_task-eyesclosed_channels.tsv:   0%|          | 0.00/284 [00:00<?, ?B/s]"
            ]
          },
          "metadata": {},
          "output_type": "display_data"
        },
        {
          "data": {
            "application/vnd.jupyter.widget-view+json": {
              "model_id": "e15741195d004de0b4db0f0fa0ec7438",
              "version_major": 2,
              "version_minor": 0
            },
            "text/plain": [
              "sub-008_task-eyesclosed_channels.tsv:   0%|          | 0.00/284 [00:00<?, ?B/s]"
            ]
          },
          "metadata": {},
          "output_type": "display_data"
        },
        {
          "data": {
            "application/vnd.jupyter.widget-view+json": {
              "model_id": "b25a73eb12b947d090c80d953942a392",
              "version_major": 2,
              "version_minor": 0
            },
            "text/plain": [
              "sub-007_task-eyesclosed_eeg.json:   0%|          | 0.00/868 [00:00<?, ?B/s]"
            ]
          },
          "metadata": {},
          "output_type": "display_data"
        },
        {
          "data": {
            "application/vnd.jupyter.widget-view+json": {
              "model_id": "6fd004fcdb25432aa3b2d5242e18dd6e",
              "version_major": 2,
              "version_minor": 0
            },
            "text/plain": [
              "sub-007_task-eyesclosed_eeg.set:   0%|          | 0.00/29.4M [00:00<?, ?B/s]"
            ]
          },
          "metadata": {},
          "output_type": "display_data"
        },
        {
          "data": {
            "application/vnd.jupyter.widget-view+json": {
              "model_id": "06be717c6e264ecc9d2e130a627f7301",
              "version_major": 2,
              "version_minor": 0
            },
            "text/plain": [
              "sub-008_task-eyesclosed_eeg.json:   0%|          | 0.00/868 [00:00<?, ?B/s]"
            ]
          },
          "metadata": {},
          "output_type": "display_data"
        },
        {
          "data": {
            "application/vnd.jupyter.widget-view+json": {
              "model_id": "856ed1fc23924dcf8829fb864783a5ba",
              "version_major": 2,
              "version_minor": 0
            },
            "text/plain": [
              "sub-008_task-eyesclosed_eeg.set:   0%|          | 0.00/30.5M [00:00<?, ?B/s]"
            ]
          },
          "metadata": {},
          "output_type": "display_data"
        },
        {
          "data": {
            "application/vnd.jupyter.widget-view+json": {
              "model_id": "5cef2901ba854128b4a61e906e0f0ab8",
              "version_major": 2,
              "version_minor": 0
            },
            "text/plain": [
              "sub-009_task-eyesclosed_eeg.set:   0%|          | 0.00/23.5M [00:00<?, ?B/s]"
            ]
          },
          "metadata": {},
          "output_type": "display_data"
        },
        {
          "data": {
            "application/vnd.jupyter.widget-view+json": {
              "model_id": "1f8dfe1efb9f441dbbb099211e265ece",
              "version_major": 2,
              "version_minor": 0
            },
            "text/plain": [
              "sub-009_task-eyesclosed_eeg.json:   0%|          | 0.00/868 [00:00<?, ?B/s]"
            ]
          },
          "metadata": {},
          "output_type": "display_data"
        },
        {
          "data": {
            "application/vnd.jupyter.widget-view+json": {
              "model_id": "30b68739e9e743d2b5d6141897a07755",
              "version_major": 2,
              "version_minor": 0
            },
            "text/plain": [
              "sub-009_task-eyesclosed_channels.tsv:   0%|          | 0.00/284 [00:00<?, ?B/s]"
            ]
          },
          "metadata": {},
          "output_type": "display_data"
        },
        {
          "data": {
            "application/vnd.jupyter.widget-view+json": {
              "model_id": "f5ffd5cfc7554f859e86ac1e44ac126f",
              "version_major": 2,
              "version_minor": 0
            },
            "text/plain": [
              "sub-010_task-eyesclosed_channels.tsv:   0%|          | 0.00/284 [00:00<?, ?B/s]"
            ]
          },
          "metadata": {},
          "output_type": "display_data"
        },
        {
          "data": {
            "application/vnd.jupyter.widget-view+json": {
              "model_id": "b81cba742bb8430d842eaab992eea8fd",
              "version_major": 2,
              "version_minor": 0
            },
            "text/plain": [
              "sub-010_task-eyesclosed_eeg.json:   0%|          | 0.00/869 [00:00<?, ?B/s]"
            ]
          },
          "metadata": {},
          "output_type": "display_data"
        },
        {
          "data": {
            "application/vnd.jupyter.widget-view+json": {
              "model_id": "023b472ad6a84687b2f56ee7ce1ef521",
              "version_major": 2,
              "version_minor": 0
            },
            "text/plain": [
              "sub-011_task-eyesclosed_eeg.json:   0%|          | 0.00/868 [00:00<?, ?B/s]"
            ]
          },
          "metadata": {},
          "output_type": "display_data"
        },
        {
          "data": {
            "application/vnd.jupyter.widget-view+json": {
              "model_id": "6de7036c473b4ce5acf79ea6981dd0de",
              "version_major": 2,
              "version_minor": 0
            },
            "text/plain": [
              "sub-010_task-eyesclosed_eeg.set:   0%|          | 0.00/49.3M [00:00<?, ?B/s]"
            ]
          },
          "metadata": {},
          "output_type": "display_data"
        },
        {
          "data": {
            "application/vnd.jupyter.widget-view+json": {
              "model_id": "b1a922339a6b4de3aeb98010f3191816",
              "version_major": 2,
              "version_minor": 0
            },
            "text/plain": [
              "sub-011_task-eyesclosed_channels.tsv:   0%|          | 0.00/284 [00:00<?, ?B/s]"
            ]
          },
          "metadata": {},
          "output_type": "display_data"
        },
        {
          "data": {
            "application/vnd.jupyter.widget-view+json": {
              "model_id": "9d415c314a774d49b1206fa2c19d832b",
              "version_major": 2,
              "version_minor": 0
            },
            "text/plain": [
              "sub-011_task-eyesclosed_eeg.set:   0%|          | 0.00/29.5M [00:00<?, ?B/s]"
            ]
          },
          "metadata": {},
          "output_type": "display_data"
        },
        {
          "data": {
            "application/vnd.jupyter.widget-view+json": {
              "model_id": "7fd802b10cfd4d3ca01d4b27fb218340",
              "version_major": 2,
              "version_minor": 0
            },
            "text/plain": [
              "sub-012_task-eyesclosed_channels.tsv:   0%|          | 0.00/284 [00:00<?, ?B/s]"
            ]
          },
          "metadata": {},
          "output_type": "display_data"
        },
        {
          "data": {
            "application/vnd.jupyter.widget-view+json": {
              "model_id": "12decadf90b94bbab2a0c15e1fe83aba",
              "version_major": 2,
              "version_minor": 0
            },
            "text/plain": [
              "sub-012_task-eyesclosed_eeg.json:   0%|          | 0.00/868 [00:00<?, ?B/s]"
            ]
          },
          "metadata": {},
          "output_type": "display_data"
        },
        {
          "data": {
            "application/vnd.jupyter.widget-view+json": {
              "model_id": "6781c25de03146dfa97ec4fd695823bc",
              "version_major": 2,
              "version_minor": 0
            },
            "text/plain": [
              "sub-013_task-eyesclosed_channels.tsv:   0%|          | 0.00/284 [00:00<?, ?B/s]"
            ]
          },
          "metadata": {},
          "output_type": "display_data"
        },
        {
          "data": {
            "application/vnd.jupyter.widget-view+json": {
              "model_id": "4012b8c5ffd644daaeaa8f8bea0686e0",
              "version_major": 2,
              "version_minor": 0
            },
            "text/plain": [
              "sub-012_task-eyesclosed_eeg.set:   0%|          | 0.00/34.3M [00:00<?, ?B/s]"
            ]
          },
          "metadata": {},
          "output_type": "display_data"
        },
        {
          "data": {
            "application/vnd.jupyter.widget-view+json": {
              "model_id": "034cc97cdda34394b9fd429d1de5db8b",
              "version_major": 2,
              "version_minor": 0
            },
            "text/plain": [
              "sub-013_task-eyesclosed_eeg.json:   0%|          | 0.00/868 [00:00<?, ?B/s]"
            ]
          },
          "metadata": {},
          "output_type": "display_data"
        },
        {
          "data": {
            "application/vnd.jupyter.widget-view+json": {
              "model_id": "7f00d621663545aebfe15c4c4dd5222f",
              "version_major": 2,
              "version_minor": 0
            },
            "text/plain": [
              "sub-013_task-eyesclosed_eeg.set:   0%|          | 0.00/32.1M [00:00<?, ?B/s]"
            ]
          },
          "metadata": {},
          "output_type": "display_data"
        },
        {
          "data": {
            "application/vnd.jupyter.widget-view+json": {
              "model_id": "d9d00c07ed7441e3a9a672732a8cf428",
              "version_major": 2,
              "version_minor": 0
            },
            "text/plain": [
              "sub-014_task-eyesclosed_eeg.set:   0%|          | 0.00/36.1M [00:00<?, ?B/s]"
            ]
          },
          "metadata": {},
          "output_type": "display_data"
        },
        {
          "data": {
            "application/vnd.jupyter.widget-view+json": {
              "model_id": "ef42ff066e7749c7a35f62dbe61081f2",
              "version_major": 2,
              "version_minor": 0
            },
            "text/plain": [
              "sub-014_task-eyesclosed_channels.tsv:   0%|          | 0.00/284 [00:00<?, ?B/s]"
            ]
          },
          "metadata": {},
          "output_type": "display_data"
        },
        {
          "data": {
            "application/vnd.jupyter.widget-view+json": {
              "model_id": "f84167e0b90041daa49e62504296f4d6",
              "version_major": 2,
              "version_minor": 0
            },
            "text/plain": [
              "sub-014_task-eyesclosed_eeg.json:   0%|          | 0.00/868 [00:00<?, ?B/s]"
            ]
          },
          "metadata": {},
          "output_type": "display_data"
        },
        {
          "data": {
            "application/vnd.jupyter.widget-view+json": {
              "model_id": "dada952ffe5045e085c65ce200b8b825",
              "version_major": 2,
              "version_minor": 0
            },
            "text/plain": [
              "sub-015_task-eyesclosed_channels.tsv:   0%|          | 0.00/284 [00:00<?, ?B/s]"
            ]
          },
          "metadata": {},
          "output_type": "display_data"
        },
        {
          "data": {
            "application/vnd.jupyter.widget-view+json": {
              "model_id": "3cffc71c33ab463aa3a118436080f512",
              "version_major": 2,
              "version_minor": 0
            },
            "text/plain": [
              "sub-015_task-eyesclosed_eeg.json:   0%|          | 0.00/868 [00:00<?, ?B/s]"
            ]
          },
          "metadata": {},
          "output_type": "display_data"
        },
        {
          "data": {
            "application/vnd.jupyter.widget-view+json": {
              "model_id": "ec909fbda9884a9795d52fd0da9128b3",
              "version_major": 2,
              "version_minor": 0
            },
            "text/plain": [
              "sub-015_task-eyesclosed_eeg.set:   0%|          | 0.00/34.8M [00:00<?, ?B/s]"
            ]
          },
          "metadata": {},
          "output_type": "display_data"
        },
        {
          "data": {
            "application/vnd.jupyter.widget-view+json": {
              "model_id": "40283aa5d2b94f63aac4403e8fa07fce",
              "version_major": 2,
              "version_minor": 0
            },
            "text/plain": [
              "sub-016_task-eyesclosed_channels.tsv:   0%|          | 0.00/284 [00:00<?, ?B/s]"
            ]
          },
          "metadata": {},
          "output_type": "display_data"
        },
        {
          "data": {
            "application/vnd.jupyter.widget-view+json": {
              "model_id": "5de6e3b9156c4f1baf72de8668610562",
              "version_major": 2,
              "version_minor": 0
            },
            "text/plain": [
              "sub-016_task-eyesclosed_eeg.json:   0%|          | 0.00/868 [00:00<?, ?B/s]"
            ]
          },
          "metadata": {},
          "output_type": "display_data"
        },
        {
          "data": {
            "application/vnd.jupyter.widget-view+json": {
              "model_id": "62ab0116f35f4278b904bbcf0c15f95b",
              "version_major": 2,
              "version_minor": 0
            },
            "text/plain": [
              "sub-016_task-eyesclosed_eeg.set:   0%|          | 0.00/37.6M [00:00<?, ?B/s]"
            ]
          },
          "metadata": {},
          "output_type": "display_data"
        },
        {
          "data": {
            "application/vnd.jupyter.widget-view+json": {
              "model_id": "c2d2e626e1f040bfa4e402e990de59bf",
              "version_major": 2,
              "version_minor": 0
            },
            "text/plain": [
              "sub-017_task-eyesclosed_channels.tsv:   0%|          | 0.00/284 [00:00<?, ?B/s]"
            ]
          },
          "metadata": {},
          "output_type": "display_data"
        },
        {
          "data": {
            "application/vnd.jupyter.widget-view+json": {
              "model_id": "3023d2e3b43c4449986ba320f2b7009a",
              "version_major": 2,
              "version_minor": 0
            },
            "text/plain": [
              "sub-017_task-eyesclosed_eeg.json:   0%|          | 0.00/868 [00:00<?, ?B/s]"
            ]
          },
          "metadata": {},
          "output_type": "display_data"
        },
        {
          "data": {
            "application/vnd.jupyter.widget-view+json": {
              "model_id": "d6961c10b05f424fb09f23f0ae7efdab",
              "version_major": 2,
              "version_minor": 0
            },
            "text/plain": [
              "sub-018_task-eyesclosed_channels.tsv:   0%|          | 0.00/284 [00:00<?, ?B/s]"
            ]
          },
          "metadata": {},
          "output_type": "display_data"
        },
        {
          "data": {
            "application/vnd.jupyter.widget-view+json": {
              "model_id": "39aa8cc82edd4ceab2c61340f1e2abbe",
              "version_major": 2,
              "version_minor": 0
            },
            "text/plain": [
              "sub-017_task-eyesclosed_eeg.set:   0%|          | 0.00/32.4M [00:00<?, ?B/s]"
            ]
          },
          "metadata": {},
          "output_type": "display_data"
        },
        {
          "data": {
            "application/vnd.jupyter.widget-view+json": {
              "model_id": "b2f317ab3c16421c8eaa372e86398136",
              "version_major": 2,
              "version_minor": 0
            },
            "text/plain": [
              "sub-018_task-eyesclosed_eeg.json:   0%|          | 0.00/868 [00:00<?, ?B/s]"
            ]
          },
          "metadata": {},
          "output_type": "display_data"
        },
        {
          "data": {
            "application/vnd.jupyter.widget-view+json": {
              "model_id": "5497977e0e3342f8ad00f661dbfc45fd",
              "version_major": 2,
              "version_minor": 0
            },
            "text/plain": [
              "sub-018_task-eyesclosed_eeg.set:   0%|          | 0.00/32.4M [00:00<?, ?B/s]"
            ]
          },
          "metadata": {},
          "output_type": "display_data"
        },
        {
          "data": {
            "application/vnd.jupyter.widget-view+json": {
              "model_id": "bce1256536db4e0c9f16b24df2c59743",
              "version_major": 2,
              "version_minor": 0
            },
            "text/plain": [
              "sub-019_task-eyesclosed_channels.tsv:   0%|          | 0.00/284 [00:00<?, ?B/s]"
            ]
          },
          "metadata": {},
          "output_type": "display_data"
        },
        {
          "data": {
            "application/vnd.jupyter.widget-view+json": {
              "model_id": "d4f3812f09424a07a53d97cc1ded0c1a",
              "version_major": 2,
              "version_minor": 0
            },
            "text/plain": [
              "sub-019_task-eyesclosed_eeg.set:   0%|          | 0.00/35.2M [00:00<?, ?B/s]"
            ]
          },
          "metadata": {},
          "output_type": "display_data"
        },
        {
          "data": {
            "application/vnd.jupyter.widget-view+json": {
              "model_id": "36e3fb00a58a4aef8b7a48e6aa28e325",
              "version_major": 2,
              "version_minor": 0
            },
            "text/plain": [
              "sub-019_task-eyesclosed_eeg.json:   0%|          | 0.00/868 [00:00<?, ?B/s]"
            ]
          },
          "metadata": {},
          "output_type": "display_data"
        },
        {
          "data": {
            "application/vnd.jupyter.widget-view+json": {
              "model_id": "460feb6624f842cb9eff3e24132254f0",
              "version_major": 2,
              "version_minor": 0
            },
            "text/plain": [
              "sub-020_task-eyesclosed_channels.tsv:   0%|          | 0.00/284 [00:00<?, ?B/s]"
            ]
          },
          "metadata": {},
          "output_type": "display_data"
        },
        {
          "data": {
            "application/vnd.jupyter.widget-view+json": {
              "model_id": "7ba7520624fa4bfc92b866c360d6c1ec",
              "version_major": 2,
              "version_minor": 0
            },
            "text/plain": [
              "sub-020_task-eyesclosed_eeg.set:   0%|          | 0.00/33.2M [00:00<?, ?B/s]"
            ]
          },
          "metadata": {},
          "output_type": "display_data"
        },
        {
          "data": {
            "application/vnd.jupyter.widget-view+json": {
              "model_id": "a470d79874244d29ae6dcb01edd1b4c6",
              "version_major": 2,
              "version_minor": 0
            },
            "text/plain": [
              "sub-020_task-eyesclosed_eeg.json:   0%|          | 0.00/868 [00:00<?, ?B/s]"
            ]
          },
          "metadata": {},
          "output_type": "display_data"
        },
        {
          "data": {
            "application/vnd.jupyter.widget-view+json": {
              "model_id": "b2ef5756b473493298ed0dffe17b351b",
              "version_major": 2,
              "version_minor": 0
            },
            "text/plain": [
              "sub-021_task-eyesclosed_channels.tsv:   0%|          | 0.00/284 [00:00<?, ?B/s]"
            ]
          },
          "metadata": {},
          "output_type": "display_data"
        },
        {
          "data": {
            "application/vnd.jupyter.widget-view+json": {
              "model_id": "51916365d0e5491b85fb95c8857d4fba",
              "version_major": 2,
              "version_minor": 0
            },
            "text/plain": [
              "sub-021_task-eyesclosed_eeg.json:   0%|          | 0.00/868 [00:00<?, ?B/s]"
            ]
          },
          "metadata": {},
          "output_type": "display_data"
        },
        {
          "data": {
            "application/vnd.jupyter.widget-view+json": {
              "model_id": "7abbbb7863ff432caa09c1ec8a31b57c",
              "version_major": 2,
              "version_minor": 0
            },
            "text/plain": [
              "sub-021_task-eyesclosed_eeg.set:   0%|          | 0.00/35.3M [00:00<?, ?B/s]"
            ]
          },
          "metadata": {},
          "output_type": "display_data"
        },
        {
          "data": {
            "application/vnd.jupyter.widget-view+json": {
              "model_id": "73b5562444eb43ed979db39b106f2c0b",
              "version_major": 2,
              "version_minor": 0
            },
            "text/plain": [
              "sub-022_task-eyesclosed_channels.tsv:   0%|          | 0.00/284 [00:00<?, ?B/s]"
            ]
          },
          "metadata": {},
          "output_type": "display_data"
        },
        {
          "data": {
            "application/vnd.jupyter.widget-view+json": {
              "model_id": "5646e9b6ec864c849f05d5a0cf87bdf5",
              "version_major": 2,
              "version_minor": 0
            },
            "text/plain": [
              "sub-022_task-eyesclosed_eeg.json:   0%|          | 0.00/868 [00:00<?, ?B/s]"
            ]
          },
          "metadata": {},
          "output_type": "display_data"
        },
        {
          "data": {
            "application/vnd.jupyter.widget-view+json": {
              "model_id": "e909884ab6df41f1b83f50d07bf0fd62",
              "version_major": 2,
              "version_minor": 0
            },
            "text/plain": [
              "sub-023_task-eyesclosed_channels.tsv:   0%|          | 0.00/284 [00:00<?, ?B/s]"
            ]
          },
          "metadata": {},
          "output_type": "display_data"
        },
        {
          "data": {
            "application/vnd.jupyter.widget-view+json": {
              "model_id": "e1c61df092ad4e2e8bf8157d1d951a4a",
              "version_major": 2,
              "version_minor": 0
            },
            "text/plain": [
              "sub-023_task-eyesclosed_eeg.json:   0%|          | 0.00/868 [00:00<?, ?B/s]"
            ]
          },
          "metadata": {},
          "output_type": "display_data"
        },
        {
          "data": {
            "application/vnd.jupyter.widget-view+json": {
              "model_id": "f21364533fec405daa95859fb8c4aa97",
              "version_major": 2,
              "version_minor": 0
            },
            "text/plain": [
              "sub-022_task-eyesclosed_eeg.set:   0%|          | 0.00/31.5M [00:00<?, ?B/s]"
            ]
          },
          "metadata": {},
          "output_type": "display_data"
        },
        {
          "data": {
            "application/vnd.jupyter.widget-view+json": {
              "model_id": "8cb85da495804403b5540550b42eb454",
              "version_major": 2,
              "version_minor": 0
            },
            "text/plain": [
              "sub-023_task-eyesclosed_eeg.set:   0%|          | 0.00/33.0M [00:00<?, ?B/s]"
            ]
          },
          "metadata": {},
          "output_type": "display_data"
        },
        {
          "data": {
            "application/vnd.jupyter.widget-view+json": {
              "model_id": "0cabef1143934510a6a415149cc14ff9",
              "version_major": 2,
              "version_minor": 0
            },
            "text/plain": [
              "sub-024_task-eyesclosed_channels.tsv:   0%|          | 0.00/284 [00:00<?, ?B/s]"
            ]
          },
          "metadata": {},
          "output_type": "display_data"
        },
        {
          "data": {
            "application/vnd.jupyter.widget-view+json": {
              "model_id": "e426b70ad7a44ca389cc3aa0bba09b52",
              "version_major": 2,
              "version_minor": 0
            },
            "text/plain": [
              "sub-024_task-eyesclosed_eeg.json:   0%|          | 0.00/868 [00:00<?, ?B/s]"
            ]
          },
          "metadata": {},
          "output_type": "display_data"
        },
        {
          "data": {
            "application/vnd.jupyter.widget-view+json": {
              "model_id": "bc6b99676e914a7a8c196a471b854fbb",
              "version_major": 2,
              "version_minor": 0
            },
            "text/plain": [
              "sub-024_task-eyesclosed_eeg.set:   0%|          | 0.00/29.3M [00:00<?, ?B/s]"
            ]
          },
          "metadata": {},
          "output_type": "display_data"
        },
        {
          "data": {
            "application/vnd.jupyter.widget-view+json": {
              "model_id": "37e3f76afb2449a09ec3baeda01788a8",
              "version_major": 2,
              "version_minor": 0
            },
            "text/plain": [
              "sub-025_task-eyesclosed_channels.tsv:   0%|          | 0.00/284 [00:00<?, ?B/s]"
            ]
          },
          "metadata": {},
          "output_type": "display_data"
        },
        {
          "data": {
            "application/vnd.jupyter.widget-view+json": {
              "model_id": "87230b86bade46a6abef3437311bdbb8",
              "version_major": 2,
              "version_minor": 0
            },
            "text/plain": [
              "sub-025_task-eyesclosed_eeg.json:   0%|          | 0.00/868 [00:00<?, ?B/s]"
            ]
          },
          "metadata": {},
          "output_type": "display_data"
        },
        {
          "data": {
            "application/vnd.jupyter.widget-view+json": {
              "model_id": "558f0cf488b74edf855a37c67f274345",
              "version_major": 2,
              "version_minor": 0
            },
            "text/plain": [
              "sub-025_task-eyesclosed_eeg.set:   0%|          | 0.00/26.7M [00:00<?, ?B/s]"
            ]
          },
          "metadata": {},
          "output_type": "display_data"
        },
        {
          "data": {
            "application/vnd.jupyter.widget-view+json": {
              "model_id": "2df3fe7f3a6a491a9f98f39103797294",
              "version_major": 2,
              "version_minor": 0
            },
            "text/plain": [
              "sub-026_task-eyesclosed_channels.tsv:   0%|          | 0.00/284 [00:00<?, ?B/s]"
            ]
          },
          "metadata": {},
          "output_type": "display_data"
        },
        {
          "data": {
            "application/vnd.jupyter.widget-view+json": {
              "model_id": "07dac1330aae42aaa142f067781b2ff3",
              "version_major": 2,
              "version_minor": 0
            },
            "text/plain": [
              "sub-026_task-eyesclosed_eeg.json:   0%|          | 0.00/868 [00:00<?, ?B/s]"
            ]
          },
          "metadata": {},
          "output_type": "display_data"
        },
        {
          "data": {
            "application/vnd.jupyter.widget-view+json": {
              "model_id": "5f82ffcb834a41869814b81814a51dc7",
              "version_major": 2,
              "version_minor": 0
            },
            "text/plain": [
              "sub-026_task-eyesclosed_eeg.set:   0%|          | 0.00/35.0M [00:00<?, ?B/s]"
            ]
          },
          "metadata": {},
          "output_type": "display_data"
        },
        {
          "data": {
            "application/vnd.jupyter.widget-view+json": {
              "model_id": "a2a12bc7a1934133addd441d2eb0364b",
              "version_major": 2,
              "version_minor": 0
            },
            "text/plain": [
              "sub-027_task-eyesclosed_channels.tsv:   0%|          | 0.00/284 [00:00<?, ?B/s]"
            ]
          },
          "metadata": {},
          "output_type": "display_data"
        },
        {
          "data": {
            "application/vnd.jupyter.widget-view+json": {
              "model_id": "b604db5adb734ba798245d982c6b7a3d",
              "version_major": 2,
              "version_minor": 0
            },
            "text/plain": [
              "sub-027_task-eyesclosed_eeg.json:   0%|          | 0.00/868 [00:00<?, ?B/s]"
            ]
          },
          "metadata": {},
          "output_type": "display_data"
        },
        {
          "data": {
            "application/vnd.jupyter.widget-view+json": {
              "model_id": "1ec1b83e74bd4b62a0b963dacd545e33",
              "version_major": 2,
              "version_minor": 0
            },
            "text/plain": [
              "sub-027_task-eyesclosed_eeg.set:   0%|          | 0.00/31.7M [00:00<?, ?B/s]"
            ]
          },
          "metadata": {},
          "output_type": "display_data"
        },
        {
          "data": {
            "application/vnd.jupyter.widget-view+json": {
              "model_id": "5757767f95924ee8a308168138b6a1b0",
              "version_major": 2,
              "version_minor": 0
            },
            "text/plain": [
              "sub-028_task-eyesclosed_channels.tsv:   0%|          | 0.00/284 [00:00<?, ?B/s]"
            ]
          },
          "metadata": {},
          "output_type": "display_data"
        },
        {
          "data": {
            "application/vnd.jupyter.widget-view+json": {
              "model_id": "2ea6866225854e0882027ab18285c010",
              "version_major": 2,
              "version_minor": 0
            },
            "text/plain": [
              "sub-028_task-eyesclosed_eeg.json:   0%|          | 0.00/868 [00:00<?, ?B/s]"
            ]
          },
          "metadata": {},
          "output_type": "display_data"
        },
        {
          "data": {
            "application/vnd.jupyter.widget-view+json": {
              "model_id": "34cc69742e54468bae1102fb6b3b7a85",
              "version_major": 2,
              "version_minor": 0
            },
            "text/plain": [
              "sub-028_task-eyesclosed_eeg.set:   0%|          | 0.00/31.6M [00:00<?, ?B/s]"
            ]
          },
          "metadata": {},
          "output_type": "display_data"
        },
        {
          "data": {
            "application/vnd.jupyter.widget-view+json": {
              "model_id": "b68770f8e89b452a8ebed1245622c0b3",
              "version_major": 2,
              "version_minor": 0
            },
            "text/plain": [
              "sub-029_task-eyesclosed_channels.tsv:   0%|          | 0.00/284 [00:00<?, ?B/s]"
            ]
          },
          "metadata": {},
          "output_type": "display_data"
        },
        {
          "data": {
            "application/vnd.jupyter.widget-view+json": {
              "model_id": "82aa0ef23b0d48f681ab03032385de4b",
              "version_major": 2,
              "version_minor": 0
            },
            "text/plain": [
              "sub-029_task-eyesclosed_eeg.json:   0%|          | 0.00/868 [00:00<?, ?B/s]"
            ]
          },
          "metadata": {},
          "output_type": "display_data"
        },
        {
          "data": {
            "application/vnd.jupyter.widget-view+json": {
              "model_id": "dbea9637f998499ca616233fb19d6f07",
              "version_major": 2,
              "version_minor": 0
            },
            "text/plain": [
              "sub-029_task-eyesclosed_eeg.set:   0%|          | 0.00/28.3M [00:00<?, ?B/s]"
            ]
          },
          "metadata": {},
          "output_type": "display_data"
        },
        {
          "data": {
            "application/vnd.jupyter.widget-view+json": {
              "model_id": "3dcedb98a6184af09c4a92dc62942aa0",
              "version_major": 2,
              "version_minor": 0
            },
            "text/plain": [
              "sub-030_task-eyesclosed_channels.tsv:   0%|          | 0.00/284 [00:00<?, ?B/s]"
            ]
          },
          "metadata": {},
          "output_type": "display_data"
        },
        {
          "data": {
            "application/vnd.jupyter.widget-view+json": {
              "model_id": "442ec8b1d85b45f6b8145a42d9e9dc85",
              "version_major": 2,
              "version_minor": 0
            },
            "text/plain": [
              "sub-030_task-eyesclosed_eeg.json:   0%|          | 0.00/868 [00:00<?, ?B/s]"
            ]
          },
          "metadata": {},
          "output_type": "display_data"
        },
        {
          "data": {
            "application/vnd.jupyter.widget-view+json": {
              "model_id": "518df58c496047e79e75e2225fd74e76",
              "version_major": 2,
              "version_minor": 0
            },
            "text/plain": [
              "sub-030_task-eyesclosed_eeg.set:   0%|          | 0.00/21.3M [00:00<?, ?B/s]"
            ]
          },
          "metadata": {},
          "output_type": "display_data"
        },
        {
          "data": {
            "application/vnd.jupyter.widget-view+json": {
              "model_id": "9cd93dc16b12471c857c3d9c46a182b6",
              "version_major": 2,
              "version_minor": 0
            },
            "text/plain": [
              "sub-031_task-eyesclosed_channels.tsv:   0%|          | 0.00/284 [00:00<?, ?B/s]"
            ]
          },
          "metadata": {},
          "output_type": "display_data"
        },
        {
          "data": {
            "application/vnd.jupyter.widget-view+json": {
              "model_id": "b6b9173109a843b89ee3e849f92eec02",
              "version_major": 2,
              "version_minor": 0
            },
            "text/plain": [
              "sub-031_task-eyesclosed_eeg.set:   0%|          | 0.00/44.2M [00:00<?, ?B/s]"
            ]
          },
          "metadata": {},
          "output_type": "display_data"
        },
        {
          "data": {
            "application/vnd.jupyter.widget-view+json": {
              "model_id": "d311b7473b684028af962939e0feece0",
              "version_major": 2,
              "version_minor": 0
            },
            "text/plain": [
              "sub-031_task-eyesclosed_eeg.json:   0%|          | 0.00/869 [00:00<?, ?B/s]"
            ]
          },
          "metadata": {},
          "output_type": "display_data"
        },
        {
          "data": {
            "application/vnd.jupyter.widget-view+json": {
              "model_id": "8dcc68fc46614f3da89fee0fae2c1dc3",
              "version_major": 2,
              "version_minor": 0
            },
            "text/plain": [
              "sub-032_task-eyesclosed_channels.tsv:   0%|          | 0.00/284 [00:00<?, ?B/s]"
            ]
          },
          "metadata": {},
          "output_type": "display_data"
        },
        {
          "data": {
            "application/vnd.jupyter.widget-view+json": {
              "model_id": "0937498ca26c4e26b3d0881685e2e77d",
              "version_major": 2,
              "version_minor": 0
            },
            "text/plain": [
              "sub-032_task-eyesclosed_eeg.json:   0%|          | 0.00/868 [00:00<?, ?B/s]"
            ]
          },
          "metadata": {},
          "output_type": "display_data"
        },
        {
          "data": {
            "application/vnd.jupyter.widget-view+json": {
              "model_id": "074a9e3b5b7344928b7e0bae63311921",
              "version_major": 2,
              "version_minor": 0
            },
            "text/plain": [
              "sub-032_task-eyesclosed_eeg.set:   0%|          | 0.00/32.7M [00:00<?, ?B/s]"
            ]
          },
          "metadata": {},
          "output_type": "display_data"
        },
        {
          "data": {
            "application/vnd.jupyter.widget-view+json": {
              "model_id": "fcc7bcfab95741bfa2ad69ea6ed4dd90",
              "version_major": 2,
              "version_minor": 0
            },
            "text/plain": [
              "sub-033_task-eyesclosed_channels.tsv:   0%|          | 0.00/284 [00:00<?, ?B/s]"
            ]
          },
          "metadata": {},
          "output_type": "display_data"
        },
        {
          "data": {
            "application/vnd.jupyter.widget-view+json": {
              "model_id": "873e4e61fd4749bf820fac975f79b619",
              "version_major": 2,
              "version_minor": 0
            },
            "text/plain": [
              "sub-033_task-eyesclosed_eeg.json:   0%|          | 0.00/868 [00:00<?, ?B/s]"
            ]
          },
          "metadata": {},
          "output_type": "display_data"
        },
        {
          "data": {
            "application/vnd.jupyter.widget-view+json": {
              "model_id": "0ce41426623b417b8ec72f95518892d6",
              "version_major": 2,
              "version_minor": 0
            },
            "text/plain": [
              "sub-033_task-eyesclosed_eeg.set:   0%|          | 0.00/27.0M [00:00<?, ?B/s]"
            ]
          },
          "metadata": {},
          "output_type": "display_data"
        },
        {
          "data": {
            "application/vnd.jupyter.widget-view+json": {
              "model_id": "3877456773d747e885b574acf37c2f3a",
              "version_major": 2,
              "version_minor": 0
            },
            "text/plain": [
              "sub-034_task-eyesclosed_channels.tsv:   0%|          | 0.00/284 [00:00<?, ?B/s]"
            ]
          },
          "metadata": {},
          "output_type": "display_data"
        },
        {
          "data": {
            "application/vnd.jupyter.widget-view+json": {
              "model_id": "4de1ff96cad247bf93e456c0136c30d8",
              "version_major": 2,
              "version_minor": 0
            },
            "text/plain": [
              "sub-034_task-eyesclosed_eeg.set:   0%|          | 0.00/37.1M [00:00<?, ?B/s]"
            ]
          },
          "metadata": {},
          "output_type": "display_data"
        },
        {
          "data": {
            "application/vnd.jupyter.widget-view+json": {
              "model_id": "99cd9eaaf57444ce89df5ef6074daf40",
              "version_major": 2,
              "version_minor": 0
            },
            "text/plain": [
              "sub-034_task-eyesclosed_eeg.json:   0%|          | 0.00/868 [00:00<?, ?B/s]"
            ]
          },
          "metadata": {},
          "output_type": "display_data"
        },
        {
          "data": {
            "application/vnd.jupyter.widget-view+json": {
              "model_id": "482f1f78c81f410fbc920271419166fd",
              "version_major": 2,
              "version_minor": 0
            },
            "text/plain": [
              "sub-035_task-eyesclosed_channels.tsv:   0%|          | 0.00/284 [00:00<?, ?B/s]"
            ]
          },
          "metadata": {},
          "output_type": "display_data"
        },
        {
          "data": {
            "application/vnd.jupyter.widget-view+json": {
              "model_id": "b1e56cbed8da4433954f12eb29b6e116",
              "version_major": 2,
              "version_minor": 0
            },
            "text/plain": [
              "sub-035_task-eyesclosed_eeg.json:   0%|          | 0.00/868 [00:00<?, ?B/s]"
            ]
          },
          "metadata": {},
          "output_type": "display_data"
        },
        {
          "data": {
            "application/vnd.jupyter.widget-view+json": {
              "model_id": "eee27f060ebd4bc9827b292746ebd8ac",
              "version_major": 2,
              "version_minor": 0
            },
            "text/plain": [
              "sub-035_task-eyesclosed_eeg.set:   0%|          | 0.00/28.9M [00:00<?, ?B/s]"
            ]
          },
          "metadata": {},
          "output_type": "display_data"
        },
        {
          "data": {
            "application/vnd.jupyter.widget-view+json": {
              "model_id": "d8cfe2e0903045f7b67e7595bede16f1",
              "version_major": 2,
              "version_minor": 0
            },
            "text/plain": [
              "sub-036_task-eyesclosed_channels.tsv:   0%|          | 0.00/284 [00:00<?, ?B/s]"
            ]
          },
          "metadata": {},
          "output_type": "display_data"
        },
        {
          "data": {
            "application/vnd.jupyter.widget-view+json": {
              "model_id": "f038f6cdce9a4cb9b10feb205b3c8215",
              "version_major": 2,
              "version_minor": 0
            },
            "text/plain": [
              "sub-036_task-eyesclosed_eeg.json:   0%|          | 0.00/868 [00:00<?, ?B/s]"
            ]
          },
          "metadata": {},
          "output_type": "display_data"
        },
        {
          "data": {
            "application/vnd.jupyter.widget-view+json": {
              "model_id": "d7a5adddaa6b4bfc80d09ef06815dfe9",
              "version_major": 2,
              "version_minor": 0
            },
            "text/plain": [
              "sub-036_task-eyesclosed_eeg.set:   0%|          | 0.00/32.6M [00:00<?, ?B/s]"
            ]
          },
          "metadata": {},
          "output_type": "display_data"
        },
        {
          "data": {
            "application/vnd.jupyter.widget-view+json": {
              "model_id": "d419280f01e6461faa3b997499d63832",
              "version_major": 2,
              "version_minor": 0
            },
            "text/plain": [
              "sub-037_task-eyesclosed_channels.tsv:   0%|          | 0.00/284 [00:00<?, ?B/s]"
            ]
          },
          "metadata": {},
          "output_type": "display_data"
        },
        {
          "data": {
            "application/vnd.jupyter.widget-view+json": {
              "model_id": "8e52b17ff0e8424da919d96eba234b62",
              "version_major": 2,
              "version_minor": 0
            },
            "text/plain": [
              "sub-037_task-eyesclosed_eeg.json:   0%|          | 0.00/868 [00:00<?, ?B/s]"
            ]
          },
          "metadata": {},
          "output_type": "display_data"
        },
        {
          "data": {
            "application/vnd.jupyter.widget-view+json": {
              "model_id": "f43c73d545084eba82029d72d2b47ca5",
              "version_major": 2,
              "version_minor": 0
            },
            "text/plain": [
              "sub-037_task-eyesclosed_eeg.set:   0%|          | 0.00/29.7M [00:00<?, ?B/s]"
            ]
          },
          "metadata": {},
          "output_type": "display_data"
        },
        {
          "data": {
            "application/vnd.jupyter.widget-view+json": {
              "model_id": "12782bbb76464390bd24f989c4b642cd",
              "version_major": 2,
              "version_minor": 0
            },
            "text/plain": [
              "sub-038_task-eyesclosed_eeg.json:   0%|          | 0.00/868 [00:00<?, ?B/s]"
            ]
          },
          "metadata": {},
          "output_type": "display_data"
        },
        {
          "data": {
            "application/vnd.jupyter.widget-view+json": {
              "model_id": "81e2272a41044d97865f539cc16168a2",
              "version_major": 2,
              "version_minor": 0
            },
            "text/plain": [
              "sub-038_task-eyesclosed_channels.tsv:   0%|          | 0.00/284 [00:00<?, ?B/s]"
            ]
          },
          "metadata": {},
          "output_type": "display_data"
        },
        {
          "data": {
            "application/vnd.jupyter.widget-view+json": {
              "model_id": "efe52bd24b024ee285681672e7b04379",
              "version_major": 2,
              "version_minor": 0
            },
            "text/plain": [
              "sub-038_task-eyesclosed_eeg.set:   0%|          | 0.00/34.2M [00:00<?, ?B/s]"
            ]
          },
          "metadata": {},
          "output_type": "display_data"
        },
        {
          "data": {
            "application/vnd.jupyter.widget-view+json": {
              "model_id": "5ad16682bf9845b283ae7a91e8f2472e",
              "version_major": 2,
              "version_minor": 0
            },
            "text/plain": [
              "sub-039_task-eyesclosed_channels.tsv:   0%|          | 0.00/284 [00:00<?, ?B/s]"
            ]
          },
          "metadata": {},
          "output_type": "display_data"
        },
        {
          "data": {
            "application/vnd.jupyter.widget-view+json": {
              "model_id": "ef8a2e264ba74f8e944096ea81704677",
              "version_major": 2,
              "version_minor": 0
            },
            "text/plain": [
              "sub-039_task-eyesclosed_eeg.json:   0%|          | 0.00/868 [00:00<?, ?B/s]"
            ]
          },
          "metadata": {},
          "output_type": "display_data"
        },
        {
          "data": {
            "application/vnd.jupyter.widget-view+json": {
              "model_id": "8418a9ab4aa140669fa33f1aa0bcc72b",
              "version_major": 2,
              "version_minor": 0
            },
            "text/plain": [
              "sub-040_task-eyesclosed_channels.tsv:   0%|          | 0.00/284 [00:00<?, ?B/s]"
            ]
          },
          "metadata": {},
          "output_type": "display_data"
        },
        {
          "data": {
            "application/vnd.jupyter.widget-view+json": {
              "model_id": "0edd991a6e5247e5aec9b6e07681844b",
              "version_major": 2,
              "version_minor": 0
            },
            "text/plain": [
              "sub-039_task-eyesclosed_eeg.set:   0%|          | 0.00/32.7M [00:00<?, ?B/s]"
            ]
          },
          "metadata": {},
          "output_type": "display_data"
        },
        {
          "data": {
            "application/vnd.jupyter.widget-view+json": {
              "model_id": "647b5ea7d6604ee98f3cec3b304987cc",
              "version_major": 2,
              "version_minor": 0
            },
            "text/plain": [
              "sub-040_task-eyesclosed_eeg.json:   0%|          | 0.00/869 [00:00<?, ?B/s]"
            ]
          },
          "metadata": {},
          "output_type": "display_data"
        },
        {
          "data": {
            "application/vnd.jupyter.widget-view+json": {
              "model_id": "a5c81290013e40b8a046ab56a0ad539a",
              "version_major": 2,
              "version_minor": 0
            },
            "text/plain": [
              "sub-040_task-eyesclosed_eeg.set:   0%|          | 0.00/38.8M [00:00<?, ?B/s]"
            ]
          },
          "metadata": {},
          "output_type": "display_data"
        },
        {
          "data": {
            "application/vnd.jupyter.widget-view+json": {
              "model_id": "7da0bcc26c1b4b238e9fd0435b3cc624",
              "version_major": 2,
              "version_minor": 0
            },
            "text/plain": [
              "sub-041_task-eyesclosed_channels.tsv:   0%|          | 0.00/284 [00:00<?, ?B/s]"
            ]
          },
          "metadata": {},
          "output_type": "display_data"
        },
        {
          "data": {
            "application/vnd.jupyter.widget-view+json": {
              "model_id": "6697a336acfd4d09a8f3de6f79b0f6f4",
              "version_major": 2,
              "version_minor": 0
            },
            "text/plain": [
              "sub-041_task-eyesclosed_eeg.json:   0%|          | 0.00/868 [00:00<?, ?B/s]"
            ]
          },
          "metadata": {},
          "output_type": "display_data"
        },
        {
          "data": {
            "application/vnd.jupyter.widget-view+json": {
              "model_id": "6c08175c1a2742b285be4a35af3cb85a",
              "version_major": 2,
              "version_minor": 0
            },
            "text/plain": [
              "sub-041_task-eyesclosed_eeg.set:   0%|          | 0.00/33.9M [00:00<?, ?B/s]"
            ]
          },
          "metadata": {},
          "output_type": "display_data"
        },
        {
          "data": {
            "application/vnd.jupyter.widget-view+json": {
              "model_id": "223f4ab463b743feb05f9310e3e796db",
              "version_major": 2,
              "version_minor": 0
            },
            "text/plain": [
              "sub-042_task-eyesclosed_channels.tsv:   0%|          | 0.00/284 [00:00<?, ?B/s]"
            ]
          },
          "metadata": {},
          "output_type": "display_data"
        },
        {
          "data": {
            "application/vnd.jupyter.widget-view+json": {
              "model_id": "9a77ac60a90d497a8f131a0a40d7b4a1",
              "version_major": 2,
              "version_minor": 0
            },
            "text/plain": [
              "sub-042_task-eyesclosed_eeg.json:   0%|          | 0.00/868 [00:00<?, ?B/s]"
            ]
          },
          "metadata": {},
          "output_type": "display_data"
        },
        {
          "data": {
            "application/vnd.jupyter.widget-view+json": {
              "model_id": "1bb90c4511d44435bc97fc1f717b6142",
              "version_major": 2,
              "version_minor": 0
            },
            "text/plain": [
              "sub-043_task-eyesclosed_channels.tsv:   0%|          | 0.00/284 [00:00<?, ?B/s]"
            ]
          },
          "metadata": {},
          "output_type": "display_data"
        },
        {
          "data": {
            "application/vnd.jupyter.widget-view+json": {
              "model_id": "b3da6a5c4c094cd7aa5a9ed5e3dd67dd",
              "version_major": 2,
              "version_minor": 0
            },
            "text/plain": [
              "sub-042_task-eyesclosed_eeg.set:   0%|          | 0.00/37.2M [00:00<?, ?B/s]"
            ]
          },
          "metadata": {},
          "output_type": "display_data"
        },
        {
          "data": {
            "application/vnd.jupyter.widget-view+json": {
              "model_id": "f3b4c6f84c7b466b94ced0c8ef38b6a5",
              "version_major": 2,
              "version_minor": 0
            },
            "text/plain": [
              "sub-043_task-eyesclosed_eeg.json:   0%|          | 0.00/868 [00:00<?, ?B/s]"
            ]
          },
          "metadata": {},
          "output_type": "display_data"
        },
        {
          "data": {
            "application/vnd.jupyter.widget-view+json": {
              "model_id": "57db425f8c7a4cf195e2f97d7422d3eb",
              "version_major": 2,
              "version_minor": 0
            },
            "text/plain": [
              "sub-043_task-eyesclosed_eeg.set:   0%|          | 0.00/31.7M [00:00<?, ?B/s]"
            ]
          },
          "metadata": {},
          "output_type": "display_data"
        },
        {
          "data": {
            "application/vnd.jupyter.widget-view+json": {
              "model_id": "97ef5ca0d49446b08b1e35235953d183",
              "version_major": 2,
              "version_minor": 0
            },
            "text/plain": [
              "sub-044_task-eyesclosed_channels.tsv:   0%|          | 0.00/284 [00:00<?, ?B/s]"
            ]
          },
          "metadata": {},
          "output_type": "display_data"
        },
        {
          "data": {
            "application/vnd.jupyter.widget-view+json": {
              "model_id": "0cdb2b2b37974277bdc19a25eb36b2d7",
              "version_major": 2,
              "version_minor": 0
            },
            "text/plain": [
              "sub-044_task-eyesclosed_eeg.json:   0%|          | 0.00/868 [00:00<?, ?B/s]"
            ]
          },
          "metadata": {},
          "output_type": "display_data"
        },
        {
          "data": {
            "application/vnd.jupyter.widget-view+json": {
              "model_id": "fb5aeb3d48264ca3a8cea801ce762c18",
              "version_major": 2,
              "version_minor": 0
            },
            "text/plain": [
              "sub-044_task-eyesclosed_eeg.set:   0%|          | 0.00/33.7M [00:00<?, ?B/s]"
            ]
          },
          "metadata": {},
          "output_type": "display_data"
        },
        {
          "data": {
            "application/vnd.jupyter.widget-view+json": {
              "model_id": "fb420c2bc223409588e2e486abf413b8",
              "version_major": 2,
              "version_minor": 0
            },
            "text/plain": [
              "sub-045_task-eyesclosed_channels.tsv:   0%|          | 0.00/284 [00:00<?, ?B/s]"
            ]
          },
          "metadata": {},
          "output_type": "display_data"
        },
        {
          "data": {
            "application/vnd.jupyter.widget-view+json": {
              "model_id": "3833a037042741fda2e554be128283c7",
              "version_major": 2,
              "version_minor": 0
            },
            "text/plain": [
              "sub-045_task-eyesclosed_eeg.json:   0%|          | 0.00/868 [00:00<?, ?B/s]"
            ]
          },
          "metadata": {},
          "output_type": "display_data"
        },
        {
          "data": {
            "application/vnd.jupyter.widget-view+json": {
              "model_id": "9a3b708399d34b398490693b0f669283",
              "version_major": 2,
              "version_minor": 0
            },
            "text/plain": [
              "sub-045_task-eyesclosed_eeg.set:   0%|          | 0.00/33.0M [00:00<?, ?B/s]"
            ]
          },
          "metadata": {},
          "output_type": "display_data"
        },
        {
          "data": {
            "application/vnd.jupyter.widget-view+json": {
              "model_id": "725032c5246a4c9ab26e713b6da7c741",
              "version_major": 2,
              "version_minor": 0
            },
            "text/plain": [
              "sub-046_task-eyesclosed_channels.tsv:   0%|          | 0.00/284 [00:00<?, ?B/s]"
            ]
          },
          "metadata": {},
          "output_type": "display_data"
        },
        {
          "data": {
            "application/vnd.jupyter.widget-view+json": {
              "model_id": "b498b486570d420dae1469a17055b38a",
              "version_major": 2,
              "version_minor": 0
            },
            "text/plain": [
              "sub-046_task-eyesclosed_eeg.json:   0%|          | 0.00/868 [00:00<?, ?B/s]"
            ]
          },
          "metadata": {},
          "output_type": "display_data"
        },
        {
          "data": {
            "application/vnd.jupyter.widget-view+json": {
              "model_id": "123c450709804ff0b68c4d5d0daba71e",
              "version_major": 2,
              "version_minor": 0
            },
            "text/plain": [
              "sub-046_task-eyesclosed_eeg.set:   0%|          | 0.00/29.0M [00:00<?, ?B/s]"
            ]
          },
          "metadata": {},
          "output_type": "display_data"
        },
        {
          "data": {
            "application/vnd.jupyter.widget-view+json": {
              "model_id": "47a7ea2e098844e3984dfa98385d4535",
              "version_major": 2,
              "version_minor": 0
            },
            "text/plain": [
              "sub-047_task-eyesclosed_channels.tsv:   0%|          | 0.00/284 [00:00<?, ?B/s]"
            ]
          },
          "metadata": {},
          "output_type": "display_data"
        },
        {
          "data": {
            "application/vnd.jupyter.widget-view+json": {
              "model_id": "4e9369b0640541f9a4e7c01c4ad666d2",
              "version_major": 2,
              "version_minor": 0
            },
            "text/plain": [
              "sub-047_task-eyesclosed_eeg.json:   0%|          | 0.00/866 [00:00<?, ?B/s]"
            ]
          },
          "metadata": {},
          "output_type": "display_data"
        },
        {
          "data": {
            "application/vnd.jupyter.widget-view+json": {
              "model_id": "b18ac233c055421ca7b8bcc661176a36",
              "version_major": 2,
              "version_minor": 0
            },
            "text/plain": [
              "sub-047_task-eyesclosed_eeg.set:   0%|          | 0.00/30.9M [00:00<?, ?B/s]"
            ]
          },
          "metadata": {},
          "output_type": "display_data"
        },
        {
          "data": {
            "application/vnd.jupyter.widget-view+json": {
              "model_id": "02d42285029d4123835de47d4c06fb59",
              "version_major": 2,
              "version_minor": 0
            },
            "text/plain": [
              "sub-048_task-eyesclosed_channels.tsv:   0%|          | 0.00/284 [00:00<?, ?B/s]"
            ]
          },
          "metadata": {},
          "output_type": "display_data"
        },
        {
          "data": {
            "application/vnd.jupyter.widget-view+json": {
              "model_id": "8c39bba7c9f8437d8f0ba2c1b8a9b31a",
              "version_major": 2,
              "version_minor": 0
            },
            "text/plain": [
              "sub-048_task-eyesclosed_eeg.json:   0%|          | 0.00/869 [00:00<?, ?B/s]"
            ]
          },
          "metadata": {},
          "output_type": "display_data"
        },
        {
          "data": {
            "application/vnd.jupyter.widget-view+json": {
              "model_id": "4106f9d3359b480794132ccbd331ab66",
              "version_major": 2,
              "version_minor": 0
            },
            "text/plain": [
              "sub-049_task-eyesclosed_channels.tsv:   0%|          | 0.00/284 [00:00<?, ?B/s]"
            ]
          },
          "metadata": {},
          "output_type": "display_data"
        },
        {
          "data": {
            "application/vnd.jupyter.widget-view+json": {
              "model_id": "9b7d8ab2193f44e5888bdc80c549b4ca",
              "version_major": 2,
              "version_minor": 0
            },
            "text/plain": [
              "sub-048_task-eyesclosed_eeg.set:   0%|          | 0.00/38.7M [00:00<?, ?B/s]"
            ]
          },
          "metadata": {},
          "output_type": "display_data"
        },
        {
          "data": {
            "application/vnd.jupyter.widget-view+json": {
              "model_id": "5306492b432b473fab7751d7fe6e3a42",
              "version_major": 2,
              "version_minor": 0
            },
            "text/plain": [
              "sub-049_task-eyesclosed_eeg.json:   0%|          | 0.00/868 [00:00<?, ?B/s]"
            ]
          },
          "metadata": {},
          "output_type": "display_data"
        },
        {
          "data": {
            "application/vnd.jupyter.widget-view+json": {
              "model_id": "233a2b6886394ac9b0b335089e5b8515",
              "version_major": 2,
              "version_minor": 0
            },
            "text/plain": [
              "sub-049_task-eyesclosed_eeg.set:   0%|          | 0.00/30.0M [00:00<?, ?B/s]"
            ]
          },
          "metadata": {},
          "output_type": "display_data"
        },
        {
          "data": {
            "application/vnd.jupyter.widget-view+json": {
              "model_id": "471c02b3c02b4b5dbc061fa803ac46d8",
              "version_major": 2,
              "version_minor": 0
            },
            "text/plain": [
              "sub-050_task-eyesclosed_channels.tsv:   0%|          | 0.00/284 [00:00<?, ?B/s]"
            ]
          },
          "metadata": {},
          "output_type": "display_data"
        },
        {
          "data": {
            "application/vnd.jupyter.widget-view+json": {
              "model_id": "d6033cfbd7d94cf48a2a63268a8baa0d",
              "version_major": 2,
              "version_minor": 0
            },
            "text/plain": [
              "sub-050_task-eyesclosed_eeg.json:   0%|          | 0.00/868 [00:00<?, ?B/s]"
            ]
          },
          "metadata": {},
          "output_type": "display_data"
        },
        {
          "data": {
            "application/vnd.jupyter.widget-view+json": {
              "model_id": "972e094688f34e8bab98a481244f233b",
              "version_major": 2,
              "version_minor": 0
            },
            "text/plain": [
              "sub-050_task-eyesclosed_eeg.set:   0%|          | 0.00/31.6M [00:00<?, ?B/s]"
            ]
          },
          "metadata": {},
          "output_type": "display_data"
        },
        {
          "data": {
            "application/vnd.jupyter.widget-view+json": {
              "model_id": "a197bafec16244caa2e7524cab107fe1",
              "version_major": 2,
              "version_minor": 0
            },
            "text/plain": [
              "sub-051_task-eyesclosed_channels.tsv:   0%|          | 0.00/284 [00:00<?, ?B/s]"
            ]
          },
          "metadata": {},
          "output_type": "display_data"
        },
        {
          "data": {
            "application/vnd.jupyter.widget-view+json": {
              "model_id": "8dfc767973bb410f943674f33d8a1a47",
              "version_major": 2,
              "version_minor": 0
            },
            "text/plain": [
              "sub-051_task-eyesclosed_eeg.json:   0%|          | 0.00/868 [00:00<?, ?B/s]"
            ]
          },
          "metadata": {},
          "output_type": "display_data"
        },
        {
          "data": {
            "application/vnd.jupyter.widget-view+json": {
              "model_id": "dbba85625c714a9a9d88e3e4a5103afb",
              "version_major": 2,
              "version_minor": 0
            },
            "text/plain": [
              "sub-051_task-eyesclosed_eeg.set:   0%|          | 0.00/30.1M [00:00<?, ?B/s]"
            ]
          },
          "metadata": {},
          "output_type": "display_data"
        },
        {
          "data": {
            "application/vnd.jupyter.widget-view+json": {
              "model_id": "c9f4c34fadcf4cf68aac67d0717a237b",
              "version_major": 2,
              "version_minor": 0
            },
            "text/plain": [
              "sub-052_task-eyesclosed_channels.tsv:   0%|          | 0.00/284 [00:00<?, ?B/s]"
            ]
          },
          "metadata": {},
          "output_type": "display_data"
        },
        {
          "data": {
            "application/vnd.jupyter.widget-view+json": {
              "model_id": "1a0a7af6aaf949c5bebb26d4304391d9",
              "version_major": 2,
              "version_minor": 0
            },
            "text/plain": [
              "sub-052_task-eyesclosed_eeg.json:   0%|          | 0.00/868 [00:00<?, ?B/s]"
            ]
          },
          "metadata": {},
          "output_type": "display_data"
        },
        {
          "data": {
            "application/vnd.jupyter.widget-view+json": {
              "model_id": "0db4f525c42e4aa58a68130235ac03bb",
              "version_major": 2,
              "version_minor": 0
            },
            "text/plain": [
              "sub-053_task-eyesclosed_channels.tsv:   0%|          | 0.00/284 [00:00<?, ?B/s]"
            ]
          },
          "metadata": {},
          "output_type": "display_data"
        },
        {
          "data": {
            "application/vnd.jupyter.widget-view+json": {
              "model_id": "d464d10b8cfa4bbdaec295482dc081d5",
              "version_major": 2,
              "version_minor": 0
            },
            "text/plain": [
              "sub-052_task-eyesclosed_eeg.set:   0%|          | 0.00/29.1M [00:00<?, ?B/s]"
            ]
          },
          "metadata": {},
          "output_type": "display_data"
        },
        {
          "data": {
            "application/vnd.jupyter.widget-view+json": {
              "model_id": "e7d23588745043d78f40e263434213ac",
              "version_major": 2,
              "version_minor": 0
            },
            "text/plain": [
              "sub-053_task-eyesclosed_eeg.json:   0%|          | 0.00/868 [00:00<?, ?B/s]"
            ]
          },
          "metadata": {},
          "output_type": "display_data"
        },
        {
          "data": {
            "application/vnd.jupyter.widget-view+json": {
              "model_id": "bea399edec8741d3a3b804de22d4eed4",
              "version_major": 2,
              "version_minor": 0
            },
            "text/plain": [
              "sub-053_task-eyesclosed_eeg.set:   0%|          | 0.00/30.5M [00:00<?, ?B/s]"
            ]
          },
          "metadata": {},
          "output_type": "display_data"
        },
        {
          "data": {
            "application/vnd.jupyter.widget-view+json": {
              "model_id": "b995e9ebd237439fa7dc162d449657fd",
              "version_major": 2,
              "version_minor": 0
            },
            "text/plain": [
              "sub-054_task-eyesclosed_channels.tsv:   0%|          | 0.00/284 [00:00<?, ?B/s]"
            ]
          },
          "metadata": {},
          "output_type": "display_data"
        },
        {
          "data": {
            "application/vnd.jupyter.widget-view+json": {
              "model_id": "f8e4bacefd1243f1b265522f93344e80",
              "version_major": 2,
              "version_minor": 0
            },
            "text/plain": [
              "sub-054_task-eyesclosed_eeg.json:   0%|          | 0.00/868 [00:00<?, ?B/s]"
            ]
          },
          "metadata": {},
          "output_type": "display_data"
        },
        {
          "data": {
            "application/vnd.jupyter.widget-view+json": {
              "model_id": "17879b831c494ccb9a982f592c8eade2",
              "version_major": 2,
              "version_minor": 0
            },
            "text/plain": [
              "sub-054_task-eyesclosed_eeg.set:   0%|          | 0.00/32.2M [00:00<?, ?B/s]"
            ]
          },
          "metadata": {},
          "output_type": "display_data"
        },
        {
          "data": {
            "application/vnd.jupyter.widget-view+json": {
              "model_id": "26050fdf1bcc46afb963d852b65faf98",
              "version_major": 2,
              "version_minor": 0
            },
            "text/plain": [
              "sub-055_task-eyesclosed_channels.tsv:   0%|          | 0.00/284 [00:00<?, ?B/s]"
            ]
          },
          "metadata": {},
          "output_type": "display_data"
        },
        {
          "data": {
            "application/vnd.jupyter.widget-view+json": {
              "model_id": "21c1b286e9f04543ae8386fe6bb49bb1",
              "version_major": 2,
              "version_minor": 0
            },
            "text/plain": [
              "sub-055_task-eyesclosed_eeg.json:   0%|          | 0.00/866 [00:00<?, ?B/s]"
            ]
          },
          "metadata": {},
          "output_type": "display_data"
        },
        {
          "data": {
            "application/vnd.jupyter.widget-view+json": {
              "model_id": "04ea8c22a1f14a5fb0a91dacc0c65cbd",
              "version_major": 2,
              "version_minor": 0
            },
            "text/plain": [
              "sub-055_task-eyesclosed_eeg.set:   0%|          | 0.00/31.5M [00:00<?, ?B/s]"
            ]
          },
          "metadata": {},
          "output_type": "display_data"
        },
        {
          "data": {
            "application/vnd.jupyter.widget-view+json": {
              "model_id": "b111cdbe12de4a7cae4dcff2a8c53faa",
              "version_major": 2,
              "version_minor": 0
            },
            "text/plain": [
              "sub-056_task-eyesclosed_eeg.json:   0%|          | 0.00/868 [00:00<?, ?B/s]"
            ]
          },
          "metadata": {},
          "output_type": "display_data"
        },
        {
          "data": {
            "application/vnd.jupyter.widget-view+json": {
              "model_id": "368adef5d9cc4fe5ab4dc2a2957b116c",
              "version_major": 2,
              "version_minor": 0
            },
            "text/plain": [
              "sub-056_task-eyesclosed_channels.tsv:   0%|          | 0.00/284 [00:00<?, ?B/s]"
            ]
          },
          "metadata": {},
          "output_type": "display_data"
        },
        {
          "data": {
            "application/vnd.jupyter.widget-view+json": {
              "model_id": "5cb22058ac444be5aed4c8c9a864c723",
              "version_major": 2,
              "version_minor": 0
            },
            "text/plain": [
              "sub-056_task-eyesclosed_eeg.set:   0%|          | 0.00/33.8M [00:00<?, ?B/s]"
            ]
          },
          "metadata": {},
          "output_type": "display_data"
        },
        {
          "data": {
            "application/vnd.jupyter.widget-view+json": {
              "model_id": "6e3dbf17216a4411b8f148b668aa0f97",
              "version_major": 2,
              "version_minor": 0
            },
            "text/plain": [
              "sub-057_task-eyesclosed_channels.tsv:   0%|          | 0.00/284 [00:00<?, ?B/s]"
            ]
          },
          "metadata": {},
          "output_type": "display_data"
        },
        {
          "data": {
            "application/vnd.jupyter.widget-view+json": {
              "model_id": "6693011d7a614a9388047c334c8274e1",
              "version_major": 2,
              "version_minor": 0
            },
            "text/plain": [
              "sub-057_task-eyesclosed_eeg.json:   0%|          | 0.00/868 [00:00<?, ?B/s]"
            ]
          },
          "metadata": {},
          "output_type": "display_data"
        },
        {
          "data": {
            "application/vnd.jupyter.widget-view+json": {
              "model_id": "29b8ce9a88e8431c9b0b6d23f28855d3",
              "version_major": 2,
              "version_minor": 0
            },
            "text/plain": [
              "sub-058_task-eyesclosed_channels.tsv:   0%|          | 0.00/284 [00:00<?, ?B/s]"
            ]
          },
          "metadata": {},
          "output_type": "display_data"
        },
        {
          "data": {
            "application/vnd.jupyter.widget-view+json": {
              "model_id": "916521ad80e347e9ab5e30b6d90eddde",
              "version_major": 2,
              "version_minor": 0
            },
            "text/plain": [
              "sub-057_task-eyesclosed_eeg.set:   0%|          | 0.00/30.4M [00:00<?, ?B/s]"
            ]
          },
          "metadata": {},
          "output_type": "display_data"
        },
        {
          "data": {
            "application/vnd.jupyter.widget-view+json": {
              "model_id": "4e994f2a7bcf44aa8c62c5aeccc75e13",
              "version_major": 2,
              "version_minor": 0
            },
            "text/plain": [
              "sub-058_task-eyesclosed_eeg.json:   0%|          | 0.00/868 [00:00<?, ?B/s]"
            ]
          },
          "metadata": {},
          "output_type": "display_data"
        },
        {
          "data": {
            "application/vnd.jupyter.widget-view+json": {
              "model_id": "cb7adb89f5f04697b69f0b94d47f6a42",
              "version_major": 2,
              "version_minor": 0
            },
            "text/plain": [
              "sub-058_task-eyesclosed_eeg.set:   0%|          | 0.00/29.1M [00:00<?, ?B/s]"
            ]
          },
          "metadata": {},
          "output_type": "display_data"
        },
        {
          "data": {
            "application/vnd.jupyter.widget-view+json": {
              "model_id": "eca5b00f105343b894ce42f26572fa12",
              "version_major": 2,
              "version_minor": 0
            },
            "text/plain": [
              "sub-059_task-eyesclosed_channels.tsv:   0%|          | 0.00/284 [00:00<?, ?B/s]"
            ]
          },
          "metadata": {},
          "output_type": "display_data"
        },
        {
          "data": {
            "application/vnd.jupyter.widget-view+json": {
              "model_id": "0b048bd786f8403b80443cf64673f83a",
              "version_major": 2,
              "version_minor": 0
            },
            "text/plain": [
              "sub-059_task-eyesclosed_eeg.json:   0%|          | 0.00/868 [00:00<?, ?B/s]"
            ]
          },
          "metadata": {},
          "output_type": "display_data"
        },
        {
          "data": {
            "application/vnd.jupyter.widget-view+json": {
              "model_id": "1c4afed3bc1d4916ad89ed2f3aba3427",
              "version_major": 2,
              "version_minor": 0
            },
            "text/plain": [
              "sub-059_task-eyesclosed_eeg.set:   0%|          | 0.00/30.2M [00:00<?, ?B/s]"
            ]
          },
          "metadata": {},
          "output_type": "display_data"
        },
        {
          "data": {
            "application/vnd.jupyter.widget-view+json": {
              "model_id": "167a7451c2da443ab2b1b38519e5beba",
              "version_major": 2,
              "version_minor": 0
            },
            "text/plain": [
              "sub-060_task-eyesclosed_channels.tsv:   0%|          | 0.00/284 [00:00<?, ?B/s]"
            ]
          },
          "metadata": {},
          "output_type": "display_data"
        },
        {
          "data": {
            "application/vnd.jupyter.widget-view+json": {
              "model_id": "cd15bff7cf814199899a244e022146a4",
              "version_major": 2,
              "version_minor": 0
            },
            "text/plain": [
              "sub-060_task-eyesclosed_eeg.json:   0%|          | 0.00/868 [00:00<?, ?B/s]"
            ]
          },
          "metadata": {},
          "output_type": "display_data"
        },
        {
          "data": {
            "application/vnd.jupyter.widget-view+json": {
              "model_id": "15ee549d6ea94301800f71fbe5ef4c67",
              "version_major": 2,
              "version_minor": 0
            },
            "text/plain": [
              "sub-060_task-eyesclosed_eeg.set:   0%|          | 0.00/28.7M [00:00<?, ?B/s]"
            ]
          },
          "metadata": {},
          "output_type": "display_data"
        },
        {
          "data": {
            "application/vnd.jupyter.widget-view+json": {
              "model_id": "d77ea865c8ae44e7ae3fd4ee512edff5",
              "version_major": 2,
              "version_minor": 0
            },
            "text/plain": [
              "sub-061_task-eyesclosed_channels.tsv:   0%|          | 0.00/284 [00:00<?, ?B/s]"
            ]
          },
          "metadata": {},
          "output_type": "display_data"
        },
        {
          "data": {
            "application/vnd.jupyter.widget-view+json": {
              "model_id": "5aa3c872de06476bae6360acacd92672",
              "version_major": 2,
              "version_minor": 0
            },
            "text/plain": [
              "sub-061_task-eyesclosed_eeg.set:   0%|          | 0.00/30.8M [00:00<?, ?B/s]"
            ]
          },
          "metadata": {},
          "output_type": "display_data"
        },
        {
          "data": {
            "application/vnd.jupyter.widget-view+json": {
              "model_id": "5ce95aa83e3e4d2585838333aed31d9a",
              "version_major": 2,
              "version_minor": 0
            },
            "text/plain": [
              "sub-061_task-eyesclosed_eeg.json:   0%|          | 0.00/868 [00:00<?, ?B/s]"
            ]
          },
          "metadata": {},
          "output_type": "display_data"
        },
        {
          "data": {
            "application/vnd.jupyter.widget-view+json": {
              "model_id": "00e9d72c90b74145927ccb0973fc4f33",
              "version_major": 2,
              "version_minor": 0
            },
            "text/plain": [
              "sub-062_task-eyesclosed_channels.tsv:   0%|          | 0.00/284 [00:00<?, ?B/s]"
            ]
          },
          "metadata": {},
          "output_type": "display_data"
        },
        {
          "data": {
            "application/vnd.jupyter.widget-view+json": {
              "model_id": "333c4c8aee634ee08568c22feb3ebfc7",
              "version_major": 2,
              "version_minor": 0
            },
            "text/plain": [
              "sub-062_task-eyesclosed_eeg.json:   0%|          | 0.00/868 [00:00<?, ?B/s]"
            ]
          },
          "metadata": {},
          "output_type": "display_data"
        },
        {
          "data": {
            "application/vnd.jupyter.widget-view+json": {
              "model_id": "81e7f5be580643efac1dcfecb75a338e",
              "version_major": 2,
              "version_minor": 0
            },
            "text/plain": [
              "sub-063_task-eyesclosed_channels.tsv:   0%|          | 0.00/284 [00:00<?, ?B/s]"
            ]
          },
          "metadata": {},
          "output_type": "display_data"
        },
        {
          "data": {
            "application/vnd.jupyter.widget-view+json": {
              "model_id": "3123ac06a6684c05b372f6b977b7f682",
              "version_major": 2,
              "version_minor": 0
            },
            "text/plain": [
              "sub-062_task-eyesclosed_eeg.set:   0%|          | 0.00/34.8M [00:00<?, ?B/s]"
            ]
          },
          "metadata": {},
          "output_type": "display_data"
        },
        {
          "data": {
            "application/vnd.jupyter.widget-view+json": {
              "model_id": "d3cff730a6b44c73b3c005cb821a0eca",
              "version_major": 2,
              "version_minor": 0
            },
            "text/plain": [
              "sub-063_task-eyesclosed_eeg.json:   0%|          | 0.00/868 [00:00<?, ?B/s]"
            ]
          },
          "metadata": {},
          "output_type": "display_data"
        },
        {
          "data": {
            "application/vnd.jupyter.widget-view+json": {
              "model_id": "9547717cd11f49c68226767da7916e88",
              "version_major": 2,
              "version_minor": 0
            },
            "text/plain": [
              "sub-063_task-eyesclosed_eeg.set:   0%|          | 0.00/30.9M [00:00<?, ?B/s]"
            ]
          },
          "metadata": {},
          "output_type": "display_data"
        },
        {
          "data": {
            "application/vnd.jupyter.widget-view+json": {
              "model_id": "27bfed0d92c34808921581d2fed20ba1",
              "version_major": 2,
              "version_minor": 0
            },
            "text/plain": [
              "sub-064_task-eyesclosed_channels.tsv:   0%|          | 0.00/284 [00:00<?, ?B/s]"
            ]
          },
          "metadata": {},
          "output_type": "display_data"
        },
        {
          "data": {
            "application/vnd.jupyter.widget-view+json": {
              "model_id": "b99053ed9ff449cfb6677da6e7097ac7",
              "version_major": 2,
              "version_minor": 0
            },
            "text/plain": [
              "sub-064_task-eyesclosed_eeg.json:   0%|          | 0.00/868 [00:00<?, ?B/s]"
            ]
          },
          "metadata": {},
          "output_type": "display_data"
        },
        {
          "data": {
            "application/vnd.jupyter.widget-view+json": {
              "model_id": "a1bb0b055de4427797251b3c6d79a9e1",
              "version_major": 2,
              "version_minor": 0
            },
            "text/plain": [
              "sub-064_task-eyesclosed_eeg.set:   0%|          | 0.00/32.4M [00:00<?, ?B/s]"
            ]
          },
          "metadata": {},
          "output_type": "display_data"
        },
        {
          "data": {
            "application/vnd.jupyter.widget-view+json": {
              "model_id": "1462b2be9b3549ab814e706f4ac9503e",
              "version_major": 2,
              "version_minor": 0
            },
            "text/plain": [
              "sub-065_task-eyesclosed_channels.tsv:   0%|          | 0.00/284 [00:00<?, ?B/s]"
            ]
          },
          "metadata": {},
          "output_type": "display_data"
        },
        {
          "data": {
            "application/vnd.jupyter.widget-view+json": {
              "model_id": "02606f54c8974f12ba27cb8004ddf457",
              "version_major": 2,
              "version_minor": 0
            },
            "text/plain": [
              "sub-065_task-eyesclosed_eeg.json:   0%|          | 0.00/868 [00:00<?, ?B/s]"
            ]
          },
          "metadata": {},
          "output_type": "display_data"
        },
        {
          "data": {
            "application/vnd.jupyter.widget-view+json": {
              "model_id": "e841ee72f81243a68d9e24170aa495b3",
              "version_major": 2,
              "version_minor": 0
            },
            "text/plain": [
              "sub-065_task-eyesclosed_eeg.set:   0%|          | 0.00/33.8M [00:00<?, ?B/s]"
            ]
          },
          "metadata": {},
          "output_type": "display_data"
        },
        {
          "data": {
            "application/vnd.jupyter.widget-view+json": {
              "model_id": "8463f385f2ca44cd811a9a1912990bc0",
              "version_major": 2,
              "version_minor": 0
            },
            "text/plain": [
              "sub-066_task-eyesclosed_channels.tsv:   0%|          | 0.00/284 [00:00<?, ?B/s]"
            ]
          },
          "metadata": {},
          "output_type": "display_data"
        },
        {
          "data": {
            "application/vnd.jupyter.widget-view+json": {
              "model_id": "89f8ff40bc314ec884d7418c58ee4490",
              "version_major": 2,
              "version_minor": 0
            },
            "text/plain": [
              "sub-066_task-eyesclosed_eeg.set:   0%|          | 0.00/21.1M [00:00<?, ?B/s]"
            ]
          },
          "metadata": {},
          "output_type": "display_data"
        },
        {
          "data": {
            "application/vnd.jupyter.widget-view+json": {
              "model_id": "a7686bb104824ca08ba45de23b5d3521",
              "version_major": 2,
              "version_minor": 0
            },
            "text/plain": [
              "sub-066_task-eyesclosed_eeg.json:   0%|          | 0.00/868 [00:00<?, ?B/s]"
            ]
          },
          "metadata": {},
          "output_type": "display_data"
        },
        {
          "data": {
            "application/vnd.jupyter.widget-view+json": {
              "model_id": "64958a035ec841c3ad96f030c55d770c",
              "version_major": 2,
              "version_minor": 0
            },
            "text/plain": [
              "sub-067_task-eyesclosed_channels.tsv:   0%|          | 0.00/284 [00:00<?, ?B/s]"
            ]
          },
          "metadata": {},
          "output_type": "display_data"
        },
        {
          "data": {
            "application/vnd.jupyter.widget-view+json": {
              "model_id": "0156b80b6af443a684c2ba326c569c44",
              "version_major": 2,
              "version_minor": 0
            },
            "text/plain": [
              "sub-067_task-eyesclosed_eeg.json:   0%|          | 0.00/868 [00:00<?, ?B/s]"
            ]
          },
          "metadata": {},
          "output_type": "display_data"
        },
        {
          "data": {
            "application/vnd.jupyter.widget-view+json": {
              "model_id": "7effd14bd3b2494db46f1decfe89c32f",
              "version_major": 2,
              "version_minor": 0
            },
            "text/plain": [
              "sub-067_task-eyesclosed_eeg.set:   0%|          | 0.00/24.6M [00:00<?, ?B/s]"
            ]
          },
          "metadata": {},
          "output_type": "display_data"
        },
        {
          "data": {
            "application/vnd.jupyter.widget-view+json": {
              "model_id": "2aaa310b5a9e4054b90c2071aa5424a7",
              "version_major": 2,
              "version_minor": 0
            },
            "text/plain": [
              "sub-068_task-eyesclosed_channels.tsv:   0%|          | 0.00/284 [00:00<?, ?B/s]"
            ]
          },
          "metadata": {},
          "output_type": "display_data"
        },
        {
          "data": {
            "application/vnd.jupyter.widget-view+json": {
              "model_id": "54093c2f0ac840ee954708c12b113273",
              "version_major": 2,
              "version_minor": 0
            },
            "text/plain": [
              "sub-068_task-eyesclosed_eeg.json:   0%|          | 0.00/868 [00:00<?, ?B/s]"
            ]
          },
          "metadata": {},
          "output_type": "display_data"
        },
        {
          "data": {
            "application/vnd.jupyter.widget-view+json": {
              "model_id": "352235b7fde645fabebeef433f93799d",
              "version_major": 2,
              "version_minor": 0
            },
            "text/plain": [
              "sub-068_task-eyesclosed_eeg.set:   0%|          | 0.00/21.9M [00:00<?, ?B/s]"
            ]
          },
          "metadata": {},
          "output_type": "display_data"
        },
        {
          "data": {
            "application/vnd.jupyter.widget-view+json": {
              "model_id": "3592c053c65d49c8a30750cc82b596ae",
              "version_major": 2,
              "version_minor": 0
            },
            "text/plain": [
              "sub-069_task-eyesclosed_channels.tsv:   0%|          | 0.00/284 [00:00<?, ?B/s]"
            ]
          },
          "metadata": {},
          "output_type": "display_data"
        },
        {
          "data": {
            "application/vnd.jupyter.widget-view+json": {
              "model_id": "18909567c69c4bcfb73b1582aa7e1fc2",
              "version_major": 2,
              "version_minor": 0
            },
            "text/plain": [
              "sub-069_task-eyesclosed_eeg.json:   0%|          | 0.00/868 [00:00<?, ?B/s]"
            ]
          },
          "metadata": {},
          "output_type": "display_data"
        },
        {
          "data": {
            "application/vnd.jupyter.widget-view+json": {
              "model_id": "d86c871e6d824b8e8dee91872767108c",
              "version_major": 2,
              "version_minor": 0
            },
            "text/plain": [
              "sub-070_task-eyesclosed_channels.tsv:   0%|          | 0.00/284 [00:00<?, ?B/s]"
            ]
          },
          "metadata": {},
          "output_type": "display_data"
        },
        {
          "data": {
            "application/vnd.jupyter.widget-view+json": {
              "model_id": "650105abde7a4247847d23e1939ccbae",
              "version_major": 2,
              "version_minor": 0
            },
            "text/plain": [
              "sub-069_task-eyesclosed_eeg.set:   0%|          | 0.00/24.3M [00:00<?, ?B/s]"
            ]
          },
          "metadata": {},
          "output_type": "display_data"
        },
        {
          "data": {
            "application/vnd.jupyter.widget-view+json": {
              "model_id": "09fd991b8a974f01ab42b1e8dd004da9",
              "version_major": 2,
              "version_minor": 0
            },
            "text/plain": [
              "sub-070_task-eyesclosed_eeg.json:   0%|          | 0.00/868 [00:00<?, ?B/s]"
            ]
          },
          "metadata": {},
          "output_type": "display_data"
        },
        {
          "data": {
            "application/vnd.jupyter.widget-view+json": {
              "model_id": "e3a5fa89f62e414d96aa9a723b94d06d",
              "version_major": 2,
              "version_minor": 0
            },
            "text/plain": [
              "sub-070_task-eyesclosed_eeg.set:   0%|          | 0.00/18.3M [00:00<?, ?B/s]"
            ]
          },
          "metadata": {},
          "output_type": "display_data"
        },
        {
          "data": {
            "application/vnd.jupyter.widget-view+json": {
              "model_id": "8b3b68316f664c909a3c5a36fd1cd010",
              "version_major": 2,
              "version_minor": 0
            },
            "text/plain": [
              "sub-071_task-eyesclosed_channels.tsv:   0%|          | 0.00/284 [00:00<?, ?B/s]"
            ]
          },
          "metadata": {},
          "output_type": "display_data"
        },
        {
          "data": {
            "application/vnd.jupyter.widget-view+json": {
              "model_id": "d019a0bf5b5f476a9079a9a0f4cc8eb8",
              "version_major": 2,
              "version_minor": 0
            },
            "text/plain": [
              "sub-071_task-eyesclosed_eeg.json:   0%|          | 0.00/868 [00:00<?, ?B/s]"
            ]
          },
          "metadata": {},
          "output_type": "display_data"
        },
        {
          "data": {
            "application/vnd.jupyter.widget-view+json": {
              "model_id": "794444461f174769bb956ffcfc9e24e5",
              "version_major": 2,
              "version_minor": 0
            },
            "text/plain": [
              "sub-072_task-eyesclosed_channels.tsv:   0%|          | 0.00/284 [00:00<?, ?B/s]"
            ]
          },
          "metadata": {},
          "output_type": "display_data"
        },
        {
          "data": {
            "application/vnd.jupyter.widget-view+json": {
              "model_id": "91829ed5e1e54be4ad4b94c6e2cbdb3a",
              "version_major": 2,
              "version_minor": 0
            },
            "text/plain": [
              "sub-071_task-eyesclosed_eeg.set:   0%|          | 0.00/23.8M [00:00<?, ?B/s]"
            ]
          },
          "metadata": {},
          "output_type": "display_data"
        },
        {
          "data": {
            "application/vnd.jupyter.widget-view+json": {
              "model_id": "93fe1ad5231245d2b7fa55196a410203",
              "version_major": 2,
              "version_minor": 0
            },
            "text/plain": [
              "sub-072_task-eyesclosed_eeg.json:   0%|          | 0.00/868 [00:00<?, ?B/s]"
            ]
          },
          "metadata": {},
          "output_type": "display_data"
        },
        {
          "data": {
            "application/vnd.jupyter.widget-view+json": {
              "model_id": "295cc9b54ec84c5eaa882da1815369cb",
              "version_major": 2,
              "version_minor": 0
            },
            "text/plain": [
              "sub-072_task-eyesclosed_eeg.set:   0%|          | 0.00/25.3M [00:00<?, ?B/s]"
            ]
          },
          "metadata": {},
          "output_type": "display_data"
        },
        {
          "data": {
            "application/vnd.jupyter.widget-view+json": {
              "model_id": "87ea4bb082a64b279f72d6b82c74dd97",
              "version_major": 2,
              "version_minor": 0
            },
            "text/plain": [
              "sub-073_task-eyesclosed_eeg.json:   0%|          | 0.00/868 [00:00<?, ?B/s]"
            ]
          },
          "metadata": {},
          "output_type": "display_data"
        },
        {
          "data": {
            "application/vnd.jupyter.widget-view+json": {
              "model_id": "c9d6cf6dbda34083a382043490b1dcc8",
              "version_major": 2,
              "version_minor": 0
            },
            "text/plain": [
              "sub-073_task-eyesclosed_channels.tsv:   0%|          | 0.00/284 [00:00<?, ?B/s]"
            ]
          },
          "metadata": {},
          "output_type": "display_data"
        },
        {
          "data": {
            "application/vnd.jupyter.widget-view+json": {
              "model_id": "c34968ce33614b70a2551dcccc87eae7",
              "version_major": 2,
              "version_minor": 0
            },
            "text/plain": [
              "sub-073_task-eyesclosed_eeg.set:   0%|          | 0.00/32.8M [00:00<?, ?B/s]"
            ]
          },
          "metadata": {},
          "output_type": "display_data"
        },
        {
          "data": {
            "application/vnd.jupyter.widget-view+json": {
              "model_id": "4f8cc002c91b41158d6ce2329c4bb1b1",
              "version_major": 2,
              "version_minor": 0
            },
            "text/plain": [
              "sub-074_task-eyesclosed_channels.tsv:   0%|          | 0.00/284 [00:00<?, ?B/s]"
            ]
          },
          "metadata": {},
          "output_type": "display_data"
        },
        {
          "data": {
            "application/vnd.jupyter.widget-view+json": {
              "model_id": "a6d27fe87d984128b1a6ca8b0f63dc6e",
              "version_major": 2,
              "version_minor": 0
            },
            "text/plain": [
              "sub-074_task-eyesclosed_eeg.json:   0%|          | 0.00/869 [00:00<?, ?B/s]"
            ]
          },
          "metadata": {},
          "output_type": "display_data"
        },
        {
          "data": {
            "application/vnd.jupyter.widget-view+json": {
              "model_id": "7176cb76400141e297b247065fe4a92b",
              "version_major": 2,
              "version_minor": 0
            },
            "text/plain": [
              "sub-075_task-eyesclosed_channels.tsv:   0%|          | 0.00/284 [00:00<?, ?B/s]"
            ]
          },
          "metadata": {},
          "output_type": "display_data"
        },
        {
          "data": {
            "application/vnd.jupyter.widget-view+json": {
              "model_id": "bf3f10a6c1a148188b7e0afc92d8d2e8",
              "version_major": 2,
              "version_minor": 0
            },
            "text/plain": [
              "sub-074_task-eyesclosed_eeg.set:   0%|          | 0.00/41.2M [00:00<?, ?B/s]"
            ]
          },
          "metadata": {},
          "output_type": "display_data"
        },
        {
          "data": {
            "application/vnd.jupyter.widget-view+json": {
              "model_id": "b7c4e9f2e74e439ba9ffd216587ea2d6",
              "version_major": 2,
              "version_minor": 0
            },
            "text/plain": [
              "sub-075_task-eyesclosed_eeg.json:   0%|          | 0.00/868 [00:00<?, ?B/s]"
            ]
          },
          "metadata": {},
          "output_type": "display_data"
        },
        {
          "data": {
            "application/vnd.jupyter.widget-view+json": {
              "model_id": "268e66adcde944daa203671160d91bce",
              "version_major": 2,
              "version_minor": 0
            },
            "text/plain": [
              "sub-075_task-eyesclosed_eeg.set:   0%|          | 0.00/28.7M [00:00<?, ?B/s]"
            ]
          },
          "metadata": {},
          "output_type": "display_data"
        },
        {
          "data": {
            "application/vnd.jupyter.widget-view+json": {
              "model_id": "e0e575ee4afc4890a83749059092529b",
              "version_major": 2,
              "version_minor": 0
            },
            "text/plain": [
              "sub-076_task-eyesclosed_channels.tsv:   0%|          | 0.00/284 [00:00<?, ?B/s]"
            ]
          },
          "metadata": {},
          "output_type": "display_data"
        },
        {
          "data": {
            "application/vnd.jupyter.widget-view+json": {
              "model_id": "b4b3974c114a4a88a72204939c168130",
              "version_major": 2,
              "version_minor": 0
            },
            "text/plain": [
              "sub-076_task-eyesclosed_eeg.json:   0%|          | 0.00/868 [00:00<?, ?B/s]"
            ]
          },
          "metadata": {},
          "output_type": "display_data"
        },
        {
          "data": {
            "application/vnd.jupyter.widget-view+json": {
              "model_id": "442609238c254d788738d23f35c9c98c",
              "version_major": 2,
              "version_minor": 0
            },
            "text/plain": [
              "sub-077_task-eyesclosed_channels.tsv:   0%|          | 0.00/284 [00:00<?, ?B/s]"
            ]
          },
          "metadata": {},
          "output_type": "display_data"
        },
        {
          "data": {
            "application/vnd.jupyter.widget-view+json": {
              "model_id": "970c9a15d305464bbb33546549b6d6cf",
              "version_major": 2,
              "version_minor": 0
            },
            "text/plain": [
              "sub-076_task-eyesclosed_eeg.set:   0%|          | 0.00/31.3M [00:00<?, ?B/s]"
            ]
          },
          "metadata": {},
          "output_type": "display_data"
        },
        {
          "data": {
            "application/vnd.jupyter.widget-view+json": {
              "model_id": "1113d4dbcdaa47d9ac4ab6fb891cb9cc",
              "version_major": 2,
              "version_minor": 0
            },
            "text/plain": [
              "sub-077_task-eyesclosed_eeg.json:   0%|          | 0.00/868 [00:00<?, ?B/s]"
            ]
          },
          "metadata": {},
          "output_type": "display_data"
        },
        {
          "data": {
            "application/vnd.jupyter.widget-view+json": {
              "model_id": "c35b0ce8be944061b9137541d796b6b5",
              "version_major": 2,
              "version_minor": 0
            },
            "text/plain": [
              "sub-077_task-eyesclosed_eeg.set:   0%|          | 0.00/26.9M [00:00<?, ?B/s]"
            ]
          },
          "metadata": {},
          "output_type": "display_data"
        },
        {
          "data": {
            "application/vnd.jupyter.widget-view+json": {
              "model_id": "15a78ea0432b4910a947325b94f3edd7",
              "version_major": 2,
              "version_minor": 0
            },
            "text/plain": [
              "sub-078_task-eyesclosed_channels.tsv:   0%|          | 0.00/284 [00:00<?, ?B/s]"
            ]
          },
          "metadata": {},
          "output_type": "display_data"
        },
        {
          "data": {
            "application/vnd.jupyter.widget-view+json": {
              "model_id": "cea351c70a55426d93601603f239d975",
              "version_major": 2,
              "version_minor": 0
            },
            "text/plain": [
              "sub-078_task-eyesclosed_eeg.json:   0%|          | 0.00/868 [00:00<?, ?B/s]"
            ]
          },
          "metadata": {},
          "output_type": "display_data"
        },
        {
          "data": {
            "application/vnd.jupyter.widget-view+json": {
              "model_id": "39fe3102594340e49af6708aa52e8d90",
              "version_major": 2,
              "version_minor": 0
            },
            "text/plain": [
              "sub-078_task-eyesclosed_eeg.set:   0%|          | 0.00/33.4M [00:00<?, ?B/s]"
            ]
          },
          "metadata": {},
          "output_type": "display_data"
        },
        {
          "data": {
            "application/vnd.jupyter.widget-view+json": {
              "model_id": "738778c6494b4d81ab674ae979e9165c",
              "version_major": 2,
              "version_minor": 0
            },
            "text/plain": [
              "sub-079_task-eyesclosed_channels.tsv:   0%|          | 0.00/284 [00:00<?, ?B/s]"
            ]
          },
          "metadata": {},
          "output_type": "display_data"
        },
        {
          "data": {
            "application/vnd.jupyter.widget-view+json": {
              "model_id": "22d93b7e1b8c4c8f8a3d2b2facab9e0f",
              "version_major": 2,
              "version_minor": 0
            },
            "text/plain": [
              "sub-079_task-eyesclosed_eeg.json:   0%|          | 0.00/868 [00:00<?, ?B/s]"
            ]
          },
          "metadata": {},
          "output_type": "display_data"
        },
        {
          "data": {
            "application/vnd.jupyter.widget-view+json": {
              "model_id": "09d66b29c16747ef9128daf0d575a956",
              "version_major": 2,
              "version_minor": 0
            },
            "text/plain": [
              "sub-079_task-eyesclosed_eeg.set:   0%|          | 0.00/31.5M [00:00<?, ?B/s]"
            ]
          },
          "metadata": {},
          "output_type": "display_data"
        },
        {
          "data": {
            "application/vnd.jupyter.widget-view+json": {
              "model_id": "6ca2de848cbf40b8b9a46dca68373a26",
              "version_major": 2,
              "version_minor": 0
            },
            "text/plain": [
              "sub-080_task-eyesclosed_eeg.json:   0%|          | 0.00/868 [00:00<?, ?B/s]"
            ]
          },
          "metadata": {},
          "output_type": "display_data"
        },
        {
          "data": {
            "application/vnd.jupyter.widget-view+json": {
              "model_id": "1b61101ab901462cbcb3c3d0c064d7db",
              "version_major": 2,
              "version_minor": 0
            },
            "text/plain": [
              "sub-080_task-eyesclosed_channels.tsv:   0%|          | 0.00/284 [00:00<?, ?B/s]"
            ]
          },
          "metadata": {},
          "output_type": "display_data"
        },
        {
          "data": {
            "application/vnd.jupyter.widget-view+json": {
              "model_id": "acb44ed38b524804acde3dc6cbf40ca9",
              "version_major": 2,
              "version_minor": 0
            },
            "text/plain": [
              "sub-080_task-eyesclosed_eeg.set:   0%|          | 0.00/35.6M [00:00<?, ?B/s]"
            ]
          },
          "metadata": {},
          "output_type": "display_data"
        },
        {
          "data": {
            "application/vnd.jupyter.widget-view+json": {
              "model_id": "3dd517b73f2b4e6f9a89c48fcceceb70",
              "version_major": 2,
              "version_minor": 0
            },
            "text/plain": [
              "sub-081_task-eyesclosed_channels.tsv:   0%|          | 0.00/284 [00:00<?, ?B/s]"
            ]
          },
          "metadata": {},
          "output_type": "display_data"
        },
        {
          "data": {
            "application/vnd.jupyter.widget-view+json": {
              "model_id": "be145af807284746b3fc635997c708a6",
              "version_major": 2,
              "version_minor": 0
            },
            "text/plain": [
              "sub-081_task-eyesclosed_eeg.json:   0%|          | 0.00/868 [00:00<?, ?B/s]"
            ]
          },
          "metadata": {},
          "output_type": "display_data"
        },
        {
          "data": {
            "application/vnd.jupyter.widget-view+json": {
              "model_id": "4e6b4c091d0b4714b8ecfccf21f449ce",
              "version_major": 2,
              "version_minor": 0
            },
            "text/plain": [
              "sub-081_task-eyesclosed_eeg.set:   0%|          | 0.00/31.7M [00:00<?, ?B/s]"
            ]
          },
          "metadata": {},
          "output_type": "display_data"
        },
        {
          "data": {
            "application/vnd.jupyter.widget-view+json": {
              "model_id": "d5f2ab068cac4833b58feb774383329a",
              "version_major": 2,
              "version_minor": 0
            },
            "text/plain": [
              "sub-082_task-eyesclosed_channels.tsv:   0%|          | 0.00/284 [00:00<?, ?B/s]"
            ]
          },
          "metadata": {},
          "output_type": "display_data"
        },
        {
          "data": {
            "application/vnd.jupyter.widget-view+json": {
              "model_id": "8f95e852047948d48f5a2eb7090690ea",
              "version_major": 2,
              "version_minor": 0
            },
            "text/plain": [
              "sub-082_task-eyesclosed_eeg.json:   0%|          | 0.00/868 [00:00<?, ?B/s]"
            ]
          },
          "metadata": {},
          "output_type": "display_data"
        },
        {
          "data": {
            "application/vnd.jupyter.widget-view+json": {
              "model_id": "e2613e7864a046df83764279e78c064e",
              "version_major": 2,
              "version_minor": 0
            },
            "text/plain": [
              "sub-083_task-eyesclosed_channels.tsv:   0%|          | 0.00/284 [00:00<?, ?B/s]"
            ]
          },
          "metadata": {},
          "output_type": "display_data"
        },
        {
          "data": {
            "application/vnd.jupyter.widget-view+json": {
              "model_id": "1192ec3144d04ce19dce48cb9679cb35",
              "version_major": 2,
              "version_minor": 0
            },
            "text/plain": [
              "sub-082_task-eyesclosed_eeg.set:   0%|          | 0.00/29.7M [00:00<?, ?B/s]"
            ]
          },
          "metadata": {},
          "output_type": "display_data"
        },
        {
          "data": {
            "application/vnd.jupyter.widget-view+json": {
              "model_id": "97c0a3932a384a9da44c6e1cc5759511",
              "version_major": 2,
              "version_minor": 0
            },
            "text/plain": [
              "sub-083_task-eyesclosed_eeg.json:   0%|          | 0.00/868 [00:00<?, ?B/s]"
            ]
          },
          "metadata": {},
          "output_type": "display_data"
        },
        {
          "data": {
            "application/vnd.jupyter.widget-view+json": {
              "model_id": "ac2221034c7b44e39d59f857f35d5f4a",
              "version_major": 2,
              "version_minor": 0
            },
            "text/plain": [
              "sub-083_task-eyesclosed_eeg.set:   0%|          | 0.00/34.9M [00:00<?, ?B/s]"
            ]
          },
          "metadata": {},
          "output_type": "display_data"
        },
        {
          "data": {
            "application/vnd.jupyter.widget-view+json": {
              "model_id": "cb5fb787cfe242f4b47abe7101deda94",
              "version_major": 2,
              "version_minor": 0
            },
            "text/plain": [
              "sub-084_task-eyesclosed_channels.tsv:   0%|          | 0.00/284 [00:00<?, ?B/s]"
            ]
          },
          "metadata": {},
          "output_type": "display_data"
        },
        {
          "data": {
            "application/vnd.jupyter.widget-view+json": {
              "model_id": "a4e5246a40484d509d44006765248c0c",
              "version_major": 2,
              "version_minor": 0
            },
            "text/plain": [
              "sub-084_task-eyesclosed_eeg.json:   0%|          | 0.00/868 [00:00<?, ?B/s]"
            ]
          },
          "metadata": {},
          "output_type": "display_data"
        },
        {
          "data": {
            "application/vnd.jupyter.widget-view+json": {
              "model_id": "80e10d080e8a4446bcb35d83a91514ce",
              "version_major": 2,
              "version_minor": 0
            },
            "text/plain": [
              "sub-084_task-eyesclosed_eeg.set:   0%|          | 0.00/24.9M [00:00<?, ?B/s]"
            ]
          },
          "metadata": {},
          "output_type": "display_data"
        },
        {
          "data": {
            "application/vnd.jupyter.widget-view+json": {
              "model_id": "03d17982656748559cc09c7fcd31f97a",
              "version_major": 2,
              "version_minor": 0
            },
            "text/plain": [
              "sub-085_task-eyesclosed_eeg.json:   0%|          | 0.00/868 [00:00<?, ?B/s]"
            ]
          },
          "metadata": {},
          "output_type": "display_data"
        },
        {
          "data": {
            "application/vnd.jupyter.widget-view+json": {
              "model_id": "d475d852abc542d0b952016c74759528",
              "version_major": 2,
              "version_minor": 0
            },
            "text/plain": [
              "sub-085_task-eyesclosed_eeg.set:   0%|          | 0.00/21.6M [00:00<?, ?B/s]"
            ]
          },
          "metadata": {},
          "output_type": "display_data"
        },
        {
          "data": {
            "application/vnd.jupyter.widget-view+json": {
              "model_id": "9839bd93359440c9b84734694b206d90",
              "version_major": 2,
              "version_minor": 0
            },
            "text/plain": [
              "sub-086_task-eyesclosed_channels.tsv:   0%|          | 0.00/284 [00:00<?, ?B/s]"
            ]
          },
          "metadata": {},
          "output_type": "display_data"
        },
        {
          "data": {
            "application/vnd.jupyter.widget-view+json": {
              "model_id": "724645bf502b4d3c97f4a70cd65d19d0",
              "version_major": 2,
              "version_minor": 0
            },
            "text/plain": [
              "sub-085_task-eyesclosed_channels.tsv:   0%|          | 0.00/284 [00:00<?, ?B/s]"
            ]
          },
          "metadata": {},
          "output_type": "display_data"
        },
        {
          "data": {
            "application/vnd.jupyter.widget-view+json": {
              "model_id": "3bf41797cc92482c83bb1946e4aacff9",
              "version_major": 2,
              "version_minor": 0
            },
            "text/plain": [
              "sub-086_task-eyesclosed_eeg.json:   0%|          | 0.00/868 [00:00<?, ?B/s]"
            ]
          },
          "metadata": {},
          "output_type": "display_data"
        },
        {
          "data": {
            "application/vnd.jupyter.widget-view+json": {
              "model_id": "6829461c33de4a04bd95706e46522914",
              "version_major": 2,
              "version_minor": 0
            },
            "text/plain": [
              "sub-087_task-eyesclosed_channels.tsv:   0%|          | 0.00/284 [00:00<?, ?B/s]"
            ]
          },
          "metadata": {},
          "output_type": "display_data"
        },
        {
          "data": {
            "application/vnd.jupyter.widget-view+json": {
              "model_id": "b05bc39baa22459fa38000967d695e69",
              "version_major": 2,
              "version_minor": 0
            },
            "text/plain": [
              "sub-086_task-eyesclosed_eeg.set:   0%|          | 0.00/25.1M [00:00<?, ?B/s]"
            ]
          },
          "metadata": {},
          "output_type": "display_data"
        },
        {
          "data": {
            "application/vnd.jupyter.widget-view+json": {
              "model_id": "9161c0252d6a4d22a27d3e0330ece0ab",
              "version_major": 2,
              "version_minor": 0
            },
            "text/plain": [
              "sub-087_task-eyesclosed_eeg.json:   0%|          | 0.00/868 [00:00<?, ?B/s]"
            ]
          },
          "metadata": {},
          "output_type": "display_data"
        },
        {
          "data": {
            "application/vnd.jupyter.widget-view+json": {
              "model_id": "89d6961a12ce449c9f17e9f7df7529f6",
              "version_major": 2,
              "version_minor": 0
            },
            "text/plain": [
              "sub-088_task-eyesclosed_channels.tsv:   0%|          | 0.00/284 [00:00<?, ?B/s]"
            ]
          },
          "metadata": {},
          "output_type": "display_data"
        },
        {
          "data": {
            "application/vnd.jupyter.widget-view+json": {
              "model_id": "b29b7932a85d4c1182870ec959e546b2",
              "version_major": 2,
              "version_minor": 0
            },
            "text/plain": [
              "sub-087_task-eyesclosed_eeg.set:   0%|          | 0.00/23.2M [00:00<?, ?B/s]"
            ]
          },
          "metadata": {},
          "output_type": "display_data"
        },
        {
          "data": {
            "application/vnd.jupyter.widget-view+json": {
              "model_id": "07711d1d51eb47e5b757f2e685d75e91",
              "version_major": 2,
              "version_minor": 0
            },
            "text/plain": [
              "sub-088_task-eyesclosed_eeg.json:   0%|          | 0.00/868 [00:00<?, ?B/s]"
            ]
          },
          "metadata": {},
          "output_type": "display_data"
        },
        {
          "data": {
            "application/vnd.jupyter.widget-view+json": {
              "model_id": "8ced7f2fe2a24b41a6e4d32a56d53e20",
              "version_major": 2,
              "version_minor": 0
            },
            "text/plain": [
              "sub-088_task-eyesclosed_eeg.set:   0%|          | 0.00/30.3M [00:00<?, ?B/s]"
            ]
          },
          "metadata": {},
          "output_type": "display_data"
        }
      ],
      "source": [
        "# Create folder to stored the dataset.\n",
        "# Run this code when use colab\n",
        "# !mkdir /content/dataset \n",
        "# output_dir = \"/content/dataset\"\n",
        "\n",
        "# Set direction to store the dataset\n",
        "output_dir = os.getcwd()+'/dataset'\n",
        "\n",
        "# Downloading the dataset\n",
        "dataset_id = \"ds004504\"\n",
        "\n",
        "on.download(dataset=dataset_id, target_dir=output_dir)"
      ]
    },
    {
      "cell_type": "markdown",
      "metadata": {
        "id": "Ss_sPRMs9Jjk"
      },
      "source": [
        "Read the Data\n"
      ]
    },
    {
      "cell_type": "code",
      "execution_count": 4,
      "metadata": {
        "colab": {
          "base_uri": "https://localhost:8080/",
          "height": 206
        },
        "id": "MHwp8F_n9ucs",
        "outputId": "e7f65f93-f778-47bb-9c2c-90f08b32e58e"
      },
      "outputs": [
        {
          "data": {
            "text/html": [
              "\n",
              "\n",
              "  <div id=\"df-b4a978fd-68ab-471f-ac1f-ddd2a5a3df29\">\n",
              "    <div class=\"colab-df-container\">\n",
              "      <div>\n",
              "<style scoped>\n",
              "    .dataframe tbody tr th:only-of-type {\n",
              "        vertical-align: middle;\n",
              "    }\n",
              "\n",
              "    .dataframe tbody tr th {\n",
              "        vertical-align: top;\n",
              "    }\n",
              "\n",
              "    .dataframe thead th {\n",
              "        text-align: right;\n",
              "    }\n",
              "</style>\n",
              "<table border=\"1\" class=\"dataframe\">\n",
              "  <thead>\n",
              "    <tr style=\"text-align: right;\">\n",
              "      <th></th>\n",
              "      <th>participant_id</th>\n",
              "      <th>Gender</th>\n",
              "      <th>Age</th>\n",
              "      <th>Group</th>\n",
              "      <th>MMSE</th>\n",
              "    </tr>\n",
              "  </thead>\n",
              "  <tbody>\n",
              "    <tr>\n",
              "      <th>0</th>\n",
              "      <td>sub-001</td>\n",
              "      <td>F</td>\n",
              "      <td>57</td>\n",
              "      <td>A</td>\n",
              "      <td>16</td>\n",
              "    </tr>\n",
              "    <tr>\n",
              "      <th>1</th>\n",
              "      <td>sub-002</td>\n",
              "      <td>F</td>\n",
              "      <td>78</td>\n",
              "      <td>A</td>\n",
              "      <td>22</td>\n",
              "    </tr>\n",
              "    <tr>\n",
              "      <th>2</th>\n",
              "      <td>sub-003</td>\n",
              "      <td>M</td>\n",
              "      <td>70</td>\n",
              "      <td>A</td>\n",
              "      <td>14</td>\n",
              "    </tr>\n",
              "    <tr>\n",
              "      <th>3</th>\n",
              "      <td>sub-004</td>\n",
              "      <td>F</td>\n",
              "      <td>67</td>\n",
              "      <td>A</td>\n",
              "      <td>20</td>\n",
              "    </tr>\n",
              "    <tr>\n",
              "      <th>4</th>\n",
              "      <td>sub-005</td>\n",
              "      <td>M</td>\n",
              "      <td>70</td>\n",
              "      <td>A</td>\n",
              "      <td>22</td>\n",
              "    </tr>\n",
              "  </tbody>\n",
              "</table>\n",
              "</div>\n",
              "      <button class=\"colab-df-convert\" onclick=\"convertToInteractive('df-b4a978fd-68ab-471f-ac1f-ddd2a5a3df29')\"\n",
              "              title=\"Convert this dataframe to an interactive table.\"\n",
              "              style=\"display:none;\">\n",
              "\n",
              "  <svg xmlns=\"http://www.w3.org/2000/svg\" height=\"24px\"viewBox=\"0 0 24 24\"\n",
              "       width=\"24px\">\n",
              "    <path d=\"M0 0h24v24H0V0z\" fill=\"none\"/>\n",
              "    <path d=\"M18.56 5.44l.94 2.06.94-2.06 2.06-.94-2.06-.94-.94-2.06-.94 2.06-2.06.94zm-11 1L8.5 8.5l.94-2.06 2.06-.94-2.06-.94L8.5 2.5l-.94 2.06-2.06.94zm10 10l.94 2.06.94-2.06 2.06-.94-2.06-.94-.94-2.06-.94 2.06-2.06.94z\"/><path d=\"M17.41 7.96l-1.37-1.37c-.4-.4-.92-.59-1.43-.59-.52 0-1.04.2-1.43.59L10.3 9.45l-7.72 7.72c-.78.78-.78 2.05 0 2.83L4 21.41c.39.39.9.59 1.41.59.51 0 1.02-.2 1.41-.59l7.78-7.78 2.81-2.81c.8-.78.8-2.07 0-2.86zM5.41 20L4 18.59l7.72-7.72 1.47 1.35L5.41 20z\"/>\n",
              "  </svg>\n",
              "      </button>\n",
              "\n",
              "\n",
              "\n",
              "    <div id=\"df-5f38d360-1400-4b68-9a2b-846bde6cd493\">\n",
              "      <button class=\"colab-df-quickchart\" onclick=\"quickchart('df-5f38d360-1400-4b68-9a2b-846bde6cd493')\"\n",
              "              title=\"Suggest charts.\"\n",
              "              style=\"display:none;\">\n",
              "\n",
              "<svg xmlns=\"http://www.w3.org/2000/svg\" height=\"24px\"viewBox=\"0 0 24 24\"\n",
              "     width=\"24px\">\n",
              "    <g>\n",
              "        <path d=\"M19 3H5c-1.1 0-2 .9-2 2v14c0 1.1.9 2 2 2h14c1.1 0 2-.9 2-2V5c0-1.1-.9-2-2-2zM9 17H7v-7h2v7zm4 0h-2V7h2v10zm4 0h-2v-4h2v4z\"/>\n",
              "    </g>\n",
              "</svg>\n",
              "      </button>\n",
              "    </div>\n",
              "\n",
              "<style>\n",
              "  .colab-df-quickchart {\n",
              "    background-color: #E8F0FE;\n",
              "    border: none;\n",
              "    border-radius: 50%;\n",
              "    cursor: pointer;\n",
              "    display: none;\n",
              "    fill: #1967D2;\n",
              "    height: 32px;\n",
              "    padding: 0 0 0 0;\n",
              "    width: 32px;\n",
              "  }\n",
              "\n",
              "  .colab-df-quickchart:hover {\n",
              "    background-color: #E2EBFA;\n",
              "    box-shadow: 0px 1px 2px rgba(60, 64, 67, 0.3), 0px 1px 3px 1px rgba(60, 64, 67, 0.15);\n",
              "    fill: #174EA6;\n",
              "  }\n",
              "\n",
              "  [theme=dark] .colab-df-quickchart {\n",
              "    background-color: #3B4455;\n",
              "    fill: #D2E3FC;\n",
              "  }\n",
              "\n",
              "  [theme=dark] .colab-df-quickchart:hover {\n",
              "    background-color: #434B5C;\n",
              "    box-shadow: 0px 1px 3px 1px rgba(0, 0, 0, 0.15);\n",
              "    filter: drop-shadow(0px 1px 2px rgba(0, 0, 0, 0.3));\n",
              "    fill: #FFFFFF;\n",
              "  }\n",
              "</style>\n",
              "\n",
              "    <script>\n",
              "      async function quickchart(key) {\n",
              "        const containerElement = document.querySelector('#' + key);\n",
              "        const charts = await google.colab.kernel.invokeFunction(\n",
              "            'suggestCharts', [key], {});\n",
              "      }\n",
              "    </script>\n",
              "\n",
              "      <script>\n",
              "\n",
              "function displayQuickchartButton(domScope) {\n",
              "  let quickchartButtonEl =\n",
              "    domScope.querySelector('#df-5f38d360-1400-4b68-9a2b-846bde6cd493 button.colab-df-quickchart');\n",
              "  quickchartButtonEl.style.display =\n",
              "    google.colab.kernel.accessAllowed ? 'block' : 'none';\n",
              "}\n",
              "\n",
              "        displayQuickchartButton(document);\n",
              "      </script>\n",
              "      <style>\n",
              "    .colab-df-container {\n",
              "      display:flex;\n",
              "      flex-wrap:wrap;\n",
              "      gap: 12px;\n",
              "    }\n",
              "\n",
              "    .colab-df-convert {\n",
              "      background-color: #E8F0FE;\n",
              "      border: none;\n",
              "      border-radius: 50%;\n",
              "      cursor: pointer;\n",
              "      display: none;\n",
              "      fill: #1967D2;\n",
              "      height: 32px;\n",
              "      padding: 0 0 0 0;\n",
              "      width: 32px;\n",
              "    }\n",
              "\n",
              "    .colab-df-convert:hover {\n",
              "      background-color: #E2EBFA;\n",
              "      box-shadow: 0px 1px 2px rgba(60, 64, 67, 0.3), 0px 1px 3px 1px rgba(60, 64, 67, 0.15);\n",
              "      fill: #174EA6;\n",
              "    }\n",
              "\n",
              "    [theme=dark] .colab-df-convert {\n",
              "      background-color: #3B4455;\n",
              "      fill: #D2E3FC;\n",
              "    }\n",
              "\n",
              "    [theme=dark] .colab-df-convert:hover {\n",
              "      background-color: #434B5C;\n",
              "      box-shadow: 0px 1px 3px 1px rgba(0, 0, 0, 0.15);\n",
              "      filter: drop-shadow(0px 1px 2px rgba(0, 0, 0, 0.3));\n",
              "      fill: #FFFFFF;\n",
              "    }\n",
              "  </style>\n",
              "\n",
              "      <script>\n",
              "        const buttonEl =\n",
              "          document.querySelector('#df-b4a978fd-68ab-471f-ac1f-ddd2a5a3df29 button.colab-df-convert');\n",
              "        buttonEl.style.display =\n",
              "          google.colab.kernel.accessAllowed ? 'block' : 'none';\n",
              "\n",
              "        async function convertToInteractive(key) {\n",
              "          const element = document.querySelector('#df-b4a978fd-68ab-471f-ac1f-ddd2a5a3df29');\n",
              "          const dataTable =\n",
              "            await google.colab.kernel.invokeFunction('convertToInteractive',\n",
              "                                                     [key], {});\n",
              "          if (!dataTable) return;\n",
              "\n",
              "          const docLinkHtml = 'Like what you see? Visit the ' +\n",
              "            '<a target=\"_blank\" href=https://colab.research.google.com/notebooks/data_table.ipynb>data table notebook</a>'\n",
              "            + ' to learn more about interactive tables.';\n",
              "          element.innerHTML = '';\n",
              "          dataTable['output_type'] = 'display_data';\n",
              "          await google.colab.output.renderOutput(dataTable, element);\n",
              "          const docLink = document.createElement('div');\n",
              "          docLink.innerHTML = docLinkHtml;\n",
              "          element.appendChild(docLink);\n",
              "        }\n",
              "      </script>\n",
              "    </div>\n",
              "  </div>\n"
            ],
            "text/plain": [
              "  participant_id Gender  Age Group  MMSE\n",
              "0        sub-001      F   57     A    16\n",
              "1        sub-002      F   78     A    22\n",
              "2        sub-003      M   70     A    14\n",
              "3        sub-004      F   67     A    20\n",
              "4        sub-005      M   70     A    22"
            ]
          },
          "execution_count": 4,
          "metadata": {},
          "output_type": "execute_result"
        }
      ],
      "source": [
        "filename_part = '/content/dataset/participants.tsv'\n",
        "df_partipants = pd.read_csv(filename_part, sep='\\t')\n",
        "df_partipants.head()"
      ]
    },
    {
      "cell_type": "code",
      "execution_count": 5,
      "metadata": {
        "colab": {
          "base_uri": "https://localhost:8080/",
          "height": 472
        },
        "id": "wDGOxcVay4Zq",
        "outputId": "acf715aa-b543-4208-9470-9c821f4b032f"
      },
      "outputs": [
        {
          "data": {
            "image/png": "[encoded data removed]",
            "text/plain": [
              "<Figure size 640x480 with 1 Axes>"
            ]
          },
          "metadata": {},
          "output_type": "display_data"
        }
      ],
      "source": [
        "sns.countplot(x=df_partipants[\"Group\"])\n",
        "plt.title('Distribution of Subjects by Group')\n",
        "plt.show()"
      ]
    },
    {
      "cell_type": "code",
      "execution_count": 6,
      "metadata": {
        "colab": {
          "base_uri": "https://localhost:8080/"
        },
        "id": "-W-xBMmC8iVL",
        "outputId": "ea67e144-a3d1-48c9-bb44-12512aeecb46"
      },
      "outputs": [
        {
          "name": "stdout",
          "output_type": "stream",
          "text": [
            "/content/dataset/derivatives\n",
            "88\n",
            "['sub-001', 'sub-002', 'sub-003', 'sub-004', 'sub-005']\n"
          ]
        }
      ],
      "source": [
        "%cd '/content/dataset/derivatives'\n",
        "dir_list = [f for f in os.listdir() if os.path.isdir(os.path.join('.', f))]\n",
        "dir_list.sort()\n",
        "print(len(dir_list))\n",
        "print(dir_list[:5])"
      ]
    },
    {
      "cell_type": "code",
      "execution_count": 7,
      "metadata": {
        "colab": {
          "base_uri": "https://localhost:8080/"
        },
        "id": "pC0NgOge9S4z",
        "outputId": "00efbdba-08d9-4950-b0ee-6878bf587e1e"
      },
      "outputs": [
        {
          "name": "stdout",
          "output_type": "stream",
          "text": [
            "EEG Files Loaded: 88\n"
          ]
        }
      ],
      "source": [
        "eeg_data = []\n",
        "\n",
        "for l in dir_list:\n",
        "  folder = '/content/dataset/derivatives/'+l+'/eeg/'\n",
        "  f = l+'_task-eyesclosed_eeg.set'\n",
        "  #print(l)\n",
        "  r = mne.io.read_raw_eeglab(folder+f, preload=False, verbose='CRITICAL')\n",
        "  participant_info = {'id': l}\n",
        "  r.info['subject_info'] = participant_info\n",
        "  eeg_data.append(r)\n",
        "\n",
        "print('EEG Files Loaded:',len(eeg_data))"
      ]
    },
    {
      "cell_type": "markdown",
      "metadata": {
        "id": "CoDc_4hb9ykq"
      },
      "source": [
        "## Preselect Datasets\n"
      ]
    },
    {
      "cell_type": "markdown",
      "metadata": {
        "id": "w0SU-GChemaR"
      },
      "source": [
        "Show Maximum Time Distribution.\n"
      ]
    },
    {
      "cell_type": "code",
      "execution_count": 8,
      "metadata": {
        "colab": {
          "base_uri": "https://localhost:8080/",
          "height": 452
        },
        "id": "Rb5P-jX9enIt",
        "outputId": "7a942291-4eb0-4877-cb27-218eb8e901c2"
      },
      "outputs": [
        {
          "data": {
            "image/png": "[encoded data removed]",
            "text/plain": [
              "<Figure size 640x480 with 1 Axes>"
            ]
          },
          "metadata": {},
          "output_type": "display_data"
        }
      ],
      "source": [
        "time_max = []\n",
        "\n",
        "for r in eeg_data:\n",
        "  time_max.append(r.tmax)\n",
        "\n",
        "const_min = np.full(len(eeg_data),550)\n",
        "const_max = np.full(len(eeg_data),1000)\n",
        "\n",
        "plt.plot(time_max)\n",
        "plt.plot(const_min, linestyle='dotted', c='gray')\n",
        "plt.plot(const_max, linestyle='dotted', c='gray')\n",
        "\n",
        "plt.title('Time Max by Subject')\n",
        "plt.show()"
      ]
    },
    {
      "cell_type": "markdown",
      "metadata": {
        "id": "t2BGUX0WEeOR"
      },
      "source": [
        "Select Alzheimer and Fronto Temporal Dementia Subjects from Participants Info\n"
      ]
    },
    {
      "cell_type": "code",
      "execution_count": 43,
      "metadata": {
        "colab": {
          "base_uri": "https://localhost:8080/"
        },
        "id": "B14UdDJRjV0J",
        "outputId": "3ced4b5d-5128-46f8-e3db-77bcdd054c97"
      },
      "outputs": [
        {
          "data": {
            "text/plain": [
              "59"
            ]
          },
          "execution_count": 43,
          "metadata": {},
          "output_type": "execute_result"
        }
      ],
      "source": [
        "df_ad_ftd = df_partipants[df_partipants['Group'].isin(['A','F'])]\n",
        "len(df_ad_ftd)"
      ]
    },
    {
      "cell_type": "markdown",
      "metadata": {
        "id": "2WDdBCY9zeaO"
      },
      "source": [
        "Filtering Subjects with raw data between 550 and 1000 seconds.\n"
      ]
    },
    {
      "cell_type": "code",
      "execution_count": 58,
      "metadata": {
        "colab": {
          "base_uri": "https://localhost:8080/",
          "height": 241
        },
        "id": "O9ecCyDR_ycK",
        "outputId": "2302043e-73f2-4e3b-ce51-657db455fc74"
      },
      "outputs": [
        {
          "name": "stdout",
          "output_type": "stream",
          "text": [
            "Participants Info: 53\n",
            "EEG Data Subjects: 53\n"
          ]
        },
        {
          "data": {
            "text/html": [
              "\n",
              "\n",
              "  <div id=\"df-f3ce9be9-53bc-4121-a5b4-224806ad7736\">\n",
              "    <div class=\"colab-df-container\">\n",
              "      <div>\n",
              "<style scoped>\n",
              "    .dataframe tbody tr th:only-of-type {\n",
              "        vertical-align: middle;\n",
              "    }\n",
              "\n",
              "    .dataframe tbody tr th {\n",
              "        vertical-align: top;\n",
              "    }\n",
              "\n",
              "    .dataframe thead th {\n",
              "        text-align: right;\n",
              "    }\n",
              "</style>\n",
              "<table border=\"1\" class=\"dataframe\">\n",
              "  <thead>\n",
              "    <tr style=\"text-align: right;\">\n",
              "      <th></th>\n",
              "      <th>participant_id</th>\n",
              "      <th>Gender</th>\n",
              "      <th>Age</th>\n",
              "      <th>Group</th>\n",
              "      <th>MMSE</th>\n",
              "    </tr>\n",
              "  </thead>\n",
              "  <tbody>\n",
              "    <tr>\n",
              "      <th>0</th>\n",
              "      <td>sub-001</td>\n",
              "      <td>1</td>\n",
              "      <td>57</td>\n",
              "      <td>0</td>\n",
              "      <td>16</td>\n",
              "    </tr>\n",
              "    <tr>\n",
              "      <th>1</th>\n",
              "      <td>sub-002</td>\n",
              "      <td>1</td>\n",
              "      <td>78</td>\n",
              "      <td>0</td>\n",
              "      <td>22</td>\n",
              "    </tr>\n",
              "    <tr>\n",
              "      <th>3</th>\n",
              "      <td>sub-004</td>\n",
              "      <td>1</td>\n",
              "      <td>67</td>\n",
              "      <td>0</td>\n",
              "      <td>20</td>\n",
              "    </tr>\n",
              "    <tr>\n",
              "      <th>4</th>\n",
              "      <td>sub-005</td>\n",
              "      <td>0</td>\n",
              "      <td>70</td>\n",
              "      <td>0</td>\n",
              "      <td>22</td>\n",
              "    </tr>\n",
              "    <tr>\n",
              "      <th>5</th>\n",
              "      <td>sub-006</td>\n",
              "      <td>1</td>\n",
              "      <td>61</td>\n",
              "      <td>0</td>\n",
              "      <td>14</td>\n",
              "    </tr>\n",
              "  </tbody>\n",
              "</table>\n",
              "</div>\n",
              "      <button class=\"colab-df-convert\" onclick=\"convertToInteractive('df-f3ce9be9-53bc-4121-a5b4-224806ad7736')\"\n",
              "              title=\"Convert this dataframe to an interactive table.\"\n",
              "              style=\"display:none;\">\n",
              "\n",
              "  <svg xmlns=\"http://www.w3.org/2000/svg\" height=\"24px\"viewBox=\"0 0 24 24\"\n",
              "       width=\"24px\">\n",
              "    <path d=\"M0 0h24v24H0V0z\" fill=\"none\"/>\n",
              "    <path d=\"M18.56 5.44l.94 2.06.94-2.06 2.06-.94-2.06-.94-.94-2.06-.94 2.06-2.06.94zm-11 1L8.5 8.5l.94-2.06 2.06-.94-2.06-.94L8.5 2.5l-.94 2.06-2.06.94zm10 10l.94 2.06.94-2.06 2.06-.94-2.06-.94-.94-2.06-.94 2.06-2.06.94z\"/><path d=\"M17.41 7.96l-1.37-1.37c-.4-.4-.92-.59-1.43-.59-.52 0-1.04.2-1.43.59L10.3 9.45l-7.72 7.72c-.78.78-.78 2.05 0 2.83L4 21.41c.39.39.9.59 1.41.59.51 0 1.02-.2 1.41-.59l7.78-7.78 2.81-2.81c.8-.78.8-2.07 0-2.86zM5.41 20L4 18.59l7.72-7.72 1.47 1.35L5.41 20z\"/>\n",
              "  </svg>\n",
              "      </button>\n",
              "\n",
              "\n",
              "\n",
              "    <div id=\"df-2f81c74f-0427-4fe2-a7ab-c8cd1d7a9e4a\">\n",
              "      <button class=\"colab-df-quickchart\" onclick=\"quickchart('df-2f81c74f-0427-4fe2-a7ab-c8cd1d7a9e4a')\"\n",
              "              title=\"Suggest charts.\"\n",
              "              style=\"display:none;\">\n",
              "\n",
              "<svg xmlns=\"http://www.w3.org/2000/svg\" height=\"24px\"viewBox=\"0 0 24 24\"\n",
              "     width=\"24px\">\n",
              "    <g>\n",
              "        <path d=\"M19 3H5c-1.1 0-2 .9-2 2v14c0 1.1.9 2 2 2h14c1.1 0 2-.9 2-2V5c0-1.1-.9-2-2-2zM9 17H7v-7h2v7zm4 0h-2V7h2v10zm4 0h-2v-4h2v4z\"/>\n",
              "    </g>\n",
              "</svg>\n",
              "      </button>\n",
              "    </div>\n",
              "\n",
              "<style>\n",
              "  .colab-df-quickchart {\n",
              "    background-color: #E8F0FE;\n",
              "    border: none;\n",
              "    border-radius: 50%;\n",
              "    cursor: pointer;\n",
              "    display: none;\n",
              "    fill: #1967D2;\n",
              "    height: 32px;\n",
              "    padding: 0 0 0 0;\n",
              "    width: 32px;\n",
              "  }\n",
              "\n",
              "  .colab-df-quickchart:hover {\n",
              "    background-color: #E2EBFA;\n",
              "    box-shadow: 0px 1px 2px rgba(60, 64, 67, 0.3), 0px 1px 3px 1px rgba(60, 64, 67, 0.15);\n",
              "    fill: #174EA6;\n",
              "  }\n",
              "\n",
              "  [theme=dark] .colab-df-quickchart {\n",
              "    background-color: #3B4455;\n",
              "    fill: #D2E3FC;\n",
              "  }\n",
              "\n",
              "  [theme=dark] .colab-df-quickchart:hover {\n",
              "    background-color: #434B5C;\n",
              "    box-shadow: 0px 1px 3px 1px rgba(0, 0, 0, 0.15);\n",
              "    filter: drop-shadow(0px 1px 2px rgba(0, 0, 0, 0.3));\n",
              "    fill: #FFFFFF;\n",
              "  }\n",
              "</style>\n",
              "\n",
              "    <script>\n",
              "      async function quickchart(key) {\n",
              "        const containerElement = document.querySelector('#' + key);\n",
              "        const charts = await google.colab.kernel.invokeFunction(\n",
              "            'suggestCharts', [key], {});\n",
              "      }\n",
              "    </script>\n",
              "\n",
              "      <script>\n",
              "\n",
              "function displayQuickchartButton(domScope) {\n",
              "  let quickchartButtonEl =\n",
              "    domScope.querySelector('#df-2f81c74f-0427-4fe2-a7ab-c8cd1d7a9e4a button.colab-df-quickchart');\n",
              "  quickchartButtonEl.style.display =\n",
              "    google.colab.kernel.accessAllowed ? 'block' : 'none';\n",
              "}\n",
              "\n",
              "        displayQuickchartButton(document);\n",
              "      </script>\n",
              "      <style>\n",
              "    .colab-df-container {\n",
              "      display:flex;\n",
              "      flex-wrap:wrap;\n",
              "      gap: 12px;\n",
              "    }\n",
              "\n",
              "    .colab-df-convert {\n",
              "      background-color: #E8F0FE;\n",
              "      border: none;\n",
              "      border-radius: 50%;\n",
              "      cursor: pointer;\n",
              "      display: none;\n",
              "      fill: #1967D2;\n",
              "      height: 32px;\n",
              "      padding: 0 0 0 0;\n",
              "      width: 32px;\n",
              "    }\n",
              "\n",
              "    .colab-df-convert:hover {\n",
              "      background-color: #E2EBFA;\n",
              "      box-shadow: 0px 1px 2px rgba(60, 64, 67, 0.3), 0px 1px 3px 1px rgba(60, 64, 67, 0.15);\n",
              "      fill: #174EA6;\n",
              "    }\n",
              "\n",
              "    [theme=dark] .colab-df-convert {\n",
              "      background-color: #3B4455;\n",
              "      fill: #D2E3FC;\n",
              "    }\n",
              "\n",
              "    [theme=dark] .colab-df-convert:hover {\n",
              "      background-color: #434B5C;\n",
              "      box-shadow: 0px 1px 3px 1px rgba(0, 0, 0, 0.15);\n",
              "      filter: drop-shadow(0px 1px 2px rgba(0, 0, 0, 0.3));\n",
              "      fill: #FFFFFF;\n",
              "    }\n",
              "  </style>\n",
              "\n",
              "      <script>\n",
              "        const buttonEl =\n",
              "          document.querySelector('#df-f3ce9be9-53bc-4121-a5b4-224806ad7736 button.colab-df-convert');\n",
              "        buttonEl.style.display =\n",
              "          google.colab.kernel.accessAllowed ? 'block' : 'none';\n",
              "\n",
              "        async function convertToInteractive(key) {\n",
              "          const element = document.querySelector('#df-f3ce9be9-53bc-4121-a5b4-224806ad7736');\n",
              "          const dataTable =\n",
              "            await google.colab.kernel.invokeFunction('convertToInteractive',\n",
              "                                                     [key], {});\n",
              "          if (!dataTable) return;\n",
              "\n",
              "          const docLinkHtml = 'Like what you see? Visit the ' +\n",
              "            '<a target=\"_blank\" href=https://colab.research.google.com/notebooks/data_table.ipynb>data table notebook</a>'\n",
              "            + ' to learn more about interactive tables.';\n",
              "          element.innerHTML = '';\n",
              "          dataTable['output_type'] = 'display_data';\n",
              "          await google.colab.output.renderOutput(dataTable, element);\n",
              "          const docLink = document.createElement('div');\n",
              "          docLink.innerHTML = docLinkHtml;\n",
              "          element.appendChild(docLink);\n",
              "        }\n",
              "      </script>\n",
              "    </div>\n",
              "  </div>\n"
            ],
            "text/plain": [
              "  participant_id  Gender  Age  Group  MMSE\n",
              "0        sub-001       1   57      0    16\n",
              "1        sub-002       1   78      0    22\n",
              "3        sub-004       1   67      0    20\n",
              "4        sub-005       0   70      0    22\n",
              "5        sub-006       1   61      0    14"
            ]
          },
          "execution_count": 58,
          "metadata": {},
          "output_type": "execute_result"
        }
      ],
      "source": [
        "eeg_data_filtered = []\n",
        "list_participants_id = []\n",
        "\n",
        "for r in eeg_data:\n",
        "  # filtering only Alzheimer and Fronto Temporal Dementia subjects\n",
        "  if r.info['subject_info']['id'] in df_ad_ftd['participant_id'].tolist():\n",
        "    # filtering Outliers based in the tmax\n",
        "    if r.tmax > 550 and r.tmax < 1000:\n",
        "      eeg_data_filtered.append(r)\n",
        "      list_participants_id.append(r.info['subject_info']['id'])\n",
        "\n",
        "# Update Participants Info\n",
        "df_ad_ftd = df_ad_ftd[df_ad_ftd['participant_id'].isin(list_participants_id)]\n",
        "\n",
        "# Encoding Gender, Groups (Classes)\n",
        "gender_dict = {'M':0, 'F':1}\n",
        "group_dict = {'A':0, 'F':1}\n",
        "df_ad_ftd['Gender'].replace(gender_dict, inplace=True)\n",
        "df_ad_ftd['Group'].replace(group_dict, inplace=True)\n",
        "\n",
        "print('Participants Info:',len(df_ad_ftd))\n",
        "print('EEG Data Subjects:',len(eeg_data_filtered))\n",
        "df_ad_ftd.head()"
      ]
    },
    {
      "cell_type": "markdown",
      "metadata": {
        "id": "XxkMbVK6zv51"
      },
      "source": [
        "# Feature Extraction\n"
      ]
    },
    {
      "cell_type": "markdown",
      "metadata": {
        "id": "wJuRzWPm0yXe"
      },
      "source": [
        "Epochs for Channel Fp1\n"
      ]
    },
    {
      "cell_type": "code",
      "execution_count": 59,
      "metadata": {
        "colab": {
          "base_uri": "https://localhost:8080/"
        },
        "id": "fcFkKoBLzx0L",
        "outputId": "f4912d9f-f5ea-446d-e3f7-ee75230aaddd"
      },
      "outputs": [
        {
          "name": "stdout",
          "output_type": "stream",
          "text": [
            "Epochs created: 53\n"
          ]
        }
      ],
      "source": [
        "start_time = 0\n",
        "end_time = 550\n",
        "\n",
        "channels_to_pick = ['Fp1']\n",
        "\n",
        "duration = 60.0\n",
        "overlapping = 20.0\n",
        "\n",
        "epochs_list = []\n",
        "\n",
        "for raw in eeg_data_filtered:\n",
        "  ep = mne.make_fixed_length_epochs(raw.copy().pick(channels_to_pick).crop(tmin=start_time, tmax=end_time),\n",
        "                                    duration=duration, overlap=overlapping, preload=False, verbose='CRITICAL')\n",
        "  epochs_list.append(ep)\n",
        "\n",
        "print('Epochs created:', len(epochs_list))"
      ]
    },
    {
      "cell_type": "code",
      "execution_count": 60,
      "metadata": {
        "colab": {
          "base_uri": "https://localhost:8080/",
          "height": 587
        },
        "id": "0Q5o1cVn4pbl",
        "outputId": "8846f6dc-f2c2-4a04-9b0d-971b496d39de"
      },
      "outputs": [
        {
          "name": "stdout",
          "output_type": "stream",
          "text": [
            "Using data from preloaded Raw for 13 events and 30000 original time points ...\n",
            "0 bad epochs dropped\n",
            "Not setting metadata\n",
            "13 matching events found\n",
            "No baseline correction applied\n",
            "0 projection items activated\n"
          ]
        },
        {
          "data": {
            "image/png": "[encoded data removed]",
            "text/plain": [
              "<Figure size 640x480 with 4 Axes>"
            ]
          },
          "metadata": {},
          "output_type": "display_data"
        }
      ],
      "source": [
        "fig = epochs_list[0].plot_image(picks=[\"Fp1\"])\n",
        "plt.show()"
      ]
    },
    {
      "cell_type": "code",
      "execution_count": 68,
      "metadata": {
        "colab": {
          "base_uri": "https://localhost:8080/"
        },
        "id": "Bi-hWtI4YYNn",
        "outputId": "58ca4103-ed39-4918-83e6-12dbe81fede6"
      },
      "outputs": [
        {
          "data": {
            "text/plain": [
              "array([1, 78, 22, 0], dtype=object)"
            ]
          },
          "execution_count": 68,
          "metadata": {},
          "output_type": "execute_result"
        }
      ],
      "source": [
        "df_ad_ftd.loc[1][['Gender','Age','MMSE','Group']].values"
      ]
    },
    {
      "cell_type": "code",
      "execution_count": 92,
      "metadata": {
        "colab": {
          "base_uri": "https://localhost:8080/",
          "height": 555
        },
        "id": "VdhwYzml2Z_-",
        "outputId": "71e2f014-c176-46a3-ebf7-6363070411b6"
      },
      "outputs": [
        {
          "name": "stdout",
          "output_type": "stream",
          "text": [
            "Using data from preloaded Raw for 13 events and 30000 original time points ...\n",
            "Using data from preloaded Raw for 13 events and 30000 original time points ...\n",
            "Using data from preloaded Raw for 13 events and 30000 original time points ...\n"
          ]
        },
        {
          "ename": "KeyError",
          "evalue": "ignored",
          "output_type": "error",
          "traceback": [
            "\u001b[0;31m---------------------------------------------------------------------------\u001b[0m",
            "\u001b[0;31mKeyError\u001b[0m                                  Traceback (most recent call last)",
            "\u001b[0;32m/usr/local/lib/python3.10/dist-packages/pandas/core/indexes/base.py\u001b[0m in \u001b[0;36mget_loc\u001b[0;34m(self, key, method, tolerance)\u001b[0m\n\u001b[1;32m   3801\u001b[0m             \u001b[0;32mtry\u001b[0m\u001b[0;34m:\u001b[0m\u001b[0;34m\u001b[0m\u001b[0;34m\u001b[0m\u001b[0m\n\u001b[0;32m-> 3802\u001b[0;31m                 \u001b[0;32mreturn\u001b[0m \u001b[0mself\u001b[0m\u001b[0;34m.\u001b[0m\u001b[0m_engine\u001b[0m\u001b[0;34m.\u001b[0m\u001b[0mget_loc\u001b[0m\u001b[0;34m(\u001b[0m\u001b[0mcasted_key\u001b[0m\u001b[0;34m)\u001b[0m\u001b[0;34m\u001b[0m\u001b[0;34m\u001b[0m\u001b[0m\n\u001b[0m\u001b[1;32m   3803\u001b[0m             \u001b[0;32mexcept\u001b[0m \u001b[0mKeyError\u001b[0m \u001b[0;32mas\u001b[0m \u001b[0merr\u001b[0m\u001b[0;34m:\u001b[0m\u001b[0;34m\u001b[0m\u001b[0;34m\u001b[0m\u001b[0m\n",
            "\u001b[0;32m/usr/local/lib/python3.10/dist-packages/pandas/_libs/index.pyx\u001b[0m in \u001b[0;36mpandas._libs.index.IndexEngine.get_loc\u001b[0;34m()\u001b[0m\n",
            "\u001b[0;32m/usr/local/lib/python3.10/dist-packages/pandas/_libs/index.pyx\u001b[0m in \u001b[0;36mpandas._libs.index.IndexEngine.get_loc\u001b[0;34m()\u001b[0m\n",
            "\u001b[0;32mpandas/_libs/hashtable_class_helper.pxi\u001b[0m in \u001b[0;36mpandas._libs.hashtable.Int64HashTable.get_item\u001b[0;34m()\u001b[0m\n",
            "\u001b[0;32mpandas/_libs/hashtable_class_helper.pxi\u001b[0m in \u001b[0;36mpandas._libs.hashtable.Int64HashTable.get_item\u001b[0;34m()\u001b[0m\n",
            "\u001b[0;31mKeyError\u001b[0m: 2",
            "\nThe above exception was the direct cause of the following exception:\n",
            "\u001b[0;31mKeyError\u001b[0m                                  Traceback (most recent call last)",
            "\u001b[0;32m<ipython-input-92-82a6b52b5f0d>\u001b[0m in \u001b[0;36m<cell line: 3>\u001b[0;34m()\u001b[0m\n\u001b[1;32m      3\u001b[0m \u001b[0;32mfor\u001b[0m \u001b[0mi\u001b[0m\u001b[0;34m,\u001b[0m \u001b[0mepoch\u001b[0m \u001b[0;32min\u001b[0m \u001b[0menumerate\u001b[0m\u001b[0;34m(\u001b[0m\u001b[0mepochs_list\u001b[0m\u001b[0;34m)\u001b[0m\u001b[0;34m:\u001b[0m\u001b[0;34m\u001b[0m\u001b[0;34m\u001b[0m\u001b[0m\n\u001b[1;32m      4\u001b[0m   \u001b[0mepoch_features\u001b[0m \u001b[0;34m=\u001b[0m \u001b[0mepoch\u001b[0m\u001b[0;34m.\u001b[0m\u001b[0mget_data\u001b[0m\u001b[0;34m(\u001b[0m\u001b[0;34m)\u001b[0m\u001b[0;34m.\u001b[0m\u001b[0mreshape\u001b[0m\u001b[0;34m(\u001b[0m\u001b[0;36m13\u001b[0m\u001b[0;34m,\u001b[0m\u001b[0;36m30000\u001b[0m\u001b[0;34m)\u001b[0m\u001b[0;34m\u001b[0m\u001b[0;34m\u001b[0m\u001b[0m\n\u001b[0;32m----> 5\u001b[0;31m   \u001b[0madditional_data\u001b[0m \u001b[0;34m=\u001b[0m \u001b[0mdf_ad_ftd\u001b[0m\u001b[0;34m.\u001b[0m\u001b[0mloc\u001b[0m\u001b[0;34m[\u001b[0m\u001b[0mi\u001b[0m\u001b[0;34m]\u001b[0m\u001b[0;34m[\u001b[0m\u001b[0;34m[\u001b[0m\u001b[0;34m'Gender'\u001b[0m\u001b[0;34m,\u001b[0m\u001b[0;34m'Age'\u001b[0m\u001b[0;34m,\u001b[0m\u001b[0;34m'MMSE'\u001b[0m\u001b[0;34m,\u001b[0m\u001b[0;34m'Group'\u001b[0m\u001b[0;34m]\u001b[0m\u001b[0;34m]\u001b[0m\u001b[0;34m.\u001b[0m\u001b[0mvalues\u001b[0m\u001b[0;34m\u001b[0m\u001b[0;34m\u001b[0m\u001b[0m\n\u001b[0m\u001b[1;32m      6\u001b[0m   \u001b[0mfeatures\u001b[0m\u001b[0;34m.\u001b[0m\u001b[0mappend\u001b[0m\u001b[0;34m(\u001b[0m\u001b[0;34m[\u001b[0m\u001b[0mepoch_features\u001b[0m\u001b[0;34m,\u001b[0m\u001b[0madditional_data\u001b[0m\u001b[0;34m]\u001b[0m\u001b[0;34m)\u001b[0m\u001b[0;34m\u001b[0m\u001b[0;34m\u001b[0m\u001b[0m\n\u001b[1;32m      7\u001b[0m \u001b[0;34m\u001b[0m\u001b[0m\n",
            "\u001b[0;32m/usr/local/lib/python3.10/dist-packages/pandas/core/indexing.py\u001b[0m in \u001b[0;36m__getitem__\u001b[0;34m(self, key)\u001b[0m\n\u001b[1;32m   1071\u001b[0m \u001b[0;34m\u001b[0m\u001b[0m\n\u001b[1;32m   1072\u001b[0m             \u001b[0mmaybe_callable\u001b[0m \u001b[0;34m=\u001b[0m \u001b[0mcom\u001b[0m\u001b[0;34m.\u001b[0m\u001b[0mapply_if_callable\u001b[0m\u001b[0;34m(\u001b[0m\u001b[0mkey\u001b[0m\u001b[0;34m,\u001b[0m \u001b[0mself\u001b[0m\u001b[0;34m.\u001b[0m\u001b[0mobj\u001b[0m\u001b[0;34m)\u001b[0m\u001b[0;34m\u001b[0m\u001b[0;34m\u001b[0m\u001b[0m\n\u001b[0;32m-> 1073\u001b[0;31m             \u001b[0;32mreturn\u001b[0m \u001b[0mself\u001b[0m\u001b[0;34m.\u001b[0m\u001b[0m_getitem_axis\u001b[0m\u001b[0;34m(\u001b[0m\u001b[0mmaybe_callable\u001b[0m\u001b[0;34m,\u001b[0m \u001b[0maxis\u001b[0m\u001b[0;34m=\u001b[0m\u001b[0maxis\u001b[0m\u001b[0;34m)\u001b[0m\u001b[0;34m\u001b[0m\u001b[0;34m\u001b[0m\u001b[0m\n\u001b[0m\u001b[1;32m   1074\u001b[0m \u001b[0;34m\u001b[0m\u001b[0m\n\u001b[1;32m   1075\u001b[0m     \u001b[0;32mdef\u001b[0m \u001b[0m_is_scalar_access\u001b[0m\u001b[0;34m(\u001b[0m\u001b[0mself\u001b[0m\u001b[0;34m,\u001b[0m \u001b[0mkey\u001b[0m\u001b[0;34m:\u001b[0m \u001b[0mtuple\u001b[0m\u001b[0;34m)\u001b[0m\u001b[0;34m:\u001b[0m\u001b[0;34m\u001b[0m\u001b[0;34m\u001b[0m\u001b[0m\n",
            "\u001b[0;32m/usr/local/lib/python3.10/dist-packages/pandas/core/indexing.py\u001b[0m in \u001b[0;36m_getitem_axis\u001b[0;34m(self, key, axis)\u001b[0m\n\u001b[1;32m   1310\u001b[0m         \u001b[0;31m# fall thru to straight lookup\u001b[0m\u001b[0;34m\u001b[0m\u001b[0;34m\u001b[0m\u001b[0m\n\u001b[1;32m   1311\u001b[0m         \u001b[0mself\u001b[0m\u001b[0;34m.\u001b[0m\u001b[0m_validate_key\u001b[0m\u001b[0;34m(\u001b[0m\u001b[0mkey\u001b[0m\u001b[0;34m,\u001b[0m \u001b[0maxis\u001b[0m\u001b[0;34m)\u001b[0m\u001b[0;34m\u001b[0m\u001b[0;34m\u001b[0m\u001b[0m\n\u001b[0;32m-> 1312\u001b[0;31m         \u001b[0;32mreturn\u001b[0m \u001b[0mself\u001b[0m\u001b[0;34m.\u001b[0m\u001b[0m_get_label\u001b[0m\u001b[0;34m(\u001b[0m\u001b[0mkey\u001b[0m\u001b[0;34m,\u001b[0m \u001b[0maxis\u001b[0m\u001b[0;34m=\u001b[0m\u001b[0maxis\u001b[0m\u001b[0;34m)\u001b[0m\u001b[0;34m\u001b[0m\u001b[0;34m\u001b[0m\u001b[0m\n\u001b[0m\u001b[1;32m   1313\u001b[0m \u001b[0;34m\u001b[0m\u001b[0m\n\u001b[1;32m   1314\u001b[0m     \u001b[0;32mdef\u001b[0m \u001b[0m_get_slice_axis\u001b[0m\u001b[0;34m(\u001b[0m\u001b[0mself\u001b[0m\u001b[0;34m,\u001b[0m \u001b[0mslice_obj\u001b[0m\u001b[0;34m:\u001b[0m \u001b[0mslice\u001b[0m\u001b[0;34m,\u001b[0m \u001b[0maxis\u001b[0m\u001b[0;34m:\u001b[0m \u001b[0mint\u001b[0m\u001b[0;34m)\u001b[0m\u001b[0;34m:\u001b[0m\u001b[0;34m\u001b[0m\u001b[0;34m\u001b[0m\u001b[0m\n",
            "\u001b[0;32m/usr/local/lib/python3.10/dist-packages/pandas/core/indexing.py\u001b[0m in \u001b[0;36m_get_label\u001b[0;34m(self, label, axis)\u001b[0m\n\u001b[1;32m   1258\u001b[0m     \u001b[0;32mdef\u001b[0m \u001b[0m_get_label\u001b[0m\u001b[0;34m(\u001b[0m\u001b[0mself\u001b[0m\u001b[0;34m,\u001b[0m \u001b[0mlabel\u001b[0m\u001b[0;34m,\u001b[0m \u001b[0maxis\u001b[0m\u001b[0;34m:\u001b[0m \u001b[0mint\u001b[0m\u001b[0;34m)\u001b[0m\u001b[0;34m:\u001b[0m\u001b[0;34m\u001b[0m\u001b[0;34m\u001b[0m\u001b[0m\n\u001b[1;32m   1259\u001b[0m         \u001b[0;31m# GH#5567 this will fail if the label is not present in the axis.\u001b[0m\u001b[0;34m\u001b[0m\u001b[0;34m\u001b[0m\u001b[0m\n\u001b[0;32m-> 1260\u001b[0;31m         \u001b[0;32mreturn\u001b[0m \u001b[0mself\u001b[0m\u001b[0;34m.\u001b[0m\u001b[0mobj\u001b[0m\u001b[0;34m.\u001b[0m\u001b[0mxs\u001b[0m\u001b[0;34m(\u001b[0m\u001b[0mlabel\u001b[0m\u001b[0;34m,\u001b[0m \u001b[0maxis\u001b[0m\u001b[0;34m=\u001b[0m\u001b[0maxis\u001b[0m\u001b[0;34m)\u001b[0m\u001b[0;34m\u001b[0m\u001b[0;34m\u001b[0m\u001b[0m\n\u001b[0m\u001b[1;32m   1261\u001b[0m \u001b[0;34m\u001b[0m\u001b[0m\n\u001b[1;32m   1262\u001b[0m     \u001b[0;32mdef\u001b[0m \u001b[0m_handle_lowerdim_multi_index_axis0\u001b[0m\u001b[0;34m(\u001b[0m\u001b[0mself\u001b[0m\u001b[0;34m,\u001b[0m \u001b[0mtup\u001b[0m\u001b[0;34m:\u001b[0m \u001b[0mtuple\u001b[0m\u001b[0;34m)\u001b[0m\u001b[0;34m:\u001b[0m\u001b[0;34m\u001b[0m\u001b[0;34m\u001b[0m\u001b[0m\n",
            "\u001b[0;32m/usr/local/lib/python3.10/dist-packages/pandas/core/generic.py\u001b[0m in \u001b[0;36mxs\u001b[0;34m(self, key, axis, level, drop_level)\u001b[0m\n\u001b[1;32m   4054\u001b[0m                     \u001b[0mnew_index\u001b[0m \u001b[0;34m=\u001b[0m \u001b[0mindex\u001b[0m\u001b[0;34m[\u001b[0m\u001b[0mloc\u001b[0m\u001b[0;34m]\u001b[0m\u001b[0;34m\u001b[0m\u001b[0;34m\u001b[0m\u001b[0m\n\u001b[1;32m   4055\u001b[0m         \u001b[0;32melse\u001b[0m\u001b[0;34m:\u001b[0m\u001b[0;34m\u001b[0m\u001b[0;34m\u001b[0m\u001b[0m\n\u001b[0;32m-> 4056\u001b[0;31m             \u001b[0mloc\u001b[0m \u001b[0;34m=\u001b[0m \u001b[0mindex\u001b[0m\u001b[0;34m.\u001b[0m\u001b[0mget_loc\u001b[0m\u001b[0;34m(\u001b[0m\u001b[0mkey\u001b[0m\u001b[0;34m)\u001b[0m\u001b[0;34m\u001b[0m\u001b[0;34m\u001b[0m\u001b[0m\n\u001b[0m\u001b[1;32m   4057\u001b[0m \u001b[0;34m\u001b[0m\u001b[0m\n\u001b[1;32m   4058\u001b[0m             \u001b[0;32mif\u001b[0m \u001b[0misinstance\u001b[0m\u001b[0;34m(\u001b[0m\u001b[0mloc\u001b[0m\u001b[0;34m,\u001b[0m \u001b[0mnp\u001b[0m\u001b[0;34m.\u001b[0m\u001b[0mndarray\u001b[0m\u001b[0;34m)\u001b[0m\u001b[0;34m:\u001b[0m\u001b[0;34m\u001b[0m\u001b[0;34m\u001b[0m\u001b[0m\n",
            "\u001b[0;32m/usr/local/lib/python3.10/dist-packages/pandas/core/indexes/base.py\u001b[0m in \u001b[0;36mget_loc\u001b[0;34m(self, key, method, tolerance)\u001b[0m\n\u001b[1;32m   3802\u001b[0m                 \u001b[0;32mreturn\u001b[0m \u001b[0mself\u001b[0m\u001b[0;34m.\u001b[0m\u001b[0m_engine\u001b[0m\u001b[0;34m.\u001b[0m\u001b[0mget_loc\u001b[0m\u001b[0;34m(\u001b[0m\u001b[0mcasted_key\u001b[0m\u001b[0;34m)\u001b[0m\u001b[0;34m\u001b[0m\u001b[0;34m\u001b[0m\u001b[0m\n\u001b[1;32m   3803\u001b[0m             \u001b[0;32mexcept\u001b[0m \u001b[0mKeyError\u001b[0m \u001b[0;32mas\u001b[0m \u001b[0merr\u001b[0m\u001b[0;34m:\u001b[0m\u001b[0;34m\u001b[0m\u001b[0;34m\u001b[0m\u001b[0m\n\u001b[0;32m-> 3804\u001b[0;31m                 \u001b[0;32mraise\u001b[0m \u001b[0mKeyError\u001b[0m\u001b[0;34m(\u001b[0m\u001b[0mkey\u001b[0m\u001b[0;34m)\u001b[0m \u001b[0;32mfrom\u001b[0m \u001b[0merr\u001b[0m\u001b[0;34m\u001b[0m\u001b[0;34m\u001b[0m\u001b[0m\n\u001b[0m\u001b[1;32m   3805\u001b[0m             \u001b[0;32mexcept\u001b[0m \u001b[0mTypeError\u001b[0m\u001b[0;34m:\u001b[0m\u001b[0;34m\u001b[0m\u001b[0;34m\u001b[0m\u001b[0m\n\u001b[1;32m   3806\u001b[0m                 \u001b[0;31m# If we have a listlike key, _check_indexing_error will raise\u001b[0m\u001b[0;34m\u001b[0m\u001b[0;34m\u001b[0m\u001b[0m\n",
            "\u001b[0;31mKeyError\u001b[0m: 2"
          ]
        }
      ],
      "source": [
        "# Get features from Epochs (epochs)\n",
        "features = []\n",
        "for i, epoch in enumerate(epochs_list):\n",
        "  epoch_features = epoch.get_data().reshape(13,30000)\n",
        "  additional_data = df_ad_ftd.loc[i][['Gender','Age','MMSE','Group']].values\n",
        "  features.append([epoch_features,additional_data])\n",
        "\n",
        "# Adding external features (Age, Gender, Class)\n",
        "'''features_combined = []\n",
        "for i, epoch_features in enumerate(features):\n",
        "  additional_data = df_ad_ftd.loc[i][['Gender','Age','MMSE','Group']].values\n",
        "  comb_feat_add_data = np.stack((epoch_features, additional_data))\n",
        "  features_combined.append(comb_feat_add_data)'''\n",
        "\n",
        "concatenated_features = np.concatenate(features, axis=0)\n",
        "concatenated_features.shape"
      ]
    },
    {
      "cell_type": "markdown",
      "metadata": {
        "id": "XB8CAxMbQSea"
      },
      "source": [
        "---\n"
      ]
    }
  ],
  "metadata": {
    "colab": {
      "authorship_tag": "ABX9TyNeiD2MeovT1CojT7wMZssY",
      "gpuType": "T4",
      "include_colab_link": true,
      "provenance": []
    },
    "kernelspec": {
      "display_name": "Python 3",
      "name": "python3"
    },
    "language_info": {
      "codemirror_mode": {
        "name": "ipython",
        "version": 3
      },
      "file_extension": ".py",
      "mimetype": "text/x-python",
      "name": "python",
      "nbconvert_exporter": "python",
      "pygments_lexer": "ipython3",
      "version": "3.11.0"
    },
    "widgets": {
      "application/vnd.jupyter.widget-state+json": {
        "1279b2d524204191836acbbf2f169f8e": {
          "model_module": "@jupyter-widgets/controls",
          "model_module_version": "1.5.0",
          "model_name": "DescriptionStyleModel",
          "state": {
            "_model_module": "@jupyter-widgets/controls",
            "_model_module_version": "1.5.0",
            "_model_name": "DescriptionStyleModel",
            "_view_count": null,
            "_view_module": "@jupyter-widgets/base",
            "_view_module_version": "1.2.0",
            "_view_name": "StyleView",
            "description_width": ""
          }
        },
        "1922d3c1e9e64f5f9163b974bcc25ffd": {
          "model_module": "@jupyter-widgets/base",
          "model_module_version": "1.2.0",
          "model_name": "LayoutModel",
          "state": {
            "_model_module": "@jupyter-widgets/base",
            "_model_module_version": "1.2.0",
            "_model_name": "LayoutModel",
            "_view_count": null,
            "_view_module": "@jupyter-widgets/base",
            "_view_module_version": "1.2.0",
            "_view_name": "LayoutView",
            "align_content": null,
            "align_items": null,
            "align_self": null,
            "border": null,
            "bottom": null,
            "display": null,
            "flex": null,
            "flex_flow": null,
            "grid_area": null,
            "grid_auto_columns": null,
            "grid_auto_flow": null,
            "grid_auto_rows": null,
            "grid_column": null,
            "grid_gap": null,
            "grid_row": null,
            "grid_template_areas": null,
            "grid_template_columns": null,
            "grid_template_rows": null,
            "height": null,
            "justify_content": null,
            "justify_items": null,
            "left": null,
            "margin": null,
            "max_height": null,
            "max_width": null,
            "min_height": null,
            "min_width": null,
            "object_fit": null,
            "object_position": null,
            "order": null,
            "overflow": null,
            "overflow_x": null,
            "overflow_y": null,
            "padding": null,
            "right": null,
            "top": null,
            "visibility": null,
            "width": null
          }
        },
        "2700308b524c45f59edddcaf8a23b918": {
          "model_module": "@jupyter-widgets/controls",
          "model_module_version": "1.5.0",
          "model_name": "FloatProgressModel",
          "state": {
            "_dom_classes": [],
            "_model_module": "@jupyter-widgets/controls",
            "_model_module_version": "1.5.0",
            "_model_name": "FloatProgressModel",
            "_view_count": null,
            "_view_module": "@jupyter-widgets/controls",
            "_view_module_version": "1.5.0",
            "_view_name": "ProgressView",
            "bar_style": "success",
            "description": "",
            "description_tooltip": null,
            "layout": "IPY_MODEL_8b26d6db621b4ca6b24d499a63a186c9",
            "max": 1,
            "min": 0,
            "orientation": "horizontal",
            "style": "IPY_MODEL_ce2f0635eb40449ba16f75f952ad6cbf",
            "value": 1
          }
        },
        "2a971e18ce054340a68d99e4f014a8d8": {
          "model_module": "@jupyter-widgets/base",
          "model_module_version": "1.2.0",
          "model_name": "LayoutModel",
          "state": {
            "_model_module": "@jupyter-widgets/base",
            "_model_module_version": "1.2.0",
            "_model_name": "LayoutModel",
            "_view_count": null,
            "_view_module": "@jupyter-widgets/base",
            "_view_module_version": "1.2.0",
            "_view_name": "LayoutView",
            "align_content": null,
            "align_items": null,
            "align_self": null,
            "border": null,
            "bottom": null,
            "display": null,
            "flex": null,
            "flex_flow": null,
            "grid_area": null,
            "grid_auto_columns": null,
            "grid_auto_flow": null,
            "grid_auto_rows": null,
            "grid_column": null,
            "grid_gap": null,
            "grid_row": null,
            "grid_template_areas": null,
            "grid_template_columns": null,
            "grid_template_rows": null,
            "height": null,
            "justify_content": null,
            "justify_items": null,
            "left": null,
            "margin": null,
            "max_height": null,
            "max_width": null,
            "min_height": null,
            "min_width": null,
            "object_fit": null,
            "object_position": null,
            "order": null,
            "overflow": null,
            "overflow_x": null,
            "overflow_y": null,
            "padding": null,
            "right": null,
            "top": null,
            "visibility": null,
            "width": null
          }
        },
        "31eb69c2bc1544d38e70dba10f696bd6": {
          "model_module": "@jupyter-widgets/controls",
          "model_module_version": "1.5.0",
          "model_name": "HBoxModel",
          "state": {
            "_dom_classes": [],
            "_model_module": "@jupyter-widgets/controls",
            "_model_module_version": "1.5.0",
            "_model_name": "HBoxModel",
            "_view_count": null,
            "_view_module": "@jupyter-widgets/controls",
            "_view_module_version": "1.5.0",
            "_view_name": "HBoxView",
            "box_style": "",
            "children": [
              "IPY_MODEL_de6ced9bb4d94f34ac886dc5831380b3",
              "IPY_MODEL_2700308b524c45f59edddcaf8a23b918",
              "IPY_MODEL_e8e92ce165c949f6a8648358d57e71e3"
            ],
            "layout": "IPY_MODEL_2a971e18ce054340a68d99e4f014a8d8"
          }
        },
        "622c721ceb7c48f1a0b1492eb2767874": {
          "model_module": "@jupyter-widgets/controls",
          "model_module_version": "1.5.0",
          "model_name": "DescriptionStyleModel",
          "state": {
            "_model_module": "@jupyter-widgets/controls",
            "_model_module_version": "1.5.0",
            "_model_name": "DescriptionStyleModel",
            "_view_count": null,
            "_view_module": "@jupyter-widgets/base",
            "_view_module_version": "1.2.0",
            "_view_name": "StyleView",
            "description_width": ""
          }
        },
        "8b26d6db621b4ca6b24d499a63a186c9": {
          "model_module": "@jupyter-widgets/base",
          "model_module_version": "1.2.0",
          "model_name": "LayoutModel",
          "state": {
            "_model_module": "@jupyter-widgets/base",
            "_model_module_version": "1.2.0",
            "_model_name": "LayoutModel",
            "_view_count": null,
            "_view_module": "@jupyter-widgets/base",
            "_view_module_version": "1.2.0",
            "_view_name": "LayoutView",
            "align_content": null,
            "align_items": null,
            "align_self": null,
            "border": null,
            "bottom": null,
            "display": null,
            "flex": null,
            "flex_flow": null,
            "grid_area": null,
            "grid_auto_columns": null,
            "grid_auto_flow": null,
            "grid_auto_rows": null,
            "grid_column": null,
            "grid_gap": null,
            "grid_row": null,
            "grid_template_areas": null,
            "grid_template_columns": null,
            "grid_template_rows": null,
            "height": null,
            "justify_content": null,
            "justify_items": null,
            "left": null,
            "margin": null,
            "max_height": null,
            "max_width": null,
            "min_height": null,
            "min_width": null,
            "object_fit": null,
            "object_position": null,
            "order": null,
            "overflow": null,
            "overflow_x": null,
            "overflow_y": null,
            "padding": null,
            "right": null,
            "top": null,
            "visibility": null,
            "width": "20px"
          }
        },
        "cda80586910e4ff08561fce643c748ea": {
          "model_module": "@jupyter-widgets/base",
          "model_module_version": "1.2.0",
          "model_name": "LayoutModel",
          "state": {
            "_model_module": "@jupyter-widgets/base",
            "_model_module_version": "1.2.0",
            "_model_name": "LayoutModel",
            "_view_count": null,
            "_view_module": "@jupyter-widgets/base",
            "_view_module_version": "1.2.0",
            "_view_name": "LayoutView",
            "align_content": null,
            "align_items": null,
            "align_self": null,
            "border": null,
            "bottom": null,
            "display": null,
            "flex": null,
            "flex_flow": null,
            "grid_area": null,
            "grid_auto_columns": null,
            "grid_auto_flow": null,
            "grid_auto_rows": null,
            "grid_column": null,
            "grid_gap": null,
            "grid_row": null,
            "grid_template_areas": null,
            "grid_template_columns": null,
            "grid_template_rows": null,
            "height": null,
            "justify_content": null,
            "justify_items": null,
            "left": null,
            "margin": null,
            "max_height": null,
            "max_width": null,
            "min_height": null,
            "min_width": null,
            "object_fit": null,
            "object_position": null,
            "order": null,
            "overflow": null,
            "overflow_x": null,
            "overflow_y": null,
            "padding": null,
            "right": null,
            "top": null,
            "visibility": null,
            "width": null
          }
        },
        "ce2f0635eb40449ba16f75f952ad6cbf": {
          "model_module": "@jupyter-widgets/controls",
          "model_module_version": "1.5.0",
          "model_name": "ProgressStyleModel",
          "state": {
            "_model_module": "@jupyter-widgets/controls",
            "_model_module_version": "1.5.0",
            "_model_name": "ProgressStyleModel",
            "_view_count": null,
            "_view_module": "@jupyter-widgets/base",
            "_view_module_version": "1.2.0",
            "_view_name": "StyleView",
            "bar_color": null,
            "description_width": ""
          }
        },
        "de6ced9bb4d94f34ac886dc5831380b3": {
          "model_module": "@jupyter-widgets/controls",
          "model_module_version": "1.5.0",
          "model_name": "HTMLModel",
          "state": {
            "_dom_classes": [],
            "_model_module": "@jupyter-widgets/controls",
            "_model_module_version": "1.5.0",
            "_model_name": "HTMLModel",
            "_view_count": null,
            "_view_module": "@jupyter-widgets/controls",
            "_view_module_version": "1.5.0",
            "_view_name": "HTMLView",
            "description": "",
            "description_tooltip": null,
            "layout": "IPY_MODEL_cda80586910e4ff08561fce643c748ea",
            "placeholder": "​",
            "style": "IPY_MODEL_1279b2d524204191836acbbf2f169f8e",
            "value": "📁 Traversing directories for ds004504 : "
          }
        },
        "e8e92ce165c949f6a8648358d57e71e3": {
          "model_module": "@jupyter-widgets/controls",
          "model_module_version": "1.5.0",
          "model_name": "HTMLModel",
          "state": {
            "_dom_classes": [],
            "_model_module": "@jupyter-widgets/controls",
            "_model_module_version": "1.5.0",
            "_model_name": "HTMLModel",
            "_view_count": null,
            "_view_module": "@jupyter-widgets/controls",
            "_view_module_version": "1.5.0",
            "_view_name": "HTMLView",
            "description": "",
            "description_tooltip": null,
            "layout": "IPY_MODEL_1922d3c1e9e64f5f9163b974bcc25ffd",
            "placeholder": "​",
            "style": "IPY_MODEL_622c721ceb7c48f1a0b1492eb2767874",
            "value": " 357/? [00:35&lt;00:00, 15.22 entities/s]"
          }
        }
      }
    }
  },
  "nbformat": 4,
  "nbformat_minor": 0
}
