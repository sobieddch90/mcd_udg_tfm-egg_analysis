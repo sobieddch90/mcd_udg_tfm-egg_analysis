{
  "cells": [
    {
      "cell_type": "markdown",
      "metadata": {
        "colab_type": "text",
        "id": "view-in-github"
      },
      "source": [
        "<a href=\"https://colab.research.google.com/github/sobieddch90/mcd_udg_tfm-egg_analysis/blob/main/EEG%20Predictions%20-%20Epochs%20Approach.ipynb\" target=\"_parent\"><img src=\"https://colab.research.google.com/assets/colab-badge.svg\" alt=\"Open In Colab\"/></a>\n"
      ]
    },
    {
      "cell_type": "markdown",
      "metadata": {
        "id": "56o8JMMh85Bd"
      },
      "source": [
        "# EEG Analysis by Using Time Domain Feature Extraction\n"
      ]
    },
    {
      "cell_type": "markdown",
      "metadata": {
        "id": "iHopY5Jz8_oR"
      },
      "source": [
        "**Install Libraries required**\n",
        "\n",
        "- MNE: `pip install mne`\n",
        "- XGBoost: `pip install xgboost`\n",
        "\n",
        "Only required if you are using Conda Environment\n",
        "\n",
        "- tkinter: `conda install -c anaconda tk`\n"
      ]
    },
    {
      "cell_type": "code",
      "execution_count": 4,
      "metadata": {
        "id": "G9bX7eBBdomz"
      },
      "outputs": [
        {
          "name": "stderr",
          "output_type": "stream",
          "text": [
            "UsageError: Line magic function `%%capture` not found.\n"
          ]
        }
      ],
      "source": [
        "# Run if you're using Google Colab\n",
        "%%capture\n",
        "!pip install mne\n",
        "!pip install xgboost"
      ]
    },
    {
      "cell_type": "code",
      "execution_count": 1,
      "metadata": {
        "id": "dCPZPXL-8IS6"
      },
      "outputs": [],
      "source": [
        "import numpy as np\n",
        "import pandas as pd\n",
        "import json\n",
        "import os\n",
        "\n",
        "# If you use google colab.\n",
        "#from google.colab import drive \n",
        "\n",
        "# If you use conda environment\n",
        "from tkinter import Tk\n",
        "from tkinter.filedialog import askdirectory\n",
        "\n",
        "import matplotlib.pyplot as plt\n",
        "import seaborn as sns\n",
        "\n",
        "import mne"
      ]
    },
    {
      "cell_type": "markdown",
      "metadata": {
        "id": "Ss_sPRMs9Jjk"
      },
      "source": [
        "## Read the Data\n"
      ]
    },
    {
      "cell_type": "markdown",
      "metadata": {},
      "source": [
        "Using Google Drive files\n"
      ]
    },
    {
      "cell_type": "code",
      "execution_count": 3,
      "metadata": {
        "colab": {
          "base_uri": "https://localhost:8080/"
        },
        "id": "jdcsHq73deYX",
        "outputId": "6b0508d7-933c-4c75-dda1-7cb25382ebd7"
      },
      "outputs": [
        {
          "name": "stdout",
          "output_type": "stream",
          "text": [
            "Drive already mounted at /content/drive; to attempt to forcibly remount, call drive.mount(\"/content/drive\", force_remount=True).\n"
          ]
        }
      ],
      "source": [
        "drive.mount('/content/drive')\n",
        "path = '/content/drive/MyDrive/EEG_Dataset/ds004504'"
      ]
    },
    {
      "cell_type": "markdown",
      "metadata": {},
      "source": [
        "Using Local Environment\n"
      ]
    },
    {
      "cell_type": "code",
      "execution_count": 2,
      "metadata": {},
      "outputs": [
        {
          "name": "stderr",
          "output_type": "stream",
          "text": [
            "2023-07-16 22:59:15.030 python[65677:1212446] +[CATransaction synchronize] called within transaction\n",
            "2023-07-16 22:59:18.217 python[65677:1212446] +[CATransaction synchronize] called within transaction\n",
            "2023-07-16 22:59:18.223 python[65677:1212446] +[CATransaction synchronize] called within transaction\n",
            "2023-07-16 22:59:18.234 python[65677:1212446] +[CATransaction synchronize] called within transaction\n",
            "2023-07-16 22:59:18.248 python[65677:1212446] +[CATransaction synchronize] called within transaction\n",
            "2023-07-16 22:59:18.254 python[65677:1212446] +[CATransaction synchronize] called within transaction\n",
            "2023-07-16 22:59:18.267 python[65677:1212446] +[CATransaction synchronize] called within transaction\n",
            "2023-07-16 22:59:18.281 python[65677:1212446] +[CATransaction synchronize] called within transaction\n",
            "2023-07-16 22:59:18.289 python[65677:1212446] +[CATransaction synchronize] called within transaction\n",
            "2023-07-16 22:59:18.300 python[65677:1212446] +[CATransaction synchronize] called within transaction\n",
            "2023-07-16 22:59:18.310 python[65677:1212446] +[CATransaction synchronize] called within transaction\n",
            "2023-07-16 22:59:18.322 python[65677:1212446] +[CATransaction synchronize] called within transaction\n",
            "2023-07-16 22:59:18.334 python[65677:1212446] +[CATransaction synchronize] called within transaction\n",
            "2023-07-16 22:59:18.346 python[65677:1212446] +[CATransaction synchronize] called within transaction\n",
            "2023-07-16 22:59:18.355 python[65677:1212446] +[CATransaction synchronize] called within transaction\n",
            "2023-07-16 22:59:18.368 python[65677:1212446] +[CATransaction synchronize] called within transaction\n",
            "2023-07-16 22:59:18.380 python[65677:1212446] +[CATransaction synchronize] called within transaction\n",
            "2023-07-16 22:59:18.390 python[65677:1212446] +[CATransaction synchronize] called within transaction\n",
            "2023-07-16 22:59:18.404 python[65677:1212446] +[CATransaction synchronize] called within transaction\n",
            "2023-07-16 22:59:18.413 python[65677:1212446] +[CATransaction synchronize] called within transaction\n",
            "2023-07-16 22:59:18.424 python[65677:1212446] +[CATransaction synchronize] called within transaction\n",
            "2023-07-16 22:59:18.446 python[65677:1212446] +[CATransaction synchronize] called within transaction\n",
            "2023-07-16 22:59:18.470 python[65677:1212446] +[CATransaction synchronize] called within transaction\n",
            "2023-07-16 22:59:18.491 python[65677:1212446] +[CATransaction synchronize] called within transaction\n",
            "2023-07-16 22:59:18.514 python[65677:1212446] +[CATransaction synchronize] called within transaction\n",
            "2023-07-16 22:59:18.526 python[65677:1212446] +[CATransaction synchronize] called within transaction\n",
            "2023-07-16 22:59:18.537 python[65677:1212446] +[CATransaction synchronize] called within transaction\n",
            "2023-07-16 22:59:18.547 python[65677:1212446] +[CATransaction synchronize] called within transaction\n",
            "2023-07-16 22:59:18.558 python[65677:1212446] +[CATransaction synchronize] called within transaction\n",
            "2023-07-16 22:59:18.572 python[65677:1212446] +[CATransaction synchronize] called within transaction\n",
            "2023-07-16 22:59:18.581 python[65677:1212446] +[CATransaction synchronize] called within transaction\n",
            "2023-07-16 22:59:18.593 python[65677:1212446] +[CATransaction synchronize] called within transaction\n",
            "2023-07-16 22:59:18.704 python[65677:1212446] +[CATransaction synchronize] called within transaction\n"
          ]
        }
      ],
      "source": [
        "root = Tk()\n",
        "root.withdraw()\n",
        "\n",
        "path = askdirectory()"
      ]
    },
    {
      "cell_type": "markdown",
      "metadata": {},
      "source": [
        "Read the Data\n"
      ]
    },
    {
      "cell_type": "code",
      "execution_count": 3,
      "metadata": {
        "colab": {
          "base_uri": "https://localhost:8080/",
          "height": 206
        },
        "id": "MHwp8F_n9ucs",
        "outputId": "930acb10-4d3f-4f82-9795-ac4d1b3df0a2"
      },
      "outputs": [
        {
          "data": {
            "text/html": [
              "<div>\n",
              "<style scoped>\n",
              "    .dataframe tbody tr th:only-of-type {\n",
              "        vertical-align: middle;\n",
              "    }\n",
              "\n",
              "    .dataframe tbody tr th {\n",
              "        vertical-align: top;\n",
              "    }\n",
              "\n",
              "    .dataframe thead th {\n",
              "        text-align: right;\n",
              "    }\n",
              "</style>\n",
              "<table border=\"1\" class=\"dataframe\">\n",
              "  <thead>\n",
              "    <tr style=\"text-align: right;\">\n",
              "      <th></th>\n",
              "      <th>participant_id</th>\n",
              "      <th>Gender</th>\n",
              "      <th>Age</th>\n",
              "      <th>Group</th>\n",
              "      <th>MMSE</th>\n",
              "    </tr>\n",
              "  </thead>\n",
              "  <tbody>\n",
              "    <tr>\n",
              "      <th>0</th>\n",
              "      <td>sub-001</td>\n",
              "      <td>F</td>\n",
              "      <td>57</td>\n",
              "      <td>A</td>\n",
              "      <td>16</td>\n",
              "    </tr>\n",
              "    <tr>\n",
              "      <th>1</th>\n",
              "      <td>sub-002</td>\n",
              "      <td>F</td>\n",
              "      <td>78</td>\n",
              "      <td>A</td>\n",
              "      <td>22</td>\n",
              "    </tr>\n",
              "    <tr>\n",
              "      <th>2</th>\n",
              "      <td>sub-003</td>\n",
              "      <td>M</td>\n",
              "      <td>70</td>\n",
              "      <td>A</td>\n",
              "      <td>14</td>\n",
              "    </tr>\n",
              "    <tr>\n",
              "      <th>3</th>\n",
              "      <td>sub-004</td>\n",
              "      <td>F</td>\n",
              "      <td>67</td>\n",
              "      <td>A</td>\n",
              "      <td>20</td>\n",
              "    </tr>\n",
              "    <tr>\n",
              "      <th>4</th>\n",
              "      <td>sub-005</td>\n",
              "      <td>M</td>\n",
              "      <td>70</td>\n",
              "      <td>A</td>\n",
              "      <td>22</td>\n",
              "    </tr>\n",
              "  </tbody>\n",
              "</table>\n",
              "</div>"
            ],
            "text/plain": [
              "  participant_id Gender  Age Group  MMSE\n",
              "0        sub-001      F   57     A    16\n",
              "1        sub-002      F   78     A    22\n",
              "2        sub-003      M   70     A    14\n",
              "3        sub-004      F   67     A    20\n",
              "4        sub-005      M   70     A    22"
            ]
          },
          "execution_count": 3,
          "metadata": {},
          "output_type": "execute_result"
        }
      ],
      "source": [
        "filename_part = 'participants.tsv'\n",
        "\n",
        "df_partipants = pd.read_csv(path+'/'+filename_part, sep='\\t')\n",
        "df_partipants.head()"
      ]
    },
    {
      "cell_type": "code",
      "execution_count": 4,
      "metadata": {
        "colab": {
          "base_uri": "https://localhost:8080/",
          "height": 472
        },
        "id": "wDGOxcVay4Zq",
        "outputId": "3e6e97b0-063f-4284-de00-5a4b421bdd77"
      },
      "outputs": [
        {
          "data": {
            "image/png": "[encoded data removed]",
            "text/plain": [
              "<Figure size 640x480 with 1 Axes>"
            ]
          },
          "metadata": {},
          "output_type": "display_data"
        }
      ],
      "source": [
        "sns.countplot(x=df_partipants[\"Group\"])\n",
        "plt.title('Distribution of Subjects by Group')\n",
        "plt.show()"
      ]
    },
    {
      "cell_type": "code",
      "execution_count": 5,
      "metadata": {
        "colab": {
          "base_uri": "https://localhost:8080/"
        },
        "id": "-W-xBMmC8iVL",
        "outputId": "6fc3568b-10c9-481f-c4d3-6401d4cbe93f"
      },
      "outputs": [
        {
          "name": "stdout",
          "output_type": "stream",
          "text": [
            "88\n",
            "['sub-021', 'sub-026', 'sub-019', 'sub-010', 'sub-017']\n"
          ]
        }
      ],
      "source": [
        "path_derivatives = path+'/derivatives/'\n",
        "\n",
        "#dir_list = os.listdir(path_derivatives)\n",
        "#dir_list.sort()\n",
        "\n",
        "items = os.listdir(path_derivatives)\n",
        "dir_list = [item for item in items if os.path.isdir(os.path.join(path, item))]\n",
        "\n",
        "print(len(dir_list))\n",
        "print(dir_list[:5])"
      ]
    },
    {
      "cell_type": "code",
      "execution_count": 6,
      "metadata": {
        "colab": {
          "base_uri": "https://localhost:8080/"
        },
        "id": "pC0NgOge9S4z",
        "outputId": "37461b54-cdd4-4a47-cbac-aa9935178346"
      },
      "outputs": [
        {
          "name": "stdout",
          "output_type": "stream",
          "text": [
            "EEG Files Loaded: 88\n"
          ]
        }
      ],
      "source": [
        "eeg_data = []\n",
        "\n",
        "for l in dir_list:\n",
        "  folder = path_derivatives+l+'/eeg/'\n",
        "  f = l+'_task-eyesclosed_eeg.set'\n",
        "  #print(l)\n",
        "  r = mne.io.read_raw_eeglab(folder+f, preload=False, verbose='CRITICAL')\n",
        "  participant_info = {'id': l}\n",
        "  r.info['subject_info'] = participant_info\n",
        "  eeg_data.append(r)\n",
        "\n",
        "print('EEG Files Loaded:',len(eeg_data))"
      ]
    },
    {
      "cell_type": "markdown",
      "metadata": {
        "id": "CoDc_4hb9ykq"
      },
      "source": [
        "## Preselect Datasets\n"
      ]
    },
    {
      "cell_type": "markdown",
      "metadata": {
        "id": "w0SU-GChemaR"
      },
      "source": [
        "Show Maximum Time Distribution.\n"
      ]
    },
    {
      "cell_type": "code",
      "execution_count": 7,
      "metadata": {
        "colab": {
          "base_uri": "https://localhost:8080/",
          "height": 452
        },
        "id": "Rb5P-jX9enIt",
        "outputId": "1f67c96f-a195-48a2-8a70-657f442052b5"
      },
      "outputs": [
        {
          "data": {
            "image/png": "[encoded data removed]",
            "text/plain": [
              "<Figure size 640x480 with 1 Axes>"
            ]
          },
          "metadata": {},
          "output_type": "display_data"
        }
      ],
      "source": [
        "time_max = []\n",
        "\n",
        "for r in eeg_data:\n",
        "  time_max.append(r.tmax)\n",
        "\n",
        "const_min = np.full(len(eeg_data),550)\n",
        "const_max = np.full(len(eeg_data),1000)\n",
        "\n",
        "plt.plot(time_max)\n",
        "plt.plot(const_min, linestyle='dotted', c='gray')\n",
        "plt.plot(const_max, linestyle='dotted', c='gray')\n",
        "\n",
        "plt.title('Time Max by Subject')\n",
        "plt.show()"
      ]
    },
    {
      "cell_type": "markdown",
      "metadata": {
        "id": "t2BGUX0WEeOR"
      },
      "source": [
        "Select Alzheimer and Fronto Temporal Dementia Subjects from Participants Info\n"
      ]
    },
    {
      "cell_type": "code",
      "execution_count": 8,
      "metadata": {
        "colab": {
          "base_uri": "https://localhost:8080/",
          "height": 432
        },
        "id": "B14UdDJRjV0J",
        "outputId": "1d168897-2eb2-4c58-b619-d1f030b3fd34"
      },
      "outputs": [
        {
          "name": "stdout",
          "output_type": "stream",
          "text": [
            "Subjects from Alzheimer and Fronto Temporal Dementia datasets: 59\n"
          ]
        },
        {
          "name": "stderr",
          "output_type": "stream",
          "text": [
            "/var/folders/42/zkw31xg11x1f6dpl9zz6hmz00000gn/T/ipykernel_65677/3992049335.py:7: SettingWithCopyWarning: \n",
            "A value is trying to be set on a copy of a slice from a DataFrame.\n",
            "Try using .loc[row_indexer,col_indexer] = value instead\n",
            "\n",
            "See the caveats in the documentation: https://pandas.pydata.org/pandas-docs/stable/user_guide/indexing.html#returning-a-view-versus-a-copy\n",
            "  df_ad_ftd['Gender'] = df_ad_ftd['Gender'].replace(gender_dict)\n",
            "/var/folders/42/zkw31xg11x1f6dpl9zz6hmz00000gn/T/ipykernel_65677/3992049335.py:8: SettingWithCopyWarning: \n",
            "A value is trying to be set on a copy of a slice from a DataFrame.\n",
            "Try using .loc[row_indexer,col_indexer] = value instead\n",
            "\n",
            "See the caveats in the documentation: https://pandas.pydata.org/pandas-docs/stable/user_guide/indexing.html#returning-a-view-versus-a-copy\n",
            "  df_ad_ftd['Group'] = df_ad_ftd['Group'].replace(group_dict)\n"
          ]
        },
        {
          "data": {
            "text/html": [
              "<div>\n",
              "<style scoped>\n",
              "    .dataframe tbody tr th:only-of-type {\n",
              "        vertical-align: middle;\n",
              "    }\n",
              "\n",
              "    .dataframe tbody tr th {\n",
              "        vertical-align: top;\n",
              "    }\n",
              "\n",
              "    .dataframe thead th {\n",
              "        text-align: right;\n",
              "    }\n",
              "</style>\n",
              "<table border=\"1\" class=\"dataframe\">\n",
              "  <thead>\n",
              "    <tr style=\"text-align: right;\">\n",
              "      <th></th>\n",
              "      <th>participant_id</th>\n",
              "      <th>Gender</th>\n",
              "      <th>Age</th>\n",
              "      <th>Group</th>\n",
              "      <th>MMSE</th>\n",
              "    </tr>\n",
              "  </thead>\n",
              "  <tbody>\n",
              "    <tr>\n",
              "      <th>0</th>\n",
              "      <td>sub-001</td>\n",
              "      <td>1</td>\n",
              "      <td>57</td>\n",
              "      <td>0</td>\n",
              "      <td>16</td>\n",
              "    </tr>\n",
              "    <tr>\n",
              "      <th>1</th>\n",
              "      <td>sub-002</td>\n",
              "      <td>1</td>\n",
              "      <td>78</td>\n",
              "      <td>0</td>\n",
              "      <td>22</td>\n",
              "    </tr>\n",
              "    <tr>\n",
              "      <th>2</th>\n",
              "      <td>sub-003</td>\n",
              "      <td>0</td>\n",
              "      <td>70</td>\n",
              "      <td>0</td>\n",
              "      <td>14</td>\n",
              "    </tr>\n",
              "    <tr>\n",
              "      <th>3</th>\n",
              "      <td>sub-004</td>\n",
              "      <td>1</td>\n",
              "      <td>67</td>\n",
              "      <td>0</td>\n",
              "      <td>20</td>\n",
              "    </tr>\n",
              "    <tr>\n",
              "      <th>4</th>\n",
              "      <td>sub-005</td>\n",
              "      <td>0</td>\n",
              "      <td>70</td>\n",
              "      <td>0</td>\n",
              "      <td>22</td>\n",
              "    </tr>\n",
              "  </tbody>\n",
              "</table>\n",
              "</div>"
            ],
            "text/plain": [
              "  participant_id  Gender  Age  Group  MMSE\n",
              "0        sub-001       1   57      0    16\n",
              "1        sub-002       1   78      0    22\n",
              "2        sub-003       0   70      0    14\n",
              "3        sub-004       1   67      0    20\n",
              "4        sub-005       0   70      0    22"
            ]
          },
          "execution_count": 8,
          "metadata": {},
          "output_type": "execute_result"
        }
      ],
      "source": [
        "df_ad_ftd = df_partipants[df_partipants['Group'].isin(['A','F'])]\n",
        "\n",
        "# Encoding Gender, Groups (Classes)\n",
        "gender_dict = {'M':0, 'F':1}\n",
        "group_dict = {'A':0, 'F':1}\n",
        "\n",
        "df_ad_ftd['Gender'] = df_ad_ftd['Gender'].replace(gender_dict)\n",
        "df_ad_ftd['Group'] = df_ad_ftd['Group'].replace(group_dict)\n",
        "\n",
        "print('Subjects from Alzheimer and Fronto Temporal Dementia datasets:',len(df_ad_ftd))\n",
        "df_ad_ftd.head()"
      ]
    },
    {
      "cell_type": "markdown",
      "metadata": {
        "id": "2WDdBCY9zeaO"
      },
      "source": [
        "Filtering Subjects with raw data between 550 and 1000 seconds.\n"
      ]
    },
    {
      "cell_type": "code",
      "execution_count": 9,
      "metadata": {
        "colab": {
          "base_uri": "https://localhost:8080/",
          "height": 241
        },
        "id": "O9ecCyDR_ycK",
        "outputId": "34bf2b2a-5d70-4cbd-c1ad-995617c44791"
      },
      "outputs": [
        {
          "name": "stdout",
          "output_type": "stream",
          "text": [
            "Participants Info: 56\n",
            "EEG Data Subjects: 56\n"
          ]
        },
        {
          "data": {
            "text/html": [
              "<div>\n",
              "<style scoped>\n",
              "    .dataframe tbody tr th:only-of-type {\n",
              "        vertical-align: middle;\n",
              "    }\n",
              "\n",
              "    .dataframe tbody tr th {\n",
              "        vertical-align: top;\n",
              "    }\n",
              "\n",
              "    .dataframe thead th {\n",
              "        text-align: right;\n",
              "    }\n",
              "</style>\n",
              "<table border=\"1\" class=\"dataframe\">\n",
              "  <thead>\n",
              "    <tr style=\"text-align: right;\">\n",
              "      <th></th>\n",
              "      <th>participant_id</th>\n",
              "      <th>Gender</th>\n",
              "      <th>Age</th>\n",
              "      <th>Group</th>\n",
              "      <th>MMSE</th>\n",
              "    </tr>\n",
              "  </thead>\n",
              "  <tbody>\n",
              "    <tr>\n",
              "      <th>0</th>\n",
              "      <td>sub-001</td>\n",
              "      <td>1</td>\n",
              "      <td>57</td>\n",
              "      <td>0</td>\n",
              "      <td>16</td>\n",
              "    </tr>\n",
              "    <tr>\n",
              "      <th>1</th>\n",
              "      <td>sub-002</td>\n",
              "      <td>1</td>\n",
              "      <td>78</td>\n",
              "      <td>0</td>\n",
              "      <td>22</td>\n",
              "    </tr>\n",
              "    <tr>\n",
              "      <th>3</th>\n",
              "      <td>sub-004</td>\n",
              "      <td>1</td>\n",
              "      <td>67</td>\n",
              "      <td>0</td>\n",
              "      <td>20</td>\n",
              "    </tr>\n",
              "    <tr>\n",
              "      <th>4</th>\n",
              "      <td>sub-005</td>\n",
              "      <td>0</td>\n",
              "      <td>70</td>\n",
              "      <td>0</td>\n",
              "      <td>22</td>\n",
              "    </tr>\n",
              "    <tr>\n",
              "      <th>5</th>\n",
              "      <td>sub-006</td>\n",
              "      <td>1</td>\n",
              "      <td>61</td>\n",
              "      <td>0</td>\n",
              "      <td>14</td>\n",
              "    </tr>\n",
              "  </tbody>\n",
              "</table>\n",
              "</div>"
            ],
            "text/plain": [
              "  participant_id  Gender  Age  Group  MMSE\n",
              "0        sub-001       1   57      0    16\n",
              "1        sub-002       1   78      0    22\n",
              "3        sub-004       1   67      0    20\n",
              "4        sub-005       0   70      0    22\n",
              "5        sub-006       1   61      0    14"
            ]
          },
          "execution_count": 9,
          "metadata": {},
          "output_type": "execute_result"
        }
      ],
      "source": [
        "eeg_data_filtered = []\n",
        "list_participants_id = []\n",
        "\n",
        "for r in eeg_data:\n",
        "  # filtering only Alzheimer and Fronto Temporal Dementia subjects\n",
        "  if r.info['subject_info']['id'] in df_ad_ftd['participant_id'].tolist():\n",
        "    if r.tmax >= 550:\n",
        "      eeg_data_filtered.append(r)\n",
        "      list_participants_id.append(r.info['subject_info']['id'])\n",
        "\n",
        "df_ad_ftd = df_ad_ftd[df_ad_ftd['participant_id'].isin(list_participants_id)]\n",
        "\n",
        "print('Participants Info:',len(df_ad_ftd))\n",
        "print('EEG Data Subjects:',len(eeg_data_filtered))\n",
        "df_ad_ftd.head()"
      ]
    },
    {
      "cell_type": "markdown",
      "metadata": {
        "id": "0JKK4ZtsgagN"
      },
      "source": [
        "Remove list of raw data to optimize usage of RAM\n"
      ]
    },
    {
      "cell_type": "code",
      "execution_count": 10,
      "metadata": {
        "id": "H3sLlCRwgLXw"
      },
      "outputs": [],
      "source": [
        "del eeg_data"
      ]
    },
    {
      "cell_type": "markdown",
      "metadata": {
        "id": "XxkMbVK6zv51"
      },
      "source": [
        "# Feature Extraction\n"
      ]
    },
    {
      "cell_type": "markdown",
      "metadata": {
        "id": "wJuRzWPm0yXe"
      },
      "source": [
        "Epochs\n"
      ]
    },
    {
      "cell_type": "code",
      "execution_count": 11,
      "metadata": {
        "colab": {
          "base_uri": "https://localhost:8080/"
        },
        "id": "fcFkKoBLzx0L",
        "outputId": "df06d352-9676-43c7-9e64-d59204fadd1d"
      },
      "outputs": [
        {
          "name": "stdout",
          "output_type": "stream",
          "text": [
            "Epochs created: 56\n"
          ]
        }
      ],
      "source": [
        "start_time = 0\n",
        "end_time = 550\n",
        "\n",
        "duration = 60.0\n",
        "overlapping = 20.0\n",
        "\n",
        "epochs = []\n",
        "\n",
        "for raw in eeg_data_filtered:\n",
        "  ep = mne.make_fixed_length_epochs(raw.copy().crop(tmin=start_time, tmax=end_time),\n",
        "                                    duration=duration, overlap=overlapping, preload=False, verbose='CRITICAL')\n",
        "  epochs.append(ep)\n",
        "\n",
        "print('Epochs created:', len(epochs))"
      ]
    },
    {
      "cell_type": "code",
      "execution_count": 12,
      "metadata": {
        "colab": {
          "base_uri": "https://localhost:8080/",
          "height": 587
        },
        "id": "0Q5o1cVn4pbl",
        "outputId": "10cbac87-bc04-4b7d-a309-799c089162b5"
      },
      "outputs": [
        {
          "name": "stdout",
          "output_type": "stream",
          "text": [
            "Using data from preloaded Raw for 13 events and 30000 original time points ...\n"
          ]
        },
        {
          "name": "stdout",
          "output_type": "stream",
          "text": [
            "0 bad epochs dropped\n",
            "Not setting metadata\n",
            "13 matching events found\n",
            "No baseline correction applied\n",
            "0 projection items activated\n"
          ]
        },
        {
          "data": {
            "image/png": "[encoded data removed]",
            "text/plain": [
              "<Figure size 640x480 with 4 Axes>"
            ]
          },
          "metadata": {},
          "output_type": "display_data"
        }
      ],
      "source": [
        "fig = epochs[0].plot_image(picks=[\"Fp1\"])\n",
        "plt.show()"
      ]
    },
    {
      "cell_type": "code",
      "execution_count": 13,
      "metadata": {
        "colab": {
          "base_uri": "https://localhost:8080/"
        },
        "id": "RwWNVB1zg_Gg",
        "outputId": "c0535cbb-e813-40e6-c194-425acc2d60c0"
      },
      "outputs": [
        {
          "name": "stdout",
          "output_type": "stream",
          "text": [
            "Using data from preloaded Raw for 13 events and 30000 original time points ...\n"
          ]
        },
        {
          "data": {
            "text/plain": [
              "(13, 19, 30000)"
            ]
          },
          "execution_count": 13,
          "metadata": {},
          "output_type": "execute_result"
        }
      ],
      "source": [
        "epochs[0].get_data().shape"
      ]
    },
    {
      "cell_type": "code",
      "execution_count": 15,
      "metadata": {
        "colab": {
          "base_uri": "https://localhost:8080/"
        },
        "id": "VdhwYzml2Z_-",
        "outputId": "b1d3831d-07bf-4d23-a364-885a63d19601"
      },
      "outputs": [
        {
          "name": "stdout",
          "output_type": "stream",
          "text": [
            "Using data from preloaded Raw for 13 events and 30000 original time points ...\n",
            "Using data from preloaded Raw for 13 events and 30000 original time points ...\n",
            "Using data from preloaded Raw for 13 events and 30000 original time points ...\n",
            "0 bad epochs dropped\n",
            "Using data from preloaded Raw for 13 events and 30000 original time points ...\n",
            "Using data from preloaded Raw for 13 events and 30000 original time points ...\n",
            "0 bad epochs dropped\n",
            "Using data from preloaded Raw for 13 events and 30000 original time points ...\n",
            "Using data from preloaded Raw for 13 events and 30000 original time points ...\n",
            "0 bad epochs dropped\n",
            "Using data from preloaded Raw for 13 events and 30000 original time points ...\n",
            "Using data from preloaded Raw for 13 events and 30000 original time points ...\n",
            "0 bad epochs dropped\n",
            "Using data from preloaded Raw for 13 events and 30000 original time points ...\n",
            "Using data from preloaded Raw for 13 events and 30000 original time points ...\n",
            "0 bad epochs dropped\n",
            "Using data from preloaded Raw for 13 events and 30000 original time points ...\n",
            "Using data from preloaded Raw for 13 events and 30000 original time points ...\n",
            "0 bad epochs dropped\n",
            "Using data from preloaded Raw for 13 events and 30000 original time points ...\n",
            "Using data from preloaded Raw for 13 events and 30000 original time points ...\n",
            "0 bad epochs dropped\n",
            "Using data from preloaded Raw for 13 events and 30000 original time points ...\n",
            "Using data from preloaded Raw for 13 events and 30000 original time points ...\n",
            "0 bad epochs dropped\n",
            "Using data from preloaded Raw for 13 events and 30000 original time points ...\n",
            "Using data from preloaded Raw for 13 events and 30000 original time points ...\n",
            "0 bad epochs dropped\n",
            "Using data from preloaded Raw for 13 events and 30000 original time points ...\n",
            "Using data from preloaded Raw for 13 events and 30000 original time points ...\n",
            "0 bad epochs dropped\n",
            "Using data from preloaded Raw for 13 events and 30000 original time points ...\n",
            "Using data from preloaded Raw for 13 events and 30000 original time points ...\n",
            "0 bad epochs dropped\n",
            "Using data from preloaded Raw for 13 events and 30000 original time points ...\n",
            "Using data from preloaded Raw for 13 events and 30000 original time points ...\n",
            "0 bad epochs dropped\n",
            "Using data from preloaded Raw for 13 events and 30000 original time points ...\n",
            "Using data from preloaded Raw for 13 events and 30000 original time points ...\n",
            "0 bad epochs dropped\n",
            "Using data from preloaded Raw for 13 events and 30000 original time points ...\n",
            "Using data from preloaded Raw for 13 events and 30000 original time points ...\n",
            "0 bad epochs dropped\n",
            "Using data from preloaded Raw for 13 events and 30000 original time points ...\n",
            "Using data from preloaded Raw for 13 events and 30000 original time points ...\n",
            "0 bad epochs dropped\n",
            "Using data from preloaded Raw for 13 events and 30000 original time points ...\n",
            "Using data from preloaded Raw for 13 events and 30000 original time points ...\n",
            "0 bad epochs dropped\n",
            "Using data from preloaded Raw for 13 events and 30000 original time points ...\n",
            "Using data from preloaded Raw for 13 events and 30000 original time points ...\n",
            "0 bad epochs dropped\n",
            "Using data from preloaded Raw for 13 events and 30000 original time points ...\n",
            "Using data from preloaded Raw for 13 events and 30000 original time points ...\n",
            "0 bad epochs dropped\n",
            "Using data from preloaded Raw for 13 events and 30000 original time points ...\n",
            "Using data from preloaded Raw for 13 events and 30000 original time points ...\n",
            "0 bad epochs dropped\n",
            "Using data from preloaded Raw for 13 events and 30000 original time points ...\n",
            "Using data from preloaded Raw for 13 events and 30000 original time points ...\n",
            "0 bad epochs dropped\n",
            "Using data from preloaded Raw for 13 events and 30000 original time points ...\n",
            "Using data from preloaded Raw for 13 events and 30000 original time points ...\n",
            "0 bad epochs dropped\n",
            "Using data from preloaded Raw for 13 events and 30000 original time points ...\n",
            "Using data from preloaded Raw for 13 events and 30000 original time points ...\n",
            "0 bad epochs dropped\n",
            "Using data from preloaded Raw for 13 events and 30000 original time points ...\n",
            "Using data from preloaded Raw for 13 events and 30000 original time points ...\n",
            "0 bad epochs dropped\n",
            "Using data from preloaded Raw for 13 events and 30000 original time points ...\n",
            "Using data from preloaded Raw for 13 events and 30000 original time points ...\n",
            "0 bad epochs dropped\n",
            "Using data from preloaded Raw for 13 events and 30000 original time points ...\n",
            "Using data from preloaded Raw for 13 events and 30000 original time points ...\n",
            "0 bad epochs dropped\n",
            "Using data from preloaded Raw for 13 events and 30000 original time points ...\n",
            "Using data from preloaded Raw for 13 events and 30000 original time points ...\n",
            "0 bad epochs dropped\n",
            "Using data from preloaded Raw for 13 events and 30000 original time points ...\n",
            "Using data from preloaded Raw for 13 events and 30000 original time points ...\n",
            "0 bad epochs dropped\n",
            "Using data from preloaded Raw for 13 events and 30000 original time points ...\n",
            "Using data from preloaded Raw for 13 events and 30000 original time points ...\n",
            "0 bad epochs dropped\n",
            "Using data from preloaded Raw for 13 events and 30000 original time points ...\n",
            "Using data from preloaded Raw for 13 events and 30000 original time points ...\n",
            "0 bad epochs dropped\n",
            "Using data from preloaded Raw for 13 events and 30000 original time points ...\n",
            "Using data from preloaded Raw for 13 events and 30000 original time points ...\n",
            "0 bad epochs dropped\n",
            "Using data from preloaded Raw for 13 events and 30000 original time points ...\n",
            "Using data from preloaded Raw for 13 events and 30000 original time points ...\n",
            "0 bad epochs dropped\n",
            "Using data from preloaded Raw for 13 events and 30000 original time points ...\n",
            "Using data from preloaded Raw for 13 events and 30000 original time points ...\n",
            "0 bad epochs dropped\n",
            "Using data from preloaded Raw for 13 events and 30000 original time points ...\n",
            "Using data from preloaded Raw for 13 events and 30000 original time points ...\n",
            "0 bad epochs dropped\n",
            "Using data from preloaded Raw for 13 events and 30000 original time points ...\n",
            "Using data from preloaded Raw for 13 events and 30000 original time points ...\n",
            "0 bad epochs dropped\n",
            "Using data from preloaded Raw for 13 events and 30000 original time points ...\n",
            "Using data from preloaded Raw for 13 events and 30000 original time points ...\n",
            "0 bad epochs dropped\n",
            "Using data from preloaded Raw for 13 events and 30000 original time points ...\n",
            "Using data from preloaded Raw for 13 events and 30000 original time points ...\n",
            "0 bad epochs dropped\n",
            "Using data from preloaded Raw for 13 events and 30000 original time points ...\n",
            "Using data from preloaded Raw for 13 events and 30000 original time points ...\n",
            "0 bad epochs dropped\n",
            "Using data from preloaded Raw for 13 events and 30000 original time points ...\n",
            "Using data from preloaded Raw for 13 events and 30000 original time points ...\n",
            "0 bad epochs dropped\n",
            "Using data from preloaded Raw for 13 events and 30000 original time points ...\n",
            "Using data from preloaded Raw for 13 events and 30000 original time points ...\n",
            "0 bad epochs dropped\n",
            "Using data from preloaded Raw for 13 events and 30000 original time points ...\n",
            "Using data from preloaded Raw for 13 events and 30000 original time points ...\n",
            "0 bad epochs dropped\n",
            "Using data from preloaded Raw for 13 events and 30000 original time points ...\n",
            "Using data from preloaded Raw for 13 events and 30000 original time points ...\n",
            "0 bad epochs dropped\n",
            "Using data from preloaded Raw for 13 events and 30000 original time points ...\n",
            "Using data from preloaded Raw for 13 events and 30000 original time points ...\n",
            "0 bad epochs dropped\n",
            "Using data from preloaded Raw for 13 events and 30000 original time points ...\n",
            "Using data from preloaded Raw for 13 events and 30000 original time points ...\n",
            "0 bad epochs dropped\n",
            "Using data from preloaded Raw for 13 events and 30000 original time points ...\n",
            "Using data from preloaded Raw for 13 events and 30000 original time points ...\n",
            "0 bad epochs dropped\n",
            "Using data from preloaded Raw for 13 events and 30000 original time points ...\n",
            "Using data from preloaded Raw for 13 events and 30000 original time points ...\n",
            "0 bad epochs dropped\n",
            "Using data from preloaded Raw for 13 events and 30000 original time points ...\n",
            "Using data from preloaded Raw for 13 events and 30000 original time points ...\n",
            "0 bad epochs dropped\n",
            "Using data from preloaded Raw for 13 events and 30000 original time points ...\n",
            "Using data from preloaded Raw for 13 events and 30000 original time points ...\n",
            "0 bad epochs dropped\n",
            "Using data from preloaded Raw for 13 events and 30000 original time points ...\n",
            "Using data from preloaded Raw for 13 events and 30000 original time points ...\n",
            "0 bad epochs dropped\n",
            "Using data from preloaded Raw for 13 events and 30000 original time points ...\n",
            "Using data from preloaded Raw for 13 events and 30000 original time points ...\n",
            "0 bad epochs dropped\n",
            "Using data from preloaded Raw for 13 events and 30000 original time points ...\n",
            "Using data from preloaded Raw for 13 events and 30000 original time points ...\n",
            "0 bad epochs dropped\n",
            "Using data from preloaded Raw for 13 events and 30000 original time points ...\n",
            "Using data from preloaded Raw for 13 events and 30000 original time points ...\n",
            "0 bad epochs dropped\n",
            "Using data from preloaded Raw for 13 events and 30000 original time points ...\n",
            "Using data from preloaded Raw for 13 events and 30000 original time points ...\n",
            "0 bad epochs dropped\n",
            "Using data from preloaded Raw for 13 events and 30000 original time points ...\n",
            "Using data from preloaded Raw for 13 events and 30000 original time points ...\n",
            "0 bad epochs dropped\n",
            "Using data from preloaded Raw for 13 events and 30000 original time points ...\n",
            "Using data from preloaded Raw for 13 events and 30000 original time points ...\n",
            "0 bad epochs dropped\n",
            "Using data from preloaded Raw for 13 events and 30000 original time points ...\n",
            "Using data from preloaded Raw for 13 events and 30000 original time points ...\n",
            "0 bad epochs dropped\n",
            "Using data from preloaded Raw for 13 events and 30000 original time points ...\n"
          ]
        }
      ],
      "source": [
        "# Get features from Epochs (epochs)\n",
        "features = []\n",
        "for i, epoch in enumerate(epochs):\n",
        "  n_epochs, n_channels, n_times = epoch.get_data().shape\n",
        "  epoch_data = epoch.get_data().reshape(n_epochs, n_channels*n_times)\n",
        "  features.append(epoch_data)"
      ]
    },
    {
      "cell_type": "code",
      "execution_count": 16,
      "metadata": {
        "colab": {
          "base_uri": "https://localhost:8080/"
        },
        "id": "5F5EoJLCh3iI",
        "outputId": "29ce07c8-61d9-435b-b199-f7c19bb0f1d9"
      },
      "outputs": [
        {
          "data": {
            "text/plain": [
              "(13, 570000)"
            ]
          },
          "execution_count": 16,
          "metadata": {},
          "output_type": "execute_result"
        }
      ],
      "source": [
        "features[0].shape"
      ]
    },
    {
      "cell_type": "code",
      "execution_count": 17,
      "metadata": {
        "colab": {
          "base_uri": "https://localhost:8080/"
        },
        "id": "sJat0AVFIa8H",
        "outputId": "0385cbe9-5a76-4c41-bc79-6ae0dbc5b279"
      },
      "outputs": [
        {
          "data": {
            "text/plain": [
              "56"
            ]
          },
          "execution_count": 17,
          "metadata": {},
          "output_type": "execute_result"
        }
      ],
      "source": [
        "len(features)"
      ]
    },
    {
      "cell_type": "code",
      "execution_count": 18,
      "metadata": {
        "colab": {
          "base_uri": "https://localhost:8080/"
        },
        "id": "4dVpbxzpIUYs",
        "outputId": "214d11d5-7d7b-4e6b-a716-75f26a6ce9d8"
      },
      "outputs": [
        {
          "data": {
            "text/plain": [
              "56"
            ]
          },
          "execution_count": 18,
          "metadata": {},
          "output_type": "execute_result"
        }
      ],
      "source": [
        "labels = df_ad_ftd['Group'].tolist()\n",
        "len(labels)"
      ]
    },
    {
      "cell_type": "markdown",
      "metadata": {
        "id": "hAmPnV6yqVP1"
      },
      "source": [
        "Concatenate all Subjects Epochs and Adding Participants Info (Age, Gender, MMSE, Group)\n"
      ]
    },
    {
      "cell_type": "code",
      "execution_count": 19,
      "metadata": {
        "colab": {
          "base_uri": "https://localhost:8080/"
        },
        "id": "tkxvo5DikI3O",
        "outputId": "191a9119-ddc2-4418-f901-df843a576430"
      },
      "outputs": [
        {
          "data": {
            "text/plain": [
              "(13, 570002)"
            ]
          },
          "execution_count": 19,
          "metadata": {},
          "output_type": "execute_result"
        }
      ],
      "source": [
        "for i in range(len(features)):\n",
        "  f = features[i]\n",
        "  data = df_ad_ftd.iloc[i][['Age','Gender']].tolist()\n",
        "  additional_data = np.tile(data, (f.shape[0], 1))\n",
        "  f = np.concatenate((f, additional_data), axis=1)\n",
        "  features[i] = f\n",
        "\n",
        "features[0].shape"
      ]
    },
    {
      "cell_type": "markdown",
      "metadata": {
        "id": "S3TOCkeqp1v6"
      },
      "source": [
        "Remove EEG Raw data filtered and Epochs List to free up space in RAM\n"
      ]
    },
    {
      "cell_type": "code",
      "execution_count": 20,
      "metadata": {
        "id": "ggcrh92ypyPQ"
      },
      "outputs": [],
      "source": [
        "del epochs\n",
        "del eeg_data_filtered"
      ]
    },
    {
      "cell_type": "markdown",
      "metadata": {
        "id": "sG-JO4L7i-fx"
      },
      "source": [
        "## Train Test Split from Epochs\n"
      ]
    },
    {
      "cell_type": "code",
      "execution_count": 21,
      "metadata": {
        "colab": {
          "base_uri": "https://localhost:8080/"
        },
        "id": "2S5o_5J0jCLh",
        "outputId": "7ef91e70-8efe-47fa-a1a5-c8ea26146ce2"
      },
      "outputs": [
        {
          "name": "stdout",
          "output_type": "stream",
          "text": [
            "(572, 570002) 572\n",
            "(156, 570002) 156\n"
          ]
        }
      ],
      "source": [
        "from sklearn.model_selection import train_test_split\n",
        "\n",
        "X_train, X_test, y_train, y_test = train_test_split(features, labels, test_size=0.2, random_state=42)\n",
        "\n",
        "X_train_concat = np.concatenate(X_train, axis=0)\n",
        "X_test_concat = np.concatenate(X_test, axis=0)\n",
        "\n",
        "y_train_concat = np.repeat(y_train, [array.shape[0] for array in X_train], axis=0)\n",
        "y_test_concat = np.repeat(y_test, [array.shape[0] for array in X_test], axis=0)\n",
        "\n",
        "print(X_train_concat.shape, len(y_train_concat))\n",
        "print(X_test_concat.shape, len(y_test_concat))"
      ]
    },
    {
      "cell_type": "code",
      "execution_count": 22,
      "metadata": {
        "id": "j2g3SkQKpgG2"
      },
      "outputs": [],
      "source": [
        "del features"
      ]
    },
    {
      "cell_type": "markdown",
      "metadata": {
        "id": "XB8CAxMbQSea"
      },
      "source": [
        "---\n"
      ]
    },
    {
      "cell_type": "markdown",
      "metadata": {
        "id": "GX5DGTXTNWBJ"
      },
      "source": [
        "# Prediction\n"
      ]
    },
    {
      "cell_type": "code",
      "execution_count": 23,
      "metadata": {
        "id": "9g8oUo36wU-q"
      },
      "outputs": [],
      "source": [
        "del ep, epoch, epoch_data, f, time_max\n",
        "del X_train, X_test, y_train, y_test\n",
        "del df_partipants"
      ]
    },
    {
      "cell_type": "code",
      "execution_count": 27,
      "metadata": {
        "id": "hIDJdkrqLOeD"
      },
      "outputs": [],
      "source": [
        "from sklearn.metrics import accuracy_score\n",
        "import xgboost as xgb\n",
        "from sklearn.ensemble import AdaBoostClassifier\n",
        "from sklearn.ensemble import RandomForestClassifier\n",
        "from sklearn.svm import SVC"
      ]
    },
    {
      "cell_type": "markdown",
      "metadata": {
        "id": "rrKqRyCdoAv2"
      },
      "source": [
        "## XGBoost\n"
      ]
    },
    {
      "cell_type": "code",
      "execution_count": 25,
      "metadata": {
        "colab": {
          "base_uri": "https://localhost:8080/",
          "height": 53
        },
        "id": "gk5BYGVNow6a",
        "outputId": "00096844-3002-4247-da45-394867615334"
      },
      "outputs": [
        {
          "data": {
            "application/vnd.google.colaboratory.intrinsic+json": {
              "type": "string"
            },
            "text/plain": [
              "'xgb_classifier = xgb.XGBClassifier()\\nxgb_classifier.fit(X_train_concat, y_train_concat)\\n\\nxgb_predict = xgb_classifier.predict(X_test_concat)\\n\\n# Accuracy\\naccuracy = accuracy_score(y_test_concat, xgb_predict)\\nprint(\"Accuracy: %.2f%%\" % (accuracy * 100.0))'"
            ]
          },
          "execution_count": 25,
          "metadata": {},
          "output_type": "execute_result"
        }
      ],
      "source": [
        "'''xgb_classifier = xgb.XGBClassifier()\n",
        "xgb_classifier.fit(X_train_concat, y_train_concat)\n",
        "\n",
        "xgb_predict = xgb_classifier.predict(X_test_concat)\n",
        "\n",
        "# Accuracy\n",
        "accuracy = accuracy_score(y_test_concat, xgb_predict)\n",
        "print(\"Accuracy: %.2f%%\" % (accuracy * 100.0))'''"
      ]
    },
    {
      "cell_type": "markdown",
      "metadata": {
        "id": "txU-MbCtoYtY"
      },
      "source": [
        "## AdaBoost\n"
      ]
    },
    {
      "cell_type": "code",
      "execution_count": 30,
      "metadata": {
        "colab": {
          "base_uri": "https://localhost:8080/",
          "height": 53
        },
        "id": "8ENVYSuaoXrT",
        "outputId": "db3a2e92-b667-46bc-8faa-bca016f14ccd"
      },
      "outputs": [
        {
          "data": {
            "application/vnd.google.colaboratory.intrinsic+json": {
              "type": "string"
            },
            "text/plain": [
              "'adaboost_classifier = AdaBoostClassifier()\\nadaboost_classifier.fit(X_train_concat, y_train_concat)\\n\\nadaboost_predict = adaboost_classifier.predict(X_test_concat)\\n\\n# Accuracy\\naccuracy = accuracy_score(y_test_concat, adaboost_predict)\\nprint(\"Accuracy: %.2f%%\" % (accuracy * 100.0))'"
            ]
          },
          "execution_count": 30,
          "metadata": {},
          "output_type": "execute_result"
        }
      ],
      "source": [
        "'''adaboost_classifier = AdaBoostClassifier()\n",
        "adaboost_classifier.fit(X_train_concat, y_train_concat)\n",
        "\n",
        "adaboost_predict = adaboost_classifier.predict(X_test_concat)\n",
        "\n",
        "# Accuracy\n",
        "accuracy = accuracy_score(y_test_concat, adaboost_predict)\n",
        "print(\"Accuracy: %.2f%%\" % (accuracy * 100.0))'''"
      ]
    },
    {
      "cell_type": "markdown",
      "metadata": {
        "id": "sXsHw3W85g-J"
      },
      "source": [
        "## Random Forest\n"
      ]
    },
    {
      "cell_type": "code",
      "execution_count": 28,
      "metadata": {
        "colab": {
          "base_uri": "https://localhost:8080/"
        },
        "id": "8KyE381X5hXC",
        "outputId": "0eb0ce72-a24f-49a0-a762-de8458c7e916"
      },
      "outputs": [
        {
          "name": "stdout",
          "output_type": "stream",
          "text": [
            "Accuracy: 64.10%\n"
          ]
        }
      ],
      "source": [
        "rf_classifier = RandomForestClassifier()\n",
        "rf_classifier.fit(X_train_concat, y_train_concat)\n",
        "\n",
        "rf_predict = rf_classifier.predict(X_test_concat)\n",
        "\n",
        "# Accuracy\n",
        "accuracy = accuracy_score(y_test_concat, rf_predict)\n",
        "print(\"Accuracy: %.2f%%\" % (accuracy * 100.0))"
      ]
    },
    {
      "cell_type": "markdown",
      "metadata": {
        "id": "TTuACLUD5dik"
      },
      "source": [
        "## Support Vector Classifier\n"
      ]
    },
    {
      "cell_type": "code",
      "execution_count": 29,
      "metadata": {
        "colab": {
          "base_uri": "https://localhost:8080/"
        },
        "id": "Q93dGAh25dBc",
        "outputId": "4f534f53-6b09-4bf9-fcbd-48f4c7512f34"
      },
      "outputs": [
        {
          "name": "stdout",
          "output_type": "stream",
          "text": [
            "Accuracy: 58.33%\n"
          ]
        }
      ],
      "source": [
        "svc_classifier = SVC()\n",
        "svc_classifier.fit(X_train_concat, y_train_concat)\n",
        "\n",
        "svc_predict = svc_classifier.predict(X_test_concat)\n",
        "\n",
        "# Accuracy\n",
        "accuracy = accuracy_score(y_test_concat, svc_predict)\n",
        "print(\"Accuracy: %.2f%%\" % (accuracy * 100.0))"
      ]
    }
  ],
  "metadata": {
    "colab": {
      "gpuType": "T4",
      "include_colab_link": true,
      "provenance": []
    },
    "kernelspec": {
      "display_name": "Python 3",
      "name": "python3"
    },
    "language_info": {
      "codemirror_mode": {
        "name": "ipython",
        "version": 3
      },
      "file_extension": ".py",
      "mimetype": "text/x-python",
      "name": "python",
      "nbconvert_exporter": "python",
      "pygments_lexer": "ipython3",
      "version": "3.11.4"
    }
  },
  "nbformat": 4,
  "nbformat_minor": 0
}
