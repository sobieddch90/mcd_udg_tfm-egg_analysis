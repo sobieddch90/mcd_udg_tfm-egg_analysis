{
  "cells": [
    {
      "cell_type": "markdown",
      "metadata": {
        "id": "view-in-github",
        "colab_type": "text"
      },
      "source": [
        "<a href=\"https://colab.research.google.com/github/sobieddch90/mcd_udg_tfm-egg_analysis/blob/main/EEG%20Predictions%20-%20Epochs%20Approach.ipynb\" target=\"_parent\"><img src=\"https://colab.research.google.com/assets/colab-badge.svg\" alt=\"Open In Colab\"/></a>"
      ]
    },
    {
      "cell_type": "markdown",
      "metadata": {
        "id": "56o8JMMh85Bd"
      },
      "source": [
        "# Reading and Prepare Data\n"
      ]
    },
    {
      "cell_type": "markdown",
      "metadata": {
        "id": "iHopY5Jz8_oR"
      },
      "source": [
        "Install Libraries & Download the\n",
        "\n",
        "- Open Neuro: `pip install openneuro-py`\n",
        "- MNE: `pip install mne`\n"
      ]
    },
    {
      "cell_type": "code",
      "source": [
        "%%capture\n",
        "!pip install mne\n",
        "!pip install xgboost"
      ],
      "metadata": {
        "id": "G9bX7eBBdomz"
      },
      "execution_count": 1,
      "outputs": []
    },
    {
      "cell_type": "code",
      "execution_count": 2,
      "metadata": {
        "id": "dCPZPXL-8IS6"
      },
      "outputs": [],
      "source": [
        "import numpy as np\n",
        "import pandas as pd\n",
        "import json\n",
        "import os\n",
        "from google.colab import drive\n",
        "\n",
        "import mne\n",
        "\n",
        "import matplotlib.pyplot as plt\n",
        "import seaborn as sns\n",
        "\n",
        "from sklearn.model_selection import train_test_split\n",
        "from sklearn.ensemble import RandomForestClassifier"
      ]
    },
    {
      "cell_type": "code",
      "source": [
        "drive.mount('/content/drive')"
      ],
      "metadata": {
        "id": "jdcsHq73deYX",
        "outputId": "5c592339-6434-497b-9fc5-86730953db82",
        "colab": {
          "base_uri": "https://localhost:8080/"
        }
      },
      "execution_count": 3,
      "outputs": [
        {
          "output_type": "stream",
          "name": "stdout",
          "text": [
            "Drive already mounted at /content/drive; to attempt to forcibly remount, call drive.mount(\"/content/drive\", force_remount=True).\n"
          ]
        }
      ]
    },
    {
      "cell_type": "markdown",
      "metadata": {
        "id": "Ss_sPRMs9Jjk"
      },
      "source": [
        "Read the Data\n"
      ]
    },
    {
      "cell_type": "code",
      "execution_count": 4,
      "metadata": {
        "colab": {
          "base_uri": "https://localhost:8080/",
          "height": 206
        },
        "id": "MHwp8F_n9ucs",
        "outputId": "fe4be593-4fcc-402e-f6e8-9e75ad2522e2"
      },
      "outputs": [
        {
          "output_type": "execute_result",
          "data": {
            "text/plain": [
              "  participant_id Gender  Age Group  MMSE\n",
              "0        sub-001      F   57     A    16\n",
              "1        sub-002      F   78     A    22\n",
              "2        sub-003      M   70     A    14\n",
              "3        sub-004      F   67     A    20\n",
              "4        sub-005      M   70     A    22"
            ],
            "text/html": [
              "\n",
              "\n",
              "  <div id=\"df-8304fe79-d5bc-4914-82ee-2e398aa6374a\">\n",
              "    <div class=\"colab-df-container\">\n",
              "      <div>\n",
              "<style scoped>\n",
              "    .dataframe tbody tr th:only-of-type {\n",
              "        vertical-align: middle;\n",
              "    }\n",
              "\n",
              "    .dataframe tbody tr th {\n",
              "        vertical-align: top;\n",
              "    }\n",
              "\n",
              "    .dataframe thead th {\n",
              "        text-align: right;\n",
              "    }\n",
              "</style>\n",
              "<table border=\"1\" class=\"dataframe\">\n",
              "  <thead>\n",
              "    <tr style=\"text-align: right;\">\n",
              "      <th></th>\n",
              "      <th>participant_id</th>\n",
              "      <th>Gender</th>\n",
              "      <th>Age</th>\n",
              "      <th>Group</th>\n",
              "      <th>MMSE</th>\n",
              "    </tr>\n",
              "  </thead>\n",
              "  <tbody>\n",
              "    <tr>\n",
              "      <th>0</th>\n",
              "      <td>sub-001</td>\n",
              "      <td>F</td>\n",
              "      <td>57</td>\n",
              "      <td>A</td>\n",
              "      <td>16</td>\n",
              "    </tr>\n",
              "    <tr>\n",
              "      <th>1</th>\n",
              "      <td>sub-002</td>\n",
              "      <td>F</td>\n",
              "      <td>78</td>\n",
              "      <td>A</td>\n",
              "      <td>22</td>\n",
              "    </tr>\n",
              "    <tr>\n",
              "      <th>2</th>\n",
              "      <td>sub-003</td>\n",
              "      <td>M</td>\n",
              "      <td>70</td>\n",
              "      <td>A</td>\n",
              "      <td>14</td>\n",
              "    </tr>\n",
              "    <tr>\n",
              "      <th>3</th>\n",
              "      <td>sub-004</td>\n",
              "      <td>F</td>\n",
              "      <td>67</td>\n",
              "      <td>A</td>\n",
              "      <td>20</td>\n",
              "    </tr>\n",
              "    <tr>\n",
              "      <th>4</th>\n",
              "      <td>sub-005</td>\n",
              "      <td>M</td>\n",
              "      <td>70</td>\n",
              "      <td>A</td>\n",
              "      <td>22</td>\n",
              "    </tr>\n",
              "  </tbody>\n",
              "</table>\n",
              "</div>\n",
              "      <button class=\"colab-df-convert\" onclick=\"convertToInteractive('df-8304fe79-d5bc-4914-82ee-2e398aa6374a')\"\n",
              "              title=\"Convert this dataframe to an interactive table.\"\n",
              "              style=\"display:none;\">\n",
              "\n",
              "  <svg xmlns=\"http://www.w3.org/2000/svg\" height=\"24px\"viewBox=\"0 0 24 24\"\n",
              "       width=\"24px\">\n",
              "    <path d=\"M0 0h24v24H0V0z\" fill=\"none\"/>\n",
              "    <path d=\"M18.56 5.44l.94 2.06.94-2.06 2.06-.94-2.06-.94-.94-2.06-.94 2.06-2.06.94zm-11 1L8.5 8.5l.94-2.06 2.06-.94-2.06-.94L8.5 2.5l-.94 2.06-2.06.94zm10 10l.94 2.06.94-2.06 2.06-.94-2.06-.94-.94-2.06-.94 2.06-2.06.94z\"/><path d=\"M17.41 7.96l-1.37-1.37c-.4-.4-.92-.59-1.43-.59-.52 0-1.04.2-1.43.59L10.3 9.45l-7.72 7.72c-.78.78-.78 2.05 0 2.83L4 21.41c.39.39.9.59 1.41.59.51 0 1.02-.2 1.41-.59l7.78-7.78 2.81-2.81c.8-.78.8-2.07 0-2.86zM5.41 20L4 18.59l7.72-7.72 1.47 1.35L5.41 20z\"/>\n",
              "  </svg>\n",
              "      </button>\n",
              "\n",
              "\n",
              "\n",
              "    <div id=\"df-01b6f651-ada0-4f8e-b982-872258d8bd3c\">\n",
              "      <button class=\"colab-df-quickchart\" onclick=\"quickchart('df-01b6f651-ada0-4f8e-b982-872258d8bd3c')\"\n",
              "              title=\"Suggest charts.\"\n",
              "              style=\"display:none;\">\n",
              "\n",
              "<svg xmlns=\"http://www.w3.org/2000/svg\" height=\"24px\"viewBox=\"0 0 24 24\"\n",
              "     width=\"24px\">\n",
              "    <g>\n",
              "        <path d=\"M19 3H5c-1.1 0-2 .9-2 2v14c0 1.1.9 2 2 2h14c1.1 0 2-.9 2-2V5c0-1.1-.9-2-2-2zM9 17H7v-7h2v7zm4 0h-2V7h2v10zm4 0h-2v-4h2v4z\"/>\n",
              "    </g>\n",
              "</svg>\n",
              "      </button>\n",
              "    </div>\n",
              "\n",
              "<style>\n",
              "  .colab-df-quickchart {\n",
              "    background-color: #E8F0FE;\n",
              "    border: none;\n",
              "    border-radius: 50%;\n",
              "    cursor: pointer;\n",
              "    display: none;\n",
              "    fill: #1967D2;\n",
              "    height: 32px;\n",
              "    padding: 0 0 0 0;\n",
              "    width: 32px;\n",
              "  }\n",
              "\n",
              "  .colab-df-quickchart:hover {\n",
              "    background-color: #E2EBFA;\n",
              "    box-shadow: 0px 1px 2px rgba(60, 64, 67, 0.3), 0px 1px 3px 1px rgba(60, 64, 67, 0.15);\n",
              "    fill: #174EA6;\n",
              "  }\n",
              "\n",
              "  [theme=dark] .colab-df-quickchart {\n",
              "    background-color: #3B4455;\n",
              "    fill: #D2E3FC;\n",
              "  }\n",
              "\n",
              "  [theme=dark] .colab-df-quickchart:hover {\n",
              "    background-color: #434B5C;\n",
              "    box-shadow: 0px 1px 3px 1px rgba(0, 0, 0, 0.15);\n",
              "    filter: drop-shadow(0px 1px 2px rgba(0, 0, 0, 0.3));\n",
              "    fill: #FFFFFF;\n",
              "  }\n",
              "</style>\n",
              "\n",
              "    <script>\n",
              "      async function quickchart(key) {\n",
              "        const containerElement = document.querySelector('#' + key);\n",
              "        const charts = await google.colab.kernel.invokeFunction(\n",
              "            'suggestCharts', [key], {});\n",
              "      }\n",
              "    </script>\n",
              "\n",
              "      <script>\n",
              "\n",
              "function displayQuickchartButton(domScope) {\n",
              "  let quickchartButtonEl =\n",
              "    domScope.querySelector('#df-01b6f651-ada0-4f8e-b982-872258d8bd3c button.colab-df-quickchart');\n",
              "  quickchartButtonEl.style.display =\n",
              "    google.colab.kernel.accessAllowed ? 'block' : 'none';\n",
              "}\n",
              "\n",
              "        displayQuickchartButton(document);\n",
              "      </script>\n",
              "      <style>\n",
              "    .colab-df-container {\n",
              "      display:flex;\n",
              "      flex-wrap:wrap;\n",
              "      gap: 12px;\n",
              "    }\n",
              "\n",
              "    .colab-df-convert {\n",
              "      background-color: #E8F0FE;\n",
              "      border: none;\n",
              "      border-radius: 50%;\n",
              "      cursor: pointer;\n",
              "      display: none;\n",
              "      fill: #1967D2;\n",
              "      height: 32px;\n",
              "      padding: 0 0 0 0;\n",
              "      width: 32px;\n",
              "    }\n",
              "\n",
              "    .colab-df-convert:hover {\n",
              "      background-color: #E2EBFA;\n",
              "      box-shadow: 0px 1px 2px rgba(60, 64, 67, 0.3), 0px 1px 3px 1px rgba(60, 64, 67, 0.15);\n",
              "      fill: #174EA6;\n",
              "    }\n",
              "\n",
              "    [theme=dark] .colab-df-convert {\n",
              "      background-color: #3B4455;\n",
              "      fill: #D2E3FC;\n",
              "    }\n",
              "\n",
              "    [theme=dark] .colab-df-convert:hover {\n",
              "      background-color: #434B5C;\n",
              "      box-shadow: 0px 1px 3px 1px rgba(0, 0, 0, 0.15);\n",
              "      filter: drop-shadow(0px 1px 2px rgba(0, 0, 0, 0.3));\n",
              "      fill: #FFFFFF;\n",
              "    }\n",
              "  </style>\n",
              "\n",
              "      <script>\n",
              "        const buttonEl =\n",
              "          document.querySelector('#df-8304fe79-d5bc-4914-82ee-2e398aa6374a button.colab-df-convert');\n",
              "        buttonEl.style.display =\n",
              "          google.colab.kernel.accessAllowed ? 'block' : 'none';\n",
              "\n",
              "        async function convertToInteractive(key) {\n",
              "          const element = document.querySelector('#df-8304fe79-d5bc-4914-82ee-2e398aa6374a');\n",
              "          const dataTable =\n",
              "            await google.colab.kernel.invokeFunction('convertToInteractive',\n",
              "                                                     [key], {});\n",
              "          if (!dataTable) return;\n",
              "\n",
              "          const docLinkHtml = 'Like what you see? Visit the ' +\n",
              "            '<a target=\"_blank\" href=https://colab.research.google.com/notebooks/data_table.ipynb>data table notebook</a>'\n",
              "            + ' to learn more about interactive tables.';\n",
              "          element.innerHTML = '';\n",
              "          dataTable['output_type'] = 'display_data';\n",
              "          await google.colab.output.renderOutput(dataTable, element);\n",
              "          const docLink = document.createElement('div');\n",
              "          docLink.innerHTML = docLinkHtml;\n",
              "          element.appendChild(docLink);\n",
              "        }\n",
              "      </script>\n",
              "    </div>\n",
              "  </div>\n"
            ]
          },
          "metadata": {},
          "execution_count": 4
        }
      ],
      "source": [
        "path = '/content/drive/MyDrive/EEG_Dataset/ds004504'\n",
        "filename_part = 'participants.tsv'\n",
        "df_partipants = pd.read_csv(path+'/'+filename_part, sep='\\t')\n",
        "df_partipants.head()"
      ]
    },
    {
      "cell_type": "code",
      "execution_count": 5,
      "metadata": {
        "colab": {
          "base_uri": "https://localhost:8080/",
          "height": 472
        },
        "id": "wDGOxcVay4Zq",
        "outputId": "dfd23568-a56f-437f-b4df-c982f86f6d45"
      },
      "outputs": [
        {
          "output_type": "display_data",
          "data": {
            "text/plain": [
              "<Figure size 640x480 with 1 Axes>"
            ],
            "image/png": "[encoded data removed]"
          },
          "metadata": {}
        }
      ],
      "source": [
        "sns.countplot(x=df_partipants[\"Group\"])\n",
        "plt.title('Distribution of Subjects by Group')\n",
        "plt.show()"
      ]
    },
    {
      "cell_type": "code",
      "execution_count": 6,
      "metadata": {
        "colab": {
          "base_uri": "https://localhost:8080/"
        },
        "id": "-W-xBMmC8iVL",
        "outputId": "6502b1f5-5c2b-43d2-cdbd-13ee3b88dc00"
      },
      "outputs": [
        {
          "output_type": "stream",
          "name": "stdout",
          "text": [
            "88\n",
            "['sub-001', 'sub-002', 'sub-003', 'sub-004', 'sub-005']\n"
          ]
        }
      ],
      "source": [
        "path_derivatives = path+'/derivatives/'\n",
        "\n",
        "dir_list = os.listdir(path_derivatives)\n",
        "dir_list.sort()\n",
        "print(len(dir_list))\n",
        "print(dir_list[:5])"
      ]
    },
    {
      "cell_type": "code",
      "execution_count": 7,
      "metadata": {
        "colab": {
          "base_uri": "https://localhost:8080/"
        },
        "id": "pC0NgOge9S4z",
        "outputId": "bfd6ba38-7f7a-4835-bdfd-20e601878c35"
      },
      "outputs": [
        {
          "output_type": "stream",
          "name": "stdout",
          "text": [
            "EEG Files Loaded: 88\n"
          ]
        }
      ],
      "source": [
        "eeg_data = []\n",
        "\n",
        "for l in dir_list:\n",
        "  folder = path_derivatives+l+'/eeg/'\n",
        "  f = l+'_task-eyesclosed_eeg.set'\n",
        "  #print(l)\n",
        "  r = mne.io.read_raw_eeglab(folder+f, preload=False, verbose='CRITICAL')\n",
        "  participant_info = {'id': l}\n",
        "  r.info['subject_info'] = participant_info\n",
        "  eeg_data.append(r)\n",
        "\n",
        "print('EEG Files Loaded:',len(eeg_data))"
      ]
    },
    {
      "cell_type": "markdown",
      "metadata": {
        "id": "CoDc_4hb9ykq"
      },
      "source": [
        "## Preselect Datasets\n"
      ]
    },
    {
      "cell_type": "markdown",
      "metadata": {
        "id": "w0SU-GChemaR"
      },
      "source": [
        "Show Maximum Time Distribution.\n"
      ]
    },
    {
      "cell_type": "code",
      "execution_count": 8,
      "metadata": {
        "colab": {
          "base_uri": "https://localhost:8080/",
          "height": 452
        },
        "id": "Rb5P-jX9enIt",
        "outputId": "59f9d396-b6cf-4a88-a3a2-df0123d7323d"
      },
      "outputs": [
        {
          "output_type": "display_data",
          "data": {
            "text/plain": [
              "<Figure size 640x480 with 1 Axes>"
            ],
            "image/png": "[encoded data removed]"
          },
          "metadata": {}
        }
      ],
      "source": [
        "time_max = []\n",
        "\n",
        "for r in eeg_data:\n",
        "  time_max.append(r.tmax)\n",
        "\n",
        "const_min = np.full(len(eeg_data),550)\n",
        "const_max = np.full(len(eeg_data),1000)\n",
        "\n",
        "plt.plot(time_max)\n",
        "plt.plot(const_min, linestyle='dotted', c='gray')\n",
        "plt.plot(const_max, linestyle='dotted', c='gray')\n",
        "\n",
        "plt.title('Time Max by Subject')\n",
        "plt.show()"
      ]
    },
    {
      "cell_type": "markdown",
      "metadata": {
        "id": "t2BGUX0WEeOR"
      },
      "source": [
        "Select Alzheimer and Fronto Temporal Dementia Subjects from Participants Info\n"
      ]
    },
    {
      "cell_type": "code",
      "execution_count": 9,
      "metadata": {
        "colab": {
          "base_uri": "https://localhost:8080/",
          "height": 432
        },
        "id": "B14UdDJRjV0J",
        "outputId": "81d95563-3414-47f8-a075-80b4d58aebbc"
      },
      "outputs": [
        {
          "output_type": "stream",
          "name": "stdout",
          "text": [
            "Subjects from Alzheimer and Fronto Temporal Dementia datasets: 59\n"
          ]
        },
        {
          "output_type": "stream",
          "name": "stderr",
          "text": [
            "<ipython-input-9-254eb9f5bfa6>:7: SettingWithCopyWarning: \n",
            "A value is trying to be set on a copy of a slice from a DataFrame.\n",
            "Try using .loc[row_indexer,col_indexer] = value instead\n",
            "\n",
            "See the caveats in the documentation: https://pandas.pydata.org/pandas-docs/stable/user_guide/indexing.html#returning-a-view-versus-a-copy\n",
            "  df_ad_ftd['Gender'] = df_ad_ftd['Gender'].replace(gender_dict)\n",
            "<ipython-input-9-254eb9f5bfa6>:8: SettingWithCopyWarning: \n",
            "A value is trying to be set on a copy of a slice from a DataFrame.\n",
            "Try using .loc[row_indexer,col_indexer] = value instead\n",
            "\n",
            "See the caveats in the documentation: https://pandas.pydata.org/pandas-docs/stable/user_guide/indexing.html#returning-a-view-versus-a-copy\n",
            "  df_ad_ftd['Group'] = df_ad_ftd['Group'].replace(group_dict)\n"
          ]
        },
        {
          "output_type": "execute_result",
          "data": {
            "text/plain": [
              "  participant_id  Gender  Age  Group  MMSE\n",
              "0        sub-001       1   57      0    16\n",
              "1        sub-002       1   78      0    22\n",
              "2        sub-003       0   70      0    14\n",
              "3        sub-004       1   67      0    20\n",
              "4        sub-005       0   70      0    22"
            ],
            "text/html": [
              "\n",
              "\n",
              "  <div id=\"df-27b150a5-9864-41ca-8cc0-6556ae318c15\">\n",
              "    <div class=\"colab-df-container\">\n",
              "      <div>\n",
              "<style scoped>\n",
              "    .dataframe tbody tr th:only-of-type {\n",
              "        vertical-align: middle;\n",
              "    }\n",
              "\n",
              "    .dataframe tbody tr th {\n",
              "        vertical-align: top;\n",
              "    }\n",
              "\n",
              "    .dataframe thead th {\n",
              "        text-align: right;\n",
              "    }\n",
              "</style>\n",
              "<table border=\"1\" class=\"dataframe\">\n",
              "  <thead>\n",
              "    <tr style=\"text-align: right;\">\n",
              "      <th></th>\n",
              "      <th>participant_id</th>\n",
              "      <th>Gender</th>\n",
              "      <th>Age</th>\n",
              "      <th>Group</th>\n",
              "      <th>MMSE</th>\n",
              "    </tr>\n",
              "  </thead>\n",
              "  <tbody>\n",
              "    <tr>\n",
              "      <th>0</th>\n",
              "      <td>sub-001</td>\n",
              "      <td>1</td>\n",
              "      <td>57</td>\n",
              "      <td>0</td>\n",
              "      <td>16</td>\n",
              "    </tr>\n",
              "    <tr>\n",
              "      <th>1</th>\n",
              "      <td>sub-002</td>\n",
              "      <td>1</td>\n",
              "      <td>78</td>\n",
              "      <td>0</td>\n",
              "      <td>22</td>\n",
              "    </tr>\n",
              "    <tr>\n",
              "      <th>2</th>\n",
              "      <td>sub-003</td>\n",
              "      <td>0</td>\n",
              "      <td>70</td>\n",
              "      <td>0</td>\n",
              "      <td>14</td>\n",
              "    </tr>\n",
              "    <tr>\n",
              "      <th>3</th>\n",
              "      <td>sub-004</td>\n",
              "      <td>1</td>\n",
              "      <td>67</td>\n",
              "      <td>0</td>\n",
              "      <td>20</td>\n",
              "    </tr>\n",
              "    <tr>\n",
              "      <th>4</th>\n",
              "      <td>sub-005</td>\n",
              "      <td>0</td>\n",
              "      <td>70</td>\n",
              "      <td>0</td>\n",
              "      <td>22</td>\n",
              "    </tr>\n",
              "  </tbody>\n",
              "</table>\n",
              "</div>\n",
              "      <button class=\"colab-df-convert\" onclick=\"convertToInteractive('df-27b150a5-9864-41ca-8cc0-6556ae318c15')\"\n",
              "              title=\"Convert this dataframe to an interactive table.\"\n",
              "              style=\"display:none;\">\n",
              "\n",
              "  <svg xmlns=\"http://www.w3.org/2000/svg\" height=\"24px\"viewBox=\"0 0 24 24\"\n",
              "       width=\"24px\">\n",
              "    <path d=\"M0 0h24v24H0V0z\" fill=\"none\"/>\n",
              "    <path d=\"M18.56 5.44l.94 2.06.94-2.06 2.06-.94-2.06-.94-.94-2.06-.94 2.06-2.06.94zm-11 1L8.5 8.5l.94-2.06 2.06-.94-2.06-.94L8.5 2.5l-.94 2.06-2.06.94zm10 10l.94 2.06.94-2.06 2.06-.94-2.06-.94-.94-2.06-.94 2.06-2.06.94z\"/><path d=\"M17.41 7.96l-1.37-1.37c-.4-.4-.92-.59-1.43-.59-.52 0-1.04.2-1.43.59L10.3 9.45l-7.72 7.72c-.78.78-.78 2.05 0 2.83L4 21.41c.39.39.9.59 1.41.59.51 0 1.02-.2 1.41-.59l7.78-7.78 2.81-2.81c.8-.78.8-2.07 0-2.86zM5.41 20L4 18.59l7.72-7.72 1.47 1.35L5.41 20z\"/>\n",
              "  </svg>\n",
              "      </button>\n",
              "\n",
              "\n",
              "\n",
              "    <div id=\"df-a382ccab-8cc8-4c7b-98f6-ffc1df4dc256\">\n",
              "      <button class=\"colab-df-quickchart\" onclick=\"quickchart('df-a382ccab-8cc8-4c7b-98f6-ffc1df4dc256')\"\n",
              "              title=\"Suggest charts.\"\n",
              "              style=\"display:none;\">\n",
              "\n",
              "<svg xmlns=\"http://www.w3.org/2000/svg\" height=\"24px\"viewBox=\"0 0 24 24\"\n",
              "     width=\"24px\">\n",
              "    <g>\n",
              "        <path d=\"M19 3H5c-1.1 0-2 .9-2 2v14c0 1.1.9 2 2 2h14c1.1 0 2-.9 2-2V5c0-1.1-.9-2-2-2zM9 17H7v-7h2v7zm4 0h-2V7h2v10zm4 0h-2v-4h2v4z\"/>\n",
              "    </g>\n",
              "</svg>\n",
              "      </button>\n",
              "    </div>\n",
              "\n",
              "<style>\n",
              "  .colab-df-quickchart {\n",
              "    background-color: #E8F0FE;\n",
              "    border: none;\n",
              "    border-radius: 50%;\n",
              "    cursor: pointer;\n",
              "    display: none;\n",
              "    fill: #1967D2;\n",
              "    height: 32px;\n",
              "    padding: 0 0 0 0;\n",
              "    width: 32px;\n",
              "  }\n",
              "\n",
              "  .colab-df-quickchart:hover {\n",
              "    background-color: #E2EBFA;\n",
              "    box-shadow: 0px 1px 2px rgba(60, 64, 67, 0.3), 0px 1px 3px 1px rgba(60, 64, 67, 0.15);\n",
              "    fill: #174EA6;\n",
              "  }\n",
              "\n",
              "  [theme=dark] .colab-df-quickchart {\n",
              "    background-color: #3B4455;\n",
              "    fill: #D2E3FC;\n",
              "  }\n",
              "\n",
              "  [theme=dark] .colab-df-quickchart:hover {\n",
              "    background-color: #434B5C;\n",
              "    box-shadow: 0px 1px 3px 1px rgba(0, 0, 0, 0.15);\n",
              "    filter: drop-shadow(0px 1px 2px rgba(0, 0, 0, 0.3));\n",
              "    fill: #FFFFFF;\n",
              "  }\n",
              "</style>\n",
              "\n",
              "    <script>\n",
              "      async function quickchart(key) {\n",
              "        const containerElement = document.querySelector('#' + key);\n",
              "        const charts = await google.colab.kernel.invokeFunction(\n",
              "            'suggestCharts', [key], {});\n",
              "      }\n",
              "    </script>\n",
              "\n",
              "      <script>\n",
              "\n",
              "function displayQuickchartButton(domScope) {\n",
              "  let quickchartButtonEl =\n",
              "    domScope.querySelector('#df-a382ccab-8cc8-4c7b-98f6-ffc1df4dc256 button.colab-df-quickchart');\n",
              "  quickchartButtonEl.style.display =\n",
              "    google.colab.kernel.accessAllowed ? 'block' : 'none';\n",
              "}\n",
              "\n",
              "        displayQuickchartButton(document);\n",
              "      </script>\n",
              "      <style>\n",
              "    .colab-df-container {\n",
              "      display:flex;\n",
              "      flex-wrap:wrap;\n",
              "      gap: 12px;\n",
              "    }\n",
              "\n",
              "    .colab-df-convert {\n",
              "      background-color: #E8F0FE;\n",
              "      border: none;\n",
              "      border-radius: 50%;\n",
              "      cursor: pointer;\n",
              "      display: none;\n",
              "      fill: #1967D2;\n",
              "      height: 32px;\n",
              "      padding: 0 0 0 0;\n",
              "      width: 32px;\n",
              "    }\n",
              "\n",
              "    .colab-df-convert:hover {\n",
              "      background-color: #E2EBFA;\n",
              "      box-shadow: 0px 1px 2px rgba(60, 64, 67, 0.3), 0px 1px 3px 1px rgba(60, 64, 67, 0.15);\n",
              "      fill: #174EA6;\n",
              "    }\n",
              "\n",
              "    [theme=dark] .colab-df-convert {\n",
              "      background-color: #3B4455;\n",
              "      fill: #D2E3FC;\n",
              "    }\n",
              "\n",
              "    [theme=dark] .colab-df-convert:hover {\n",
              "      background-color: #434B5C;\n",
              "      box-shadow: 0px 1px 3px 1px rgba(0, 0, 0, 0.15);\n",
              "      filter: drop-shadow(0px 1px 2px rgba(0, 0, 0, 0.3));\n",
              "      fill: #FFFFFF;\n",
              "    }\n",
              "  </style>\n",
              "\n",
              "      <script>\n",
              "        const buttonEl =\n",
              "          document.querySelector('#df-27b150a5-9864-41ca-8cc0-6556ae318c15 button.colab-df-convert');\n",
              "        buttonEl.style.display =\n",
              "          google.colab.kernel.accessAllowed ? 'block' : 'none';\n",
              "\n",
              "        async function convertToInteractive(key) {\n",
              "          const element = document.querySelector('#df-27b150a5-9864-41ca-8cc0-6556ae318c15');\n",
              "          const dataTable =\n",
              "            await google.colab.kernel.invokeFunction('convertToInteractive',\n",
              "                                                     [key], {});\n",
              "          if (!dataTable) return;\n",
              "\n",
              "          const docLinkHtml = 'Like what you see? Visit the ' +\n",
              "            '<a target=\"_blank\" href=https://colab.research.google.com/notebooks/data_table.ipynb>data table notebook</a>'\n",
              "            + ' to learn more about interactive tables.';\n",
              "          element.innerHTML = '';\n",
              "          dataTable['output_type'] = 'display_data';\n",
              "          await google.colab.output.renderOutput(dataTable, element);\n",
              "          const docLink = document.createElement('div');\n",
              "          docLink.innerHTML = docLinkHtml;\n",
              "          element.appendChild(docLink);\n",
              "        }\n",
              "      </script>\n",
              "    </div>\n",
              "  </div>\n"
            ]
          },
          "metadata": {},
          "execution_count": 9
        }
      ],
      "source": [
        "df_ad_ftd = df_partipants[df_partipants['Group'].isin(['A','F'])]\n",
        "\n",
        "# Encoding Gender, Groups (Classes)\n",
        "gender_dict = {'M':0, 'F':1}\n",
        "group_dict = {'A':0, 'F':1}\n",
        "\n",
        "df_ad_ftd['Gender'] = df_ad_ftd['Gender'].replace(gender_dict)\n",
        "df_ad_ftd['Group'] = df_ad_ftd['Group'].replace(group_dict)\n",
        "\n",
        "print('Subjects from Alzheimer and Fronto Temporal Dementia datasets:',len(df_ad_ftd))\n",
        "df_ad_ftd.head()"
      ]
    },
    {
      "cell_type": "markdown",
      "metadata": {
        "id": "2WDdBCY9zeaO"
      },
      "source": [
        "Filtering Subjects with raw data between 550 and 1000 seconds.\n"
      ]
    },
    {
      "cell_type": "code",
      "execution_count": 10,
      "metadata": {
        "colab": {
          "base_uri": "https://localhost:8080/",
          "height": 241
        },
        "id": "O9ecCyDR_ycK",
        "outputId": "c4ff33ef-db8d-495d-bf3d-27a3b5e3a651"
      },
      "outputs": [
        {
          "output_type": "stream",
          "name": "stdout",
          "text": [
            "Participants Info: 56\n",
            "EEG Data Subjects: 56\n"
          ]
        },
        {
          "output_type": "execute_result",
          "data": {
            "text/plain": [
              "  participant_id  Gender  Age  Group  MMSE\n",
              "0        sub-001       1   57      0    16\n",
              "1        sub-002       1   78      0    22\n",
              "3        sub-004       1   67      0    20\n",
              "4        sub-005       0   70      0    22\n",
              "5        sub-006       1   61      0    14"
            ],
            "text/html": [
              "\n",
              "\n",
              "  <div id=\"df-b3f9b00b-cd88-40ad-90b7-e91bf7307777\">\n",
              "    <div class=\"colab-df-container\">\n",
              "      <div>\n",
              "<style scoped>\n",
              "    .dataframe tbody tr th:only-of-type {\n",
              "        vertical-align: middle;\n",
              "    }\n",
              "\n",
              "    .dataframe tbody tr th {\n",
              "        vertical-align: top;\n",
              "    }\n",
              "\n",
              "    .dataframe thead th {\n",
              "        text-align: right;\n",
              "    }\n",
              "</style>\n",
              "<table border=\"1\" class=\"dataframe\">\n",
              "  <thead>\n",
              "    <tr style=\"text-align: right;\">\n",
              "      <th></th>\n",
              "      <th>participant_id</th>\n",
              "      <th>Gender</th>\n",
              "      <th>Age</th>\n",
              "      <th>Group</th>\n",
              "      <th>MMSE</th>\n",
              "    </tr>\n",
              "  </thead>\n",
              "  <tbody>\n",
              "    <tr>\n",
              "      <th>0</th>\n",
              "      <td>sub-001</td>\n",
              "      <td>1</td>\n",
              "      <td>57</td>\n",
              "      <td>0</td>\n",
              "      <td>16</td>\n",
              "    </tr>\n",
              "    <tr>\n",
              "      <th>1</th>\n",
              "      <td>sub-002</td>\n",
              "      <td>1</td>\n",
              "      <td>78</td>\n",
              "      <td>0</td>\n",
              "      <td>22</td>\n",
              "    </tr>\n",
              "    <tr>\n",
              "      <th>3</th>\n",
              "      <td>sub-004</td>\n",
              "      <td>1</td>\n",
              "      <td>67</td>\n",
              "      <td>0</td>\n",
              "      <td>20</td>\n",
              "    </tr>\n",
              "    <tr>\n",
              "      <th>4</th>\n",
              "      <td>sub-005</td>\n",
              "      <td>0</td>\n",
              "      <td>70</td>\n",
              "      <td>0</td>\n",
              "      <td>22</td>\n",
              "    </tr>\n",
              "    <tr>\n",
              "      <th>5</th>\n",
              "      <td>sub-006</td>\n",
              "      <td>1</td>\n",
              "      <td>61</td>\n",
              "      <td>0</td>\n",
              "      <td>14</td>\n",
              "    </tr>\n",
              "  </tbody>\n",
              "</table>\n",
              "</div>\n",
              "      <button class=\"colab-df-convert\" onclick=\"convertToInteractive('df-b3f9b00b-cd88-40ad-90b7-e91bf7307777')\"\n",
              "              title=\"Convert this dataframe to an interactive table.\"\n",
              "              style=\"display:none;\">\n",
              "\n",
              "  <svg xmlns=\"http://www.w3.org/2000/svg\" height=\"24px\"viewBox=\"0 0 24 24\"\n",
              "       width=\"24px\">\n",
              "    <path d=\"M0 0h24v24H0V0z\" fill=\"none\"/>\n",
              "    <path d=\"M18.56 5.44l.94 2.06.94-2.06 2.06-.94-2.06-.94-.94-2.06-.94 2.06-2.06.94zm-11 1L8.5 8.5l.94-2.06 2.06-.94-2.06-.94L8.5 2.5l-.94 2.06-2.06.94zm10 10l.94 2.06.94-2.06 2.06-.94-2.06-.94-.94-2.06-.94 2.06-2.06.94z\"/><path d=\"M17.41 7.96l-1.37-1.37c-.4-.4-.92-.59-1.43-.59-.52 0-1.04.2-1.43.59L10.3 9.45l-7.72 7.72c-.78.78-.78 2.05 0 2.83L4 21.41c.39.39.9.59 1.41.59.51 0 1.02-.2 1.41-.59l7.78-7.78 2.81-2.81c.8-.78.8-2.07 0-2.86zM5.41 20L4 18.59l7.72-7.72 1.47 1.35L5.41 20z\"/>\n",
              "  </svg>\n",
              "      </button>\n",
              "\n",
              "\n",
              "\n",
              "    <div id=\"df-cec0a0c0-792d-4b7e-9312-e0c5e258b55d\">\n",
              "      <button class=\"colab-df-quickchart\" onclick=\"quickchart('df-cec0a0c0-792d-4b7e-9312-e0c5e258b55d')\"\n",
              "              title=\"Suggest charts.\"\n",
              "              style=\"display:none;\">\n",
              "\n",
              "<svg xmlns=\"http://www.w3.org/2000/svg\" height=\"24px\"viewBox=\"0 0 24 24\"\n",
              "     width=\"24px\">\n",
              "    <g>\n",
              "        <path d=\"M19 3H5c-1.1 0-2 .9-2 2v14c0 1.1.9 2 2 2h14c1.1 0 2-.9 2-2V5c0-1.1-.9-2-2-2zM9 17H7v-7h2v7zm4 0h-2V7h2v10zm4 0h-2v-4h2v4z\"/>\n",
              "    </g>\n",
              "</svg>\n",
              "      </button>\n",
              "    </div>\n",
              "\n",
              "<style>\n",
              "  .colab-df-quickchart {\n",
              "    background-color: #E8F0FE;\n",
              "    border: none;\n",
              "    border-radius: 50%;\n",
              "    cursor: pointer;\n",
              "    display: none;\n",
              "    fill: #1967D2;\n",
              "    height: 32px;\n",
              "    padding: 0 0 0 0;\n",
              "    width: 32px;\n",
              "  }\n",
              "\n",
              "  .colab-df-quickchart:hover {\n",
              "    background-color: #E2EBFA;\n",
              "    box-shadow: 0px 1px 2px rgba(60, 64, 67, 0.3), 0px 1px 3px 1px rgba(60, 64, 67, 0.15);\n",
              "    fill: #174EA6;\n",
              "  }\n",
              "\n",
              "  [theme=dark] .colab-df-quickchart {\n",
              "    background-color: #3B4455;\n",
              "    fill: #D2E3FC;\n",
              "  }\n",
              "\n",
              "  [theme=dark] .colab-df-quickchart:hover {\n",
              "    background-color: #434B5C;\n",
              "    box-shadow: 0px 1px 3px 1px rgba(0, 0, 0, 0.15);\n",
              "    filter: drop-shadow(0px 1px 2px rgba(0, 0, 0, 0.3));\n",
              "    fill: #FFFFFF;\n",
              "  }\n",
              "</style>\n",
              "\n",
              "    <script>\n",
              "      async function quickchart(key) {\n",
              "        const containerElement = document.querySelector('#' + key);\n",
              "        const charts = await google.colab.kernel.invokeFunction(\n",
              "            'suggestCharts', [key], {});\n",
              "      }\n",
              "    </script>\n",
              "\n",
              "      <script>\n",
              "\n",
              "function displayQuickchartButton(domScope) {\n",
              "  let quickchartButtonEl =\n",
              "    domScope.querySelector('#df-cec0a0c0-792d-4b7e-9312-e0c5e258b55d button.colab-df-quickchart');\n",
              "  quickchartButtonEl.style.display =\n",
              "    google.colab.kernel.accessAllowed ? 'block' : 'none';\n",
              "}\n",
              "\n",
              "        displayQuickchartButton(document);\n",
              "      </script>\n",
              "      <style>\n",
              "    .colab-df-container {\n",
              "      display:flex;\n",
              "      flex-wrap:wrap;\n",
              "      gap: 12px;\n",
              "    }\n",
              "\n",
              "    .colab-df-convert {\n",
              "      background-color: #E8F0FE;\n",
              "      border: none;\n",
              "      border-radius: 50%;\n",
              "      cursor: pointer;\n",
              "      display: none;\n",
              "      fill: #1967D2;\n",
              "      height: 32px;\n",
              "      padding: 0 0 0 0;\n",
              "      width: 32px;\n",
              "    }\n",
              "\n",
              "    .colab-df-convert:hover {\n",
              "      background-color: #E2EBFA;\n",
              "      box-shadow: 0px 1px 2px rgba(60, 64, 67, 0.3), 0px 1px 3px 1px rgba(60, 64, 67, 0.15);\n",
              "      fill: #174EA6;\n",
              "    }\n",
              "\n",
              "    [theme=dark] .colab-df-convert {\n",
              "      background-color: #3B4455;\n",
              "      fill: #D2E3FC;\n",
              "    }\n",
              "\n",
              "    [theme=dark] .colab-df-convert:hover {\n",
              "      background-color: #434B5C;\n",
              "      box-shadow: 0px 1px 3px 1px rgba(0, 0, 0, 0.15);\n",
              "      filter: drop-shadow(0px 1px 2px rgba(0, 0, 0, 0.3));\n",
              "      fill: #FFFFFF;\n",
              "    }\n",
              "  </style>\n",
              "\n",
              "      <script>\n",
              "        const buttonEl =\n",
              "          document.querySelector('#df-b3f9b00b-cd88-40ad-90b7-e91bf7307777 button.colab-df-convert');\n",
              "        buttonEl.style.display =\n",
              "          google.colab.kernel.accessAllowed ? 'block' : 'none';\n",
              "\n",
              "        async function convertToInteractive(key) {\n",
              "          const element = document.querySelector('#df-b3f9b00b-cd88-40ad-90b7-e91bf7307777');\n",
              "          const dataTable =\n",
              "            await google.colab.kernel.invokeFunction('convertToInteractive',\n",
              "                                                     [key], {});\n",
              "          if (!dataTable) return;\n",
              "\n",
              "          const docLinkHtml = 'Like what you see? Visit the ' +\n",
              "            '<a target=\"_blank\" href=https://colab.research.google.com/notebooks/data_table.ipynb>data table notebook</a>'\n",
              "            + ' to learn more about interactive tables.';\n",
              "          element.innerHTML = '';\n",
              "          dataTable['output_type'] = 'display_data';\n",
              "          await google.colab.output.renderOutput(dataTable, element);\n",
              "          const docLink = document.createElement('div');\n",
              "          docLink.innerHTML = docLinkHtml;\n",
              "          element.appendChild(docLink);\n",
              "        }\n",
              "      </script>\n",
              "    </div>\n",
              "  </div>\n"
            ]
          },
          "metadata": {},
          "execution_count": 10
        }
      ],
      "source": [
        "eeg_data_filtered = []\n",
        "list_participants_id = []\n",
        "\n",
        "for r in eeg_data:\n",
        "  # filtering only Alzheimer and Fronto Temporal Dementia subjects\n",
        "  if r.info['subject_info']['id'] in df_ad_ftd['participant_id'].tolist():\n",
        "    if r.tmax >= 550:\n",
        "      eeg_data_filtered.append(r)\n",
        "      list_participants_id.append(r.info['subject_info']['id'])\n",
        "\n",
        "df_ad_ftd = df_ad_ftd[df_ad_ftd['participant_id'].isin(list_participants_id)]\n",
        "\n",
        "print('Participants Info:',len(df_ad_ftd))\n",
        "print('EEG Data Subjects:',len(eeg_data_filtered))\n",
        "df_ad_ftd.head()"
      ]
    },
    {
      "cell_type": "markdown",
      "source": [
        "Remove list of raw data to optimize usage of RAM"
      ],
      "metadata": {
        "id": "0JKK4ZtsgagN"
      }
    },
    {
      "cell_type": "code",
      "source": [
        "del eeg_data"
      ],
      "metadata": {
        "id": "H3sLlCRwgLXw"
      },
      "execution_count": 11,
      "outputs": []
    },
    {
      "cell_type": "markdown",
      "metadata": {
        "id": "XxkMbVK6zv51"
      },
      "source": [
        "# Feature Extraction\n"
      ]
    },
    {
      "cell_type": "markdown",
      "metadata": {
        "id": "wJuRzWPm0yXe"
      },
      "source": [
        "Epochs\n"
      ]
    },
    {
      "cell_type": "code",
      "execution_count": 12,
      "metadata": {
        "colab": {
          "base_uri": "https://localhost:8080/"
        },
        "id": "fcFkKoBLzx0L",
        "outputId": "a92e64bd-c0d5-4d2f-d186-859ece292230"
      },
      "outputs": [
        {
          "output_type": "stream",
          "name": "stdout",
          "text": [
            "Epochs created: 56\n"
          ]
        }
      ],
      "source": [
        "start_time = 0\n",
        "end_time = 550\n",
        "\n",
        "duration = 60.0\n",
        "overlapping = 20.0\n",
        "\n",
        "epochs = []\n",
        "\n",
        "for raw in eeg_data_filtered:\n",
        "  ep = mne.make_fixed_length_epochs(raw.copy().crop(tmin=start_time, tmax=end_time),\n",
        "                                    duration=duration, overlap=overlapping, preload=False, verbose='CRITICAL')\n",
        "  epochs.append(ep)\n",
        "\n",
        "print('Epochs created:', len(epochs))"
      ]
    },
    {
      "cell_type": "code",
      "execution_count": 13,
      "metadata": {
        "colab": {
          "base_uri": "https://localhost:8080/",
          "height": 587
        },
        "id": "0Q5o1cVn4pbl",
        "outputId": "d7a186ea-2e92-4e04-9163-e9f1c0e5a4a3"
      },
      "outputs": [
        {
          "output_type": "stream",
          "name": "stdout",
          "text": [
            "Using data from preloaded Raw for 13 events and 30000 original time points ...\n",
            "0 bad epochs dropped\n",
            "Not setting metadata\n",
            "13 matching events found\n",
            "No baseline correction applied\n",
            "0 projection items activated\n"
          ]
        },
        {
          "output_type": "display_data",
          "data": {
            "text/plain": [
              "<Figure size 640x480 with 4 Axes>"
            ],
            "image/png": "[encoded data removed]"
          },
          "metadata": {}
        }
      ],
      "source": [
        "fig = epochs[0].plot_image(picks=[\"Fp1\"])\n",
        "plt.show()"
      ]
    },
    {
      "cell_type": "code",
      "source": [
        "epochs[0].get_data().shape"
      ],
      "metadata": {
        "id": "RwWNVB1zg_Gg",
        "outputId": "bc7ff1fb-82b4-4db4-93e8-40895aa893e4",
        "colab": {
          "base_uri": "https://localhost:8080/"
        }
      },
      "execution_count": 14,
      "outputs": [
        {
          "output_type": "stream",
          "name": "stdout",
          "text": [
            "Using data from preloaded Raw for 13 events and 30000 original time points ...\n"
          ]
        },
        {
          "output_type": "execute_result",
          "data": {
            "text/plain": [
              "(13, 19, 30000)"
            ]
          },
          "metadata": {},
          "execution_count": 14
        }
      ]
    },
    {
      "cell_type": "code",
      "execution_count": 15,
      "metadata": {
        "colab": {
          "base_uri": "https://localhost:8080/"
        },
        "id": "VdhwYzml2Z_-",
        "outputId": "d350738f-1241-4bc4-8f6a-63670ee52057"
      },
      "outputs": [
        {
          "output_type": "stream",
          "name": "stdout",
          "text": [
            "Using data from preloaded Raw for 13 events and 30000 original time points ...\n",
            "Using data from preloaded Raw for 13 events and 30000 original time points ...\n",
            "Using data from preloaded Raw for 13 events and 30000 original time points ...\n",
            "0 bad epochs dropped\n",
            "Using data from preloaded Raw for 13 events and 30000 original time points ...\n",
            "Using data from preloaded Raw for 13 events and 30000 original time points ...\n",
            "0 bad epochs dropped\n",
            "Using data from preloaded Raw for 13 events and 30000 original time points ...\n",
            "Using data from preloaded Raw for 13 events and 30000 original time points ...\n",
            "0 bad epochs dropped\n",
            "Using data from preloaded Raw for 13 events and 30000 original time points ...\n",
            "Using data from preloaded Raw for 13 events and 30000 original time points ...\n",
            "0 bad epochs dropped\n",
            "Using data from preloaded Raw for 13 events and 30000 original time points ...\n",
            "Using data from preloaded Raw for 13 events and 30000 original time points ...\n",
            "0 bad epochs dropped\n",
            "Using data from preloaded Raw for 13 events and 30000 original time points ...\n",
            "Using data from preloaded Raw for 13 events and 30000 original time points ...\n",
            "0 bad epochs dropped\n",
            "Using data from preloaded Raw for 13 events and 30000 original time points ...\n",
            "Using data from preloaded Raw for 13 events and 30000 original time points ...\n",
            "0 bad epochs dropped\n",
            "Using data from preloaded Raw for 13 events and 30000 original time points ...\n",
            "Using data from preloaded Raw for 13 events and 30000 original time points ...\n",
            "0 bad epochs dropped\n",
            "Using data from preloaded Raw for 13 events and 30000 original time points ...\n",
            "Using data from preloaded Raw for 13 events and 30000 original time points ...\n",
            "0 bad epochs dropped\n",
            "Using data from preloaded Raw for 13 events and 30000 original time points ...\n",
            "Using data from preloaded Raw for 13 events and 30000 original time points ...\n",
            "0 bad epochs dropped\n",
            "Using data from preloaded Raw for 13 events and 30000 original time points ...\n",
            "Using data from preloaded Raw for 13 events and 30000 original time points ...\n",
            "0 bad epochs dropped\n",
            "Using data from preloaded Raw for 13 events and 30000 original time points ...\n",
            "Using data from preloaded Raw for 13 events and 30000 original time points ...\n",
            "0 bad epochs dropped\n",
            "Using data from preloaded Raw for 13 events and 30000 original time points ...\n",
            "Using data from preloaded Raw for 13 events and 30000 original time points ...\n",
            "0 bad epochs dropped\n",
            "Using data from preloaded Raw for 13 events and 30000 original time points ...\n",
            "Using data from preloaded Raw for 13 events and 30000 original time points ...\n",
            "0 bad epochs dropped\n",
            "Using data from preloaded Raw for 13 events and 30000 original time points ...\n",
            "Using data from preloaded Raw for 13 events and 30000 original time points ...\n",
            "0 bad epochs dropped\n",
            "Using data from preloaded Raw for 13 events and 30000 original time points ...\n",
            "Using data from preloaded Raw for 13 events and 30000 original time points ...\n",
            "0 bad epochs dropped\n",
            "Using data from preloaded Raw for 13 events and 30000 original time points ...\n",
            "Using data from preloaded Raw for 13 events and 30000 original time points ...\n",
            "0 bad epochs dropped\n",
            "Using data from preloaded Raw for 13 events and 30000 original time points ...\n",
            "Using data from preloaded Raw for 13 events and 30000 original time points ...\n",
            "0 bad epochs dropped\n",
            "Using data from preloaded Raw for 13 events and 30000 original time points ...\n",
            "Using data from preloaded Raw for 13 events and 30000 original time points ...\n",
            "0 bad epochs dropped\n",
            "Using data from preloaded Raw for 13 events and 30000 original time points ...\n",
            "Using data from preloaded Raw for 13 events and 30000 original time points ...\n",
            "0 bad epochs dropped\n",
            "Using data from preloaded Raw for 13 events and 30000 original time points ...\n",
            "Using data from preloaded Raw for 13 events and 30000 original time points ...\n",
            "0 bad epochs dropped\n",
            "Using data from preloaded Raw for 13 events and 30000 original time points ...\n",
            "Using data from preloaded Raw for 13 events and 30000 original time points ...\n",
            "0 bad epochs dropped\n",
            "Using data from preloaded Raw for 13 events and 30000 original time points ...\n",
            "Using data from preloaded Raw for 13 events and 30000 original time points ...\n",
            "0 bad epochs dropped\n",
            "Using data from preloaded Raw for 13 events and 30000 original time points ...\n",
            "Using data from preloaded Raw for 13 events and 30000 original time points ...\n",
            "0 bad epochs dropped\n",
            "Using data from preloaded Raw for 13 events and 30000 original time points ...\n",
            "Using data from preloaded Raw for 13 events and 30000 original time points ...\n",
            "0 bad epochs dropped\n",
            "Using data from preloaded Raw for 13 events and 30000 original time points ...\n",
            "Using data from preloaded Raw for 13 events and 30000 original time points ...\n",
            "0 bad epochs dropped\n",
            "Using data from preloaded Raw for 13 events and 30000 original time points ...\n",
            "Using data from preloaded Raw for 13 events and 30000 original time points ...\n",
            "0 bad epochs dropped\n",
            "Using data from preloaded Raw for 13 events and 30000 original time points ...\n",
            "Using data from preloaded Raw for 13 events and 30000 original time points ...\n",
            "0 bad epochs dropped\n",
            "Using data from preloaded Raw for 13 events and 30000 original time points ...\n",
            "Using data from preloaded Raw for 13 events and 30000 original time points ...\n",
            "0 bad epochs dropped\n",
            "Using data from preloaded Raw for 13 events and 30000 original time points ...\n",
            "Using data from preloaded Raw for 13 events and 30000 original time points ...\n",
            "0 bad epochs dropped\n",
            "Using data from preloaded Raw for 13 events and 30000 original time points ...\n",
            "Using data from preloaded Raw for 13 events and 30000 original time points ...\n",
            "0 bad epochs dropped\n",
            "Using data from preloaded Raw for 13 events and 30000 original time points ...\n",
            "Using data from preloaded Raw for 13 events and 30000 original time points ...\n",
            "0 bad epochs dropped\n",
            "Using data from preloaded Raw for 13 events and 30000 original time points ...\n",
            "Using data from preloaded Raw for 13 events and 30000 original time points ...\n",
            "0 bad epochs dropped\n",
            "Using data from preloaded Raw for 13 events and 30000 original time points ...\n",
            "Using data from preloaded Raw for 13 events and 30000 original time points ...\n",
            "0 bad epochs dropped\n",
            "Using data from preloaded Raw for 13 events and 30000 original time points ...\n",
            "Using data from preloaded Raw for 13 events and 30000 original time points ...\n",
            "0 bad epochs dropped\n",
            "Using data from preloaded Raw for 13 events and 30000 original time points ...\n",
            "Using data from preloaded Raw for 13 events and 30000 original time points ...\n",
            "0 bad epochs dropped\n",
            "Using data from preloaded Raw for 13 events and 30000 original time points ...\n",
            "Using data from preloaded Raw for 13 events and 30000 original time points ...\n",
            "0 bad epochs dropped\n",
            "Using data from preloaded Raw for 13 events and 30000 original time points ...\n",
            "Using data from preloaded Raw for 13 events and 30000 original time points ...\n",
            "0 bad epochs dropped\n",
            "Using data from preloaded Raw for 13 events and 30000 original time points ...\n",
            "Using data from preloaded Raw for 13 events and 30000 original time points ...\n",
            "0 bad epochs dropped\n",
            "Using data from preloaded Raw for 13 events and 30000 original time points ...\n",
            "Using data from preloaded Raw for 13 events and 30000 original time points ...\n",
            "0 bad epochs dropped\n",
            "Using data from preloaded Raw for 13 events and 30000 original time points ...\n",
            "Using data from preloaded Raw for 13 events and 30000 original time points ...\n",
            "0 bad epochs dropped\n",
            "Using data from preloaded Raw for 13 events and 30000 original time points ...\n",
            "Using data from preloaded Raw for 13 events and 30000 original time points ...\n",
            "0 bad epochs dropped\n",
            "Using data from preloaded Raw for 13 events and 30000 original time points ...\n",
            "Using data from preloaded Raw for 13 events and 30000 original time points ...\n",
            "0 bad epochs dropped\n",
            "Using data from preloaded Raw for 13 events and 30000 original time points ...\n",
            "Using data from preloaded Raw for 13 events and 30000 original time points ...\n",
            "0 bad epochs dropped\n",
            "Using data from preloaded Raw for 13 events and 30000 original time points ...\n",
            "Using data from preloaded Raw for 13 events and 30000 original time points ...\n",
            "0 bad epochs dropped\n",
            "Using data from preloaded Raw for 13 events and 30000 original time points ...\n",
            "Using data from preloaded Raw for 13 events and 30000 original time points ...\n",
            "0 bad epochs dropped\n",
            "Using data from preloaded Raw for 13 events and 30000 original time points ...\n",
            "Using data from preloaded Raw for 13 events and 30000 original time points ...\n",
            "0 bad epochs dropped\n",
            "Using data from preloaded Raw for 13 events and 30000 original time points ...\n",
            "Using data from preloaded Raw for 13 events and 30000 original time points ...\n",
            "0 bad epochs dropped\n",
            "Using data from preloaded Raw for 13 events and 30000 original time points ...\n",
            "Using data from preloaded Raw for 13 events and 30000 original time points ...\n",
            "0 bad epochs dropped\n",
            "Using data from preloaded Raw for 13 events and 30000 original time points ...\n",
            "Using data from preloaded Raw for 13 events and 30000 original time points ...\n",
            "0 bad epochs dropped\n",
            "Using data from preloaded Raw for 13 events and 30000 original time points ...\n",
            "Using data from preloaded Raw for 13 events and 30000 original time points ...\n",
            "0 bad epochs dropped\n",
            "Using data from preloaded Raw for 13 events and 30000 original time points ...\n",
            "Using data from preloaded Raw for 13 events and 30000 original time points ...\n",
            "0 bad epochs dropped\n",
            "Using data from preloaded Raw for 13 events and 30000 original time points ...\n",
            "Using data from preloaded Raw for 13 events and 30000 original time points ...\n",
            "0 bad epochs dropped\n",
            "Using data from preloaded Raw for 13 events and 30000 original time points ...\n",
            "Using data from preloaded Raw for 13 events and 30000 original time points ...\n",
            "0 bad epochs dropped\n",
            "Using data from preloaded Raw for 13 events and 30000 original time points ...\n",
            "Using data from preloaded Raw for 13 events and 30000 original time points ...\n",
            "0 bad epochs dropped\n",
            "Using data from preloaded Raw for 13 events and 30000 original time points ...\n"
          ]
        }
      ],
      "source": [
        "# Get features from Epochs (epochs)\n",
        "features = []\n",
        "for i, epoch in enumerate(epochs):\n",
        "  n_epochs, n_channels, n_times = epoch.get_data().shape\n",
        "  epoch_data = epoch.get_data().reshape(n_epochs, n_channels*n_times)\n",
        "  features.append(epoch_data)"
      ]
    },
    {
      "cell_type": "code",
      "source": [
        "features[0].shape"
      ],
      "metadata": {
        "id": "5F5EoJLCh3iI",
        "outputId": "efdb764d-b22b-45c4-ea8c-6a98da85da3c",
        "colab": {
          "base_uri": "https://localhost:8080/"
        }
      },
      "execution_count": 16,
      "outputs": [
        {
          "output_type": "execute_result",
          "data": {
            "text/plain": [
              "(13, 570000)"
            ]
          },
          "metadata": {},
          "execution_count": 16
        }
      ]
    },
    {
      "cell_type": "code",
      "source": [
        "len(features)"
      ],
      "metadata": {
        "id": "sJat0AVFIa8H",
        "outputId": "569f5f94-3db3-49cb-c4a1-d2c43cb15b5d",
        "colab": {
          "base_uri": "https://localhost:8080/"
        }
      },
      "execution_count": 17,
      "outputs": [
        {
          "output_type": "execute_result",
          "data": {
            "text/plain": [
              "56"
            ]
          },
          "metadata": {},
          "execution_count": 17
        }
      ]
    },
    {
      "cell_type": "code",
      "source": [
        "labels = df_ad_ftd['Group'].tolist()\n",
        "len(labels)"
      ],
      "metadata": {
        "id": "4dVpbxzpIUYs",
        "outputId": "7fc5f4c0-d444-48d7-ad99-8c909d75cf44",
        "colab": {
          "base_uri": "https://localhost:8080/"
        }
      },
      "execution_count": 18,
      "outputs": [
        {
          "output_type": "execute_result",
          "data": {
            "text/plain": [
              "56"
            ]
          },
          "metadata": {},
          "execution_count": 18
        }
      ]
    },
    {
      "cell_type": "markdown",
      "source": [
        "Concatenate all Subjects Epochs and Adding Participants Info (Age, Gender, MMSE, Group)"
      ],
      "metadata": {
        "id": "hAmPnV6yqVP1"
      }
    },
    {
      "cell_type": "code",
      "source": [
        "for i in range(len(features)):\n",
        "  f = features[i]\n",
        "  data = df_ad_ftd.iloc[i][['Age','Gender']].tolist()\n",
        "  additional_data = np.tile(data, (f.shape[0], 1))\n",
        "  f = np.concatenate((f, additional_data), axis=1)\n",
        "  features[i] = f\n",
        "\n",
        "features[0].shape"
      ],
      "metadata": {
        "id": "tkxvo5DikI3O",
        "outputId": "aa63a8d4-cf4d-45b0-bb25-74a5bb8fcd88",
        "colab": {
          "base_uri": "https://localhost:8080/"
        }
      },
      "execution_count": 19,
      "outputs": [
        {
          "output_type": "execute_result",
          "data": {
            "text/plain": [
              "(13, 570002)"
            ]
          },
          "metadata": {},
          "execution_count": 19
        }
      ]
    },
    {
      "cell_type": "markdown",
      "source": [
        "Remove EEG Raw data filtered and Epochs List to free up space in RAM"
      ],
      "metadata": {
        "id": "S3TOCkeqp1v6"
      }
    },
    {
      "cell_type": "code",
      "source": [
        "del epochs\n",
        "del eeg_data_filtered"
      ],
      "metadata": {
        "id": "ggcrh92ypyPQ"
      },
      "execution_count": 20,
      "outputs": []
    },
    {
      "cell_type": "markdown",
      "source": [
        "## Train Test Split from Epochs"
      ],
      "metadata": {
        "id": "sG-JO4L7i-fx"
      }
    },
    {
      "cell_type": "code",
      "source": [
        "from sklearn.model_selection import train_test_split\n",
        "\n",
        "X_train, X_test, y_train, y_test = train_test_split(features, labels, test_size=0.2, random_state=42)\n",
        "\n",
        "X_train_concat = np.concatenate(X_train, axis=0)\n",
        "X_test_concat = np.concatenate(X_test, axis=0)\n",
        "\n",
        "y_train_concat = np.repeat(y_train, [array.shape[0] for array in X_train], axis=0)\n",
        "y_test_concat = np.repeat(y_test, [array.shape[0] for array in X_test], axis=0)\n",
        "\n",
        "print(X_train_concat.shape, len(y_train_concat))\n",
        "print(X_test_concat.shape, len(y_test_concat))"
      ],
      "metadata": {
        "id": "2S5o_5J0jCLh",
        "outputId": "72cd548c-f154-4d1a-b672-dfcced1f49a8",
        "colab": {
          "base_uri": "https://localhost:8080/"
        }
      },
      "execution_count": 21,
      "outputs": [
        {
          "output_type": "stream",
          "name": "stdout",
          "text": [
            "(572, 570002) 572\n",
            "(156, 570002) 156\n"
          ]
        }
      ]
    },
    {
      "cell_type": "code",
      "source": [
        "del features"
      ],
      "metadata": {
        "id": "j2g3SkQKpgG2"
      },
      "execution_count": 22,
      "outputs": []
    },
    {
      "cell_type": "markdown",
      "metadata": {
        "id": "XB8CAxMbQSea"
      },
      "source": [
        "---\n"
      ]
    },
    {
      "cell_type": "markdown",
      "source": [
        "# Prediction"
      ],
      "metadata": {
        "id": "GX5DGTXTNWBJ"
      }
    },
    {
      "cell_type": "code",
      "source": [
        "from sklearn.metrics import accuracy_score\n",
        "import xgboost as xgb\n",
        "from sklearn.ensemble import AdaBoostClassifier"
      ],
      "metadata": {
        "id": "hIDJdkrqLOeD"
      },
      "execution_count": 23,
      "outputs": []
    },
    {
      "cell_type": "markdown",
      "source": [
        "## XGBoost"
      ],
      "metadata": {
        "id": "rrKqRyCdoAv2"
      }
    },
    {
      "cell_type": "code",
      "source": [
        "xgb_classifier = xgb.XGBClassifier()\n",
        "xgb_classifier.fit(X_train_concat, y_train_concat)\n",
        "\n",
        "xgb_predict = xgb_classifier.predict(X_test_concat)\n",
        "\n",
        "# Accuracy\n",
        "accuracy = accuracy_score(y_test_concat, xgb_predict)\n",
        "print(\"Accuracy: %.2f%%\" % (accuracy * 100.0))"
      ],
      "metadata": {
        "id": "gk5BYGVNow6a"
      },
      "execution_count": 25,
      "outputs": []
    },
    {
      "cell_type": "markdown",
      "source": [
        "## AdaBoost"
      ],
      "metadata": {
        "id": "txU-MbCtoYtY"
      }
    },
    {
      "cell_type": "code",
      "source": [
        "adaboost_classifier = AdaBoostClassifier()\n",
        "adaboost_classifier.fit(X_train_concat, y_train_concat)\n",
        "\n",
        "adaboost_predict = adaboost_classifier.predict(X_test_concat)\n",
        "\n",
        "# Accuracy\n",
        "accuracy = accuracy_score(y_test_concat, adaboost_predict)\n",
        "print(\"Accuracy: %.2f%%\" % (accuracy * 100.0))"
      ],
      "metadata": {
        "id": "8ENVYSuaoXrT"
      },
      "execution_count": 25,
      "outputs": []
    }
  ],
  "metadata": {
    "colab": {
      "gpuType": "T4",
      "provenance": [],
      "include_colab_link": true
    },
    "kernelspec": {
      "display_name": "Python 3",
      "name": "python3"
    },
    "language_info": {
      "codemirror_mode": {
        "name": "ipython",
        "version": 3
      },
      "file_extension": ".py",
      "mimetype": "text/x-python",
      "name": "python",
      "nbconvert_exporter": "python",
      "pygments_lexer": "ipython3",
      "version": "3.11.0"
    }
  },
  "nbformat": 4,
  "nbformat_minor": 0
}