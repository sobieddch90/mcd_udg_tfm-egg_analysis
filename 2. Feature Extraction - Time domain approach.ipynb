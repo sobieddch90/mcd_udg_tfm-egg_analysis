{
 "cells": [
  {
   "cell_type": "markdown",
   "metadata": {},
   "source": [
    "# Time Domain Future Extraction\n"
   ]
  },
  {
   "cell_type": "markdown",
   "metadata": {},
   "source": [
    "- Author: Elmo Chavez\n",
    "- Date: 18-Jul-2023\n",
    "\n",
    "**Description**\n",
    "\n",
    "> Bla bla bla\n"
   ]
  },
  {
   "cell_type": "markdown",
   "metadata": {},
   "source": [
    "## Read the Dataset\n"
   ]
  },
  {
   "cell_type": "markdown",
   "metadata": {},
   "source": [
    "Libraries\n"
   ]
  },
  {
   "cell_type": "code",
   "execution_count": 1,
   "metadata": {},
   "outputs": [],
   "source": [
    "import mne\n",
    "import os\n",
    "import numpy as np\n",
    "import pandas as pd\n",
    "\n",
    "import matplotlib.pyplot as plt\n",
    "import seaborn as sns"
   ]
  },
  {
   "cell_type": "markdown",
   "metadata": {},
   "source": [
    "### Set the path to read the data\n"
   ]
  },
  {
   "cell_type": "markdown",
   "metadata": {},
   "source": [
    "Using Google Colab from Google Drive\n"
   ]
  },
  {
   "cell_type": "code",
   "execution_count": null,
   "metadata": {},
   "outputs": [],
   "source": [
    "from google.colab import drive \n",
    "\n",
    "drive.mount('/content/drive')\n",
    "\n",
    "path = '/content/drive/MyDrive/EEG_Dataset/ds004504/derivatives/'\n",
    "\n",
    "items = os.listdir(path)\n",
    "dir_list = [item for item in items if os.path.isdir(os.path.join(path, item))]\n",
    "\n",
    "print(len(dir_list))\n",
    "print(dir_list[:5])"
   ]
  },
  {
   "cell_type": "markdown",
   "metadata": {},
   "source": [
    "Using local Environment from a local directory\n"
   ]
  },
  {
   "cell_type": "code",
   "execution_count": 2,
   "metadata": {},
   "outputs": [
    {
     "name": "stderr",
     "output_type": "stream",
     "text": [
      "2023-07-19 00:35:06.005 python[46601:1094050] +[CATransaction synchronize] called within transaction\n"
     ]
    }
   ],
   "source": [
    "from tkinter import Tk\n",
    "from tkinter.filedialog import askdirectory\n",
    "\n",
    "root = Tk()\n",
    "root.withdraw()\n",
    "\n",
    "path = askdirectory()\n",
    "\n",
    "root.quit()\n",
    "root.destroy()"
   ]
  },
  {
   "cell_type": "markdown",
   "metadata": {},
   "source": [
    "### Reading Datasets\n"
   ]
  },
  {
   "cell_type": "markdown",
   "metadata": {},
   "source": [
    "Read participants information\n"
   ]
  },
  {
   "cell_type": "code",
   "execution_count": 3,
   "metadata": {},
   "outputs": [
    {
     "data": {
      "text/html": [
       "<div>\n",
       "<style scoped>\n",
       "    .dataframe tbody tr th:only-of-type {\n",
       "        vertical-align: middle;\n",
       "    }\n",
       "\n",
       "    .dataframe tbody tr th {\n",
       "        vertical-align: top;\n",
       "    }\n",
       "\n",
       "    .dataframe thead th {\n",
       "        text-align: right;\n",
       "    }\n",
       "</style>\n",
       "<table border=\"1\" class=\"dataframe\">\n",
       "  <thead>\n",
       "    <tr style=\"text-align: right;\">\n",
       "      <th></th>\n",
       "      <th>participant_id</th>\n",
       "      <th>Gender</th>\n",
       "      <th>Age</th>\n",
       "      <th>Group</th>\n",
       "      <th>MMSE</th>\n",
       "    </tr>\n",
       "  </thead>\n",
       "  <tbody>\n",
       "    <tr>\n",
       "      <th>0</th>\n",
       "      <td>sub-001</td>\n",
       "      <td>F</td>\n",
       "      <td>57</td>\n",
       "      <td>A</td>\n",
       "      <td>16</td>\n",
       "    </tr>\n",
       "    <tr>\n",
       "      <th>1</th>\n",
       "      <td>sub-002</td>\n",
       "      <td>F</td>\n",
       "      <td>78</td>\n",
       "      <td>A</td>\n",
       "      <td>22</td>\n",
       "    </tr>\n",
       "    <tr>\n",
       "      <th>2</th>\n",
       "      <td>sub-003</td>\n",
       "      <td>M</td>\n",
       "      <td>70</td>\n",
       "      <td>A</td>\n",
       "      <td>14</td>\n",
       "    </tr>\n",
       "    <tr>\n",
       "      <th>3</th>\n",
       "      <td>sub-004</td>\n",
       "      <td>F</td>\n",
       "      <td>67</td>\n",
       "      <td>A</td>\n",
       "      <td>20</td>\n",
       "    </tr>\n",
       "    <tr>\n",
       "      <th>4</th>\n",
       "      <td>sub-005</td>\n",
       "      <td>M</td>\n",
       "      <td>70</td>\n",
       "      <td>A</td>\n",
       "      <td>22</td>\n",
       "    </tr>\n",
       "  </tbody>\n",
       "</table>\n",
       "</div>"
      ],
      "text/plain": [
       "  participant_id Gender  Age Group  MMSE\n",
       "0        sub-001      F   57     A    16\n",
       "1        sub-002      F   78     A    22\n",
       "2        sub-003      M   70     A    14\n",
       "3        sub-004      F   67     A    20\n",
       "4        sub-005      M   70     A    22"
      ]
     },
     "execution_count": 3,
     "metadata": {},
     "output_type": "execute_result"
    }
   ],
   "source": [
    "filename_part = 'participants.tsv'\n",
    "\n",
    "df_partipants = pd.read_csv(path+'/'+filename_part, sep='\\t')\n",
    "df_partipants.head()"
   ]
  },
  {
   "cell_type": "markdown",
   "metadata": {},
   "source": [
    "Read EEG Data\n"
   ]
  },
  {
   "cell_type": "code",
   "execution_count": 4,
   "metadata": {},
   "outputs": [
    {
     "name": "stdout",
     "output_type": "stream",
     "text": [
      "Subjects found: 88\n",
      "Subjects: ['sub-001', 'sub-002', 'sub-003', 'sub-004', 'sub-005']\n",
      "EEG Files Loaded: 88\n"
     ]
    }
   ],
   "source": [
    "items = os.listdir(path+'/derivatives/')\n",
    "dir_list = [item for item in items if os.path.isdir(os.path.join(path, item))]\n",
    "dir_list.sort()\n",
    "\n",
    "print('Subjects found:',len(dir_list))\n",
    "print('Subjects:', dir_list[:5])\n",
    "\n",
    "eeg_data = []\n",
    "\n",
    "for l in dir_list:\n",
    "  folder = path+'/derivatives/'+l+'/eeg/'\n",
    "  f = l+'_task-eyesclosed_eeg.set'\n",
    "  #print(l)\n",
    "  r = mne.io.read_raw_eeglab(folder+f, preload=False, verbose='CRITICAL')\n",
    "  participant_info = {'id': l}\n",
    "  r.info['subject_info'] = participant_info\n",
    "  eeg_data.append(r)\n",
    "\n",
    "print('EEG Files Loaded:',len(eeg_data))"
   ]
  },
  {
   "cell_type": "markdown",
   "metadata": {},
   "source": [
    "## Pre-Select EEG Datasets\n"
   ]
  },
  {
   "cell_type": "markdown",
   "metadata": {},
   "source": [
    "Number of Subjects by Classes\n"
   ]
  },
  {
   "cell_type": "code",
   "execution_count": 5,
   "metadata": {},
   "outputs": [
    {
     "data": {
      "image/png": "[encoded data removed]",
      "text/plain": [
       "<Figure size 640x480 with 1 Axes>"
      ]
     },
     "metadata": {},
     "output_type": "display_data"
    }
   ],
   "source": [
    "sns.countplot(x=df_partipants[\"Group\"])\n",
    "plt.title('Distribution of Subjects by Group')\n",
    "plt.show()"
   ]
  },
  {
   "cell_type": "markdown",
   "metadata": {},
   "source": [
    "Time Maximum Record by Subject\n"
   ]
  },
  {
   "cell_type": "code",
   "execution_count": 6,
   "metadata": {},
   "outputs": [
    {
     "name": "stdout",
     "output_type": "stream",
     "text": [
      "Average Max Time: 793.53\n"
     ]
    },
    {
     "data": {
      "image/png": "[encoded data removed]",
      "text/plain": [
       "<Figure size 640x480 with 1 Axes>"
      ]
     },
     "metadata": {},
     "output_type": "display_data"
    }
   ],
   "source": [
    "time_max = []\n",
    "\n",
    "for r in eeg_data:\n",
    "  time_max.append(r.tmax)\n",
    "\n",
    "const_min = np.full(len(eeg_data),600)\n",
    "const_max = np.full(len(eeg_data),1000)\n",
    "\n",
    "print('Average Max Time:', round(np.average(time_max),2))\n",
    "\n",
    "plt.plot(time_max)\n",
    "plt.plot(const_min, linestyle='dotted', c='gray')\n",
    "plt.plot(const_max, linestyle='dotted', c='gray')\n",
    "\n",
    "plt.title('Maximun Time Recorded by Subject')\n",
    "plt.show()"
   ]
  },
  {
   "cell_type": "markdown",
   "metadata": {},
   "source": [
    "Select only EEG Data from Subjects of Alzheimer and Frontotemporal Dementia and limite the datasets with at least 600 seconds recorded.\n"
   ]
  },
  {
   "cell_type": "code",
   "execution_count": 10,
   "metadata": {},
   "outputs": [
    {
     "name": "stdout",
     "output_type": "stream",
     "text": [
      "Subjects from Alzheimer and Fronto Temporal Dementia datasets: 59\n"
     ]
    },
    {
     "name": "stderr",
     "output_type": "stream",
     "text": [
      "/var/folders/42/zkw31xg11x1f6dpl9zz6hmz00000gn/T/ipykernel_46601/942251154.py:7: SettingWithCopyWarning: \n",
      "A value is trying to be set on a copy of a slice from a DataFrame.\n",
      "Try using .loc[row_indexer,col_indexer] = value instead\n",
      "\n",
      "See the caveats in the documentation: https://pandas.pydata.org/pandas-docs/stable/user_guide/indexing.html#returning-a-view-versus-a-copy\n",
      "  df_partipants_ad_ftd['Gender'] = df_partipants_ad_ftd['Gender'].replace(gender_dict)\n",
      "/var/folders/42/zkw31xg11x1f6dpl9zz6hmz00000gn/T/ipykernel_46601/942251154.py:8: SettingWithCopyWarning: \n",
      "A value is trying to be set on a copy of a slice from a DataFrame.\n",
      "Try using .loc[row_indexer,col_indexer] = value instead\n",
      "\n",
      "See the caveats in the documentation: https://pandas.pydata.org/pandas-docs/stable/user_guide/indexing.html#returning-a-view-versus-a-copy\n",
      "  df_partipants_ad_ftd['Group'] = df_partipants_ad_ftd['Group'].replace(group_dict)\n"
     ]
    },
    {
     "data": {
      "text/html": [
       "<div>\n",
       "<style scoped>\n",
       "    .dataframe tbody tr th:only-of-type {\n",
       "        vertical-align: middle;\n",
       "    }\n",
       "\n",
       "    .dataframe tbody tr th {\n",
       "        vertical-align: top;\n",
       "    }\n",
       "\n",
       "    .dataframe thead th {\n",
       "        text-align: right;\n",
       "    }\n",
       "</style>\n",
       "<table border=\"1\" class=\"dataframe\">\n",
       "  <thead>\n",
       "    <tr style=\"text-align: right;\">\n",
       "      <th></th>\n",
       "      <th>participant_id</th>\n",
       "      <th>Gender</th>\n",
       "      <th>Age</th>\n",
       "      <th>Group</th>\n",
       "      <th>MMSE</th>\n",
       "    </tr>\n",
       "  </thead>\n",
       "  <tbody>\n",
       "    <tr>\n",
       "      <th>0</th>\n",
       "      <td>sub-001</td>\n",
       "      <td>1</td>\n",
       "      <td>57</td>\n",
       "      <td>0</td>\n",
       "      <td>16</td>\n",
       "    </tr>\n",
       "    <tr>\n",
       "      <th>1</th>\n",
       "      <td>sub-002</td>\n",
       "      <td>1</td>\n",
       "      <td>78</td>\n",
       "      <td>0</td>\n",
       "      <td>22</td>\n",
       "    </tr>\n",
       "    <tr>\n",
       "      <th>2</th>\n",
       "      <td>sub-003</td>\n",
       "      <td>0</td>\n",
       "      <td>70</td>\n",
       "      <td>0</td>\n",
       "      <td>14</td>\n",
       "    </tr>\n",
       "    <tr>\n",
       "      <th>3</th>\n",
       "      <td>sub-004</td>\n",
       "      <td>1</td>\n",
       "      <td>67</td>\n",
       "      <td>0</td>\n",
       "      <td>20</td>\n",
       "    </tr>\n",
       "    <tr>\n",
       "      <th>4</th>\n",
       "      <td>sub-005</td>\n",
       "      <td>0</td>\n",
       "      <td>70</td>\n",
       "      <td>0</td>\n",
       "      <td>22</td>\n",
       "    </tr>\n",
       "  </tbody>\n",
       "</table>\n",
       "</div>"
      ],
      "text/plain": [
       "  participant_id  Gender  Age  Group  MMSE\n",
       "0        sub-001       1   57      0    16\n",
       "1        sub-002       1   78      0    22\n",
       "2        sub-003       0   70      0    14\n",
       "3        sub-004       1   67      0    20\n",
       "4        sub-005       0   70      0    22"
      ]
     },
     "execution_count": 10,
     "metadata": {},
     "output_type": "execute_result"
    }
   ],
   "source": [
    "df_partipants_ad_ftd = df_partipants[df_partipants['Group'].isin(['A','F'])]\n",
    "\n",
    "# Encoding Gender, Groups (Classes)\n",
    "gender_dict = {'M':0, 'F':1}\n",
    "group_dict = {'A':0, 'F':1}\n",
    "\n",
    "df_partipants_ad_ftd['Gender'] = df_partipants_ad_ftd['Gender'].replace(gender_dict)\n",
    "df_partipants_ad_ftd['Group'] = df_partipants_ad_ftd['Group'].replace(group_dict)\n",
    "\n",
    "print('Subjects from Alzheimer and Fronto Temporal Dementia datasets:',len(df_partipants_ad_ftd))\n",
    "df_partipants_ad_ftd.head()"
   ]
  },
  {
   "cell_type": "code",
   "execution_count": 11,
   "metadata": {},
   "outputs": [
    {
     "name": "stdout",
     "output_type": "stream",
     "text": [
      "Participants Info: 51\n",
      "EEG Data Subjects: 51\n"
     ]
    },
    {
     "data": {
      "text/html": [
       "<div>\n",
       "<style scoped>\n",
       "    .dataframe tbody tr th:only-of-type {\n",
       "        vertical-align: middle;\n",
       "    }\n",
       "\n",
       "    .dataframe tbody tr th {\n",
       "        vertical-align: top;\n",
       "    }\n",
       "\n",
       "    .dataframe thead th {\n",
       "        text-align: right;\n",
       "    }\n",
       "</style>\n",
       "<table border=\"1\" class=\"dataframe\">\n",
       "  <thead>\n",
       "    <tr style=\"text-align: right;\">\n",
       "      <th></th>\n",
       "      <th>participant_id</th>\n",
       "      <th>Gender</th>\n",
       "      <th>Age</th>\n",
       "      <th>Group</th>\n",
       "      <th>MMSE</th>\n",
       "    </tr>\n",
       "  </thead>\n",
       "  <tbody>\n",
       "    <tr>\n",
       "      <th>0</th>\n",
       "      <td>sub-002</td>\n",
       "      <td>1</td>\n",
       "      <td>78</td>\n",
       "      <td>0</td>\n",
       "      <td>22</td>\n",
       "    </tr>\n",
       "    <tr>\n",
       "      <th>1</th>\n",
       "      <td>sub-004</td>\n",
       "      <td>1</td>\n",
       "      <td>67</td>\n",
       "      <td>0</td>\n",
       "      <td>20</td>\n",
       "    </tr>\n",
       "    <tr>\n",
       "      <th>2</th>\n",
       "      <td>sub-005</td>\n",
       "      <td>0</td>\n",
       "      <td>70</td>\n",
       "      <td>0</td>\n",
       "      <td>22</td>\n",
       "    </tr>\n",
       "    <tr>\n",
       "      <th>3</th>\n",
       "      <td>sub-006</td>\n",
       "      <td>1</td>\n",
       "      <td>61</td>\n",
       "      <td>0</td>\n",
       "      <td>14</td>\n",
       "    </tr>\n",
       "    <tr>\n",
       "      <th>4</th>\n",
       "      <td>sub-007</td>\n",
       "      <td>1</td>\n",
       "      <td>79</td>\n",
       "      <td>0</td>\n",
       "      <td>20</td>\n",
       "    </tr>\n",
       "  </tbody>\n",
       "</table>\n",
       "</div>"
      ],
      "text/plain": [
       "  participant_id  Gender  Age  Group  MMSE\n",
       "0        sub-002       1   78      0    22\n",
       "1        sub-004       1   67      0    20\n",
       "2        sub-005       0   70      0    22\n",
       "3        sub-006       1   61      0    14\n",
       "4        sub-007       1   79      0    20"
      ]
     },
     "execution_count": 11,
     "metadata": {},
     "output_type": "execute_result"
    }
   ],
   "source": [
    "eeg_data_filtered = []\n",
    "list_participants_id = []\n",
    "\n",
    "for r in eeg_data:\n",
    "  # Filtering EEG Data from only Alzheimer and Fronto Temporal Dementia subjects\n",
    "  if r.info['subject_info']['id'] in df_partipants_ad_ftd['participant_id'].tolist():\n",
    "    # Filtering EEG Datasets with at least 600 seconds of data recorded.\n",
    "    if r.tmax >= 600:\n",
    "      eeg_data_filtered.append(r)\n",
    "      list_participants_id.append(r.info['subject_info']['id'])\n",
    "\n",
    "df_partipants_ad_ftd = df_partipants_ad_ftd[df_partipants_ad_ftd['participant_id'].isin(list_participants_id)]\n",
    "df_partipants_ad_ftd.reset_index(inplace=True, drop=True)\n",
    "\n",
    "print('Participants Info:',len(df_partipants_ad_ftd))\n",
    "print('EEG Data Subjects:',len(eeg_data_filtered))\n",
    "df_partipants_ad_ftd.head()"
   ]
  },
  {
   "cell_type": "markdown",
   "metadata": {},
   "source": [
    "Remove unused variables to free up memory space\n"
   ]
  },
  {
   "cell_type": "code",
   "execution_count": 12,
   "metadata": {},
   "outputs": [],
   "source": [
    "del df_partipants, eeg_data, const_max, const_min, time_max, items, dir_list"
   ]
  },
  {
   "cell_type": "markdown",
   "metadata": {},
   "source": [
    "## Define Epochs\n"
   ]
  },
  {
   "cell_type": "code",
   "execution_count": 13,
   "metadata": {},
   "outputs": [
    {
     "name": "stdout",
     "output_type": "stream",
     "text": [
      "['Fp1', 'Fp2', 'F3', 'F4', 'C3', 'C4', 'P3', 'P4', 'O1', 'O2', 'F7', 'F8', 'T3', 'T4', 'T5', 'T6', 'Fz', 'Cz', 'Pz']\n"
     ]
    }
   ],
   "source": [
    "print(eeg_data_filtered[0].ch_names)"
   ]
  },
  {
   "cell_type": "markdown",
   "metadata": {},
   "source": [
    "Epochs for only Fronto Temporal Channels\n"
   ]
  },
  {
   "cell_type": "code",
   "execution_count": 14,
   "metadata": {},
   "outputs": [
    {
     "name": "stdout",
     "output_type": "stream",
     "text": [
      "Epochs created: 14\n",
      "Subjects with Epochs: 51\n"
     ]
    }
   ],
   "source": [
    "start_time = 0\n",
    "end_time = 600\n",
    "\n",
    "duration = 60.0\n",
    "overlapping = 20.0\n",
    "\n",
    "channels_picked = ['Fp1']\n",
    "\n",
    "epochs = []\n",
    "\n",
    "for raw in eeg_data_filtered:\n",
    "  ep = mne.make_fixed_length_epochs(raw.copy().pick(channels_picked).crop(tmin=start_time, tmax=end_time),\n",
    "                                    duration=duration, overlap=overlapping, preload=False, verbose='CRITICAL')\n",
    "  epochs.append(ep)\n",
    "\n",
    "print('Epochs created:', len(epochs[0].events))\n",
    "print('Subjects with Epochs:', len(epochs))"
   ]
  },
  {
   "cell_type": "code",
   "execution_count": 15,
   "metadata": {},
   "outputs": [
    {
     "name": "stdout",
     "output_type": "stream",
     "text": [
      "Using data from preloaded Raw for 14 events and 30000 original time points ...\n",
      "0 bad epochs dropped\n",
      "Not setting metadata\n",
      "14 matching events found\n",
      "No baseline correction applied\n",
      "0 projection items activated\n"
     ]
    },
    {
     "data": {
      "image/png": "[encoded data removed]",
      "text/plain": [
       "<Figure size 640x480 with 4 Axes>"
      ]
     },
     "metadata": {},
     "output_type": "display_data"
    }
   ],
   "source": [
    "fig = epochs[0].plot_image(picks=channels_picked)\n",
    "plt.show()"
   ]
  },
  {
   "cell_type": "markdown",
   "metadata": {},
   "source": [
    "Validate if the last epoch contain all the points\n"
   ]
  },
  {
   "cell_type": "code",
   "execution_count": 16,
   "metadata": {},
   "outputs": [
    {
     "name": "stdout",
     "output_type": "stream",
     "text": [
      "Using data from preloaded Raw for 14 events and 30000 original time points ...\n",
      "Epochs shape: (14, 1, 30000) \n",
      "\n",
      "Using data from preloaded Raw for 14 events and 30000 original time points ...\n",
      "Last Epoch shape: (1, 1, 30000)\n"
     ]
    }
   ],
   "source": [
    "print('Epochs shape:',epochs[0].get_data().shape,'\\n')\n",
    "print('Last Epoch shape:',epochs[0].get_data()[13:,:,:].shape)"
   ]
  },
  {
   "cell_type": "markdown",
   "metadata": {},
   "source": [
    "## Support Functions\n"
   ]
  },
  {
   "cell_type": "code",
   "execution_count": 17,
   "metadata": {},
   "outputs": [],
   "source": [
    "# Function to get PSD Features from Epochs as a dataframe\n",
    "def PSD_Features_from_Epochs(epoch, sfreq = 500, fmin=0.5, fmax=50):\n",
    "    features = []\n",
    "    for ep in epoch:\n",
    "        epoch_fft = np.abs(np.fft.fft(ep))\n",
    "        psd, freqs = mne.time_frequency.psd_array_welch(epoch_fft, sfreq=sfreq, verbose='CRITICAL')\n",
    "\n",
    "        freq_mask = np.logical_and(freqs >= fmin, freqs <= fmax)\n",
    "        band_psd = psd[:, freq_mask]\n",
    "        \n",
    "        # Features\n",
    "        total_power = np.sum(band_psd, axis=1)\n",
    "        avg_power = np.mean(band_psd, axis=1)\n",
    "        relative_power = np.divide(total_power, np.sum(psd, axis=1))\n",
    "        peak_freq = freqs[freq_mask][np.argmax(band_psd, axis=1)]\n",
    "        spectral_entropy = -np.sum(np.log(band_psd) * band_psd, axis=1)\n",
    "        \n",
    "        epoch_features = {}\n",
    "        \n",
    "        epoch_features['total_power'] = total_power\n",
    "        epoch_features['avg_power'] = avg_power\n",
    "        epoch_features['relative_power'] = relative_power\n",
    "        epoch_features['peak_freq'] = peak_freq\n",
    "        epoch_features['spectral_entropy'] = spectral_entropy\n",
    "        \n",
    "        features.append(epoch_features)\n",
    "\n",
    "    features_array = np.array([tuple(f.values()) for f in features],\n",
    "                            dtype=list(zip(features[0].keys(), ['float'] * len(features[0]))))\n",
    "    \n",
    "    return features_array"
   ]
  },
  {
   "cell_type": "markdown",
   "metadata": {},
   "source": [
    "## PSD Feature Extraction from Epochs\n"
   ]
  },
  {
   "cell_type": "code",
   "execution_count": 23,
   "metadata": {},
   "outputs": [
    {
     "name": "stderr",
     "output_type": "stream",
     "text": [
      "/var/folders/42/zkw31xg11x1f6dpl9zz6hmz00000gn/T/ipykernel_46601/1045183176.py:28: DeprecationWarning: Conversion of an array with ndim > 0 to a scalar is deprecated, and will error in future. Ensure you extract a single element from your array before performing this operation. (Deprecated NumPy 1.25.)\n",
      "  features_array = np.array([tuple(f.values()) for f in features],\n",
      "/var/folders/42/zkw31xg11x1f6dpl9zz6hmz00000gn/T/ipykernel_46601/1045183176.py:28: DeprecationWarning: Conversion of an array with ndim > 0 to a scalar is deprecated, and will error in future. Ensure you extract a single element from your array before performing this operation. (Deprecated NumPy 1.25.)\n",
      "  features_array = np.array([tuple(f.values()) for f in features],\n",
      "/var/folders/42/zkw31xg11x1f6dpl9zz6hmz00000gn/T/ipykernel_46601/1045183176.py:28: DeprecationWarning: Conversion of an array with ndim > 0 to a scalar is deprecated, and will error in future. Ensure you extract a single element from your array before performing this operation. (Deprecated NumPy 1.25.)\n",
      "  features_array = np.array([tuple(f.values()) for f in features],\n",
      "/var/folders/42/zkw31xg11x1f6dpl9zz6hmz00000gn/T/ipykernel_46601/1045183176.py:28: DeprecationWarning: Conversion of an array with ndim > 0 to a scalar is deprecated, and will error in future. Ensure you extract a single element from your array before performing this operation. (Deprecated NumPy 1.25.)\n",
      "  features_array = np.array([tuple(f.values()) for f in features],\n",
      "/var/folders/42/zkw31xg11x1f6dpl9zz6hmz00000gn/T/ipykernel_46601/1045183176.py:28: DeprecationWarning: Conversion of an array with ndim > 0 to a scalar is deprecated, and will error in future. Ensure you extract a single element from your array before performing this operation. (Deprecated NumPy 1.25.)\n",
      "  features_array = np.array([tuple(f.values()) for f in features],\n",
      "/var/folders/42/zkw31xg11x1f6dpl9zz6hmz00000gn/T/ipykernel_46601/1045183176.py:28: DeprecationWarning: Conversion of an array with ndim > 0 to a scalar is deprecated, and will error in future. Ensure you extract a single element from your array before performing this operation. (Deprecated NumPy 1.25.)\n",
      "  features_array = np.array([tuple(f.values()) for f in features],\n",
      "/var/folders/42/zkw31xg11x1f6dpl9zz6hmz00000gn/T/ipykernel_46601/1045183176.py:28: DeprecationWarning: Conversion of an array with ndim > 0 to a scalar is deprecated, and will error in future. Ensure you extract a single element from your array before performing this operation. (Deprecated NumPy 1.25.)\n",
      "  features_array = np.array([tuple(f.values()) for f in features],\n",
      "/var/folders/42/zkw31xg11x1f6dpl9zz6hmz00000gn/T/ipykernel_46601/1045183176.py:28: DeprecationWarning: Conversion of an array with ndim > 0 to a scalar is deprecated, and will error in future. Ensure you extract a single element from your array before performing this operation. (Deprecated NumPy 1.25.)\n",
      "  features_array = np.array([tuple(f.values()) for f in features],\n",
      "/var/folders/42/zkw31xg11x1f6dpl9zz6hmz00000gn/T/ipykernel_46601/1045183176.py:28: DeprecationWarning: Conversion of an array with ndim > 0 to a scalar is deprecated, and will error in future. Ensure you extract a single element from your array before performing this operation. (Deprecated NumPy 1.25.)\n",
      "  features_array = np.array([tuple(f.values()) for f in features],\n",
      "/var/folders/42/zkw31xg11x1f6dpl9zz6hmz00000gn/T/ipykernel_46601/1045183176.py:28: DeprecationWarning: Conversion of an array with ndim > 0 to a scalar is deprecated, and will error in future. Ensure you extract a single element from your array before performing this operation. (Deprecated NumPy 1.25.)\n",
      "  features_array = np.array([tuple(f.values()) for f in features],\n",
      "/var/folders/42/zkw31xg11x1f6dpl9zz6hmz00000gn/T/ipykernel_46601/1045183176.py:28: DeprecationWarning: Conversion of an array with ndim > 0 to a scalar is deprecated, and will error in future. Ensure you extract a single element from your array before performing this operation. (Deprecated NumPy 1.25.)\n",
      "  features_array = np.array([tuple(f.values()) for f in features],\n",
      "/var/folders/42/zkw31xg11x1f6dpl9zz6hmz00000gn/T/ipykernel_46601/1045183176.py:28: DeprecationWarning: Conversion of an array with ndim > 0 to a scalar is deprecated, and will error in future. Ensure you extract a single element from your array before performing this operation. (Deprecated NumPy 1.25.)\n",
      "  features_array = np.array([tuple(f.values()) for f in features],\n",
      "/var/folders/42/zkw31xg11x1f6dpl9zz6hmz00000gn/T/ipykernel_46601/1045183176.py:28: DeprecationWarning: Conversion of an array with ndim > 0 to a scalar is deprecated, and will error in future. Ensure you extract a single element from your array before performing this operation. (Deprecated NumPy 1.25.)\n",
      "  features_array = np.array([tuple(f.values()) for f in features],\n",
      "/var/folders/42/zkw31xg11x1f6dpl9zz6hmz00000gn/T/ipykernel_46601/1045183176.py:28: DeprecationWarning: Conversion of an array with ndim > 0 to a scalar is deprecated, and will error in future. Ensure you extract a single element from your array before performing this operation. (Deprecated NumPy 1.25.)\n",
      "  features_array = np.array([tuple(f.values()) for f in features],\n",
      "/var/folders/42/zkw31xg11x1f6dpl9zz6hmz00000gn/T/ipykernel_46601/1045183176.py:28: DeprecationWarning: Conversion of an array with ndim > 0 to a scalar is deprecated, and will error in future. Ensure you extract a single element from your array before performing this operation. (Deprecated NumPy 1.25.)\n",
      "  features_array = np.array([tuple(f.values()) for f in features],\n",
      "/var/folders/42/zkw31xg11x1f6dpl9zz6hmz00000gn/T/ipykernel_46601/1045183176.py:28: DeprecationWarning: Conversion of an array with ndim > 0 to a scalar is deprecated, and will error in future. Ensure you extract a single element from your array before performing this operation. (Deprecated NumPy 1.25.)\n",
      "  features_array = np.array([tuple(f.values()) for f in features],\n",
      "/var/folders/42/zkw31xg11x1f6dpl9zz6hmz00000gn/T/ipykernel_46601/1045183176.py:28: DeprecationWarning: Conversion of an array with ndim > 0 to a scalar is deprecated, and will error in future. Ensure you extract a single element from your array before performing this operation. (Deprecated NumPy 1.25.)\n",
      "  features_array = np.array([tuple(f.values()) for f in features],\n",
      "/var/folders/42/zkw31xg11x1f6dpl9zz6hmz00000gn/T/ipykernel_46601/1045183176.py:28: DeprecationWarning: Conversion of an array with ndim > 0 to a scalar is deprecated, and will error in future. Ensure you extract a single element from your array before performing this operation. (Deprecated NumPy 1.25.)\n",
      "  features_array = np.array([tuple(f.values()) for f in features],\n",
      "/var/folders/42/zkw31xg11x1f6dpl9zz6hmz00000gn/T/ipykernel_46601/1045183176.py:28: DeprecationWarning: Conversion of an array with ndim > 0 to a scalar is deprecated, and will error in future. Ensure you extract a single element from your array before performing this operation. (Deprecated NumPy 1.25.)\n",
      "  features_array = np.array([tuple(f.values()) for f in features],\n",
      "/var/folders/42/zkw31xg11x1f6dpl9zz6hmz00000gn/T/ipykernel_46601/1045183176.py:28: DeprecationWarning: Conversion of an array with ndim > 0 to a scalar is deprecated, and will error in future. Ensure you extract a single element from your array before performing this operation. (Deprecated NumPy 1.25.)\n",
      "  features_array = np.array([tuple(f.values()) for f in features],\n",
      "/var/folders/42/zkw31xg11x1f6dpl9zz6hmz00000gn/T/ipykernel_46601/1045183176.py:28: DeprecationWarning: Conversion of an array with ndim > 0 to a scalar is deprecated, and will error in future. Ensure you extract a single element from your array before performing this operation. (Deprecated NumPy 1.25.)\n",
      "  features_array = np.array([tuple(f.values()) for f in features],\n",
      "/var/folders/42/zkw31xg11x1f6dpl9zz6hmz00000gn/T/ipykernel_46601/1045183176.py:28: DeprecationWarning: Conversion of an array with ndim > 0 to a scalar is deprecated, and will error in future. Ensure you extract a single element from your array before performing this operation. (Deprecated NumPy 1.25.)\n",
      "  features_array = np.array([tuple(f.values()) for f in features],\n",
      "/var/folders/42/zkw31xg11x1f6dpl9zz6hmz00000gn/T/ipykernel_46601/1045183176.py:28: DeprecationWarning: Conversion of an array with ndim > 0 to a scalar is deprecated, and will error in future. Ensure you extract a single element from your array before performing this operation. (Deprecated NumPy 1.25.)\n",
      "  features_array = np.array([tuple(f.values()) for f in features],\n",
      "/var/folders/42/zkw31xg11x1f6dpl9zz6hmz00000gn/T/ipykernel_46601/1045183176.py:28: DeprecationWarning: Conversion of an array with ndim > 0 to a scalar is deprecated, and will error in future. Ensure you extract a single element from your array before performing this operation. (Deprecated NumPy 1.25.)\n",
      "  features_array = np.array([tuple(f.values()) for f in features],\n",
      "/var/folders/42/zkw31xg11x1f6dpl9zz6hmz00000gn/T/ipykernel_46601/1045183176.py:28: DeprecationWarning: Conversion of an array with ndim > 0 to a scalar is deprecated, and will error in future. Ensure you extract a single element from your array before performing this operation. (Deprecated NumPy 1.25.)\n",
      "  features_array = np.array([tuple(f.values()) for f in features],\n",
      "/var/folders/42/zkw31xg11x1f6dpl9zz6hmz00000gn/T/ipykernel_46601/1045183176.py:28: DeprecationWarning: Conversion of an array with ndim > 0 to a scalar is deprecated, and will error in future. Ensure you extract a single element from your array before performing this operation. (Deprecated NumPy 1.25.)\n",
      "  features_array = np.array([tuple(f.values()) for f in features],\n",
      "/var/folders/42/zkw31xg11x1f6dpl9zz6hmz00000gn/T/ipykernel_46601/1045183176.py:28: DeprecationWarning: Conversion of an array with ndim > 0 to a scalar is deprecated, and will error in future. Ensure you extract a single element from your array before performing this operation. (Deprecated NumPy 1.25.)\n",
      "  features_array = np.array([tuple(f.values()) for f in features],\n",
      "/var/folders/42/zkw31xg11x1f6dpl9zz6hmz00000gn/T/ipykernel_46601/1045183176.py:28: DeprecationWarning: Conversion of an array with ndim > 0 to a scalar is deprecated, and will error in future. Ensure you extract a single element from your array before performing this operation. (Deprecated NumPy 1.25.)\n",
      "  features_array = np.array([tuple(f.values()) for f in features],\n",
      "/var/folders/42/zkw31xg11x1f6dpl9zz6hmz00000gn/T/ipykernel_46601/1045183176.py:28: DeprecationWarning: Conversion of an array with ndim > 0 to a scalar is deprecated, and will error in future. Ensure you extract a single element from your array before performing this operation. (Deprecated NumPy 1.25.)\n",
      "  features_array = np.array([tuple(f.values()) for f in features],\n",
      "/var/folders/42/zkw31xg11x1f6dpl9zz6hmz00000gn/T/ipykernel_46601/1045183176.py:28: DeprecationWarning: Conversion of an array with ndim > 0 to a scalar is deprecated, and will error in future. Ensure you extract a single element from your array before performing this operation. (Deprecated NumPy 1.25.)\n",
      "  features_array = np.array([tuple(f.values()) for f in features],\n",
      "/var/folders/42/zkw31xg11x1f6dpl9zz6hmz00000gn/T/ipykernel_46601/1045183176.py:28: DeprecationWarning: Conversion of an array with ndim > 0 to a scalar is deprecated, and will error in future. Ensure you extract a single element from your array before performing this operation. (Deprecated NumPy 1.25.)\n",
      "  features_array = np.array([tuple(f.values()) for f in features],\n",
      "/var/folders/42/zkw31xg11x1f6dpl9zz6hmz00000gn/T/ipykernel_46601/1045183176.py:28: DeprecationWarning: Conversion of an array with ndim > 0 to a scalar is deprecated, and will error in future. Ensure you extract a single element from your array before performing this operation. (Deprecated NumPy 1.25.)\n",
      "  features_array = np.array([tuple(f.values()) for f in features],\n",
      "/var/folders/42/zkw31xg11x1f6dpl9zz6hmz00000gn/T/ipykernel_46601/1045183176.py:28: DeprecationWarning: Conversion of an array with ndim > 0 to a scalar is deprecated, and will error in future. Ensure you extract a single element from your array before performing this operation. (Deprecated NumPy 1.25.)\n",
      "  features_array = np.array([tuple(f.values()) for f in features],\n",
      "/var/folders/42/zkw31xg11x1f6dpl9zz6hmz00000gn/T/ipykernel_46601/1045183176.py:28: DeprecationWarning: Conversion of an array with ndim > 0 to a scalar is deprecated, and will error in future. Ensure you extract a single element from your array before performing this operation. (Deprecated NumPy 1.25.)\n",
      "  features_array = np.array([tuple(f.values()) for f in features],\n",
      "/var/folders/42/zkw31xg11x1f6dpl9zz6hmz00000gn/T/ipykernel_46601/1045183176.py:28: DeprecationWarning: Conversion of an array with ndim > 0 to a scalar is deprecated, and will error in future. Ensure you extract a single element from your array before performing this operation. (Deprecated NumPy 1.25.)\n",
      "  features_array = np.array([tuple(f.values()) for f in features],\n",
      "/var/folders/42/zkw31xg11x1f6dpl9zz6hmz00000gn/T/ipykernel_46601/1045183176.py:28: DeprecationWarning: Conversion of an array with ndim > 0 to a scalar is deprecated, and will error in future. Ensure you extract a single element from your array before performing this operation. (Deprecated NumPy 1.25.)\n",
      "  features_array = np.array([tuple(f.values()) for f in features],\n",
      "/var/folders/42/zkw31xg11x1f6dpl9zz6hmz00000gn/T/ipykernel_46601/1045183176.py:28: DeprecationWarning: Conversion of an array with ndim > 0 to a scalar is deprecated, and will error in future. Ensure you extract a single element from your array before performing this operation. (Deprecated NumPy 1.25.)\n",
      "  features_array = np.array([tuple(f.values()) for f in features],\n",
      "/var/folders/42/zkw31xg11x1f6dpl9zz6hmz00000gn/T/ipykernel_46601/1045183176.py:28: DeprecationWarning: Conversion of an array with ndim > 0 to a scalar is deprecated, and will error in future. Ensure you extract a single element from your array before performing this operation. (Deprecated NumPy 1.25.)\n",
      "  features_array = np.array([tuple(f.values()) for f in features],\n",
      "/var/folders/42/zkw31xg11x1f6dpl9zz6hmz00000gn/T/ipykernel_46601/1045183176.py:28: DeprecationWarning: Conversion of an array with ndim > 0 to a scalar is deprecated, and will error in future. Ensure you extract a single element from your array before performing this operation. (Deprecated NumPy 1.25.)\n",
      "  features_array = np.array([tuple(f.values()) for f in features],\n",
      "/var/folders/42/zkw31xg11x1f6dpl9zz6hmz00000gn/T/ipykernel_46601/1045183176.py:28: DeprecationWarning: Conversion of an array with ndim > 0 to a scalar is deprecated, and will error in future. Ensure you extract a single element from your array before performing this operation. (Deprecated NumPy 1.25.)\n",
      "  features_array = np.array([tuple(f.values()) for f in features],\n",
      "/var/folders/42/zkw31xg11x1f6dpl9zz6hmz00000gn/T/ipykernel_46601/1045183176.py:28: DeprecationWarning: Conversion of an array with ndim > 0 to a scalar is deprecated, and will error in future. Ensure you extract a single element from your array before performing this operation. (Deprecated NumPy 1.25.)\n",
      "  features_array = np.array([tuple(f.values()) for f in features],\n",
      "/var/folders/42/zkw31xg11x1f6dpl9zz6hmz00000gn/T/ipykernel_46601/1045183176.py:28: DeprecationWarning: Conversion of an array with ndim > 0 to a scalar is deprecated, and will error in future. Ensure you extract a single element from your array before performing this operation. (Deprecated NumPy 1.25.)\n",
      "  features_array = np.array([tuple(f.values()) for f in features],\n",
      "/var/folders/42/zkw31xg11x1f6dpl9zz6hmz00000gn/T/ipykernel_46601/1045183176.py:28: DeprecationWarning: Conversion of an array with ndim > 0 to a scalar is deprecated, and will error in future. Ensure you extract a single element from your array before performing this operation. (Deprecated NumPy 1.25.)\n",
      "  features_array = np.array([tuple(f.values()) for f in features],\n",
      "/var/folders/42/zkw31xg11x1f6dpl9zz6hmz00000gn/T/ipykernel_46601/1045183176.py:28: DeprecationWarning: Conversion of an array with ndim > 0 to a scalar is deprecated, and will error in future. Ensure you extract a single element from your array before performing this operation. (Deprecated NumPy 1.25.)\n",
      "  features_array = np.array([tuple(f.values()) for f in features],\n",
      "/var/folders/42/zkw31xg11x1f6dpl9zz6hmz00000gn/T/ipykernel_46601/1045183176.py:28: DeprecationWarning: Conversion of an array with ndim > 0 to a scalar is deprecated, and will error in future. Ensure you extract a single element from your array before performing this operation. (Deprecated NumPy 1.25.)\n",
      "  features_array = np.array([tuple(f.values()) for f in features],\n",
      "/var/folders/42/zkw31xg11x1f6dpl9zz6hmz00000gn/T/ipykernel_46601/1045183176.py:28: DeprecationWarning: Conversion of an array with ndim > 0 to a scalar is deprecated, and will error in future. Ensure you extract a single element from your array before performing this operation. (Deprecated NumPy 1.25.)\n",
      "  features_array = np.array([tuple(f.values()) for f in features],\n",
      "/var/folders/42/zkw31xg11x1f6dpl9zz6hmz00000gn/T/ipykernel_46601/1045183176.py:28: DeprecationWarning: Conversion of an array with ndim > 0 to a scalar is deprecated, and will error in future. Ensure you extract a single element from your array before performing this operation. (Deprecated NumPy 1.25.)\n",
      "  features_array = np.array([tuple(f.values()) for f in features],\n",
      "/var/folders/42/zkw31xg11x1f6dpl9zz6hmz00000gn/T/ipykernel_46601/1045183176.py:28: DeprecationWarning: Conversion of an array with ndim > 0 to a scalar is deprecated, and will error in future. Ensure you extract a single element from your array before performing this operation. (Deprecated NumPy 1.25.)\n",
      "  features_array = np.array([tuple(f.values()) for f in features],\n",
      "/var/folders/42/zkw31xg11x1f6dpl9zz6hmz00000gn/T/ipykernel_46601/1045183176.py:28: DeprecationWarning: Conversion of an array with ndim > 0 to a scalar is deprecated, and will error in future. Ensure you extract a single element from your array before performing this operation. (Deprecated NumPy 1.25.)\n",
      "  features_array = np.array([tuple(f.values()) for f in features],\n",
      "/var/folders/42/zkw31xg11x1f6dpl9zz6hmz00000gn/T/ipykernel_46601/1045183176.py:28: DeprecationWarning: Conversion of an array with ndim > 0 to a scalar is deprecated, and will error in future. Ensure you extract a single element from your array before performing this operation. (Deprecated NumPy 1.25.)\n",
      "  features_array = np.array([tuple(f.values()) for f in features],\n",
      "/var/folders/42/zkw31xg11x1f6dpl9zz6hmz00000gn/T/ipykernel_46601/1045183176.py:28: DeprecationWarning: Conversion of an array with ndim > 0 to a scalar is deprecated, and will error in future. Ensure you extract a single element from your array before performing this operation. (Deprecated NumPy 1.25.)\n",
      "  features_array = np.array([tuple(f.values()) for f in features],\n"
     ]
    },
    {
     "data": {
      "text/html": [
       "<div>\n",
       "<style scoped>\n",
       "    .dataframe tbody tr th:only-of-type {\n",
       "        vertical-align: middle;\n",
       "    }\n",
       "\n",
       "    .dataframe tbody tr th {\n",
       "        vertical-align: top;\n",
       "    }\n",
       "\n",
       "    .dataframe thead th {\n",
       "        text-align: right;\n",
       "    }\n",
       "</style>\n",
       "<table border=\"1\" class=\"dataframe\">\n",
       "  <thead>\n",
       "    <tr style=\"text-align: right;\">\n",
       "      <th></th>\n",
       "      <th>subject_id</th>\n",
       "      <th>age</th>\n",
       "      <th>gender</th>\n",
       "      <th>epoch_id</th>\n",
       "      <th>total_power</th>\n",
       "      <th>avg_power</th>\n",
       "      <th>relative_power</th>\n",
       "      <th>peak_freq</th>\n",
       "      <th>spectral_entropy</th>\n",
       "      <th>group</th>\n",
       "    </tr>\n",
       "  </thead>\n",
       "  <tbody>\n",
       "    <tr>\n",
       "      <th>0</th>\n",
       "      <td>sub-002</td>\n",
       "      <td>78</td>\n",
       "      <td>1</td>\n",
       "      <td>0</td>\n",
       "      <td>8.138737e-07</td>\n",
       "      <td>3.255495e-08</td>\n",
       "      <td>0.480204</td>\n",
       "      <td>1.953125</td>\n",
       "      <td>0.000013</td>\n",
       "      <td>0</td>\n",
       "    </tr>\n",
       "    <tr>\n",
       "      <th>1</th>\n",
       "      <td>sub-002</td>\n",
       "      <td>78</td>\n",
       "      <td>1</td>\n",
       "      <td>1</td>\n",
       "      <td>6.457802e-07</td>\n",
       "      <td>2.583121e-08</td>\n",
       "      <td>0.373726</td>\n",
       "      <td>1.953125</td>\n",
       "      <td>0.000010</td>\n",
       "      <td>0</td>\n",
       "    </tr>\n",
       "    <tr>\n",
       "      <th>2</th>\n",
       "      <td>sub-002</td>\n",
       "      <td>78</td>\n",
       "      <td>1</td>\n",
       "      <td>2</td>\n",
       "      <td>7.862074e-07</td>\n",
       "      <td>3.144830e-08</td>\n",
       "      <td>0.397717</td>\n",
       "      <td>1.953125</td>\n",
       "      <td>0.000013</td>\n",
       "      <td>0</td>\n",
       "    </tr>\n",
       "    <tr>\n",
       "      <th>3</th>\n",
       "      <td>sub-002</td>\n",
       "      <td>78</td>\n",
       "      <td>1</td>\n",
       "      <td>3</td>\n",
       "      <td>8.496011e-07</td>\n",
       "      <td>3.398405e-08</td>\n",
       "      <td>0.458611</td>\n",
       "      <td>1.953125</td>\n",
       "      <td>0.000013</td>\n",
       "      <td>0</td>\n",
       "    </tr>\n",
       "    <tr>\n",
       "      <th>4</th>\n",
       "      <td>sub-002</td>\n",
       "      <td>78</td>\n",
       "      <td>1</td>\n",
       "      <td>4</td>\n",
       "      <td>7.503180e-07</td>\n",
       "      <td>3.001272e-08</td>\n",
       "      <td>0.402417</td>\n",
       "      <td>1.953125</td>\n",
       "      <td>0.000012</td>\n",
       "      <td>0</td>\n",
       "    </tr>\n",
       "    <tr>\n",
       "      <th>5</th>\n",
       "      <td>sub-002</td>\n",
       "      <td>78</td>\n",
       "      <td>1</td>\n",
       "      <td>5</td>\n",
       "      <td>7.952553e-07</td>\n",
       "      <td>3.181021e-08</td>\n",
       "      <td>0.405154</td>\n",
       "      <td>1.953125</td>\n",
       "      <td>0.000013</td>\n",
       "      <td>0</td>\n",
       "    </tr>\n",
       "    <tr>\n",
       "      <th>6</th>\n",
       "      <td>sub-002</td>\n",
       "      <td>78</td>\n",
       "      <td>1</td>\n",
       "      <td>6</td>\n",
       "      <td>1.075596e-06</td>\n",
       "      <td>4.302383e-08</td>\n",
       "      <td>0.513803</td>\n",
       "      <td>1.953125</td>\n",
       "      <td>0.000016</td>\n",
       "      <td>0</td>\n",
       "    </tr>\n",
       "    <tr>\n",
       "      <th>7</th>\n",
       "      <td>sub-002</td>\n",
       "      <td>78</td>\n",
       "      <td>1</td>\n",
       "      <td>7</td>\n",
       "      <td>1.105047e-06</td>\n",
       "      <td>4.420189e-08</td>\n",
       "      <td>0.501031</td>\n",
       "      <td>1.953125</td>\n",
       "      <td>0.000017</td>\n",
       "      <td>0</td>\n",
       "    </tr>\n",
       "    <tr>\n",
       "      <th>8</th>\n",
       "      <td>sub-002</td>\n",
       "      <td>78</td>\n",
       "      <td>1</td>\n",
       "      <td>8</td>\n",
       "      <td>1.064963e-06</td>\n",
       "      <td>4.259850e-08</td>\n",
       "      <td>0.479352</td>\n",
       "      <td>1.953125</td>\n",
       "      <td>0.000016</td>\n",
       "      <td>0</td>\n",
       "    </tr>\n",
       "    <tr>\n",
       "      <th>9</th>\n",
       "      <td>sub-002</td>\n",
       "      <td>78</td>\n",
       "      <td>1</td>\n",
       "      <td>9</td>\n",
       "      <td>8.609200e-07</td>\n",
       "      <td>3.443680e-08</td>\n",
       "      <td>0.432345</td>\n",
       "      <td>1.953125</td>\n",
       "      <td>0.000013</td>\n",
       "      <td>0</td>\n",
       "    </tr>\n",
       "    <tr>\n",
       "      <th>10</th>\n",
       "      <td>sub-002</td>\n",
       "      <td>78</td>\n",
       "      <td>1</td>\n",
       "      <td>10</td>\n",
       "      <td>8.421084e-07</td>\n",
       "      <td>3.368434e-08</td>\n",
       "      <td>0.467829</td>\n",
       "      <td>1.953125</td>\n",
       "      <td>0.000013</td>\n",
       "      <td>0</td>\n",
       "    </tr>\n",
       "    <tr>\n",
       "      <th>11</th>\n",
       "      <td>sub-002</td>\n",
       "      <td>78</td>\n",
       "      <td>1</td>\n",
       "      <td>11</td>\n",
       "      <td>8.025459e-07</td>\n",
       "      <td>3.210183e-08</td>\n",
       "      <td>0.402377</td>\n",
       "      <td>1.953125</td>\n",
       "      <td>0.000013</td>\n",
       "      <td>0</td>\n",
       "    </tr>\n",
       "    <tr>\n",
       "      <th>12</th>\n",
       "      <td>sub-002</td>\n",
       "      <td>78</td>\n",
       "      <td>1</td>\n",
       "      <td>12</td>\n",
       "      <td>9.398573e-07</td>\n",
       "      <td>3.759429e-08</td>\n",
       "      <td>0.425821</td>\n",
       "      <td>1.953125</td>\n",
       "      <td>0.000015</td>\n",
       "      <td>0</td>\n",
       "    </tr>\n",
       "    <tr>\n",
       "      <th>13</th>\n",
       "      <td>sub-002</td>\n",
       "      <td>78</td>\n",
       "      <td>1</td>\n",
       "      <td>13</td>\n",
       "      <td>9.149911e-07</td>\n",
       "      <td>3.659964e-08</td>\n",
       "      <td>0.421293</td>\n",
       "      <td>1.953125</td>\n",
       "      <td>0.000014</td>\n",
       "      <td>0</td>\n",
       "    </tr>\n",
       "    <tr>\n",
       "      <th>14</th>\n",
       "      <td>sub-004</td>\n",
       "      <td>67</td>\n",
       "      <td>1</td>\n",
       "      <td>0</td>\n",
       "      <td>7.277107e-07</td>\n",
       "      <td>2.910843e-08</td>\n",
       "      <td>0.404504</td>\n",
       "      <td>1.953125</td>\n",
       "      <td>0.000012</td>\n",
       "      <td>0</td>\n",
       "    </tr>\n",
       "    <tr>\n",
       "      <th>15</th>\n",
       "      <td>sub-004</td>\n",
       "      <td>67</td>\n",
       "      <td>1</td>\n",
       "      <td>1</td>\n",
       "      <td>1.089574e-06</td>\n",
       "      <td>4.358298e-08</td>\n",
       "      <td>0.446898</td>\n",
       "      <td>1.953125</td>\n",
       "      <td>0.000017</td>\n",
       "      <td>0</td>\n",
       "    </tr>\n",
       "    <tr>\n",
       "      <th>16</th>\n",
       "      <td>sub-004</td>\n",
       "      <td>67</td>\n",
       "      <td>1</td>\n",
       "      <td>2</td>\n",
       "      <td>1.063767e-06</td>\n",
       "      <td>4.255068e-08</td>\n",
       "      <td>0.415782</td>\n",
       "      <td>1.953125</td>\n",
       "      <td>0.000016</td>\n",
       "      <td>0</td>\n",
       "    </tr>\n",
       "    <tr>\n",
       "      <th>17</th>\n",
       "      <td>sub-004</td>\n",
       "      <td>67</td>\n",
       "      <td>1</td>\n",
       "      <td>3</td>\n",
       "      <td>1.260314e-06</td>\n",
       "      <td>5.041256e-08</td>\n",
       "      <td>0.460524</td>\n",
       "      <td>1.953125</td>\n",
       "      <td>0.000019</td>\n",
       "      <td>0</td>\n",
       "    </tr>\n",
       "    <tr>\n",
       "      <th>18</th>\n",
       "      <td>sub-004</td>\n",
       "      <td>67</td>\n",
       "      <td>1</td>\n",
       "      <td>4</td>\n",
       "      <td>8.954482e-07</td>\n",
       "      <td>3.581793e-08</td>\n",
       "      <td>0.461897</td>\n",
       "      <td>1.953125</td>\n",
       "      <td>0.000014</td>\n",
       "      <td>0</td>\n",
       "    </tr>\n",
       "    <tr>\n",
       "      <th>19</th>\n",
       "      <td>sub-004</td>\n",
       "      <td>67</td>\n",
       "      <td>1</td>\n",
       "      <td>5</td>\n",
       "      <td>1.003634e-06</td>\n",
       "      <td>4.014534e-08</td>\n",
       "      <td>0.535245</td>\n",
       "      <td>1.953125</td>\n",
       "      <td>0.000016</td>\n",
       "      <td>0</td>\n",
       "    </tr>\n",
       "  </tbody>\n",
       "</table>\n",
       "</div>"
      ],
      "text/plain": [
       "   subject_id  age  gender  epoch_id   total_power     avg_power  \\\n",
       "0     sub-002   78       1         0  8.138737e-07  3.255495e-08   \n",
       "1     sub-002   78       1         1  6.457802e-07  2.583121e-08   \n",
       "2     sub-002   78       1         2  7.862074e-07  3.144830e-08   \n",
       "3     sub-002   78       1         3  8.496011e-07  3.398405e-08   \n",
       "4     sub-002   78       1         4  7.503180e-07  3.001272e-08   \n",
       "5     sub-002   78       1         5  7.952553e-07  3.181021e-08   \n",
       "6     sub-002   78       1         6  1.075596e-06  4.302383e-08   \n",
       "7     sub-002   78       1         7  1.105047e-06  4.420189e-08   \n",
       "8     sub-002   78       1         8  1.064963e-06  4.259850e-08   \n",
       "9     sub-002   78       1         9  8.609200e-07  3.443680e-08   \n",
       "10    sub-002   78       1        10  8.421084e-07  3.368434e-08   \n",
       "11    sub-002   78       1        11  8.025459e-07  3.210183e-08   \n",
       "12    sub-002   78       1        12  9.398573e-07  3.759429e-08   \n",
       "13    sub-002   78       1        13  9.149911e-07  3.659964e-08   \n",
       "14    sub-004   67       1         0  7.277107e-07  2.910843e-08   \n",
       "15    sub-004   67       1         1  1.089574e-06  4.358298e-08   \n",
       "16    sub-004   67       1         2  1.063767e-06  4.255068e-08   \n",
       "17    sub-004   67       1         3  1.260314e-06  5.041256e-08   \n",
       "18    sub-004   67       1         4  8.954482e-07  3.581793e-08   \n",
       "19    sub-004   67       1         5  1.003634e-06  4.014534e-08   \n",
       "\n",
       "    relative_power  peak_freq  spectral_entropy  group  \n",
       "0         0.480204   1.953125          0.000013      0  \n",
       "1         0.373726   1.953125          0.000010      0  \n",
       "2         0.397717   1.953125          0.000013      0  \n",
       "3         0.458611   1.953125          0.000013      0  \n",
       "4         0.402417   1.953125          0.000012      0  \n",
       "5         0.405154   1.953125          0.000013      0  \n",
       "6         0.513803   1.953125          0.000016      0  \n",
       "7         0.501031   1.953125          0.000017      0  \n",
       "8         0.479352   1.953125          0.000016      0  \n",
       "9         0.432345   1.953125          0.000013      0  \n",
       "10        0.467829   1.953125          0.000013      0  \n",
       "11        0.402377   1.953125          0.000013      0  \n",
       "12        0.425821   1.953125          0.000015      0  \n",
       "13        0.421293   1.953125          0.000014      0  \n",
       "14        0.404504   1.953125          0.000012      0  \n",
       "15        0.446898   1.953125          0.000017      0  \n",
       "16        0.415782   1.953125          0.000016      0  \n",
       "17        0.460524   1.953125          0.000019      0  \n",
       "18        0.461897   1.953125          0.000014      0  \n",
       "19        0.535245   1.953125          0.000016      0  "
      ]
     },
     "execution_count": 23,
     "metadata": {},
     "output_type": "execute_result"
    }
   ],
   "source": [
    "sfreq = eeg_data_filtered[0].info['sfreq']\n",
    "fmin = 1\n",
    "fmax = 50\n",
    "\n",
    "psd_features = []\n",
    "\n",
    "for i, row in df_partipants_ad_ftd.iterrows():\n",
    "    epoch = epochs[i]\n",
    "    features_array = PSD_Features_from_Epochs(epoch, sfreq, fmin, fmax)\n",
    "    df = pd.DataFrame(features_array)\n",
    "    \n",
    "    df['subject_id'] = row['participant_id']\n",
    "    df['age'] = row['Age']\n",
    "    df['gender'] = row['Gender']\n",
    "    df['group'] = row['Group']\n",
    "    \n",
    "    psd_features.append(df)\n",
    "\n",
    "df_epochs_psd_features = pd.concat(psd_features)\n",
    "df_epochs_psd_features.reset_index(inplace=True)\n",
    "df_epochs_psd_features.rename(columns={'index':'epoch_id'}, inplace=True)\n",
    "df_epochs_psd_features = df_epochs_psd_features[['subject_id','age','gender','epoch_id','total_power','avg_power','relative_power','peak_freq','spectral_entropy','group']]\n",
    "\n",
    "df_epochs_psd_features.head(20)"
   ]
  },
  {
   "cell_type": "markdown",
   "metadata": {},
   "source": [
    "Save Dataframe as CSV file\n"
   ]
  },
  {
   "cell_type": "code",
   "execution_count": 25,
   "metadata": {},
   "outputs": [],
   "source": [
    "df_epochs_psd_features.to_csv(os.getcwd()+'/Feature_Extraction/epoch_psd_features.csv', index=False)"
   ]
  }
 ],
 "metadata": {
  "kernelspec": {
   "display_name": "mne",
   "language": "python",
   "name": "python3"
  },
  "language_info": {
   "codemirror_mode": {
    "name": "ipython",
    "version": 3
   },
   "file_extension": ".py",
   "mimetype": "text/x-python",
   "name": "python",
   "nbconvert_exporter": "python",
   "pygments_lexer": "ipython3",
   "version": "3.11.4"
  },
  "orig_nbformat": 4
 },
 "nbformat": 4,
 "nbformat_minor": 2
}
