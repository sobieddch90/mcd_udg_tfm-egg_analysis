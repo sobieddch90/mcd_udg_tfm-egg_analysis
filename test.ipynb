{
 "cells": [
  {
   "cell_type": "code",
   "execution_count": 20,
   "metadata": {},
   "outputs": [],
   "source": [
    "import mne\n",
    "import os\n",
    "import numpy as np\n",
    "import pandas as pd\n",
    "\n",
    "from mne.time_frequency import tfr_multitaper, tfr_morlet, psd_array_welch\n",
    "#from mne_features.univariate import compute_spect_entropy\n",
    "from scipy.stats import kurtosis, skew"
   ]
  },
  {
   "cell_type": "markdown",
   "metadata": {},
   "source": [
    "Read file\n"
   ]
  },
  {
   "cell_type": "code",
   "execution_count": 21,
   "metadata": {},
   "outputs": [
    {
     "data": {
      "text/html": [
       "<table class=\"table table-hover table-striped table-sm table-responsive small\">\n",
       "    <tr>\n",
       "        <th>Measurement date</th>\n",
       "        \n",
       "        <td>Unknown</td>\n",
       "        \n",
       "    </tr>\n",
       "    <tr>\n",
       "        <th>Experimenter</th>\n",
       "        \n",
       "        <td>Unknown</td>\n",
       "        \n",
       "    </tr>\n",
       "        <th>Participant</th>\n",
       "        \n",
       "        <td>Unknown</td>\n",
       "        \n",
       "    </tr>\n",
       "    <tr>\n",
       "        <th>Digitized points</th>\n",
       "        \n",
       "        <td>22 points</td>\n",
       "        \n",
       "    </tr>\n",
       "    <tr>\n",
       "        <th>Good channels</th>\n",
       "        <td>19 EEG</td>\n",
       "    </tr>\n",
       "    <tr>\n",
       "        <th>Bad channels</th>\n",
       "        <td>None</td>\n",
       "    </tr>\n",
       "    <tr>\n",
       "        <th>EOG channels</th>\n",
       "        <td>Not available</td>\n",
       "    </tr>\n",
       "    <tr>\n",
       "        <th>ECG channels</th>\n",
       "        <td>Not available</td>\n",
       "    \n",
       "    <tr>\n",
       "        <th>Sampling frequency</th>\n",
       "        <td>500.00 Hz</td>\n",
       "    </tr>\n",
       "    \n",
       "    \n",
       "    <tr>\n",
       "        <th>Highpass</th>\n",
       "        <td>0.00 Hz</td>\n",
       "    </tr>\n",
       "    \n",
       "    \n",
       "    <tr>\n",
       "        <th>Lowpass</th>\n",
       "        <td>250.00 Hz</td>\n",
       "    </tr>\n",
       "    \n",
       "    \n",
       "    \n",
       "    <tr>\n",
       "        <th>Filenames</th>\n",
       "        <td>sub-002_task-eyesclosed_eeg.set</td>\n",
       "    </tr>\n",
       "    \n",
       "    <tr>\n",
       "        <th>Duration</th>\n",
       "        <td>00:13:14 (HH:MM:SS)</td>\n",
       "    </tr>\n",
       "</table>"
      ],
      "text/plain": [
       "<RawEEGLAB | sub-002_task-eyesclosed_eeg.set, 19 x 396550 (793.1 s), ~57.5 MB, data loaded>"
      ]
     },
     "execution_count": 21,
     "metadata": {},
     "output_type": "execute_result"
    }
   ],
   "source": [
    "path_file = '/Users/sobieddch/UdG-TFM/ds004504/derivatives/sub-002/eeg/sub-002_task-eyesclosed_eeg.set'\n",
    "raw = mne.io.read_raw_eeglab(path_file, preload=False, verbose='CRITICAL')\n",
    "raw"
   ]
  },
  {
   "cell_type": "markdown",
   "metadata": {},
   "source": [
    "Epochs\n"
   ]
  },
  {
   "cell_type": "code",
   "execution_count": 22,
   "metadata": {},
   "outputs": [
    {
     "data": {
      "text/html": [
       "<table class=\"table table-hover table-striped table-sm table-responsive small\">\n",
       "    <tr>\n",
       "        <th>Number of events</th>\n",
       "        <td>19</td>\n",
       "    </tr>\n",
       "    <tr>\n",
       "        <th>Events</th>\n",
       "        \n",
       "        <td>1: 19</td>\n",
       "        \n",
       "    </tr>\n",
       "    <tr>\n",
       "        <th>Time range</th>\n",
       "        <td>0.000 – 59.998 s</td>\n",
       "    </tr>\n",
       "    <tr>\n",
       "        <th>Baseline</th>\n",
       "        <td>off</td>\n",
       "    </tr>\n",
       "</table>"
      ],
      "text/plain": [
       "<Epochs |  19 events (all good), 0 – 59.998 s, baseline off, ~82.7 MB, data loaded,\n",
       " '1': 19>"
      ]
     },
     "execution_count": 22,
     "metadata": {},
     "output_type": "execute_result"
    }
   ],
   "source": [
    "sfreq = raw.info['sfreq']\n",
    "\n",
    "start_time = 0\n",
    "end_time = 600\n",
    "duration = 60.0\n",
    "overlapping = 30.0\n",
    "\n",
    "epochs = mne.make_fixed_length_epochs(raw.copy().crop(tmin=start_time, tmax=end_time), duration=duration, overlap=overlapping, preload=True, verbose='CRITICAL')\n",
    "epochs"
   ]
  },
  {
   "cell_type": "code",
   "execution_count": 42,
   "metadata": {},
   "outputs": [],
   "source": [
    "frequency_bands = {\n",
    "    'delta': (0.5, 4),\n",
    "    'theta': (4, 8),\n",
    "    'alpha': (8, 13),\n",
    "    'beta': (13, 30),\n",
    "    'gamma': (30, 45)\n",
    "}\n",
    "\n",
    "def get_Features_PSD(raw, type='epoch', channels=None, start_time = 0, end_time = 600, duration = 60.0, overlapping = 30.0):\n",
    "    # variables\n",
    "    sfreq = raw.info['sfreq']\n",
    "    \n",
    "    # Select channels\n",
    "    if channels==None: ch = raw.ch_names\n",
    "    else: ch = channels        \n",
    "    \n",
    "    if type=='epoch':\n",
    "        # Get Epochs Data\n",
    "        data = mne.make_fixed_length_epochs(raw.copy().pick(ch).crop(tmin=start_time, tmax=end_time),\n",
    "                                        duration=duration, overlap=overlapping, preload=True, verbose='CRITICAL').get_data()\n",
    "    elif type=='raw':\n",
    "        data = raw.copy().pick(ch).crop(tmin=start_time, tmax=end_time).get_data()\n",
    "    \n",
    "    # Compute features\n",
    "    results = {}\n",
    "    for band, (fmin,fmax) in frequency_bands.items():\n",
    "        # Apply bandpass filter to select only the frequency band range\n",
    "        data_filtered = mne.filter.filter_data(data, sfreq=sfreq, l_freq=fmin, h_freq=fmax, verbose='CRITICAL')\n",
    "        # Compute the PSD using Welch's method\n",
    "        psd_all, freqs_all = psd_array_welch(data, sfreq=sfreq, verbose='CRITICAL')\n",
    "        psd, freqs = psd_array_welch(data_filtered, sfreq=sfreq, verbose='CRITICAL')\n",
    "        \n",
    "        # Compute metrics\n",
    "        total_power = psd.sum()\n",
    "        relative_power = total_power / psd_all.sum()\n",
    "        average_power = psd.mean()\n",
    "        #entropy = compute_spect_entropy(data_filtered, sfreq=sfreq)\n",
    "        entropy = -np.sum(np.log(psd) * psd)\n",
    "        std_dev = np.std(data_filtered)\n",
    "        peak_to_peak = np.ptp(data_filtered)\n",
    "        kurt = kurtosis(data_filtered)\n",
    "        skewness = skew(data_filtered)\n",
    "        # Store results\n",
    "        results[f'{band}_total_power'] = total_power\n",
    "        results[f'{band}_relative_power'] = relative_power\n",
    "        results[f'{band}_average_power'] = average_power\n",
    "        results[f'{band}_spectral_entropy'] = entropy\n",
    "        results[f'{band}_peak_to_peak'] = peak_to_peak\n",
    "        results[f'{band}_std_dev'] = std_dev\n",
    "        results[f'{band}_kurtosis'] = np.mean(kurt)\n",
    "        results[f'{band}_skewness'] = np.mean(skewness)\n",
    "        \n",
    "    return results"
   ]
  },
  {
   "cell_type": "code",
   "execution_count": 24,
   "metadata": {},
   "outputs": [],
   "source": [
    "results_fp1 = get_Features_PSD(raw, channels=['Fp1'])\n",
    "results_all = get_Features_PSD(raw)"
   ]
  },
  {
   "cell_type": "code",
   "execution_count": 25,
   "metadata": {},
   "outputs": [
    {
     "data": {
      "text/html": [
       "<table class=\"table table-hover table-striped table-sm table-responsive small\">\n",
       "    <tr>\n",
       "        <th>Measurement date</th>\n",
       "        \n",
       "        <td>Unknown</td>\n",
       "        \n",
       "    </tr>\n",
       "    <tr>\n",
       "        <th>Experimenter</th>\n",
       "        \n",
       "        <td>Unknown</td>\n",
       "        \n",
       "    </tr>\n",
       "        <th>Participant</th>\n",
       "        \n",
       "        <td>Unknown</td>\n",
       "        \n",
       "    </tr>\n",
       "    <tr>\n",
       "        <th>Digitized points</th>\n",
       "        \n",
       "        <td>22 points</td>\n",
       "        \n",
       "    </tr>\n",
       "    <tr>\n",
       "        <th>Good channels</th>\n",
       "        <td>19 EEG</td>\n",
       "    </tr>\n",
       "    <tr>\n",
       "        <th>Bad channels</th>\n",
       "        <td>None</td>\n",
       "    </tr>\n",
       "    <tr>\n",
       "        <th>EOG channels</th>\n",
       "        <td>Not available</td>\n",
       "    </tr>\n",
       "    <tr>\n",
       "        <th>ECG channels</th>\n",
       "        <td>Not available</td>\n",
       "    \n",
       "    <tr>\n",
       "        <th>Sampling frequency</th>\n",
       "        <td>500.00 Hz</td>\n",
       "    </tr>\n",
       "    \n",
       "    \n",
       "    <tr>\n",
       "        <th>Highpass</th>\n",
       "        <td>0.00 Hz</td>\n",
       "    </tr>\n",
       "    \n",
       "    \n",
       "    <tr>\n",
       "        <th>Lowpass</th>\n",
       "        <td>250.00 Hz</td>\n",
       "    </tr>\n",
       "    \n",
       "    \n",
       "    \n",
       "    <tr>\n",
       "        <th>Filenames</th>\n",
       "        <td>sub-067_task-eyesclosed_eeg.set</td>\n",
       "    </tr>\n",
       "    \n",
       "    <tr>\n",
       "        <th>Duration</th>\n",
       "        <td>00:10:44 (HH:MM:SS)</td>\n",
       "    </tr>\n",
       "</table>"
      ],
      "text/plain": [
       "<RawEEGLAB | sub-067_task-eyesclosed_eeg.set, 19 x 321550 (643.1 s), ~46.6 MB, data loaded>"
      ]
     },
     "execution_count": 25,
     "metadata": {},
     "output_type": "execute_result"
    }
   ],
   "source": [
    "path_file = '/Users/sobieddch/UdG-TFM/ds004504/derivatives/sub-067/eeg/sub-067_task-eyesclosed_eeg.set'\n",
    "raw2 = mne.io.read_raw_eeglab(path_file, preload=False, verbose='CRITICAL')\n",
    "raw2"
   ]
  },
  {
   "cell_type": "code",
   "execution_count": 26,
   "metadata": {},
   "outputs": [],
   "source": [
    "results2_fp1 = get_Features_PSD(raw2, channels=['Fp1'])\n",
    "results2_all = get_Features_PSD(raw2)"
   ]
  },
  {
   "cell_type": "markdown",
   "metadata": {},
   "source": [
    "Comparison\n"
   ]
  },
  {
   "cell_type": "code",
   "execution_count": 27,
   "metadata": {},
   "outputs": [
    {
     "name": "stdout",
     "output_type": "stream",
     "text": [
      "{'total_power': 3.336569476807225e-10, 'relative_power': 0.1075597516961631, 'average_power': 1.3613094560616993e-13, 'spectral_entropy': 8.70257954556739e-09, 'std': 5.836209307805536e-06, 'peak_to_peak': 5.908582730364675e-05, 'kurtosis': -0.12507998247860266, 'skewness': -6.159269075602042e-05}\n",
      "{'total_power': 4.691713946889086e-10, 'relative_power': 0.08507585632630149, 'average_power': 1.9142039766989334e-13, 'spectral_entropy': 1.219010026955677e-08, 'std': 6.941888370332027e-06, 'peak_to_peak': 0.00011451900992373648, 'kurtosis': 0.07730005505862288, 'skewness': -0.00019421167907372533}\n"
     ]
    }
   ],
   "source": [
    "print(results_fp1['alpha'])\n",
    "print(results2_fp1['alpha'])"
   ]
  },
  {
   "cell_type": "markdown",
   "metadata": {},
   "source": [
    "---\n"
   ]
  },
  {
   "cell_type": "markdown",
   "metadata": {},
   "source": [
    "## TFR\n"
   ]
  },
  {
   "cell_type": "code",
   "execution_count": 28,
   "metadata": {},
   "outputs": [],
   "source": [
    "tfr = tfr_multitaper(epochs.copy(), freqs=np.arange(frequency_bands['theta'][0], frequency_bands['theta'][1], 1), n_cycles=7, return_itc=False, verbose='critical')"
   ]
  },
  {
   "cell_type": "code",
   "execution_count": 29,
   "metadata": {},
   "outputs": [
    {
     "data": {
      "text/plain": [
       "array([[[5.20698949e-09, 5.24066393e-09, 5.27411406e-09, ...,\n",
       "         6.03026768e-09, 6.01427671e-09, 5.99884629e-09],\n",
       "        [3.52050504e-09, 3.52319860e-09, 3.52562392e-09, ...,\n",
       "         4.42067768e-09, 4.41254591e-09, 4.40435942e-09],\n",
       "        [2.59382490e-09, 2.61262182e-09, 2.63176692e-09, ...,\n",
       "         2.98694801e-09, 2.97899320e-09, 2.97193919e-09],\n",
       "        [2.67006930e-09, 2.68037920e-09, 2.68963295e-09, ...,\n",
       "         3.57567104e-09, 3.56461686e-09, 3.55326384e-09]],\n",
       "\n",
       "       [[5.24955276e-09, 5.28237725e-09, 5.31444330e-09, ...,\n",
       "         5.75298698e-09, 5.74288567e-09, 5.73259496e-09],\n",
       "        [3.27255802e-09, 3.28006274e-09, 3.28705244e-09, ...,\n",
       "         4.01483521e-09, 4.01295600e-09, 4.01029004e-09],\n",
       "        [2.65460762e-09, 2.67982437e-09, 2.70521113e-09, ...,\n",
       "         2.96276693e-09, 2.95819807e-09, 2.95349325e-09],\n",
       "        [2.84607309e-09, 2.85661191e-09, 2.86663485e-09, ...,\n",
       "         3.79024311e-09, 3.77729688e-09, 3.76373861e-09]],\n",
       "\n",
       "       [[5.29957445e-09, 5.33247728e-09, 5.36519843e-09, ...,\n",
       "         5.99348350e-09, 5.97585143e-09, 5.95863608e-09],\n",
       "        [3.48807849e-09, 3.49460306e-09, 3.50068136e-09, ...,\n",
       "         4.16750983e-09, 4.16270275e-09, 4.15791390e-09],\n",
       "        [2.46711496e-09, 2.48760429e-09, 2.50870718e-09, ...,\n",
       "         2.79325245e-09, 2.78234856e-09, 2.77148208e-09],\n",
       "        [2.49882299e-09, 2.50896831e-09, 2.51815692e-09, ...,\n",
       "         2.92748028e-09, 2.92003140e-09, 2.91246829e-09]],\n",
       "\n",
       "       ...,\n",
       "\n",
       "       [[4.89383519e-09, 4.92239672e-09, 4.95070833e-09, ...,\n",
       "         6.09976854e-09, 6.08533665e-09, 6.07117203e-09],\n",
       "        [3.25668321e-09, 3.26739256e-09, 3.27733205e-09, ...,\n",
       "         4.04131096e-09, 4.03657151e-09, 4.03123852e-09],\n",
       "        [2.48770519e-09, 2.50937026e-09, 2.53132079e-09, ...,\n",
       "         2.64766575e-09, 2.64051950e-09, 2.63325054e-09],\n",
       "        [2.59450220e-09, 2.60477002e-09, 2.61454120e-09, ...,\n",
       "         2.81261642e-09, 2.80557638e-09, 2.79780413e-09]],\n",
       "\n",
       "       [[5.15159426e-09, 5.17807214e-09, 5.20454331e-09, ...,\n",
       "         6.55687536e-09, 6.54034043e-09, 6.52390547e-09],\n",
       "        [3.73435194e-09, 3.74885560e-09, 3.76233827e-09, ...,\n",
       "         4.05328875e-09, 4.04998220e-09, 4.04602883e-09],\n",
       "        [2.51876828e-09, 2.54102050e-09, 2.56338664e-09, ...,\n",
       "         2.48419992e-09, 2.47648754e-09, 2.46827423e-09],\n",
       "        [2.27512088e-09, 2.28311618e-09, 2.29100186e-09, ...,\n",
       "         1.94064764e-09, 1.93208268e-09, 1.92311114e-09]],\n",
       "\n",
       "       [[5.22255386e-09, 5.24838659e-09, 5.27443805e-09, ...,\n",
       "         6.63768330e-09, 6.62205782e-09, 6.60606521e-09],\n",
       "        [4.45227766e-09, 4.46921995e-09, 4.48478351e-09, ...,\n",
       "         3.99838232e-09, 3.99519447e-09, 3.99134749e-09],\n",
       "        [3.32658275e-09, 3.35032416e-09, 3.37375548e-09, ...,\n",
       "         3.17097894e-09, 3.16411447e-09, 3.15617037e-09],\n",
       "        [4.06663340e-09, 4.07821521e-09, 4.08986983e-09, ...,\n",
       "         3.39340761e-09, 3.36764880e-09, 3.34244438e-09]]])"
      ]
     },
     "execution_count": 29,
     "metadata": {},
     "output_type": "execute_result"
    }
   ],
   "source": [
    "tfr.data"
   ]
  },
  {
   "cell_type": "code",
   "execution_count": 30,
   "metadata": {},
   "outputs": [
    {
     "data": {
      "text/plain": [
       "0.014982802228134324"
      ]
     },
     "execution_count": 30,
     "metadata": {},
     "output_type": "execute_result"
    }
   ],
   "source": [
    "tfr.data.sum()"
   ]
  },
  {
   "cell_type": "code",
   "execution_count": 31,
   "metadata": {},
   "outputs": [
    {
     "data": {
      "text/plain": [
       "6.571404486023826e-09"
      ]
     },
     "execution_count": 31,
     "metadata": {},
     "output_type": "execute_result"
    }
   ],
   "source": [
    "#np.mean(tfr.data)\n",
    "tfr.data.mean()"
   ]
  },
  {
   "cell_type": "code",
   "execution_count": 32,
   "metadata": {},
   "outputs": [
    {
     "data": {
      "text/plain": [
       "array([ 0.23293396,  0.06126115,  0.06579434,  0.10804024, -0.11344009,\n",
       "       -0.2540888 ,  0.48077593,  0.51818699, -0.73576247, -0.59753481,\n",
       "        0.29575798,  0.03374003,  0.19627011, -0.10029733, -0.40640983,\n",
       "       -0.52679684,  0.08685125, -0.19793916,  0.53189139])"
      ]
     },
     "execution_count": 32,
     "metadata": {},
     "output_type": "execute_result"
    }
   ],
   "source": [
    "kurtosis(tfr.data, axis=(1,2))"
   ]
  },
  {
   "cell_type": "code",
   "execution_count": 33,
   "metadata": {},
   "outputs": [],
   "source": [
    "def get_Features_TFR(raw, channels=None, start_time = 0, end_time = 600, duration = 60.0, overlapping = 30.0, n_cycles=7, time_bandwidth=4.0):\n",
    "    # variables\n",
    "    sfreq = raw.info['sfreq']\n",
    "    \n",
    "    # Select channels\n",
    "    if channels==None: ch = raw.ch_names\n",
    "    else: ch = channels        \n",
    "    \n",
    "    # Get Epochs Data\n",
    "    epochs = mne.make_fixed_length_epochs(raw.copy().pick(ch).crop(tmin=start_time, tmax=end_time),\n",
    "                                    duration=duration, overlap=overlapping, preload=True, verbose='CRITICAL')\n",
    "    \n",
    "    # Compute features\n",
    "    results = {}\n",
    "    for band, (fmin,fmax) in frequency_bands.items():\n",
    "        # Get the TFR object\n",
    "        tfr = tfr_multitaper(epochs.copy().pick(ch), freqs=np.arange(fmin,fmax,1), n_cycles=n_cycles, time_bandwidth=time_bandwidth, return_itc=False, verbose='critical')\n",
    "        # Compute features\n",
    "        total_power = tfr.data.sum()\n",
    "        average_power = tfr.data.mean()\n",
    "        peak_power = tfr.data.max()\n",
    "        std_dev = tfr.data.std()\n",
    "        skewness = skew(tfr.data, axis=(1,2))\n",
    "        kurt = kurtosis(tfr.data, axis=(1,2))\n",
    "        # Store results\n",
    "        results[f'{band}_total_power'] = total_power\n",
    "        results[f'{band}_average_power'] = average_power\n",
    "        results[f'{band}_peak_power'] = peak_power\n",
    "        results[f'{band}_std'] = std_dev\n",
    "        results[f'{band}_kurtosis'] = np.mean(kurt)\n",
    "        results[f'{band}_skewness'] = np.mean(skewness)\n",
    "    \n",
    "    return results"
   ]
  },
  {
   "cell_type": "code",
   "execution_count": 34,
   "metadata": {},
   "outputs": [
    {
     "data": {
      "text/plain": [
       "{'delta_total_power': 0.019381931071842277,\n",
       " 'delta_average_power': 1.615160922653523e-07,\n",
       " 'delta_peak_power': 6.714592259707862e-07,\n",
       " 'delta_std': 2.17037647797898e-07,\n",
       " 'delta_kurtosis': -0.32108539356355337,\n",
       " 'delta_skewness': 1.2244486095742626,\n",
       " 'theta_total_power': 0.0007447824105880776,\n",
       " 'theta_average_power': 6.20652008823398e-09,\n",
       " 'theta_peak_power': 1.3716200970207192e-08,\n",
       " 'theta_std': 2.2186729367690723e-09,\n",
       " 'theta_kurtosis': 0.23293396320498072,\n",
       " 'theta_skewness': 1.0537821447068398,\n",
       " 'alpha_total_power': 0.00044341224423544064,\n",
       " 'alpha_average_power': 2.956081628236271e-09,\n",
       " 'alpha_peak_power': 6.748293192793814e-09,\n",
       " 'alpha_std': 1.2809305490327442e-09,\n",
       " 'alpha_kurtosis': -0.815683144448466,\n",
       " 'alpha_skewness': 0.19861260693369628,\n",
       " 'beta_total_power': 0.00024643569885988926,\n",
       " 'beta_average_power': 4.832072526664496e-10,\n",
       " 'beta_peak_power': 3.6124994686155763e-09,\n",
       " 'beta_std': 2.6191528461941027e-10,\n",
       " 'beta_kurtosis': 18.53449855618216,\n",
       " 'beta_skewness': 2.7475910136641515,\n",
       " 'gamma_total_power': 7.156817703243258e-05,\n",
       " 'gamma_average_power': 1.5904039340540573e-10,\n",
       " 'gamma_peak_power': 3.106797141180185e-09,\n",
       " 'gamma_std': 1.66776024045895e-10,\n",
       " 'gamma_kurtosis': 134.61789119299436,\n",
       " 'gamma_skewness': 10.53117305846472}"
      ]
     },
     "execution_count": 34,
     "metadata": {},
     "output_type": "execute_result"
    }
   ],
   "source": [
    "tfr_results = get_Features_TFR(raw, channels=['Fp1'])\n",
    "tfr_results"
   ]
  },
  {
   "cell_type": "markdown",
   "metadata": {},
   "source": [
    "---\n"
   ]
  },
  {
   "cell_type": "code",
   "execution_count": 37,
   "metadata": {},
   "outputs": [],
   "source": [
    "data = raw.copy().crop(tmax=600).get_data()"
   ]
  },
  {
   "cell_type": "code",
   "execution_count": 38,
   "metadata": {},
   "outputs": [],
   "source": [
    "psd, freqs = psd_array_welch(data, sfreq=sfreq, verbose='CRITICAL')"
   ]
  },
  {
   "cell_type": "code",
   "execution_count": 44,
   "metadata": {},
   "outputs": [
    {
     "data": {
      "text/plain": [
       "array([-0.43524605, -1.22704852, -0.34597562, -1.19436148, -0.4684757 ,\n",
       "       -0.48001451, -0.83183038, -0.70868684, -0.73565021, -0.2558022 ,\n",
       "        0.16459479, -0.38987066, -0.48608738, -0.6061629 , -1.13196806,\n",
       "       -1.03380786, -0.47566682, -0.41573747, -0.22425904,  1.20308915,\n",
       "        0.86114049,  0.3867365 , -0.56622267, -0.98344386, -0.91179387,\n",
       "       -0.08929987, -0.14844746, -0.16298309, -0.18246912, -0.19388207,\n",
       "       -0.21433213, -0.22478053, -0.23900007, -0.25071721, -0.26017896,\n",
       "       -0.26909794, -0.27668836, -0.28491191, -0.29248023, -0.2956153 ,\n",
       "       -0.30243026, -0.30680478, -0.31283877, -0.31478572, -0.32004661,\n",
       "       -0.32325903, -0.3254504 , -0.33041231, -0.33061891, -0.33541048,\n",
       "       -0.33642342, -0.33816182, -0.34097441, -0.34317079, -0.34414777,\n",
       "       -0.34562642, -0.34891942, -0.34783523, -0.35084121, -0.35209096,\n",
       "       -0.35324545, -0.35365454, -0.3557254 , -0.35602412, -0.35663428,\n",
       "       -0.36001804, -0.35773381, -0.36024386, -0.36090513, -0.36106741,\n",
       "       -0.36253489, -0.36284486, -0.36370731, -0.36416777, -0.36451334,\n",
       "       -0.3655178 , -0.36547071, -0.36643587, -0.36730466, -0.36728676,\n",
       "       -0.36741503, -0.36819177, -0.36846039, -0.36907336, -0.36950861,\n",
       "       -0.36937732, -0.36968386, -0.37087877, -0.37059512, -0.37067294,\n",
       "       -0.37166255, -0.37141295, -0.37159466, -0.37230704, -0.37232092,\n",
       "       -0.37221928, -0.37256445, -0.37327848, -0.37308693, -0.37329812,\n",
       "       -0.37343556, -0.37383946, -0.37374261, -0.37387386, -0.37404789,\n",
       "       -0.37428541, -0.37448467, -0.37467802, -0.37451222, -0.37484914,\n",
       "       -0.37496642, -0.37476887, -0.37522294, -0.37508967, -0.37533854,\n",
       "       -0.37509799, -0.37540211, -0.37551672, -0.37549139, -0.37564688,\n",
       "       -0.37537484, -0.3758053 , -0.37558874, -0.37581632, -0.3756036 ,\n",
       "       -0.37585512, -0.37569341, -0.37593047, -0.37550353])"
      ]
     },
     "execution_count": 44,
     "metadata": {},
     "output_type": "execute_result"
    }
   ],
   "source": [
    "kurtosis(psd)"
   ]
  },
  {
   "cell_type": "code",
   "execution_count": 43,
   "metadata": {},
   "outputs": [
    {
     "name": "stderr",
     "output_type": "stream",
     "text": [
      "/var/folders/42/zkw31xg11x1f6dpl9zz6hmz00000gn/T/ipykernel_10625/4291331822.py:41: RuntimeWarning: Precision loss occurred in moment calculation due to catastrophic cancellation. This occurs when the data are nearly identical. Results may be unreliable.\n",
      "  kurt = kurtosis(data_filtered)\n",
      "/var/folders/42/zkw31xg11x1f6dpl9zz6hmz00000gn/T/ipykernel_10625/4291331822.py:42: RuntimeWarning: Precision loss occurred in moment calculation due to catastrophic cancellation. This occurs when the data are nearly identical. Results may be unreliable.\n",
      "  skewness = skew(data_filtered)\n"
     ]
    },
    {
     "data": {
      "text/plain": [
       "{'delta_total_power': 1.2680716393320296e-10,\n",
       " 'delta_relative_power': 0.7691802637456171,\n",
       " 'delta_average_power': 9.83001270800023e-13,\n",
       " 'delta_spectral_entropy': 2.9987984827081818e-09,\n",
       " 'delta_peak_to_peak': 0.00022221169439472493,\n",
       " 'delta_std_dev': 2.802584664248585e-05,\n",
       " 'delta_kurtosis': nan,\n",
       " 'delta_skewness': nan,\n",
       " 'theta_total_power': 3.5319083189417285e-11,\n",
       " 'theta_relative_power': 0.21423664783797036,\n",
       " 'theta_average_power': 2.7379134255362234e-13,\n",
       " 'theta_spectral_entropy': 9.036236645176576e-10,\n",
       " 'theta_peak_to_peak': 7.729054987174171e-05,\n",
       " 'theta_std_dev': 8.18523237083065e-06,\n",
       " 'theta_kurtosis': nan,\n",
       " 'theta_skewness': nan,\n",
       " 'alpha_total_power': 1.74562592402894e-11,\n",
       " 'alpha_relative_power': 0.10588526444397486,\n",
       " 'alpha_average_power': 1.3531983907201087e-13,\n",
       " 'alpha_spectral_entropy': 4.5599650804801075e-10,\n",
       " 'alpha_peak_to_peak': 5.908582730364674e-05,\n",
       " 'alpha_std_dev': 5.819140781898279e-06,\n",
       " 'alpha_kurtosis': nan,\n",
       " 'alpha_skewness': nan,\n",
       " 'beta_total_power': 8.617267548659051e-12,\n",
       " 'beta_relative_power': 0.05227017086617921,\n",
       " 'beta_average_power': 6.68005236330159e-14,\n",
       " 'beta_spectral_entropy': 2.40365675959247e-10,\n",
       " 'beta_peak_to_peak': 0.00017005489955469432,\n",
       " 'beta_std_dev': 4.098460575167922e-06,\n",
       " 'beta_kurtosis': nan,\n",
       " 'beta_skewness': nan,\n",
       " 'gamma_total_power': 2.9201528633320188e-12,\n",
       " 'gamma_relative_power': 0.01771291053223469,\n",
       " 'gamma_average_power': 2.2636843901798595e-14,\n",
       " 'gamma_spectral_entropy': 8.445208517567779e-11,\n",
       " 'gamma_peak_to_peak': 0.00017040159812887503,\n",
       " 'gamma_std_dev': 2.424730192337068e-06,\n",
       " 'gamma_kurtosis': nan,\n",
       " 'gamma_skewness': nan}"
      ]
     },
     "execution_count": 43,
     "metadata": {},
     "output_type": "execute_result"
    }
   ],
   "source": [
    "results_raw = get_Features_PSD(raw, type='raw', channels='Fp1')\n",
    "results_raw"
   ]
  },
  {
   "cell_type": "code",
   "execution_count": null,
   "metadata": {},
   "outputs": [],
   "source": []
  }
 ],
 "metadata": {
  "kernelspec": {
   "display_name": "mne",
   "language": "python",
   "name": "python3"
  },
  "language_info": {
   "codemirror_mode": {
    "name": "ipython",
    "version": 3
   },
   "file_extension": ".py",
   "mimetype": "text/x-python",
   "name": "python",
   "nbconvert_exporter": "python",
   "pygments_lexer": "ipython3",
   "version": "3.11.4"
  },
  "orig_nbformat": 4
 },
 "nbformat": 4,
 "nbformat_minor": 2
}
