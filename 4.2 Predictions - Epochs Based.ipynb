{
 "cells": [
  {
   "cell_type": "markdown",
   "metadata": {},
   "source": [
    "# Alzheimer's Disease and Frontotemporal Dementia Prediction\n"
   ]
  },
  {
   "cell_type": "markdown",
   "metadata": {},
   "source": [
    "- Author: Elmo Chavez\n",
    "- Date: 19-Jul-2023\n",
    "\n",
    "**Description**\n",
    "\n",
    "> [...]\n"
   ]
  },
  {
   "cell_type": "markdown",
   "metadata": {},
   "source": [
    "## Read the Data\n"
   ]
  },
  {
   "cell_type": "markdown",
   "metadata": {},
   "source": [
    "### Import Libraries\n"
   ]
  },
  {
   "cell_type": "code",
   "execution_count": 1,
   "metadata": {},
   "outputs": [],
   "source": [
    "import pandas as pd\n",
    "import numpy as np\n",
    "import os\n",
    "\n",
    "import matplotlib.pyplot as plt\n",
    "import seaborn as sns\n",
    "\n",
    "from sklearn.preprocessing import StandardScaler\n",
    "from sklearn.model_selection import train_test_split\n",
    "from sklearn.metrics import accuracy_score\n",
    "import xgboost as xgb\n",
    "from sklearn.ensemble import AdaBoostClassifier\n",
    "from sklearn.ensemble import RandomForestClassifier\n",
    "from sklearn.svm import SVC"
   ]
  },
  {
   "cell_type": "markdown",
   "metadata": {},
   "source": [
    "### Reading Datasets\n"
   ]
  },
  {
   "cell_type": "code",
   "execution_count": 2,
   "metadata": {},
   "outputs": [
    {
     "name": "stdout",
     "output_type": "stream",
     "text": [
      "Participants info: (51, 5)\n",
      "Epochs base Feature Extraction - FP1: (714, 11)\n",
      "Epochs base Feature Extraction - All Channels: (714, 11)\n",
      "Epochs base with Freq. Bands Feature Extraction - FP1: (714, 31)\n",
      "Epochs base with Freq. Bands Feature Extraction - All Channels: (714, 31)\n"
     ]
    }
   ],
   "source": [
    "# Filenames\n",
    "filename_participants = 'participants_selected.csv'\n",
    "filename_epochs_fp1 = 'epoch_psd_features.csv'\n",
    "filename_epochs_all = 'epoch_psd_features_all_channels.csv'\n",
    "filename_epochs_bnds_fp1 = 'epoch_bands_psd_features.csv'\n",
    "filename_epochs_bdns_all = 'epoch_bands_psd_features_all_channels.csv'\n",
    "\n",
    "# path\n",
    "path = os.getcwd()\n",
    "\n",
    "# Participants info\n",
    "df_participants = pd.read_csv(path+'/Feature_Extraction/'+filename_participants)\n",
    "\n",
    "# Epochs based feature extraction\n",
    "df_epochs_fp1 = pd.read_csv(path+'/Feature_Extraction/'+filename_epochs_fp1)\n",
    "df_epochs_all = pd.read_csv(path+'/Feature_Extraction/'+filename_epochs_all)\n",
    "\n",
    "# Epochs and Frequency Bands feature extraction\n",
    "df_epochs_bands_fp1 = pd.read_csv(path+'/Feature_Extraction/'+filename_epochs_bnds_fp1)\n",
    "df_epochs_bands_all = pd.read_csv(path+'/Feature_Extraction/'+filename_epochs_bdns_all)\n",
    "\n",
    "# Shape of the data\n",
    "print('Participants info:',df_participants.shape)\n",
    "print('Epochs base Feature Extraction - FP1:',df_epochs_fp1.shape)\n",
    "print('Epochs base Feature Extraction - All Channels:',df_epochs_all.shape)\n",
    "print('Epochs base with Freq. Bands Feature Extraction - FP1:',df_epochs_bands_fp1.shape)\n",
    "print('Epochs base with Freq. Bands Feature Extraction - All Channels:',df_epochs_bands_all.shape)"
   ]
  },
  {
   "cell_type": "markdown",
   "metadata": {},
   "source": [
    "## Train Test Split\n"
   ]
  },
  {
   "cell_type": "code",
   "execution_count": 3,
   "metadata": {},
   "outputs": [
    {
     "data": {
      "text/html": [
       "<div>\n",
       "<style scoped>\n",
       "    .dataframe tbody tr th:only-of-type {\n",
       "        vertical-align: middle;\n",
       "    }\n",
       "\n",
       "    .dataframe tbody tr th {\n",
       "        vertical-align: top;\n",
       "    }\n",
       "\n",
       "    .dataframe thead th {\n",
       "        text-align: right;\n",
       "    }\n",
       "</style>\n",
       "<table border=\"1\" class=\"dataframe\">\n",
       "  <thead>\n",
       "    <tr style=\"text-align: right;\">\n",
       "      <th></th>\n",
       "      <th>participant_id</th>\n",
       "      <th>Gender</th>\n",
       "      <th>Age</th>\n",
       "      <th>Group</th>\n",
       "      <th>MMSE</th>\n",
       "    </tr>\n",
       "  </thead>\n",
       "  <tbody>\n",
       "    <tr>\n",
       "      <th>0</th>\n",
       "      <td>sub-002</td>\n",
       "      <td>1</td>\n",
       "      <td>78</td>\n",
       "      <td>0</td>\n",
       "      <td>22</td>\n",
       "    </tr>\n",
       "    <tr>\n",
       "      <th>1</th>\n",
       "      <td>sub-004</td>\n",
       "      <td>1</td>\n",
       "      <td>67</td>\n",
       "      <td>0</td>\n",
       "      <td>20</td>\n",
       "    </tr>\n",
       "    <tr>\n",
       "      <th>2</th>\n",
       "      <td>sub-005</td>\n",
       "      <td>0</td>\n",
       "      <td>70</td>\n",
       "      <td>0</td>\n",
       "      <td>22</td>\n",
       "    </tr>\n",
       "    <tr>\n",
       "      <th>3</th>\n",
       "      <td>sub-006</td>\n",
       "      <td>1</td>\n",
       "      <td>61</td>\n",
       "      <td>0</td>\n",
       "      <td>14</td>\n",
       "    </tr>\n",
       "    <tr>\n",
       "      <th>4</th>\n",
       "      <td>sub-007</td>\n",
       "      <td>1</td>\n",
       "      <td>79</td>\n",
       "      <td>0</td>\n",
       "      <td>20</td>\n",
       "    </tr>\n",
       "    <tr>\n",
       "      <th>5</th>\n",
       "      <td>sub-008</td>\n",
       "      <td>0</td>\n",
       "      <td>62</td>\n",
       "      <td>0</td>\n",
       "      <td>16</td>\n",
       "    </tr>\n",
       "    <tr>\n",
       "      <th>6</th>\n",
       "      <td>sub-009</td>\n",
       "      <td>1</td>\n",
       "      <td>77</td>\n",
       "      <td>0</td>\n",
       "      <td>23</td>\n",
       "    </tr>\n",
       "    <tr>\n",
       "      <th>7</th>\n",
       "      <td>sub-010</td>\n",
       "      <td>0</td>\n",
       "      <td>69</td>\n",
       "      <td>0</td>\n",
       "      <td>20</td>\n",
       "    </tr>\n",
       "    <tr>\n",
       "      <th>8</th>\n",
       "      <td>sub-011</td>\n",
       "      <td>0</td>\n",
       "      <td>71</td>\n",
       "      <td>0</td>\n",
       "      <td>22</td>\n",
       "    </tr>\n",
       "    <tr>\n",
       "      <th>9</th>\n",
       "      <td>sub-012</td>\n",
       "      <td>0</td>\n",
       "      <td>63</td>\n",
       "      <td>0</td>\n",
       "      <td>18</td>\n",
       "    </tr>\n",
       "  </tbody>\n",
       "</table>\n",
       "</div>"
      ],
      "text/plain": [
       "  participant_id  Gender  Age  Group  MMSE\n",
       "0        sub-002       1   78      0    22\n",
       "1        sub-004       1   67      0    20\n",
       "2        sub-005       0   70      0    22\n",
       "3        sub-006       1   61      0    14\n",
       "4        sub-007       1   79      0    20\n",
       "5        sub-008       0   62      0    16\n",
       "6        sub-009       1   77      0    23\n",
       "7        sub-010       0   69      0    20\n",
       "8        sub-011       0   71      0    22\n",
       "9        sub-012       0   63      0    18"
      ]
     },
     "execution_count": 3,
     "metadata": {},
     "output_type": "execute_result"
    }
   ],
   "source": [
    "df_participants.head(10)"
   ]
  },
  {
   "cell_type": "code",
   "execution_count": 4,
   "metadata": {},
   "outputs": [
    {
     "data": {
      "text/plain": [
       "Group\n",
       "0    33\n",
       "1    18\n",
       "Name: participant_id, dtype: int64"
      ]
     },
     "execution_count": 4,
     "metadata": {},
     "output_type": "execute_result"
    }
   ],
   "source": [
    "df_participants.groupby('Group')['participant_id'].count()"
   ]
  },
  {
   "cell_type": "code",
   "execution_count": 5,
   "metadata": {},
   "outputs": [
    {
     "name": "stdout",
     "output_type": "stream",
     "text": [
      "Train 38\n",
      "Test 13\n"
     ]
    }
   ],
   "source": [
    "X = df_participants.drop(columns=['Group'], axis=1)\n",
    "y = df_participants['Group']\n",
    "\n",
    "X_train, X_test, y_train, y_test = train_test_split(X, y, test_size=0.25, random_state=42)\n",
    "\n",
    "print('Train',len(y_train))\n",
    "print('Test',len(y_test))"
   ]
  },
  {
   "cell_type": "markdown",
   "metadata": {},
   "source": [
    "### Train Test split transfer to Epochs based Dataframes\n"
   ]
  },
  {
   "cell_type": "markdown",
   "metadata": {},
   "source": [
    "#### Epoch based FP1\n"
   ]
  },
  {
   "cell_type": "code",
   "execution_count": 6,
   "metadata": {},
   "outputs": [
    {
     "data": {
      "text/html": [
       "<div>\n",
       "<style scoped>\n",
       "    .dataframe tbody tr th:only-of-type {\n",
       "        vertical-align: middle;\n",
       "    }\n",
       "\n",
       "    .dataframe tbody tr th {\n",
       "        vertical-align: top;\n",
       "    }\n",
       "\n",
       "    .dataframe thead th {\n",
       "        text-align: right;\n",
       "    }\n",
       "</style>\n",
       "<table border=\"1\" class=\"dataframe\">\n",
       "  <thead>\n",
       "    <tr style=\"text-align: right;\">\n",
       "      <th></th>\n",
       "      <th>subject_id</th>\n",
       "      <th>age</th>\n",
       "      <th>gender</th>\n",
       "      <th>epoch_id</th>\n",
       "      <th>total_channels</th>\n",
       "      <th>total_power</th>\n",
       "      <th>avg_power</th>\n",
       "      <th>relative_power</th>\n",
       "      <th>peak_freq</th>\n",
       "      <th>spectral_entropy</th>\n",
       "      <th>group</th>\n",
       "    </tr>\n",
       "  </thead>\n",
       "  <tbody>\n",
       "    <tr>\n",
       "      <th>0</th>\n",
       "      <td>sub-002</td>\n",
       "      <td>78</td>\n",
       "      <td>1</td>\n",
       "      <td>0</td>\n",
       "      <td>19.0</td>\n",
       "      <td>8.138737e-07</td>\n",
       "      <td>3.255495e-08</td>\n",
       "      <td>0.480204</td>\n",
       "      <td>1.953125</td>\n",
       "      <td>0.000013</td>\n",
       "      <td>0</td>\n",
       "    </tr>\n",
       "    <tr>\n",
       "      <th>1</th>\n",
       "      <td>sub-002</td>\n",
       "      <td>78</td>\n",
       "      <td>1</td>\n",
       "      <td>1</td>\n",
       "      <td>19.0</td>\n",
       "      <td>6.457802e-07</td>\n",
       "      <td>2.583121e-08</td>\n",
       "      <td>0.373726</td>\n",
       "      <td>1.953125</td>\n",
       "      <td>0.000010</td>\n",
       "      <td>0</td>\n",
       "    </tr>\n",
       "    <tr>\n",
       "      <th>2</th>\n",
       "      <td>sub-002</td>\n",
       "      <td>78</td>\n",
       "      <td>1</td>\n",
       "      <td>2</td>\n",
       "      <td>19.0</td>\n",
       "      <td>7.862074e-07</td>\n",
       "      <td>3.144830e-08</td>\n",
       "      <td>0.397717</td>\n",
       "      <td>1.953125</td>\n",
       "      <td>0.000013</td>\n",
       "      <td>0</td>\n",
       "    </tr>\n",
       "    <tr>\n",
       "      <th>3</th>\n",
       "      <td>sub-002</td>\n",
       "      <td>78</td>\n",
       "      <td>1</td>\n",
       "      <td>3</td>\n",
       "      <td>19.0</td>\n",
       "      <td>8.496011e-07</td>\n",
       "      <td>3.398405e-08</td>\n",
       "      <td>0.458611</td>\n",
       "      <td>1.953125</td>\n",
       "      <td>0.000013</td>\n",
       "      <td>0</td>\n",
       "    </tr>\n",
       "    <tr>\n",
       "      <th>4</th>\n",
       "      <td>sub-002</td>\n",
       "      <td>78</td>\n",
       "      <td>1</td>\n",
       "      <td>4</td>\n",
       "      <td>19.0</td>\n",
       "      <td>7.503180e-07</td>\n",
       "      <td>3.001272e-08</td>\n",
       "      <td>0.402417</td>\n",
       "      <td>1.953125</td>\n",
       "      <td>0.000012</td>\n",
       "      <td>0</td>\n",
       "    </tr>\n",
       "  </tbody>\n",
       "</table>\n",
       "</div>"
      ],
      "text/plain": [
       "  subject_id  age  gender  epoch_id  total_channels   total_power  \\\n",
       "0    sub-002   78       1         0            19.0  8.138737e-07   \n",
       "1    sub-002   78       1         1            19.0  6.457802e-07   \n",
       "2    sub-002   78       1         2            19.0  7.862074e-07   \n",
       "3    sub-002   78       1         3            19.0  8.496011e-07   \n",
       "4    sub-002   78       1         4            19.0  7.503180e-07   \n",
       "\n",
       "      avg_power  relative_power  peak_freq  spectral_entropy  group  \n",
       "0  3.255495e-08        0.480204   1.953125          0.000013      0  \n",
       "1  2.583121e-08        0.373726   1.953125          0.000010      0  \n",
       "2  3.144830e-08        0.397717   1.953125          0.000013      0  \n",
       "3  3.398405e-08        0.458611   1.953125          0.000013      0  \n",
       "4  3.001272e-08        0.402417   1.953125          0.000012      0  "
      ]
     },
     "execution_count": 6,
     "metadata": {},
     "output_type": "execute_result"
    }
   ],
   "source": [
    "df_epochs_fp1.head()"
   ]
  },
  {
   "cell_type": "code",
   "execution_count": 7,
   "metadata": {},
   "outputs": [
    {
     "name": "stdout",
     "output_type": "stream",
     "text": [
      "(532, 11)\n",
      "(182, 11)\n"
     ]
    }
   ],
   "source": [
    "cols_to_drop = ['subject_id','group']\n",
    "\n",
    "train_fp1 = df_epochs_fp1[df_epochs_fp1['subject_id'].isin(X_train['participant_id'])]\n",
    "test_fp1 = df_epochs_fp1[df_epochs_fp1['subject_id'].isin(X_test['participant_id'])]\n",
    "\n",
    "print(train_fp1.shape)\n",
    "print(test_fp1.shape)\n",
    "\n",
    "scaler_1 = StandardScaler()\n",
    "\n",
    "X_train_fp1 = scaler_1.fit_transform(train_fp1.drop(cols_to_drop, axis=1))\n",
    "y_train_fp1 = train_fp1['group']\n",
    "\n",
    "X_test_fp1 = scaler_1.transform(test_fp1.drop(cols_to_drop, axis=1))\n",
    "y_test_fp1 = test_fp1['group']"
   ]
  },
  {
   "cell_type": "markdown",
   "metadata": {},
   "source": [
    "#### Epochs based All Channels\n"
   ]
  },
  {
   "cell_type": "code",
   "execution_count": 8,
   "metadata": {},
   "outputs": [
    {
     "data": {
      "text/html": [
       "<div>\n",
       "<style scoped>\n",
       "    .dataframe tbody tr th:only-of-type {\n",
       "        vertical-align: middle;\n",
       "    }\n",
       "\n",
       "    .dataframe tbody tr th {\n",
       "        vertical-align: top;\n",
       "    }\n",
       "\n",
       "    .dataframe thead th {\n",
       "        text-align: right;\n",
       "    }\n",
       "</style>\n",
       "<table border=\"1\" class=\"dataframe\">\n",
       "  <thead>\n",
       "    <tr style=\"text-align: right;\">\n",
       "      <th></th>\n",
       "      <th>subject_id</th>\n",
       "      <th>age</th>\n",
       "      <th>gender</th>\n",
       "      <th>epoch_id</th>\n",
       "      <th>total_channels</th>\n",
       "      <th>total_power</th>\n",
       "      <th>avg_power</th>\n",
       "      <th>relative_power</th>\n",
       "      <th>peak_freq</th>\n",
       "      <th>spectral_entropy</th>\n",
       "      <th>group</th>\n",
       "    </tr>\n",
       "  </thead>\n",
       "  <tbody>\n",
       "    <tr>\n",
       "      <th>0</th>\n",
       "      <td>sub-002</td>\n",
       "      <td>78</td>\n",
       "      <td>1</td>\n",
       "      <td>0</td>\n",
       "      <td>19.0</td>\n",
       "      <td>8.346040e-07</td>\n",
       "      <td>3.338416e-08</td>\n",
       "      <td>0.478456</td>\n",
       "      <td>1.953125</td>\n",
       "      <td>0.000013</td>\n",
       "      <td>0</td>\n",
       "    </tr>\n",
       "    <tr>\n",
       "      <th>1</th>\n",
       "      <td>sub-002</td>\n",
       "      <td>78</td>\n",
       "      <td>1</td>\n",
       "      <td>1</td>\n",
       "      <td>19.0</td>\n",
       "      <td>6.761889e-07</td>\n",
       "      <td>2.704755e-08</td>\n",
       "      <td>0.374997</td>\n",
       "      <td>1.953125</td>\n",
       "      <td>0.000011</td>\n",
       "      <td>0</td>\n",
       "    </tr>\n",
       "    <tr>\n",
       "      <th>2</th>\n",
       "      <td>sub-002</td>\n",
       "      <td>78</td>\n",
       "      <td>1</td>\n",
       "      <td>2</td>\n",
       "      <td>19.0</td>\n",
       "      <td>8.086165e-07</td>\n",
       "      <td>3.234466e-08</td>\n",
       "      <td>0.394570</td>\n",
       "      <td>1.953125</td>\n",
       "      <td>0.000013</td>\n",
       "      <td>0</td>\n",
       "    </tr>\n",
       "    <tr>\n",
       "      <th>3</th>\n",
       "      <td>sub-002</td>\n",
       "      <td>78</td>\n",
       "      <td>1</td>\n",
       "      <td>3</td>\n",
       "      <td>19.0</td>\n",
       "      <td>8.440792e-07</td>\n",
       "      <td>3.376317e-08</td>\n",
       "      <td>0.447835</td>\n",
       "      <td>1.953125</td>\n",
       "      <td>0.000013</td>\n",
       "      <td>0</td>\n",
       "    </tr>\n",
       "    <tr>\n",
       "      <th>4</th>\n",
       "      <td>sub-002</td>\n",
       "      <td>78</td>\n",
       "      <td>1</td>\n",
       "      <td>4</td>\n",
       "      <td>19.0</td>\n",
       "      <td>7.673421e-07</td>\n",
       "      <td>3.069369e-08</td>\n",
       "      <td>0.416419</td>\n",
       "      <td>1.953125</td>\n",
       "      <td>0.000012</td>\n",
       "      <td>0</td>\n",
       "    </tr>\n",
       "  </tbody>\n",
       "</table>\n",
       "</div>"
      ],
      "text/plain": [
       "  subject_id  age  gender  epoch_id  total_channels   total_power  \\\n",
       "0    sub-002   78       1         0            19.0  8.346040e-07   \n",
       "1    sub-002   78       1         1            19.0  6.761889e-07   \n",
       "2    sub-002   78       1         2            19.0  8.086165e-07   \n",
       "3    sub-002   78       1         3            19.0  8.440792e-07   \n",
       "4    sub-002   78       1         4            19.0  7.673421e-07   \n",
       "\n",
       "      avg_power  relative_power  peak_freq  spectral_entropy  group  \n",
       "0  3.338416e-08        0.478456   1.953125          0.000013      0  \n",
       "1  2.704755e-08        0.374997   1.953125          0.000011      0  \n",
       "2  3.234466e-08        0.394570   1.953125          0.000013      0  \n",
       "3  3.376317e-08        0.447835   1.953125          0.000013      0  \n",
       "4  3.069369e-08        0.416419   1.953125          0.000012      0  "
      ]
     },
     "execution_count": 8,
     "metadata": {},
     "output_type": "execute_result"
    }
   ],
   "source": [
    "df_epochs_all.head()"
   ]
  },
  {
   "cell_type": "code",
   "execution_count": 9,
   "metadata": {},
   "outputs": [
    {
     "name": "stdout",
     "output_type": "stream",
     "text": [
      "(532, 11)\n",
      "(182, 11)\n"
     ]
    }
   ],
   "source": [
    "cols_to_drop = ['subject_id','group']\n",
    "\n",
    "train_all = df_epochs_all[df_epochs_all['subject_id'].isin(X_train['participant_id'])]\n",
    "test_all = df_epochs_all[df_epochs_all['subject_id'].isin(X_test['participant_id'])]\n",
    "\n",
    "print(train_fp1.shape)\n",
    "print(test_fp1.shape)\n",
    "\n",
    "scaler_2 = StandardScaler()\n",
    "\n",
    "X_train_all = scaler_2.fit_transform(train_all.drop(cols_to_drop, axis=1))\n",
    "y_train_all = train_all['group']\n",
    "\n",
    "X_test_all = scaler_2.transform(test_all.drop(cols_to_drop, axis=1))\n",
    "y_test_all = test_all['group']"
   ]
  },
  {
   "cell_type": "markdown",
   "metadata": {},
   "source": [
    "#### Epochs based with Frequency Bands FP1\n"
   ]
  },
  {
   "cell_type": "code",
   "execution_count": 10,
   "metadata": {},
   "outputs": [
    {
     "data": {
      "text/html": [
       "<div>\n",
       "<style scoped>\n",
       "    .dataframe tbody tr th:only-of-type {\n",
       "        vertical-align: middle;\n",
       "    }\n",
       "\n",
       "    .dataframe tbody tr th {\n",
       "        vertical-align: top;\n",
       "    }\n",
       "\n",
       "    .dataframe thead th {\n",
       "        text-align: right;\n",
       "    }\n",
       "</style>\n",
       "<table border=\"1\" class=\"dataframe\">\n",
       "  <thead>\n",
       "    <tr style=\"text-align: right;\">\n",
       "      <th></th>\n",
       "      <th>epoch_id</th>\n",
       "      <th>total_channels</th>\n",
       "      <th>delta_total_power</th>\n",
       "      <th>delta_avg_power</th>\n",
       "      <th>delta_relative_power</th>\n",
       "      <th>delta_peak_freq</th>\n",
       "      <th>delta_spectral_entropy</th>\n",
       "      <th>theta_total_power</th>\n",
       "      <th>theta_avg_power</th>\n",
       "      <th>theta_relative_power</th>\n",
       "      <th>...</th>\n",
       "      <th>beta_spectral_entropy</th>\n",
       "      <th>gamma_total_power</th>\n",
       "      <th>gamma_avg_power</th>\n",
       "      <th>gamma_relative_power</th>\n",
       "      <th>gamma_peak_freq</th>\n",
       "      <th>gamma_spectral_entropy</th>\n",
       "      <th>subject_id</th>\n",
       "      <th>age</th>\n",
       "      <th>gender</th>\n",
       "      <th>group</th>\n",
       "    </tr>\n",
       "  </thead>\n",
       "  <tbody>\n",
       "    <tr>\n",
       "      <th>0</th>\n",
       "      <td>0</td>\n",
       "      <td>19.0</td>\n",
       "      <td>5.356440e-07</td>\n",
       "      <td>2.678220e-07</td>\n",
       "      <td>0.316042</td>\n",
       "      <td>1.953125</td>\n",
       "      <td>0.000008</td>\n",
       "      <td>1.703684e-08</td>\n",
       "      <td>8.518421e-09</td>\n",
       "      <td>0.010052</td>\n",
       "      <td>...</td>\n",
       "      <td>0.000001</td>\n",
       "      <td>1.292570e-07</td>\n",
       "      <td>1.615713e-08</td>\n",
       "      <td>0.076265</td>\n",
       "      <td>44.921875</td>\n",
       "      <td>0.000002</td>\n",
       "      <td>sub-002</td>\n",
       "      <td>78</td>\n",
       "      <td>1</td>\n",
       "      <td>0</td>\n",
       "    </tr>\n",
       "    <tr>\n",
       "      <th>1</th>\n",
       "      <td>1</td>\n",
       "      <td>19.0</td>\n",
       "      <td>3.903346e-07</td>\n",
       "      <td>1.951673e-07</td>\n",
       "      <td>0.225894</td>\n",
       "      <td>1.953125</td>\n",
       "      <td>0.000006</td>\n",
       "      <td>2.239278e-08</td>\n",
       "      <td>1.119639e-08</td>\n",
       "      <td>0.012959</td>\n",
       "      <td>...</td>\n",
       "      <td>0.000002</td>\n",
       "      <td>1.108229e-07</td>\n",
       "      <td>1.385286e-08</td>\n",
       "      <td>0.064135</td>\n",
       "      <td>35.156250</td>\n",
       "      <td>0.000002</td>\n",
       "      <td>sub-002</td>\n",
       "      <td>78</td>\n",
       "      <td>1</td>\n",
       "      <td>0</td>\n",
       "    </tr>\n",
       "    <tr>\n",
       "      <th>2</th>\n",
       "      <td>2</td>\n",
       "      <td>19.0</td>\n",
       "      <td>5.090068e-07</td>\n",
       "      <td>2.545034e-07</td>\n",
       "      <td>0.257490</td>\n",
       "      <td>1.953125</td>\n",
       "      <td>0.000008</td>\n",
       "      <td>3.471327e-08</td>\n",
       "      <td>1.735663e-08</td>\n",
       "      <td>0.017560</td>\n",
       "      <td>...</td>\n",
       "      <td>0.000002</td>\n",
       "      <td>8.779028e-08</td>\n",
       "      <td>1.097378e-08</td>\n",
       "      <td>0.044410</td>\n",
       "      <td>37.109375</td>\n",
       "      <td>0.000002</td>\n",
       "      <td>sub-002</td>\n",
       "      <td>78</td>\n",
       "      <td>1</td>\n",
       "      <td>0</td>\n",
       "    </tr>\n",
       "    <tr>\n",
       "      <th>3</th>\n",
       "      <td>3</td>\n",
       "      <td>19.0</td>\n",
       "      <td>5.687169e-07</td>\n",
       "      <td>2.843584e-07</td>\n",
       "      <td>0.306991</td>\n",
       "      <td>1.953125</td>\n",
       "      <td>0.000008</td>\n",
       "      <td>2.759734e-08</td>\n",
       "      <td>1.379867e-08</td>\n",
       "      <td>0.014897</td>\n",
       "      <td>...</td>\n",
       "      <td>0.000001</td>\n",
       "      <td>1.364043e-07</td>\n",
       "      <td>1.705053e-08</td>\n",
       "      <td>0.073631</td>\n",
       "      <td>39.062500</td>\n",
       "      <td>0.000002</td>\n",
       "      <td>sub-002</td>\n",
       "      <td>78</td>\n",
       "      <td>1</td>\n",
       "      <td>0</td>\n",
       "    </tr>\n",
       "    <tr>\n",
       "      <th>4</th>\n",
       "      <td>4</td>\n",
       "      <td>19.0</td>\n",
       "      <td>5.352662e-07</td>\n",
       "      <td>2.676331e-07</td>\n",
       "      <td>0.287079</td>\n",
       "      <td>1.953125</td>\n",
       "      <td>0.000008</td>\n",
       "      <td>2.820804e-08</td>\n",
       "      <td>1.410402e-08</td>\n",
       "      <td>0.015129</td>\n",
       "      <td>...</td>\n",
       "      <td>0.000001</td>\n",
       "      <td>9.871103e-08</td>\n",
       "      <td>1.233888e-08</td>\n",
       "      <td>0.052942</td>\n",
       "      <td>42.968750</td>\n",
       "      <td>0.000002</td>\n",
       "      <td>sub-002</td>\n",
       "      <td>78</td>\n",
       "      <td>1</td>\n",
       "      <td>0</td>\n",
       "    </tr>\n",
       "  </tbody>\n",
       "</table>\n",
       "<p>5 rows × 31 columns</p>\n",
       "</div>"
      ],
      "text/plain": [
       "   epoch_id  total_channels  delta_total_power  delta_avg_power  \\\n",
       "0         0            19.0       5.356440e-07     2.678220e-07   \n",
       "1         1            19.0       3.903346e-07     1.951673e-07   \n",
       "2         2            19.0       5.090068e-07     2.545034e-07   \n",
       "3         3            19.0       5.687169e-07     2.843584e-07   \n",
       "4         4            19.0       5.352662e-07     2.676331e-07   \n",
       "\n",
       "   delta_relative_power  delta_peak_freq  delta_spectral_entropy  \\\n",
       "0              0.316042         1.953125                0.000008   \n",
       "1              0.225894         1.953125                0.000006   \n",
       "2              0.257490         1.953125                0.000008   \n",
       "3              0.306991         1.953125                0.000008   \n",
       "4              0.287079         1.953125                0.000008   \n",
       "\n",
       "   theta_total_power  theta_avg_power  theta_relative_power  ...  \\\n",
       "0       1.703684e-08     8.518421e-09              0.010052  ...   \n",
       "1       2.239278e-08     1.119639e-08              0.012959  ...   \n",
       "2       3.471327e-08     1.735663e-08              0.017560  ...   \n",
       "3       2.759734e-08     1.379867e-08              0.014897  ...   \n",
       "4       2.820804e-08     1.410402e-08              0.015129  ...   \n",
       "\n",
       "   beta_spectral_entropy  gamma_total_power  gamma_avg_power  \\\n",
       "0               0.000001       1.292570e-07     1.615713e-08   \n",
       "1               0.000002       1.108229e-07     1.385286e-08   \n",
       "2               0.000002       8.779028e-08     1.097378e-08   \n",
       "3               0.000001       1.364043e-07     1.705053e-08   \n",
       "4               0.000001       9.871103e-08     1.233888e-08   \n",
       "\n",
       "   gamma_relative_power  gamma_peak_freq  gamma_spectral_entropy  subject_id  \\\n",
       "0              0.076265        44.921875                0.000002     sub-002   \n",
       "1              0.064135        35.156250                0.000002     sub-002   \n",
       "2              0.044410        37.109375                0.000002     sub-002   \n",
       "3              0.073631        39.062500                0.000002     sub-002   \n",
       "4              0.052942        42.968750                0.000002     sub-002   \n",
       "\n",
       "   age  gender  group  \n",
       "0   78       1      0  \n",
       "1   78       1      0  \n",
       "2   78       1      0  \n",
       "3   78       1      0  \n",
       "4   78       1      0  \n",
       "\n",
       "[5 rows x 31 columns]"
      ]
     },
     "execution_count": 10,
     "metadata": {},
     "output_type": "execute_result"
    }
   ],
   "source": [
    "df_epochs_bands_fp1.head()"
   ]
  },
  {
   "cell_type": "markdown",
   "metadata": {},
   "source": [
    "## Predictions\n"
   ]
  },
  {
   "cell_type": "markdown",
   "metadata": {},
   "source": [
    "### Epochs Based - FP1 Channel\n"
   ]
  },
  {
   "cell_type": "markdown",
   "metadata": {},
   "source": [
    "XGBoost\n"
   ]
  },
  {
   "cell_type": "code",
   "execution_count": 11,
   "metadata": {},
   "outputs": [
    {
     "name": "stdout",
     "output_type": "stream",
     "text": [
      "Accuracy: 29.12%\n"
     ]
    }
   ],
   "source": [
    "xgb_classifier = xgb.XGBClassifier()\n",
    "xgb_classifier.fit(X_train_fp1, y_train_fp1)\n",
    "\n",
    "xgb_predict = xgb_classifier.predict(X_test_fp1)\n",
    "\n",
    "# Accuracy\n",
    "accuracy = accuracy_score(y_test_fp1, xgb_predict)\n",
    "print(\"Accuracy: %.2f%%\" % (accuracy * 100.0))"
   ]
  },
  {
   "cell_type": "markdown",
   "metadata": {},
   "source": [
    "AdaBoost\n"
   ]
  },
  {
   "cell_type": "code",
   "execution_count": 12,
   "metadata": {},
   "outputs": [
    {
     "name": "stdout",
     "output_type": "stream",
     "text": [
      "Accuracy: 37.91%\n"
     ]
    }
   ],
   "source": [
    "adaboost_classifier = AdaBoostClassifier()\n",
    "adaboost_classifier.fit(X_train_fp1, y_train_fp1)\n",
    "\n",
    "adaboost_predict = adaboost_classifier.predict(X_test_fp1)\n",
    "\n",
    "# Accuracy\n",
    "accuracy = accuracy_score(y_test_fp1, adaboost_predict)\n",
    "print(\"Accuracy: %.2f%%\" % (accuracy * 100.0))"
   ]
  },
  {
   "cell_type": "markdown",
   "metadata": {},
   "source": [
    "Random Forest\n"
   ]
  },
  {
   "cell_type": "code",
   "execution_count": 13,
   "metadata": {},
   "outputs": [
    {
     "name": "stdout",
     "output_type": "stream",
     "text": [
      "Accuracy: 46.70%\n"
     ]
    }
   ],
   "source": [
    "rf_classifier = RandomForestClassifier()\n",
    "rf_classifier.fit(X_train_fp1, y_train_fp1)\n",
    "\n",
    "rf_predict = rf_classifier.predict(X_test_fp1)\n",
    "\n",
    "# Accuracy\n",
    "accuracy = accuracy_score(y_test_fp1, rf_predict)\n",
    "print(\"Accuracy: %.2f%%\" % (accuracy * 100.0))"
   ]
  },
  {
   "cell_type": "markdown",
   "metadata": {},
   "source": [
    "Support Vector Classifier\n"
   ]
  },
  {
   "cell_type": "code",
   "execution_count": 14,
   "metadata": {},
   "outputs": [
    {
     "name": "stdout",
     "output_type": "stream",
     "text": [
      "Accuracy: 64.84%\n"
     ]
    }
   ],
   "source": [
    "svc_classifier = SVC()\n",
    "svc_classifier.fit(X_train_fp1, y_train_fp1)\n",
    "\n",
    "svc_predict = svc_classifier.predict(X_test_fp1)\n",
    "\n",
    "# Accuracy\n",
    "accuracy = accuracy_score(y_test_fp1, svc_predict)\n",
    "print(\"Accuracy: %.2f%%\" % (accuracy * 100.0))"
   ]
  },
  {
   "cell_type": "markdown",
   "metadata": {},
   "source": [
    "### Epochs Based - All Channels\n"
   ]
  },
  {
   "cell_type": "markdown",
   "metadata": {},
   "source": [
    "XGBoost\n"
   ]
  },
  {
   "cell_type": "code",
   "execution_count": 15,
   "metadata": {},
   "outputs": [
    {
     "name": "stdout",
     "output_type": "stream",
     "text": [
      "Accuracy: 32.97%\n"
     ]
    }
   ],
   "source": [
    "xgb_classifier = xgb.XGBClassifier()\n",
    "xgb_classifier.fit(X_train_all, y_train_all)\n",
    "\n",
    "xgb_predict = xgb_classifier.predict(X_test_all)\n",
    "\n",
    "# Accuracy\n",
    "accuracy = accuracy_score(y_test_all, xgb_predict)\n",
    "print(\"Accuracy: %.2f%%\" % (accuracy * 100.0))"
   ]
  },
  {
   "cell_type": "markdown",
   "metadata": {},
   "source": [
    "AdaBoost\n"
   ]
  },
  {
   "cell_type": "code",
   "execution_count": 16,
   "metadata": {},
   "outputs": [
    {
     "name": "stdout",
     "output_type": "stream",
     "text": [
      "Accuracy: 37.91%\n"
     ]
    }
   ],
   "source": [
    "adaboost_classifier = AdaBoostClassifier()\n",
    "adaboost_classifier.fit(X_train_all, y_train_all)\n",
    "\n",
    "adaboost_predict = adaboost_classifier.predict(X_test_all)\n",
    "\n",
    "# Accuracy\n",
    "accuracy = accuracy_score(y_test_all, adaboost_predict)\n",
    "print(\"Accuracy: %.2f%%\" % (accuracy * 100.0))"
   ]
  },
  {
   "cell_type": "markdown",
   "metadata": {},
   "source": [
    "Random Forest\n"
   ]
  },
  {
   "cell_type": "code",
   "execution_count": 17,
   "metadata": {},
   "outputs": [
    {
     "name": "stdout",
     "output_type": "stream",
     "text": [
      "Accuracy: 46.15%\n"
     ]
    }
   ],
   "source": [
    "rf_classifier = RandomForestClassifier()\n",
    "rf_classifier.fit(X_train_all, y_train_all)\n",
    "\n",
    "rf_predict = rf_classifier.predict(X_test_all)\n",
    "\n",
    "# Accuracy\n",
    "accuracy = accuracy_score(y_test_all, rf_predict)\n",
    "print(\"Accuracy: %.2f%%\" % (accuracy * 100.0))"
   ]
  },
  {
   "cell_type": "markdown",
   "metadata": {},
   "source": [
    "Support Vector Classifier\n"
   ]
  },
  {
   "cell_type": "code",
   "execution_count": 18,
   "metadata": {},
   "outputs": [
    {
     "name": "stdout",
     "output_type": "stream",
     "text": [
      "Accuracy: 62.09%\n"
     ]
    }
   ],
   "source": [
    "svc_classifier = SVC()\n",
    "svc_classifier.fit(X_train_all, y_train_all)\n",
    "\n",
    "svc_predict = svc_classifier.predict(X_test_all)\n",
    "\n",
    "# Accuracy\n",
    "accuracy = accuracy_score(y_test_all, svc_predict)\n",
    "print(\"Accuracy: %.2f%%\" % (accuracy * 100.0))"
   ]
  },
  {
   "cell_type": "code",
   "execution_count": 19,
   "metadata": {},
   "outputs": [
    {
     "name": "stderr",
     "output_type": "stream",
     "text": [
      "/var/folders/42/zkw31xg11x1f6dpl9zz6hmz00000gn/T/ipykernel_18991/4194567979.py:1: SettingWithCopyWarning: \n",
      "A value is trying to be set on a copy of a slice from a DataFrame.\n",
      "Try using .loc[row_indexer,col_indexer] = value instead\n",
      "\n",
      "See the caveats in the documentation: https://pandas.pydata.org/pandas-docs/stable/user_guide/indexing.html#returning-a-view-versus-a-copy\n",
      "  test_all['Predict'] = svc_predict\n"
     ]
    },
    {
     "data": {
      "text/plain": [
       "subject_id\n",
       "sub-006    1\n",
       "sub-011    2\n",
       "sub-015    1\n",
       "sub-016    2\n",
       "sub-020    2\n",
       "sub-027    1\n",
       "sub-034    2\n",
       "sub-035    2\n",
       "sub-036    2\n",
       "sub-076    1\n",
       "sub-079    2\n",
       "sub-082    2\n",
       "sub-087    2\n",
       "Name: Predict, dtype: int64"
      ]
     },
     "execution_count": 19,
     "metadata": {},
     "output_type": "execute_result"
    }
   ],
   "source": [
    "test_all['Predict'] = svc_predict\n",
    "\n",
    "test_all.groupby('subject_id')['Predict'].nunique()"
   ]
  },
  {
   "cell_type": "code",
   "execution_count": 20,
   "metadata": {},
   "outputs": [
    {
     "data": {
      "text/plain": [
       "subject_id  group  Predict\n",
       "sub-006     0      0          14\n",
       "sub-011     0      0          12\n",
       "                   1           2\n",
       "sub-015     0      1          14\n",
       "sub-016     0      0          12\n",
       "                   1           2\n",
       "sub-020     0      0          13\n",
       "                   1           1\n",
       "sub-027     0      0          14\n",
       "sub-034     0      0          13\n",
       "                   1           1\n",
       "sub-035     0      0           9\n",
       "                   1           5\n",
       "sub-036     0      0          11\n",
       "                   1           3\n",
       "sub-076     1      0          14\n",
       "sub-079     1      0          11\n",
       "                   1           3\n",
       "sub-082     1      1          11\n",
       "                   0           3\n",
       "sub-087     1      0          13\n",
       "                   1           1\n",
       "dtype: int64"
      ]
     },
     "execution_count": 20,
     "metadata": {},
     "output_type": "execute_result"
    }
   ],
   "source": [
    "test_all.groupby('subject_id')[['group','Predict']].value_counts()"
   ]
  },
  {
   "cell_type": "markdown",
   "metadata": {},
   "source": [
    "### Epochs Based with Frequency Bands - FP1 Channel\n"
   ]
  },
  {
   "cell_type": "markdown",
   "metadata": {},
   "source": [
    "XGBoost\n"
   ]
  },
  {
   "cell_type": "code",
   "execution_count": 21,
   "metadata": {},
   "outputs": [
    {
     "name": "stdout",
     "output_type": "stream",
     "text": [
      "Accuracy: 29.12%\n"
     ]
    }
   ],
   "source": [
    "xgb_classifier = xgb.XGBClassifier()\n",
    "xgb_classifier.fit(X_train_fp1, y_train_fp1)\n",
    "\n",
    "xgb_predict = xgb_classifier.predict(X_test_fp1)\n",
    "\n",
    "# Accuracy\n",
    "accuracy = accuracy_score(y_test_fp1, xgb_predict)\n",
    "print(\"Accuracy: %.2f%%\" % (accuracy * 100.0))"
   ]
  },
  {
   "cell_type": "markdown",
   "metadata": {},
   "source": [
    "AdaBoost\n"
   ]
  },
  {
   "cell_type": "code",
   "execution_count": 22,
   "metadata": {},
   "outputs": [
    {
     "name": "stdout",
     "output_type": "stream",
     "text": [
      "Accuracy: 37.91%\n"
     ]
    }
   ],
   "source": [
    "adaboost_classifier = AdaBoostClassifier()\n",
    "adaboost_classifier.fit(X_train_fp1, y_train_fp1)\n",
    "\n",
    "adaboost_predict = adaboost_classifier.predict(X_test_fp1)\n",
    "\n",
    "# Accuracy\n",
    "accuracy = accuracy_score(y_test_fp1, adaboost_predict)\n",
    "print(\"Accuracy: %.2f%%\" % (accuracy * 100.0))"
   ]
  },
  {
   "cell_type": "markdown",
   "metadata": {},
   "source": [
    "Random Forest\n"
   ]
  },
  {
   "cell_type": "code",
   "execution_count": 23,
   "metadata": {},
   "outputs": [
    {
     "name": "stdout",
     "output_type": "stream",
     "text": [
      "Accuracy: 40.66%\n"
     ]
    }
   ],
   "source": [
    "rf_classifier = RandomForestClassifier()\n",
    "rf_classifier.fit(X_train_fp1, y_train_fp1)\n",
    "\n",
    "rf_predict = rf_classifier.predict(X_test_fp1)\n",
    "\n",
    "# Accuracy\n",
    "accuracy = accuracy_score(y_test_fp1, rf_predict)\n",
    "print(\"Accuracy: %.2f%%\" % (accuracy * 100.0))"
   ]
  },
  {
   "cell_type": "markdown",
   "metadata": {},
   "source": [
    "Support Vector Classifier\n"
   ]
  },
  {
   "cell_type": "code",
   "execution_count": 24,
   "metadata": {},
   "outputs": [
    {
     "name": "stdout",
     "output_type": "stream",
     "text": [
      "Accuracy: 64.84%\n"
     ]
    }
   ],
   "source": [
    "svc_classifier = SVC()\n",
    "svc_classifier.fit(X_train_fp1, y_train_fp1)\n",
    "\n",
    "svc_predict = svc_classifier.predict(X_test_fp1)\n",
    "\n",
    "# Accuracy\n",
    "accuracy = accuracy_score(y_test_fp1, svc_predict)\n",
    "print(\"Accuracy: %.2f%%\" % (accuracy * 100.0))"
   ]
  }
 ],
 "metadata": {
  "kernelspec": {
   "display_name": "mne",
   "language": "python",
   "name": "python3"
  },
  "language_info": {
   "codemirror_mode": {
    "name": "ipython",
    "version": 3
   },
   "file_extension": ".py",
   "mimetype": "text/x-python",
   "name": "python",
   "nbconvert_exporter": "python",
   "pygments_lexer": "ipython3",
   "version": "3.11.4"
  },
  "orig_nbformat": 4
 },
 "nbformat": 4,
 "nbformat_minor": 2
}
