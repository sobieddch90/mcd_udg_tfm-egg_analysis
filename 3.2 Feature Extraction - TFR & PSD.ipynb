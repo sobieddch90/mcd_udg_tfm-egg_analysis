{
 "cells": [
  {
   "cell_type": "markdown",
   "metadata": {},
   "source": [
    "# Feature Extraction - Statistical, TFR & PSD Approaches\n"
   ]
  },
  {
   "cell_type": "markdown",
   "metadata": {},
   "source": [
    "- Author: Elmo Chavez\n",
    "- Date: 01-Aug-2023\n"
   ]
  },
  {
   "cell_type": "markdown",
   "metadata": {},
   "source": [
    "## Libraries\n"
   ]
  },
  {
   "cell_type": "code",
   "execution_count": 1,
   "metadata": {},
   "outputs": [],
   "source": [
    "import pandas as pd\n",
    "import numpy as np\n",
    "import mne\n",
    "import os"
   ]
  },
  {
   "cell_type": "markdown",
   "metadata": {},
   "source": [
    "Import file with fuctions to get features.\n"
   ]
  },
  {
   "cell_type": "code",
   "execution_count": 2,
   "metadata": {},
   "outputs": [],
   "source": [
    "import features_eeg as feeg"
   ]
  },
  {
   "cell_type": "markdown",
   "metadata": {},
   "source": [
    "## Read the Data\n"
   ]
  },
  {
   "cell_type": "markdown",
   "metadata": {},
   "source": [
    "Select folder with the Datasets\n"
   ]
  },
  {
   "cell_type": "code",
   "execution_count": 3,
   "metadata": {},
   "outputs": [
    {
     "name": "stderr",
     "output_type": "stream",
     "text": [
      "2023-08-04 09:41:39.798 python[16905:316750] +[CATransaction synchronize] called within transaction\n"
     ]
    }
   ],
   "source": [
    "from tkinter import Tk\n",
    "from tkinter.filedialog import askdirectory\n",
    "\n",
    "root = Tk()\n",
    "root.withdraw()\n",
    "\n",
    "path = askdirectory()\n",
    "\n",
    "root.quit()\n",
    "root.destroy()"
   ]
  },
  {
   "cell_type": "markdown",
   "metadata": {},
   "source": [
    "Read Participant's info\n"
   ]
  },
  {
   "cell_type": "code",
   "execution_count": 4,
   "metadata": {},
   "outputs": [
    {
     "data": {
      "text/html": [
       "<div>\n",
       "<style scoped>\n",
       "    .dataframe tbody tr th:only-of-type {\n",
       "        vertical-align: middle;\n",
       "    }\n",
       "\n",
       "    .dataframe tbody tr th {\n",
       "        vertical-align: top;\n",
       "    }\n",
       "\n",
       "    .dataframe thead th {\n",
       "        text-align: right;\n",
       "    }\n",
       "</style>\n",
       "<table border=\"1\" class=\"dataframe\">\n",
       "  <thead>\n",
       "    <tr style=\"text-align: right;\">\n",
       "      <th></th>\n",
       "      <th>participant_id</th>\n",
       "      <th>Gender</th>\n",
       "      <th>Age</th>\n",
       "      <th>Group</th>\n",
       "      <th>MMSE</th>\n",
       "    </tr>\n",
       "  </thead>\n",
       "  <tbody>\n",
       "    <tr>\n",
       "      <th>0</th>\n",
       "      <td>sub-001</td>\n",
       "      <td>F</td>\n",
       "      <td>57</td>\n",
       "      <td>A</td>\n",
       "      <td>16</td>\n",
       "    </tr>\n",
       "    <tr>\n",
       "      <th>1</th>\n",
       "      <td>sub-002</td>\n",
       "      <td>F</td>\n",
       "      <td>78</td>\n",
       "      <td>A</td>\n",
       "      <td>22</td>\n",
       "    </tr>\n",
       "    <tr>\n",
       "      <th>2</th>\n",
       "      <td>sub-003</td>\n",
       "      <td>M</td>\n",
       "      <td>70</td>\n",
       "      <td>A</td>\n",
       "      <td>14</td>\n",
       "    </tr>\n",
       "    <tr>\n",
       "      <th>3</th>\n",
       "      <td>sub-004</td>\n",
       "      <td>F</td>\n",
       "      <td>67</td>\n",
       "      <td>A</td>\n",
       "      <td>20</td>\n",
       "    </tr>\n",
       "    <tr>\n",
       "      <th>4</th>\n",
       "      <td>sub-005</td>\n",
       "      <td>M</td>\n",
       "      <td>70</td>\n",
       "      <td>A</td>\n",
       "      <td>22</td>\n",
       "    </tr>\n",
       "  </tbody>\n",
       "</table>\n",
       "</div>"
      ],
      "text/plain": [
       "  participant_id Gender  Age Group  MMSE\n",
       "0        sub-001      F   57     A    16\n",
       "1        sub-002      F   78     A    22\n",
       "2        sub-003      M   70     A    14\n",
       "3        sub-004      F   67     A    20\n",
       "4        sub-005      M   70     A    22"
      ]
     },
     "execution_count": 4,
     "metadata": {},
     "output_type": "execute_result"
    }
   ],
   "source": [
    "filename_part = 'participants.tsv'\n",
    "df_partipants = pd.read_csv(path+'/'+filename_part, sep='\\t')\n",
    "df_partipants.head()"
   ]
  },
  {
   "cell_type": "code",
   "execution_count": 5,
   "metadata": {},
   "outputs": [
    {
     "name": "stdout",
     "output_type": "stream",
     "text": [
      "Only Alzheimer and Fronto Temporal Dementia datasets: 59\n"
     ]
    },
    {
     "name": "stderr",
     "output_type": "stream",
     "text": [
      "/var/folders/42/zkw31xg11x1f6dpl9zz6hmz00000gn/T/ipykernel_16905/3122633407.py:7: SettingWithCopyWarning: \n",
      "A value is trying to be set on a copy of a slice from a DataFrame\n",
      "\n",
      "See the caveats in the documentation: https://pandas.pydata.org/pandas-docs/stable/user_guide/indexing.html#returning-a-view-versus-a-copy\n",
      "  df_partipants_ad_ftd['Gender'].replace(gender_dict, inplace=True)\n",
      "/var/folders/42/zkw31xg11x1f6dpl9zz6hmz00000gn/T/ipykernel_16905/3122633407.py:8: SettingWithCopyWarning: \n",
      "A value is trying to be set on a copy of a slice from a DataFrame\n",
      "\n",
      "See the caveats in the documentation: https://pandas.pydata.org/pandas-docs/stable/user_guide/indexing.html#returning-a-view-versus-a-copy\n",
      "  df_partipants_ad_ftd['Group'].replace(group_dict, inplace=True)\n"
     ]
    },
    {
     "data": {
      "text/html": [
       "<div>\n",
       "<style scoped>\n",
       "    .dataframe tbody tr th:only-of-type {\n",
       "        vertical-align: middle;\n",
       "    }\n",
       "\n",
       "    .dataframe tbody tr th {\n",
       "        vertical-align: top;\n",
       "    }\n",
       "\n",
       "    .dataframe thead th {\n",
       "        text-align: right;\n",
       "    }\n",
       "</style>\n",
       "<table border=\"1\" class=\"dataframe\">\n",
       "  <thead>\n",
       "    <tr style=\"text-align: right;\">\n",
       "      <th></th>\n",
       "      <th>participant_id</th>\n",
       "      <th>Gender</th>\n",
       "      <th>Age</th>\n",
       "      <th>Group</th>\n",
       "      <th>MMSE</th>\n",
       "    </tr>\n",
       "  </thead>\n",
       "  <tbody>\n",
       "    <tr>\n",
       "      <th>0</th>\n",
       "      <td>sub-001</td>\n",
       "      <td>1</td>\n",
       "      <td>57</td>\n",
       "      <td>0</td>\n",
       "      <td>16</td>\n",
       "    </tr>\n",
       "    <tr>\n",
       "      <th>1</th>\n",
       "      <td>sub-002</td>\n",
       "      <td>1</td>\n",
       "      <td>78</td>\n",
       "      <td>0</td>\n",
       "      <td>22</td>\n",
       "    </tr>\n",
       "    <tr>\n",
       "      <th>2</th>\n",
       "      <td>sub-003</td>\n",
       "      <td>0</td>\n",
       "      <td>70</td>\n",
       "      <td>0</td>\n",
       "      <td>14</td>\n",
       "    </tr>\n",
       "    <tr>\n",
       "      <th>3</th>\n",
       "      <td>sub-004</td>\n",
       "      <td>1</td>\n",
       "      <td>67</td>\n",
       "      <td>0</td>\n",
       "      <td>20</td>\n",
       "    </tr>\n",
       "    <tr>\n",
       "      <th>4</th>\n",
       "      <td>sub-005</td>\n",
       "      <td>0</td>\n",
       "      <td>70</td>\n",
       "      <td>0</td>\n",
       "      <td>22</td>\n",
       "    </tr>\n",
       "  </tbody>\n",
       "</table>\n",
       "</div>"
      ],
      "text/plain": [
       "  participant_id  Gender  Age  Group  MMSE\n",
       "0        sub-001       1   57      0    16\n",
       "1        sub-002       1   78      0    22\n",
       "2        sub-003       0   70      0    14\n",
       "3        sub-004       1   67      0    20\n",
       "4        sub-005       0   70      0    22"
      ]
     },
     "execution_count": 5,
     "metadata": {},
     "output_type": "execute_result"
    }
   ],
   "source": [
    "df_partipants_ad_ftd = df_partipants[df_partipants['Group'].isin(['A','F'])]\n",
    "\n",
    "# Encoding Gender, Groups (Classes)\n",
    "gender_dict = {'M':0, 'F':1}\n",
    "group_dict = {'A':0, 'F':1}\n",
    "\n",
    "df_partipants_ad_ftd['Gender'].replace(gender_dict, inplace=True)\n",
    "df_partipants_ad_ftd['Group'].replace(group_dict, inplace=True)\n",
    "\n",
    "#df_partipants_ad_ftd['gender'] = df_partipants_ad_ftd['Gender'].replace(gender_dict)\n",
    "#df_partipants_ad_ftd['group'] = df_partipants_ad_ftd['Group'].replace(group_dict)\n",
    "\n",
    "print('Only Alzheimer and Fronto Temporal Dementia datasets:',len(df_partipants_ad_ftd))\n",
    "df_partipants_ad_ftd.head()"
   ]
  },
  {
   "cell_type": "markdown",
   "metadata": {},
   "source": [
    "Reading files\n"
   ]
  },
  {
   "cell_type": "code",
   "execution_count": 6,
   "metadata": {},
   "outputs": [
    {
     "name": "stdout",
     "output_type": "stream",
     "text": [
      "Subjects found: 88\n",
      "Subjects: ['sub-001', 'sub-002', 'sub-003', 'sub-004', 'sub-005']\n",
      "EEG Files Loaded: 88\n"
     ]
    }
   ],
   "source": [
    "items = os.listdir(path+'/derivatives/')\n",
    "dir_list = [item for item in items if os.path.isdir(os.path.join(path, item))]\n",
    "dir_list.sort()\n",
    "\n",
    "print('Subjects found:',len(dir_list))\n",
    "print('Subjects:', dir_list[:5])\n",
    "\n",
    "eeg_data = []\n",
    "\n",
    "for l in dir_list:\n",
    "  folder = path+'/derivatives/'+l+'/eeg/'\n",
    "  f = l+'_task-eyesclosed_eeg.set'\n",
    "  #print(l)\n",
    "  r = mne.io.read_raw_eeglab(folder+f, preload=False, verbose='CRITICAL')\n",
    "  participant_info = {'id': l}\n",
    "  r.info['subject_info'] = participant_info\n",
    "  eeg_data.append(r)\n",
    "\n",
    "print('EEG Files Loaded:',len(eeg_data))"
   ]
  },
  {
   "cell_type": "markdown",
   "metadata": {},
   "source": [
    "Preselect only AD & FTD with a least 600 seconds of time."
   ]
  },
  {
   "cell_type": "code",
   "execution_count": 7,
   "metadata": {},
   "outputs": [
    {
     "name": "stdout",
     "output_type": "stream",
     "text": [
      "Participants Info: 51\n",
      "EEG Data Subjects: 51\n"
     ]
    },
    {
     "data": {
      "text/html": [
       "<div>\n",
       "<style scoped>\n",
       "    .dataframe tbody tr th:only-of-type {\n",
       "        vertical-align: middle;\n",
       "    }\n",
       "\n",
       "    .dataframe tbody tr th {\n",
       "        vertical-align: top;\n",
       "    }\n",
       "\n",
       "    .dataframe thead th {\n",
       "        text-align: right;\n",
       "    }\n",
       "</style>\n",
       "<table border=\"1\" class=\"dataframe\">\n",
       "  <thead>\n",
       "    <tr style=\"text-align: right;\">\n",
       "      <th></th>\n",
       "      <th>participant_id</th>\n",
       "      <th>Gender</th>\n",
       "      <th>Age</th>\n",
       "      <th>Group</th>\n",
       "      <th>MMSE</th>\n",
       "    </tr>\n",
       "  </thead>\n",
       "  <tbody>\n",
       "    <tr>\n",
       "      <th>0</th>\n",
       "      <td>sub-002</td>\n",
       "      <td>1</td>\n",
       "      <td>78</td>\n",
       "      <td>0</td>\n",
       "      <td>22</td>\n",
       "    </tr>\n",
       "    <tr>\n",
       "      <th>1</th>\n",
       "      <td>sub-004</td>\n",
       "      <td>1</td>\n",
       "      <td>67</td>\n",
       "      <td>0</td>\n",
       "      <td>20</td>\n",
       "    </tr>\n",
       "    <tr>\n",
       "      <th>2</th>\n",
       "      <td>sub-005</td>\n",
       "      <td>0</td>\n",
       "      <td>70</td>\n",
       "      <td>0</td>\n",
       "      <td>22</td>\n",
       "    </tr>\n",
       "    <tr>\n",
       "      <th>3</th>\n",
       "      <td>sub-006</td>\n",
       "      <td>1</td>\n",
       "      <td>61</td>\n",
       "      <td>0</td>\n",
       "      <td>14</td>\n",
       "    </tr>\n",
       "    <tr>\n",
       "      <th>4</th>\n",
       "      <td>sub-007</td>\n",
       "      <td>1</td>\n",
       "      <td>79</td>\n",
       "      <td>0</td>\n",
       "      <td>20</td>\n",
       "    </tr>\n",
       "  </tbody>\n",
       "</table>\n",
       "</div>"
      ],
      "text/plain": [
       "  participant_id  Gender  Age  Group  MMSE\n",
       "0        sub-002       1   78      0    22\n",
       "1        sub-004       1   67      0    20\n",
       "2        sub-005       0   70      0    22\n",
       "3        sub-006       1   61      0    14\n",
       "4        sub-007       1   79      0    20"
      ]
     },
     "execution_count": 7,
     "metadata": {},
     "output_type": "execute_result"
    }
   ],
   "source": [
    "eeg_data_filtered = []\n",
    "list_participants_id = []\n",
    "\n",
    "for r in eeg_data:\n",
    "  # Filtering EEG Data from only Alzheimer and Fronto Temporal Dementia subjects\n",
    "  if r.info['subject_info']['id'] in df_partipants_ad_ftd['participant_id'].tolist():\n",
    "    # Filtering EEG Datasets with at least 600 seconds of data recorded.\n",
    "    if r.tmax >= 600:\n",
    "      eeg_data_filtered.append(r)\n",
    "      list_participants_id.append(r.info['subject_info']['id'])\n",
    "\n",
    "df_partipants_ad_ftd = df_partipants_ad_ftd[df_partipants_ad_ftd['participant_id'].isin(list_participants_id)]\n",
    "df_partipants_ad_ftd.reset_index(inplace=True, drop=True)\n",
    "\n",
    "print('Participants Info:',len(df_partipants_ad_ftd))\n",
    "print('EEG Data Subjects:',len(eeg_data_filtered))\n",
    "df_partipants_ad_ftd.head()"
   ]
  },
  {
   "cell_type": "code",
   "execution_count": 8,
   "metadata": {},
   "outputs": [],
   "source": [
    "del df_partipants, eeg_data, items, dir_list"
   ]
  },
  {
   "cell_type": "markdown",
   "metadata": {},
   "source": [
    "# Epochs"
   ]
  },
  {
   "cell_type": "code",
   "execution_count": 9,
   "metadata": {},
   "outputs": [
    {
     "name": "stdout",
     "output_type": "stream",
     "text": [
      "Epochs created: 14\n",
      "Subjects with Epochs: 51\n"
     ]
    }
   ],
   "source": [
    "sfreq = eeg_data_filtered[0].info['sfreq']\n",
    "\n",
    "start_time = 0\n",
    "end_time = 600\n",
    "\n",
    "duration = 60.0\n",
    "overlapping = 20.0\n",
    "\n",
    "epochs = []\n",
    "\n",
    "for raw in eeg_data_filtered:\n",
    "  ep = mne.make_fixed_length_epochs(raw.copy().crop(tmin=start_time, tmax=end_time),\n",
    "                                    duration=duration, overlap=overlapping, preload=True, verbose='CRITICAL')\n",
    "  epochs.append(ep)\n",
    "\n",
    "print('Epochs created:', len(epochs[0].events))\n",
    "print('Subjects with Epochs:', len(epochs))"
   ]
  },
  {
   "cell_type": "markdown",
   "metadata": {},
   "source": [
    "# Feature Extraction"
   ]
  },
  {
   "cell_type": "markdown",
   "metadata": {},
   "source": [
    "## Statistical Approach"
   ]
  },
  {
   "cell_type": "code",
   "execution_count": 10,
   "metadata": {},
   "outputs": [
    {
     "name": "stdout",
     "output_type": "stream",
     "text": [
      "['Fp1', 'Fp2', 'F3', 'F4', 'C3', 'C4', 'P3', 'P4', 'O1', 'O2', 'F7', 'F8', 'T3', 'T4', 'T5', 'T6', 'Fz', 'Cz', 'Pz']\n"
     ]
    }
   ],
   "source": [
    "print(epochs[0].ch_names)"
   ]
  },
  {
   "cell_type": "markdown",
   "metadata": {},
   "source": [
    "## TFR Approach"
   ]
  },
  {
   "cell_type": "markdown",
   "metadata": {},
   "source": [
    "### Channel: FP1"
   ]
  },
  {
   "cell_type": "code",
   "execution_count": 12,
   "metadata": {},
   "outputs": [
    {
     "data": {
      "text/plain": [
       "51"
      ]
     },
     "execution_count": 12,
     "metadata": {},
     "output_type": "execute_result"
    }
   ],
   "source": [
    "channels = ['Fp1']\n",
    "n_cycles = 5\n",
    "frequencies = np.arange(1, 46, 1)# All frequencies between 1 - 45Hz\n",
    "method = 'morlet'\n",
    "\n",
    "subject_features = []\n",
    "for ep in epochs:\n",
    "    features = feeg.TFR_Features(ep.copy().pick(channels), freqs=frequencies, n_cycles=n_cycles, method='morlet')\n",
    "    subject_features.append(features[0])\n",
    "    \n",
    "len(subject_features)"
   ]
  },
  {
   "cell_type": "code",
   "execution_count": 13,
   "metadata": {},
   "outputs": [
    {
     "data": {
      "text/html": [
       "<div>\n",
       "<style scoped>\n",
       "    .dataframe tbody tr th:only-of-type {\n",
       "        vertical-align: middle;\n",
       "    }\n",
       "\n",
       "    .dataframe tbody tr th {\n",
       "        vertical-align: top;\n",
       "    }\n",
       "\n",
       "    .dataframe thead th {\n",
       "        text-align: right;\n",
       "    }\n",
       "</style>\n",
       "<table border=\"1\" class=\"dataframe\">\n",
       "  <thead>\n",
       "    <tr style=\"text-align: right;\">\n",
       "      <th></th>\n",
       "      <th>Fp1_mean</th>\n",
       "      <th>Fp1_standard_deviation</th>\n",
       "      <th>Fp1_variance</th>\n",
       "      <th>Fp1_peak_to_peak</th>\n",
       "      <th>Fp1_skewness</th>\n",
       "      <th>Fp1_kurtosis</th>\n",
       "    </tr>\n",
       "  </thead>\n",
       "  <tbody>\n",
       "    <tr>\n",
       "      <th>0</th>\n",
       "      <td>6.147795e-09</td>\n",
       "      <td>6.147795e-09</td>\n",
       "      <td>6.147795e-09</td>\n",
       "      <td>6.147795e-09</td>\n",
       "      <td>6.147795e-09</td>\n",
       "      <td>6.147795e-09</td>\n",
       "    </tr>\n",
       "    <tr>\n",
       "      <th>1</th>\n",
       "      <td>7.081915e-09</td>\n",
       "      <td>7.081915e-09</td>\n",
       "      <td>7.081915e-09</td>\n",
       "      <td>7.081915e-09</td>\n",
       "      <td>7.081915e-09</td>\n",
       "      <td>7.081915e-09</td>\n",
       "    </tr>\n",
       "    <tr>\n",
       "      <th>2</th>\n",
       "      <td>7.660626e-09</td>\n",
       "      <td>7.660626e-09</td>\n",
       "      <td>7.660626e-09</td>\n",
       "      <td>7.660626e-09</td>\n",
       "      <td>7.660626e-09</td>\n",
       "      <td>7.660626e-09</td>\n",
       "    </tr>\n",
       "    <tr>\n",
       "      <th>3</th>\n",
       "      <td>7.503065e-09</td>\n",
       "      <td>7.503065e-09</td>\n",
       "      <td>7.503065e-09</td>\n",
       "      <td>7.503065e-09</td>\n",
       "      <td>7.503065e-09</td>\n",
       "      <td>7.503065e-09</td>\n",
       "    </tr>\n",
       "    <tr>\n",
       "      <th>4</th>\n",
       "      <td>7.178072e-09</td>\n",
       "      <td>7.178072e-09</td>\n",
       "      <td>7.178072e-09</td>\n",
       "      <td>7.178072e-09</td>\n",
       "      <td>7.178072e-09</td>\n",
       "      <td>7.178072e-09</td>\n",
       "    </tr>\n",
       "  </tbody>\n",
       "</table>\n",
       "</div>"
      ],
      "text/plain": [
       "       Fp1_mean  Fp1_standard_deviation  Fp1_variance  Fp1_peak_to_peak  \\\n",
       "0  6.147795e-09            6.147795e-09  6.147795e-09      6.147795e-09   \n",
       "1  7.081915e-09            7.081915e-09  7.081915e-09      7.081915e-09   \n",
       "2  7.660626e-09            7.660626e-09  7.660626e-09      7.660626e-09   \n",
       "3  7.503065e-09            7.503065e-09  7.503065e-09      7.503065e-09   \n",
       "4  7.178072e-09            7.178072e-09  7.178072e-09      7.178072e-09   \n",
       "\n",
       "   Fp1_skewness  Fp1_kurtosis  \n",
       "0  6.147795e-09  6.147795e-09  \n",
       "1  7.081915e-09  7.081915e-09  \n",
       "2  7.660626e-09  7.660626e-09  \n",
       "3  7.503065e-09  7.503065e-09  \n",
       "4  7.178072e-09  7.178072e-09  "
      ]
     },
     "execution_count": 13,
     "metadata": {},
     "output_type": "execute_result"
    }
   ],
   "source": [
    "columns=subject_features[0].dtype.names\n",
    "df_tfr_features = pd.DataFrame.from_records([item[0] for item in subject_features], columns=columns)\n",
    "df_tfr_features.head()"
   ]
  },
  {
   "cell_type": "markdown",
   "metadata": {},
   "source": [
    "Save dataframe"
   ]
  },
  {
   "cell_type": "code",
   "execution_count": 15,
   "metadata": {},
   "outputs": [],
   "source": [
    "filename = '3_tfr_'+method+'_fp1.csv'\n",
    "df_tfr_features.to_csv(os.getcwd()+'/Training Datasets/'+filename, index=False)"
   ]
  },
  {
   "cell_type": "markdown",
   "metadata": {},
   "source": [
    "### Channels: All"
   ]
  },
  {
   "cell_type": "code",
   "execution_count": 16,
   "metadata": {},
   "outputs": [
    {
     "data": {
      "text/plain": [
       "51"
      ]
     },
     "execution_count": 16,
     "metadata": {},
     "output_type": "execute_result"
    }
   ],
   "source": [
    "n_cycles = 5\n",
    "frequencies = np.arange(1, 46, 1)# All frequencies between 1 - 45Hz\n",
    "method = 'morlet'\n",
    "\n",
    "subject_features = []\n",
    "for ep in epochs:\n",
    "    features = feeg.TFR_Features(ep, freqs=frequencies, n_cycles=n_cycles, method=method)\n",
    "    subject_features.append(features[0])\n",
    "    \n",
    "len(subject_features)"
   ]
  },
  {
   "cell_type": "code",
   "execution_count": 17,
   "metadata": {},
   "outputs": [
    {
     "data": {
      "text/html": [
       "<div>\n",
       "<style scoped>\n",
       "    .dataframe tbody tr th:only-of-type {\n",
       "        vertical-align: middle;\n",
       "    }\n",
       "\n",
       "    .dataframe tbody tr th {\n",
       "        vertical-align: top;\n",
       "    }\n",
       "\n",
       "    .dataframe thead th {\n",
       "        text-align: right;\n",
       "    }\n",
       "</style>\n",
       "<table border=\"1\" class=\"dataframe\">\n",
       "  <thead>\n",
       "    <tr style=\"text-align: right;\">\n",
       "      <th></th>\n",
       "      <th>Fp1_mean</th>\n",
       "      <th>Fp2_mean</th>\n",
       "      <th>F3_mean</th>\n",
       "      <th>F4_mean</th>\n",
       "      <th>C3_mean</th>\n",
       "      <th>C4_mean</th>\n",
       "      <th>P3_mean</th>\n",
       "      <th>P4_mean</th>\n",
       "      <th>O1_mean</th>\n",
       "      <th>O2_mean</th>\n",
       "      <th>...</th>\n",
       "      <th>O2_kurtosis</th>\n",
       "      <th>F7_kurtosis</th>\n",
       "      <th>F8_kurtosis</th>\n",
       "      <th>T3_kurtosis</th>\n",
       "      <th>T4_kurtosis</th>\n",
       "      <th>T5_kurtosis</th>\n",
       "      <th>T6_kurtosis</th>\n",
       "      <th>Fz_kurtosis</th>\n",
       "      <th>Cz_kurtosis</th>\n",
       "      <th>Pz_kurtosis</th>\n",
       "    </tr>\n",
       "  </thead>\n",
       "  <tbody>\n",
       "    <tr>\n",
       "      <th>0</th>\n",
       "      <td>6.147795e-09</td>\n",
       "      <td>6.147795e-09</td>\n",
       "      <td>6.147795e-09</td>\n",
       "      <td>6.147795e-09</td>\n",
       "      <td>6.147795e-09</td>\n",
       "      <td>6.147795e-09</td>\n",
       "      <td>6.147795e-09</td>\n",
       "      <td>6.147795e-09</td>\n",
       "      <td>6.147795e-09</td>\n",
       "      <td>6.147795e-09</td>\n",
       "      <td>...</td>\n",
       "      <td>6.147795e-09</td>\n",
       "      <td>6.147795e-09</td>\n",
       "      <td>6.147795e-09</td>\n",
       "      <td>6.147795e-09</td>\n",
       "      <td>6.147795e-09</td>\n",
       "      <td>6.147795e-09</td>\n",
       "      <td>6.147795e-09</td>\n",
       "      <td>6.147795e-09</td>\n",
       "      <td>6.147795e-09</td>\n",
       "      <td>6.147795e-09</td>\n",
       "    </tr>\n",
       "    <tr>\n",
       "      <th>1</th>\n",
       "      <td>7.081915e-09</td>\n",
       "      <td>7.081915e-09</td>\n",
       "      <td>7.081915e-09</td>\n",
       "      <td>7.081915e-09</td>\n",
       "      <td>7.081915e-09</td>\n",
       "      <td>7.081915e-09</td>\n",
       "      <td>7.081915e-09</td>\n",
       "      <td>7.081915e-09</td>\n",
       "      <td>7.081915e-09</td>\n",
       "      <td>7.081915e-09</td>\n",
       "      <td>...</td>\n",
       "      <td>7.081915e-09</td>\n",
       "      <td>7.081915e-09</td>\n",
       "      <td>7.081915e-09</td>\n",
       "      <td>7.081915e-09</td>\n",
       "      <td>7.081915e-09</td>\n",
       "      <td>7.081915e-09</td>\n",
       "      <td>7.081915e-09</td>\n",
       "      <td>7.081915e-09</td>\n",
       "      <td>7.081915e-09</td>\n",
       "      <td>7.081915e-09</td>\n",
       "    </tr>\n",
       "    <tr>\n",
       "      <th>2</th>\n",
       "      <td>7.660626e-09</td>\n",
       "      <td>7.660626e-09</td>\n",
       "      <td>7.660626e-09</td>\n",
       "      <td>7.660626e-09</td>\n",
       "      <td>7.660626e-09</td>\n",
       "      <td>7.660626e-09</td>\n",
       "      <td>7.660626e-09</td>\n",
       "      <td>7.660626e-09</td>\n",
       "      <td>7.660626e-09</td>\n",
       "      <td>7.660626e-09</td>\n",
       "      <td>...</td>\n",
       "      <td>7.660626e-09</td>\n",
       "      <td>7.660626e-09</td>\n",
       "      <td>7.660626e-09</td>\n",
       "      <td>7.660626e-09</td>\n",
       "      <td>7.660626e-09</td>\n",
       "      <td>7.660626e-09</td>\n",
       "      <td>7.660626e-09</td>\n",
       "      <td>7.660626e-09</td>\n",
       "      <td>7.660626e-09</td>\n",
       "      <td>7.660626e-09</td>\n",
       "    </tr>\n",
       "    <tr>\n",
       "      <th>3</th>\n",
       "      <td>7.503065e-09</td>\n",
       "      <td>7.503065e-09</td>\n",
       "      <td>7.503065e-09</td>\n",
       "      <td>7.503065e-09</td>\n",
       "      <td>7.503065e-09</td>\n",
       "      <td>7.503065e-09</td>\n",
       "      <td>7.503065e-09</td>\n",
       "      <td>7.503065e-09</td>\n",
       "      <td>7.503065e-09</td>\n",
       "      <td>7.503065e-09</td>\n",
       "      <td>...</td>\n",
       "      <td>7.503065e-09</td>\n",
       "      <td>7.503065e-09</td>\n",
       "      <td>7.503065e-09</td>\n",
       "      <td>7.503065e-09</td>\n",
       "      <td>7.503065e-09</td>\n",
       "      <td>7.503065e-09</td>\n",
       "      <td>7.503065e-09</td>\n",
       "      <td>7.503065e-09</td>\n",
       "      <td>7.503065e-09</td>\n",
       "      <td>7.503065e-09</td>\n",
       "    </tr>\n",
       "    <tr>\n",
       "      <th>4</th>\n",
       "      <td>7.178072e-09</td>\n",
       "      <td>7.178072e-09</td>\n",
       "      <td>7.178072e-09</td>\n",
       "      <td>7.178072e-09</td>\n",
       "      <td>7.178072e-09</td>\n",
       "      <td>7.178072e-09</td>\n",
       "      <td>7.178072e-09</td>\n",
       "      <td>7.178072e-09</td>\n",
       "      <td>7.178072e-09</td>\n",
       "      <td>7.178072e-09</td>\n",
       "      <td>...</td>\n",
       "      <td>7.178072e-09</td>\n",
       "      <td>7.178072e-09</td>\n",
       "      <td>7.178072e-09</td>\n",
       "      <td>7.178072e-09</td>\n",
       "      <td>7.178072e-09</td>\n",
       "      <td>7.178072e-09</td>\n",
       "      <td>7.178072e-09</td>\n",
       "      <td>7.178072e-09</td>\n",
       "      <td>7.178072e-09</td>\n",
       "      <td>7.178072e-09</td>\n",
       "    </tr>\n",
       "  </tbody>\n",
       "</table>\n",
       "<p>5 rows × 114 columns</p>\n",
       "</div>"
      ],
      "text/plain": [
       "       Fp1_mean      Fp2_mean       F3_mean       F4_mean       C3_mean  \\\n",
       "0  6.147795e-09  6.147795e-09  6.147795e-09  6.147795e-09  6.147795e-09   \n",
       "1  7.081915e-09  7.081915e-09  7.081915e-09  7.081915e-09  7.081915e-09   \n",
       "2  7.660626e-09  7.660626e-09  7.660626e-09  7.660626e-09  7.660626e-09   \n",
       "3  7.503065e-09  7.503065e-09  7.503065e-09  7.503065e-09  7.503065e-09   \n",
       "4  7.178072e-09  7.178072e-09  7.178072e-09  7.178072e-09  7.178072e-09   \n",
       "\n",
       "        C4_mean       P3_mean       P4_mean       O1_mean       O2_mean  ...  \\\n",
       "0  6.147795e-09  6.147795e-09  6.147795e-09  6.147795e-09  6.147795e-09  ...   \n",
       "1  7.081915e-09  7.081915e-09  7.081915e-09  7.081915e-09  7.081915e-09  ...   \n",
       "2  7.660626e-09  7.660626e-09  7.660626e-09  7.660626e-09  7.660626e-09  ...   \n",
       "3  7.503065e-09  7.503065e-09  7.503065e-09  7.503065e-09  7.503065e-09  ...   \n",
       "4  7.178072e-09  7.178072e-09  7.178072e-09  7.178072e-09  7.178072e-09  ...   \n",
       "\n",
       "    O2_kurtosis   F7_kurtosis   F8_kurtosis   T3_kurtosis   T4_kurtosis  \\\n",
       "0  6.147795e-09  6.147795e-09  6.147795e-09  6.147795e-09  6.147795e-09   \n",
       "1  7.081915e-09  7.081915e-09  7.081915e-09  7.081915e-09  7.081915e-09   \n",
       "2  7.660626e-09  7.660626e-09  7.660626e-09  7.660626e-09  7.660626e-09   \n",
       "3  7.503065e-09  7.503065e-09  7.503065e-09  7.503065e-09  7.503065e-09   \n",
       "4  7.178072e-09  7.178072e-09  7.178072e-09  7.178072e-09  7.178072e-09   \n",
       "\n",
       "    T5_kurtosis   T6_kurtosis   Fz_kurtosis   Cz_kurtosis   Pz_kurtosis  \n",
       "0  6.147795e-09  6.147795e-09  6.147795e-09  6.147795e-09  6.147795e-09  \n",
       "1  7.081915e-09  7.081915e-09  7.081915e-09  7.081915e-09  7.081915e-09  \n",
       "2  7.660626e-09  7.660626e-09  7.660626e-09  7.660626e-09  7.660626e-09  \n",
       "3  7.503065e-09  7.503065e-09  7.503065e-09  7.503065e-09  7.503065e-09  \n",
       "4  7.178072e-09  7.178072e-09  7.178072e-09  7.178072e-09  7.178072e-09  \n",
       "\n",
       "[5 rows x 114 columns]"
      ]
     },
     "execution_count": 17,
     "metadata": {},
     "output_type": "execute_result"
    }
   ],
   "source": [
    "columns=subject_features[0].dtype.names\n",
    "df_tfr_features_all = pd.DataFrame.from_records([item[0] for item in subject_features], columns=columns)\n",
    "df_tfr_features_all.head()"
   ]
  },
  {
   "cell_type": "markdown",
   "metadata": {},
   "source": [
    "Save dataframe"
   ]
  },
  {
   "cell_type": "code",
   "execution_count": 18,
   "metadata": {},
   "outputs": [],
   "source": [
    "filename = '3_tfr_'+method+'_all.csv'\n",
    "df_tfr_features_all.to_csv(os.getcwd()+'/Training Datasets/'+filename, index=False)"
   ]
  },
  {
   "cell_type": "markdown",
   "metadata": {},
   "source": [
    "## PSD Approach"
   ]
  },
  {
   "cell_type": "markdown",
   "metadata": {},
   "source": [
    "### Channel: FP1"
   ]
  },
  {
   "cell_type": "code",
   "execution_count": 10,
   "metadata": {},
   "outputs": [
    {
     "data": {
      "text/plain": [
       "51"
      ]
     },
     "execution_count": 10,
     "metadata": {},
     "output_type": "execute_result"
    }
   ],
   "source": [
    "channels = ['Fp1']\n",
    "method = 'multitaper'\n",
    "\n",
    "subject_features = []\n",
    "for ep in epochs:\n",
    "    features = feeg.PSD_Features(ep.copy().pick(channels), 1, 45, method)\n",
    "    subject_features.append(features[0])\n",
    "    \n",
    "len(subject_features)"
   ]
  },
  {
   "cell_type": "code",
   "execution_count": 11,
   "metadata": {},
   "outputs": [
    {
     "data": {
      "text/html": [
       "<div>\n",
       "<style scoped>\n",
       "    .dataframe tbody tr th:only-of-type {\n",
       "        vertical-align: middle;\n",
       "    }\n",
       "\n",
       "    .dataframe tbody tr th {\n",
       "        vertical-align: top;\n",
       "    }\n",
       "\n",
       "    .dataframe thead th {\n",
       "        text-align: right;\n",
       "    }\n",
       "</style>\n",
       "<table border=\"1\" class=\"dataframe\">\n",
       "  <thead>\n",
       "    <tr style=\"text-align: right;\">\n",
       "      <th></th>\n",
       "      <th>Fp1_mean</th>\n",
       "      <th>Fp1_standard_deviation</th>\n",
       "      <th>Fp1_variance</th>\n",
       "      <th>Fp1_peak_to_peak</th>\n",
       "      <th>Fp1_skewness</th>\n",
       "      <th>Fp1_kurtosis</th>\n",
       "    </tr>\n",
       "  </thead>\n",
       "  <tbody>\n",
       "    <tr>\n",
       "      <th>0</th>\n",
       "      <td>3.639793e-09</td>\n",
       "      <td>3.639793e-09</td>\n",
       "      <td>3.639793e-09</td>\n",
       "      <td>3.639793e-09</td>\n",
       "      <td>3.639793e-09</td>\n",
       "      <td>3.639793e-09</td>\n",
       "    </tr>\n",
       "    <tr>\n",
       "      <th>1</th>\n",
       "      <td>4.138072e-09</td>\n",
       "      <td>4.138072e-09</td>\n",
       "      <td>4.138072e-09</td>\n",
       "      <td>4.138072e-09</td>\n",
       "      <td>4.138072e-09</td>\n",
       "      <td>4.138072e-09</td>\n",
       "    </tr>\n",
       "    <tr>\n",
       "      <th>2</th>\n",
       "      <td>4.384113e-09</td>\n",
       "      <td>4.384113e-09</td>\n",
       "      <td>4.384113e-09</td>\n",
       "      <td>4.384113e-09</td>\n",
       "      <td>4.384113e-09</td>\n",
       "      <td>4.384113e-09</td>\n",
       "    </tr>\n",
       "    <tr>\n",
       "      <th>3</th>\n",
       "      <td>4.591252e-09</td>\n",
       "      <td>4.591252e-09</td>\n",
       "      <td>4.591252e-09</td>\n",
       "      <td>4.591252e-09</td>\n",
       "      <td>4.591252e-09</td>\n",
       "      <td>4.591252e-09</td>\n",
       "    </tr>\n",
       "    <tr>\n",
       "      <th>4</th>\n",
       "      <td>4.193681e-09</td>\n",
       "      <td>4.193681e-09</td>\n",
       "      <td>4.193681e-09</td>\n",
       "      <td>4.193681e-09</td>\n",
       "      <td>4.193681e-09</td>\n",
       "      <td>4.193681e-09</td>\n",
       "    </tr>\n",
       "  </tbody>\n",
       "</table>\n",
       "</div>"
      ],
      "text/plain": [
       "       Fp1_mean  Fp1_standard_deviation  Fp1_variance  Fp1_peak_to_peak  \\\n",
       "0  3.639793e-09            3.639793e-09  3.639793e-09      3.639793e-09   \n",
       "1  4.138072e-09            4.138072e-09  4.138072e-09      4.138072e-09   \n",
       "2  4.384113e-09            4.384113e-09  4.384113e-09      4.384113e-09   \n",
       "3  4.591252e-09            4.591252e-09  4.591252e-09      4.591252e-09   \n",
       "4  4.193681e-09            4.193681e-09  4.193681e-09      4.193681e-09   \n",
       "\n",
       "   Fp1_skewness  Fp1_kurtosis  \n",
       "0  3.639793e-09  3.639793e-09  \n",
       "1  4.138072e-09  4.138072e-09  \n",
       "2  4.384113e-09  4.384113e-09  \n",
       "3  4.591252e-09  4.591252e-09  \n",
       "4  4.193681e-09  4.193681e-09  "
      ]
     },
     "execution_count": 11,
     "metadata": {},
     "output_type": "execute_result"
    }
   ],
   "source": [
    "columns=subject_features[0].dtype.names\n",
    "df_psd_features_fp1 = pd.DataFrame.from_records(subject_features, columns=columns)\n",
    "df_psd_features_fp1.head()"
   ]
  },
  {
   "cell_type": "markdown",
   "metadata": {},
   "source": [
    "Save to dataframe"
   ]
  },
  {
   "cell_type": "code",
   "execution_count": 13,
   "metadata": {},
   "outputs": [],
   "source": [
    "filename = '3_psd_'+method+'_fp1.csv'\n",
    "df_psd_features_fp1.to_csv(os.getcwd()+'/Training Datasets/'+filename, index=False)"
   ]
  },
  {
   "cell_type": "markdown",
   "metadata": {},
   "source": [
    "### Channels: All"
   ]
  },
  {
   "cell_type": "code",
   "execution_count": 14,
   "metadata": {},
   "outputs": [
    {
     "data": {
      "text/plain": [
       "51"
      ]
     },
     "execution_count": 14,
     "metadata": {},
     "output_type": "execute_result"
    }
   ],
   "source": [
    "method = 'multitaper'\n",
    "\n",
    "subject_features = []\n",
    "for ep in epochs:\n",
    "    features = feeg.PSD_Features(ep, 1, 45, method)\n",
    "    subject_features.append(features[0])\n",
    "    \n",
    "len(subject_features)"
   ]
  },
  {
   "cell_type": "code",
   "execution_count": 17,
   "metadata": {},
   "outputs": [
    {
     "data": {
      "text/html": [
       "<div>\n",
       "<style scoped>\n",
       "    .dataframe tbody tr th:only-of-type {\n",
       "        vertical-align: middle;\n",
       "    }\n",
       "\n",
       "    .dataframe tbody tr th {\n",
       "        vertical-align: top;\n",
       "    }\n",
       "\n",
       "    .dataframe thead th {\n",
       "        text-align: right;\n",
       "    }\n",
       "</style>\n",
       "<table border=\"1\" class=\"dataframe\">\n",
       "  <thead>\n",
       "    <tr style=\"text-align: right;\">\n",
       "      <th></th>\n",
       "      <th>Fp1_mean</th>\n",
       "      <th>Fp2_mean</th>\n",
       "      <th>F3_mean</th>\n",
       "      <th>F4_mean</th>\n",
       "      <th>C3_mean</th>\n",
       "      <th>C4_mean</th>\n",
       "      <th>P3_mean</th>\n",
       "      <th>P4_mean</th>\n",
       "      <th>O1_mean</th>\n",
       "      <th>O2_mean</th>\n",
       "      <th>...</th>\n",
       "      <th>O2_kurtosis</th>\n",
       "      <th>F7_kurtosis</th>\n",
       "      <th>F8_kurtosis</th>\n",
       "      <th>T3_kurtosis</th>\n",
       "      <th>T4_kurtosis</th>\n",
       "      <th>T5_kurtosis</th>\n",
       "      <th>T6_kurtosis</th>\n",
       "      <th>Fz_kurtosis</th>\n",
       "      <th>Cz_kurtosis</th>\n",
       "      <th>Pz_kurtosis</th>\n",
       "    </tr>\n",
       "  </thead>\n",
       "  <tbody>\n",
       "    <tr>\n",
       "      <th>0</th>\n",
       "      <td>3.639793e-09</td>\n",
       "      <td>3.639793e-09</td>\n",
       "      <td>3.639793e-09</td>\n",
       "      <td>3.639793e-09</td>\n",
       "      <td>3.639793e-09</td>\n",
       "      <td>3.639793e-09</td>\n",
       "      <td>3.639793e-09</td>\n",
       "      <td>3.639793e-09</td>\n",
       "      <td>3.639793e-09</td>\n",
       "      <td>3.639793e-09</td>\n",
       "      <td>...</td>\n",
       "      <td>3.639793e-09</td>\n",
       "      <td>3.639793e-09</td>\n",
       "      <td>3.639793e-09</td>\n",
       "      <td>3.639793e-09</td>\n",
       "      <td>3.639793e-09</td>\n",
       "      <td>3.639793e-09</td>\n",
       "      <td>3.639793e-09</td>\n",
       "      <td>3.639793e-09</td>\n",
       "      <td>3.639793e-09</td>\n",
       "      <td>3.639793e-09</td>\n",
       "    </tr>\n",
       "    <tr>\n",
       "      <th>1</th>\n",
       "      <td>4.138072e-09</td>\n",
       "      <td>4.138072e-09</td>\n",
       "      <td>4.138072e-09</td>\n",
       "      <td>4.138072e-09</td>\n",
       "      <td>4.138072e-09</td>\n",
       "      <td>4.138072e-09</td>\n",
       "      <td>4.138072e-09</td>\n",
       "      <td>4.138072e-09</td>\n",
       "      <td>4.138072e-09</td>\n",
       "      <td>4.138072e-09</td>\n",
       "      <td>...</td>\n",
       "      <td>4.138072e-09</td>\n",
       "      <td>4.138072e-09</td>\n",
       "      <td>4.138072e-09</td>\n",
       "      <td>4.138072e-09</td>\n",
       "      <td>4.138072e-09</td>\n",
       "      <td>4.138072e-09</td>\n",
       "      <td>4.138072e-09</td>\n",
       "      <td>4.138072e-09</td>\n",
       "      <td>4.138072e-09</td>\n",
       "      <td>4.138072e-09</td>\n",
       "    </tr>\n",
       "    <tr>\n",
       "      <th>2</th>\n",
       "      <td>4.384113e-09</td>\n",
       "      <td>4.384113e-09</td>\n",
       "      <td>4.384113e-09</td>\n",
       "      <td>4.384113e-09</td>\n",
       "      <td>4.384113e-09</td>\n",
       "      <td>4.384113e-09</td>\n",
       "      <td>4.384113e-09</td>\n",
       "      <td>4.384113e-09</td>\n",
       "      <td>4.384113e-09</td>\n",
       "      <td>4.384113e-09</td>\n",
       "      <td>...</td>\n",
       "      <td>4.384113e-09</td>\n",
       "      <td>4.384113e-09</td>\n",
       "      <td>4.384113e-09</td>\n",
       "      <td>4.384113e-09</td>\n",
       "      <td>4.384113e-09</td>\n",
       "      <td>4.384113e-09</td>\n",
       "      <td>4.384113e-09</td>\n",
       "      <td>4.384113e-09</td>\n",
       "      <td>4.384113e-09</td>\n",
       "      <td>4.384113e-09</td>\n",
       "    </tr>\n",
       "    <tr>\n",
       "      <th>3</th>\n",
       "      <td>4.591252e-09</td>\n",
       "      <td>4.591252e-09</td>\n",
       "      <td>4.591252e-09</td>\n",
       "      <td>4.591252e-09</td>\n",
       "      <td>4.591252e-09</td>\n",
       "      <td>4.591252e-09</td>\n",
       "      <td>4.591252e-09</td>\n",
       "      <td>4.591252e-09</td>\n",
       "      <td>4.591252e-09</td>\n",
       "      <td>4.591252e-09</td>\n",
       "      <td>...</td>\n",
       "      <td>4.591252e-09</td>\n",
       "      <td>4.591252e-09</td>\n",
       "      <td>4.591252e-09</td>\n",
       "      <td>4.591252e-09</td>\n",
       "      <td>4.591252e-09</td>\n",
       "      <td>4.591252e-09</td>\n",
       "      <td>4.591252e-09</td>\n",
       "      <td>4.591252e-09</td>\n",
       "      <td>4.591252e-09</td>\n",
       "      <td>4.591252e-09</td>\n",
       "    </tr>\n",
       "    <tr>\n",
       "      <th>4</th>\n",
       "      <td>4.193681e-09</td>\n",
       "      <td>4.193681e-09</td>\n",
       "      <td>4.193681e-09</td>\n",
       "      <td>4.193681e-09</td>\n",
       "      <td>4.193681e-09</td>\n",
       "      <td>4.193681e-09</td>\n",
       "      <td>4.193681e-09</td>\n",
       "      <td>4.193681e-09</td>\n",
       "      <td>4.193681e-09</td>\n",
       "      <td>4.193681e-09</td>\n",
       "      <td>...</td>\n",
       "      <td>4.193681e-09</td>\n",
       "      <td>4.193681e-09</td>\n",
       "      <td>4.193681e-09</td>\n",
       "      <td>4.193681e-09</td>\n",
       "      <td>4.193681e-09</td>\n",
       "      <td>4.193681e-09</td>\n",
       "      <td>4.193681e-09</td>\n",
       "      <td>4.193681e-09</td>\n",
       "      <td>4.193681e-09</td>\n",
       "      <td>4.193681e-09</td>\n",
       "    </tr>\n",
       "  </tbody>\n",
       "</table>\n",
       "<p>5 rows × 114 columns</p>\n",
       "</div>"
      ],
      "text/plain": [
       "       Fp1_mean      Fp2_mean       F3_mean       F4_mean       C3_mean  \\\n",
       "0  3.639793e-09  3.639793e-09  3.639793e-09  3.639793e-09  3.639793e-09   \n",
       "1  4.138072e-09  4.138072e-09  4.138072e-09  4.138072e-09  4.138072e-09   \n",
       "2  4.384113e-09  4.384113e-09  4.384113e-09  4.384113e-09  4.384113e-09   \n",
       "3  4.591252e-09  4.591252e-09  4.591252e-09  4.591252e-09  4.591252e-09   \n",
       "4  4.193681e-09  4.193681e-09  4.193681e-09  4.193681e-09  4.193681e-09   \n",
       "\n",
       "        C4_mean       P3_mean       P4_mean       O1_mean       O2_mean  ...  \\\n",
       "0  3.639793e-09  3.639793e-09  3.639793e-09  3.639793e-09  3.639793e-09  ...   \n",
       "1  4.138072e-09  4.138072e-09  4.138072e-09  4.138072e-09  4.138072e-09  ...   \n",
       "2  4.384113e-09  4.384113e-09  4.384113e-09  4.384113e-09  4.384113e-09  ...   \n",
       "3  4.591252e-09  4.591252e-09  4.591252e-09  4.591252e-09  4.591252e-09  ...   \n",
       "4  4.193681e-09  4.193681e-09  4.193681e-09  4.193681e-09  4.193681e-09  ...   \n",
       "\n",
       "    O2_kurtosis   F7_kurtosis   F8_kurtosis   T3_kurtosis   T4_kurtosis  \\\n",
       "0  3.639793e-09  3.639793e-09  3.639793e-09  3.639793e-09  3.639793e-09   \n",
       "1  4.138072e-09  4.138072e-09  4.138072e-09  4.138072e-09  4.138072e-09   \n",
       "2  4.384113e-09  4.384113e-09  4.384113e-09  4.384113e-09  4.384113e-09   \n",
       "3  4.591252e-09  4.591252e-09  4.591252e-09  4.591252e-09  4.591252e-09   \n",
       "4  4.193681e-09  4.193681e-09  4.193681e-09  4.193681e-09  4.193681e-09   \n",
       "\n",
       "    T5_kurtosis   T6_kurtosis   Fz_kurtosis   Cz_kurtosis   Pz_kurtosis  \n",
       "0  3.639793e-09  3.639793e-09  3.639793e-09  3.639793e-09  3.639793e-09  \n",
       "1  4.138072e-09  4.138072e-09  4.138072e-09  4.138072e-09  4.138072e-09  \n",
       "2  4.384113e-09  4.384113e-09  4.384113e-09  4.384113e-09  4.384113e-09  \n",
       "3  4.591252e-09  4.591252e-09  4.591252e-09  4.591252e-09  4.591252e-09  \n",
       "4  4.193681e-09  4.193681e-09  4.193681e-09  4.193681e-09  4.193681e-09  \n",
       "\n",
       "[5 rows x 114 columns]"
      ]
     },
     "execution_count": 17,
     "metadata": {},
     "output_type": "execute_result"
    }
   ],
   "source": [
    "columns=subject_features[0].dtype.names\n",
    "df_psd_features_all = pd.DataFrame.from_records(subject_features, columns=columns)\n",
    "df_psd_features_all.head()"
   ]
  },
  {
   "cell_type": "code",
   "execution_count": 18,
   "metadata": {},
   "outputs": [],
   "source": [
    "filename = '3_psd_'+method+'_all.csv'\n",
    "df_psd_features_all.to_csv(os.getcwd()+'/Training Datasets/'+filename, index=False)"
   ]
  }
 ],
 "metadata": {
  "kernelspec": {
   "display_name": "mne",
   "language": "python",
   "name": "python3"
  },
  "language_info": {
   "codemirror_mode": {
    "name": "ipython",
    "version": 3
   },
   "file_extension": ".py",
   "mimetype": "text/x-python",
   "name": "python",
   "nbconvert_exporter": "python",
   "pygments_lexer": "ipython3",
   "version": "3.11.4"
  },
  "orig_nbformat": 4
 },
 "nbformat": 4,
 "nbformat_minor": 2
}
