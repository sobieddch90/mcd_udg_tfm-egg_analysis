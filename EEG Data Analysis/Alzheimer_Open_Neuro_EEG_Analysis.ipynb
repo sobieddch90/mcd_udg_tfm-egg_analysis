{
  "nbformat": 4,
  "nbformat_minor": 0,
  "metadata": {
    "colab": {
      "provenance": [],
      "authorship_tag": "ABX9TyOL9cppN99RDqcWMR3T0skv",
      "include_colab_link": true
    },
    "kernelspec": {
      "name": "python3",
      "display_name": "Python 3"
    },
    "language_info": {
      "name": "python"
    },
    "widgets": {
      "application/vnd.jupyter.widget-state+json": {
        "35939336abb142b79442d58a3bf28165": {
          "model_module": "@jupyter-widgets/controls",
          "model_name": "HBoxModel",
          "model_module_version": "1.5.0",
          "state": {
            "_dom_classes": [],
            "_model_module": "@jupyter-widgets/controls",
            "_model_module_version": "1.5.0",
            "_model_name": "HBoxModel",
            "_view_count": null,
            "_view_module": "@jupyter-widgets/controls",
            "_view_module_version": "1.5.0",
            "_view_name": "HBoxView",
            "box_style": "",
            "children": [
              "IPY_MODEL_c2ba5ef40f264abf9748dc3e19716420",
              "IPY_MODEL_6b5d49225793453a8a064e97a28c6e9f",
              "IPY_MODEL_3f95e446d7df44228806deec1bfbee3b"
            ],
            "layout": "IPY_MODEL_79e88344f44d42ac81496e3d61461bfc"
          }
        },
        "c2ba5ef40f264abf9748dc3e19716420": {
          "model_module": "@jupyter-widgets/controls",
          "model_name": "HTMLModel",
          "model_module_version": "1.5.0",
          "state": {
            "_dom_classes": [],
            "_model_module": "@jupyter-widgets/controls",
            "_model_module_version": "1.5.0",
            "_model_name": "HTMLModel",
            "_view_count": null,
            "_view_module": "@jupyter-widgets/controls",
            "_view_module_version": "1.5.0",
            "_view_name": "HTMLView",
            "description": "",
            "description_tooltip": null,
            "layout": "IPY_MODEL_ec88cd87fce749b687df0abb1f2dae5d",
            "placeholder": "​",
            "style": "IPY_MODEL_ec6fe14be3f845f7947e24859c34628a",
            "value": "📁 Traversing directories for ds004504 : "
          }
        },
        "6b5d49225793453a8a064e97a28c6e9f": {
          "model_module": "@jupyter-widgets/controls",
          "model_name": "FloatProgressModel",
          "model_module_version": "1.5.0",
          "state": {
            "_dom_classes": [],
            "_model_module": "@jupyter-widgets/controls",
            "_model_module_version": "1.5.0",
            "_model_name": "FloatProgressModel",
            "_view_count": null,
            "_view_module": "@jupyter-widgets/controls",
            "_view_module_version": "1.5.0",
            "_view_name": "ProgressView",
            "bar_style": "success",
            "description": "",
            "description_tooltip": null,
            "layout": "IPY_MODEL_14ae41b662e44f16a5ff726f3f43ae2b",
            "max": 1,
            "min": 0,
            "orientation": "horizontal",
            "style": "IPY_MODEL_4bec968d7af84110af2a69f1359b82d9",
            "value": 1
          }
        },
        "3f95e446d7df44228806deec1bfbee3b": {
          "model_module": "@jupyter-widgets/controls",
          "model_name": "HTMLModel",
          "model_module_version": "1.5.0",
          "state": {
            "_dom_classes": [],
            "_model_module": "@jupyter-widgets/controls",
            "_model_module_version": "1.5.0",
            "_model_name": "HTMLModel",
            "_view_count": null,
            "_view_module": "@jupyter-widgets/controls",
            "_view_module_version": "1.5.0",
            "_view_name": "HTMLView",
            "description": "",
            "description_tooltip": null,
            "layout": "IPY_MODEL_a914900da5224675ab894932ad5e5df1",
            "placeholder": "​",
            "style": "IPY_MODEL_0a1fec090899407b9d176fb3147a3788",
            "value": " 357/? [00:15&lt;00:00, 36.22 entities/s]"
          }
        },
        "79e88344f44d42ac81496e3d61461bfc": {
          "model_module": "@jupyter-widgets/base",
          "model_name": "LayoutModel",
          "model_module_version": "1.2.0",
          "state": {
            "_model_module": "@jupyter-widgets/base",
            "_model_module_version": "1.2.0",
            "_model_name": "LayoutModel",
            "_view_count": null,
            "_view_module": "@jupyter-widgets/base",
            "_view_module_version": "1.2.0",
            "_view_name": "LayoutView",
            "align_content": null,
            "align_items": null,
            "align_self": null,
            "border": null,
            "bottom": null,
            "display": null,
            "flex": null,
            "flex_flow": null,
            "grid_area": null,
            "grid_auto_columns": null,
            "grid_auto_flow": null,
            "grid_auto_rows": null,
            "grid_column": null,
            "grid_gap": null,
            "grid_row": null,
            "grid_template_areas": null,
            "grid_template_columns": null,
            "grid_template_rows": null,
            "height": null,
            "justify_content": null,
            "justify_items": null,
            "left": null,
            "margin": null,
            "max_height": null,
            "max_width": null,
            "min_height": null,
            "min_width": null,
            "object_fit": null,
            "object_position": null,
            "order": null,
            "overflow": null,
            "overflow_x": null,
            "overflow_y": null,
            "padding": null,
            "right": null,
            "top": null,
            "visibility": null,
            "width": null
          }
        },
        "ec88cd87fce749b687df0abb1f2dae5d": {
          "model_module": "@jupyter-widgets/base",
          "model_name": "LayoutModel",
          "model_module_version": "1.2.0",
          "state": {
            "_model_module": "@jupyter-widgets/base",
            "_model_module_version": "1.2.0",
            "_model_name": "LayoutModel",
            "_view_count": null,
            "_view_module": "@jupyter-widgets/base",
            "_view_module_version": "1.2.0",
            "_view_name": "LayoutView",
            "align_content": null,
            "align_items": null,
            "align_self": null,
            "border": null,
            "bottom": null,
            "display": null,
            "flex": null,
            "flex_flow": null,
            "grid_area": null,
            "grid_auto_columns": null,
            "grid_auto_flow": null,
            "grid_auto_rows": null,
            "grid_column": null,
            "grid_gap": null,
            "grid_row": null,
            "grid_template_areas": null,
            "grid_template_columns": null,
            "grid_template_rows": null,
            "height": null,
            "justify_content": null,
            "justify_items": null,
            "left": null,
            "margin": null,
            "max_height": null,
            "max_width": null,
            "min_height": null,
            "min_width": null,
            "object_fit": null,
            "object_position": null,
            "order": null,
            "overflow": null,
            "overflow_x": null,
            "overflow_y": null,
            "padding": null,
            "right": null,
            "top": null,
            "visibility": null,
            "width": null
          }
        },
        "ec6fe14be3f845f7947e24859c34628a": {
          "model_module": "@jupyter-widgets/controls",
          "model_name": "DescriptionStyleModel",
          "model_module_version": "1.5.0",
          "state": {
            "_model_module": "@jupyter-widgets/controls",
            "_model_module_version": "1.5.0",
            "_model_name": "DescriptionStyleModel",
            "_view_count": null,
            "_view_module": "@jupyter-widgets/base",
            "_view_module_version": "1.2.0",
            "_view_name": "StyleView",
            "description_width": ""
          }
        },
        "14ae41b662e44f16a5ff726f3f43ae2b": {
          "model_module": "@jupyter-widgets/base",
          "model_name": "LayoutModel",
          "model_module_version": "1.2.0",
          "state": {
            "_model_module": "@jupyter-widgets/base",
            "_model_module_version": "1.2.0",
            "_model_name": "LayoutModel",
            "_view_count": null,
            "_view_module": "@jupyter-widgets/base",
            "_view_module_version": "1.2.0",
            "_view_name": "LayoutView",
            "align_content": null,
            "align_items": null,
            "align_self": null,
            "border": null,
            "bottom": null,
            "display": null,
            "flex": null,
            "flex_flow": null,
            "grid_area": null,
            "grid_auto_columns": null,
            "grid_auto_flow": null,
            "grid_auto_rows": null,
            "grid_column": null,
            "grid_gap": null,
            "grid_row": null,
            "grid_template_areas": null,
            "grid_template_columns": null,
            "grid_template_rows": null,
            "height": null,
            "justify_content": null,
            "justify_items": null,
            "left": null,
            "margin": null,
            "max_height": null,
            "max_width": null,
            "min_height": null,
            "min_width": null,
            "object_fit": null,
            "object_position": null,
            "order": null,
            "overflow": null,
            "overflow_x": null,
            "overflow_y": null,
            "padding": null,
            "right": null,
            "top": null,
            "visibility": null,
            "width": "20px"
          }
        },
        "4bec968d7af84110af2a69f1359b82d9": {
          "model_module": "@jupyter-widgets/controls",
          "model_name": "ProgressStyleModel",
          "model_module_version": "1.5.0",
          "state": {
            "_model_module": "@jupyter-widgets/controls",
            "_model_module_version": "1.5.0",
            "_model_name": "ProgressStyleModel",
            "_view_count": null,
            "_view_module": "@jupyter-widgets/base",
            "_view_module_version": "1.2.0",
            "_view_name": "StyleView",
            "bar_color": null,
            "description_width": ""
          }
        },
        "a914900da5224675ab894932ad5e5df1": {
          "model_module": "@jupyter-widgets/base",
          "model_name": "LayoutModel",
          "model_module_version": "1.2.0",
          "state": {
            "_model_module": "@jupyter-widgets/base",
            "_model_module_version": "1.2.0",
            "_model_name": "LayoutModel",
            "_view_count": null,
            "_view_module": "@jupyter-widgets/base",
            "_view_module_version": "1.2.0",
            "_view_name": "LayoutView",
            "align_content": null,
            "align_items": null,
            "align_self": null,
            "border": null,
            "bottom": null,
            "display": null,
            "flex": null,
            "flex_flow": null,
            "grid_area": null,
            "grid_auto_columns": null,
            "grid_auto_flow": null,
            "grid_auto_rows": null,
            "grid_column": null,
            "grid_gap": null,
            "grid_row": null,
            "grid_template_areas": null,
            "grid_template_columns": null,
            "grid_template_rows": null,
            "height": null,
            "justify_content": null,
            "justify_items": null,
            "left": null,
            "margin": null,
            "max_height": null,
            "max_width": null,
            "min_height": null,
            "min_width": null,
            "object_fit": null,
            "object_position": null,
            "order": null,
            "overflow": null,
            "overflow_x": null,
            "overflow_y": null,
            "padding": null,
            "right": null,
            "top": null,
            "visibility": null,
            "width": null
          }
        },
        "0a1fec090899407b9d176fb3147a3788": {
          "model_module": "@jupyter-widgets/controls",
          "model_name": "DescriptionStyleModel",
          "model_module_version": "1.5.0",
          "state": {
            "_model_module": "@jupyter-widgets/controls",
            "_model_module_version": "1.5.0",
            "_model_name": "DescriptionStyleModel",
            "_view_count": null,
            "_view_module": "@jupyter-widgets/base",
            "_view_module_version": "1.2.0",
            "_view_name": "StyleView",
            "description_width": ""
          }
        }
      }
    }
  },
  "cells": [
    {
      "cell_type": "markdown",
      "metadata": {
        "id": "view-in-github",
        "colab_type": "text"
      },
      "source": [
        "<a href=\"https://colab.research.google.com/github/sobieddch90/mcd_udg_tfm-egg_analysis/blob/main/Alzheimer_Open_Neuro_EEG_Analysis.ipynb\" target=\"_parent\"><img src=\"https://colab.research.google.com/assets/colab-badge.svg\" alt=\"Open In Colab\"/></a>"
      ]
    },
    {
      "cell_type": "code",
      "source": [
        "!pip install openneuro-py"
      ],
      "metadata": {
        "colab": {
          "base_uri": "https://localhost:8080/"
        },
        "id": "EnMfWhBENSy7",
        "outputId": "d515e0c5-ffc8-447b-c9ae-c11a3831301c"
      },
      "execution_count": 9,
      "outputs": [
        {
          "output_type": "stream",
          "name": "stdout",
          "text": [
            "Looking in indexes: https://pypi.org/simple, https://us-python.pkg.dev/colab-wheels/public/simple/\n",
            "Collecting openneuro-py\n",
            "  Downloading openneuro_py-2022.4.0-py3-none-any.whl (40 kB)\n",
            "\u001b[2K     \u001b[90m━━━━━━━━━━━━━━━━━━━━━━━━━━━━━━━━━━━━━━━━\u001b[0m \u001b[32m40.4/40.4 kB\u001b[0m \u001b[31m3.6 MB/s\u001b[0m eta \u001b[36m0:00:00\u001b[0m\n",
            "\u001b[?25hCollecting httpx>=0.15 (from openneuro-py)\n",
            "  Downloading httpx-0.24.1-py3-none-any.whl (75 kB)\n",
            "\u001b[2K     \u001b[90m━━━━━━━━━━━━━━━━━━━━━━━━━━━━━━━━━━━━━━━━\u001b[0m \u001b[32m75.4/75.4 kB\u001b[0m \u001b[31m7.1 MB/s\u001b[0m eta \u001b[36m0:00:00\u001b[0m\n",
            "\u001b[?25hRequirement already satisfied: requests in /usr/local/lib/python3.10/dist-packages (from openneuro-py) (2.27.1)\n",
            "Requirement already satisfied: tqdm in /usr/local/lib/python3.10/dist-packages (from openneuro-py) (4.65.0)\n",
            "Requirement already satisfied: click in /usr/local/lib/python3.10/dist-packages (from openneuro-py) (8.1.3)\n",
            "Collecting aiofiles (from openneuro-py)\n",
            "  Downloading aiofiles-23.1.0-py3-none-any.whl (14 kB)\n",
            "Collecting sgqlc (from openneuro-py)\n",
            "  Downloading sgqlc-16.1-py3-none-any.whl (79 kB)\n",
            "\u001b[2K     \u001b[90m━━━━━━━━━━━━━━━━━━━━━━━━━━━━━━━━━━━━━━━━\u001b[0m \u001b[32m79.7/79.7 kB\u001b[0m \u001b[31m8.1 MB/s\u001b[0m eta \u001b[36m0:00:00\u001b[0m\n",
            "\u001b[?25hRequirement already satisfied: appdirs in /usr/local/lib/python3.10/dist-packages (from openneuro-py) (1.4.4)\n",
            "Requirement already satisfied: certifi in /usr/local/lib/python3.10/dist-packages (from httpx>=0.15->openneuro-py) (2022.12.7)\n",
            "Collecting httpcore<0.18.0,>=0.15.0 (from httpx>=0.15->openneuro-py)\n",
            "  Downloading httpcore-0.17.2-py3-none-any.whl (72 kB)\n",
            "\u001b[2K     \u001b[90m━━━━━━━━━━━━━━━━━━━━━━━━━━━━━━━━━━━━━━━━\u001b[0m \u001b[32m72.5/72.5 kB\u001b[0m \u001b[31m8.3 MB/s\u001b[0m eta \u001b[36m0:00:00\u001b[0m\n",
            "\u001b[?25hRequirement already satisfied: idna in /usr/local/lib/python3.10/dist-packages (from httpx>=0.15->openneuro-py) (3.4)\n",
            "Requirement already satisfied: sniffio in /usr/local/lib/python3.10/dist-packages (from httpx>=0.15->openneuro-py) (1.3.0)\n",
            "Requirement already satisfied: urllib3<1.27,>=1.21.1 in /usr/local/lib/python3.10/dist-packages (from requests->openneuro-py) (1.26.15)\n",
            "Requirement already satisfied: charset-normalizer~=2.0.0 in /usr/local/lib/python3.10/dist-packages (from requests->openneuro-py) (2.0.12)\n",
            "Collecting graphql-core (from sgqlc->openneuro-py)\n",
            "  Downloading graphql_core-3.2.3-py3-none-any.whl (202 kB)\n",
            "\u001b[2K     \u001b[90m━━━━━━━━━━━━━━━━━━━━━━━━━━━━━━━━━━━━━━\u001b[0m \u001b[32m202.9/202.9 kB\u001b[0m \u001b[31m19.8 MB/s\u001b[0m eta \u001b[36m0:00:00\u001b[0m\n",
            "\u001b[?25hCollecting h11<0.15,>=0.13 (from httpcore<0.18.0,>=0.15.0->httpx>=0.15->openneuro-py)\n",
            "  Downloading h11-0.14.0-py3-none-any.whl (58 kB)\n",
            "\u001b[2K     \u001b[90m━━━━━━━━━━━━━━━━━━━━━━━━━━━━━━━━━━━━━━━━\u001b[0m \u001b[32m58.3/58.3 kB\u001b[0m \u001b[31m5.9 MB/s\u001b[0m eta \u001b[36m0:00:00\u001b[0m\n",
            "\u001b[?25hRequirement already satisfied: anyio<5.0,>=3.0 in /usr/local/lib/python3.10/dist-packages (from httpcore<0.18.0,>=0.15.0->httpx>=0.15->openneuro-py) (3.6.2)\n",
            "Installing collected packages: h11, graphql-core, aiofiles, sgqlc, httpcore, httpx, openneuro-py\n",
            "Successfully installed aiofiles-23.1.0 graphql-core-3.2.3 h11-0.14.0 httpcore-0.17.2 httpx-0.24.1 openneuro-py-2022.4.0 sgqlc-16.1\n"
          ]
        }
      ]
    },
    {
      "cell_type": "code",
      "source": [
        "!mkdir /content/my_dataset"
      ],
      "metadata": {
        "id": "4IKt65I7S0GW"
      },
      "execution_count": 19,
      "outputs": []
    },
    {
      "cell_type": "code",
      "source": [
        "!datalad install https://github.com/OpenNeuroDatasets/ds004502.git"
      ],
      "metadata": {
        "colab": {
          "base_uri": "https://localhost:8080/"
        },
        "id": "lKNUj-BmTdfi",
        "outputId": "fc5a4797-b0b1-4981-fcae-8dbbcd742691"
      },
      "execution_count": 23,
      "outputs": [
        {
          "output_type": "stream",
          "name": "stdout",
          "text": [
            "Cloning:   0% 0.00/2.00 [00:00<?, ? candidates/s]\n",
            "Enumerating: 0.00 Objects [00:00, ? Objects/s]\u001b[A\n",
            "                                              \u001b[A\n",
            "Counting:   0% 0.00/1.78k [00:00<?, ? Objects/s]\u001b[A\n",
            "                                                \u001b[A\n",
            "Compressing:   0% 0.00/1.14k [00:00<?, ? Objects/s]\u001b[A\n",
            "                                                   \u001b[A\n",
            "Receiving:   0% 0.00/1.78k [00:00<?, ? Objects/s]\u001b[A\n",
            "Receiving:  78% 1.39k/1.78k [00:00<00:00, 12.4k Objects/s]\u001b[A\n",
            "                                                          \u001b[A\n",
            "Resolving:   0% 0.00/210 [00:00<?, ? Deltas/s]\u001b[A\n",
            "\u001b[1;1minstall\u001b[0m(\u001b[1;31merror\u001b[0m): /content/ds004502 (\u001b[1;35mdataset\u001b[0m) [No working git-annex installation of version >= 8.20200309. Visit http://handbook.datalad.org/r.html?install for instructions on how to install DataLad and git-annex.]\u001b[1;31m [No working git-annex installation of version >= 8.20200309. Visit http://handbook.datalad.org/r.html?install for instructions on how to install DataLad and git-annex.]\u001b[0m\n"
          ]
        }
      ]
    },
    {
      "cell_type": "code",
      "source": [
        "import openneuro as on\n",
        "\n",
        "dataset_id = \"ds004504\"\n",
        "output_dir = \"/content/my_dataset\"\n",
        "\n",
        "on.download(dataset=dataset_id, target_dir=output_dir)"
      ],
      "metadata": {
        "colab": {
          "base_uri": "https://localhost:8080/",
          "height": 257,
          "referenced_widgets": [
            "35939336abb142b79442d58a3bf28165",
            "c2ba5ef40f264abf9748dc3e19716420",
            "6b5d49225793453a8a064e97a28c6e9f",
            "3f95e446d7df44228806deec1bfbee3b",
            "79e88344f44d42ac81496e3d61461bfc",
            "ec88cd87fce749b687df0abb1f2dae5d",
            "ec6fe14be3f845f7947e24859c34628a",
            "14ae41b662e44f16a5ff726f3f43ae2b",
            "4bec968d7af84110af2a69f1359b82d9",
            "a914900da5224675ab894932ad5e5df1",
            "0a1fec090899407b9d176fb3147a3788"
          ]
        },
        "id": "58FZHqG0UCIh",
        "outputId": "dc3ac514-1d62-46e9-8e6b-918fbb54804d"
      },
      "execution_count": 27,
      "outputs": [
        {
          "output_type": "stream",
          "name": "stdout",
          "text": [
            "\n",
            "👋 Hello! This is openneuro-py 2022.4.0. Great to see you! 🤗\n",
            "\n",
            "   👉 Please report problems 🤯 and bugs 🪲 at\n",
            "      https://github.com/hoechenberger/openneuro-py/issues\n",
            "\n",
            "🌍 Preparing to download ds004504 …\n"
          ]
        },
        {
          "output_type": "display_data",
          "data": {
            "text/plain": [
              "📁 Traversing directories for ds004504 : 0 entities [00:00, ? entities/s]"
            ],
            "application/vnd.jupyter.widget-view+json": {
              "version_major": 2,
              "version_minor": 0,
              "model_id": "35939336abb142b79442d58a3bf28165"
            }
          },
          "metadata": {}
        },
        {
          "output_type": "stream",
          "name": "stdout",
          "text": [
            "📥 Retrieving up to 357 files (5 concurrent downloads). \n",
            "✅ Finished downloading ds004504.\n",
            " \n",
            "🧠 Please enjoy your brains.\n",
            " \n"
          ]
        }
      ]
    },
    {
      "cell_type": "code",
      "source": [
        "import datalad.api as dl\n",
        "\n",
        "dataset_id = \"ds004504\"\n",
        "output_dir = \"/content/my_dataset\"\n",
        "\n",
        "on.download(dataset=dataset_id, target_dir=output_dir)"
      ],
      "metadata": {
        "colab": {
          "base_uri": "https://localhost:8080/",
          "height": 850
        },
        "id": "-d2VPsWdRGKf",
        "outputId": "a57085ea-0ba5-4c44-e611-b24663844de5"
      },
      "execution_count": 26,
      "outputs": [
        {
          "output_type": "stream",
          "name": "stderr",
          "text": [
            "[INFO] Attempting a clone into /content/my_dataset \n",
            "INFO:datalad.core.distributed.clone:Attempting a clone into /content/my_dataset\n",
            "[INFO] Attempting to clone from ds004504 to /content/my_dataset \n",
            "INFO:datalad.core.distributed.clone:Attempting to clone from ds004504 to /content/my_dataset\n",
            "[INFO] Completed clone attempts for Dataset(/content/my_dataset) \n",
            "INFO:datalad.core.distributed.clone:Completed clone attempts for Dataset(/content/my_dataset)\n",
            "INFO:datalad:Clear progress bars\n",
            "INFO:datalad:Refresh progress bars\n"
          ]
        },
        {
          "output_type": "stream",
          "name": "stdout",
          "text": [
            "\u001b[1;1minstall\u001b[0m(\u001b[1;31merror\u001b[0m): /content/my_dataset (\u001b[1;35mdataset\u001b[0m) [Failed to clone from any candidate source URL. Encountered errors per each url were:\n",
            "- ds004504\n",
            "  CommandError: 'git -c diff.ignoreSubmodules=none clone --progress ds004504 /content/my_dataset' failed with exitcode 128 [err: 'fatal: repository 'ds004504' does not exist']]\n"
          ]
        },
        {
          "output_type": "error",
          "ename": "IncompleteResultsError",
          "evalue": "ignored",
          "traceback": [
            "\u001b[0;31m---------------------------------------------------------------------------\u001b[0m",
            "\u001b[0;31mIncompleteResultsError\u001b[0m                    Traceback (most recent call last)",
            "\u001b[0;32m<ipython-input-26-0c9408a9159d>\u001b[0m in \u001b[0;36m<cell line: 7>\u001b[0;34m()\u001b[0m\n\u001b[1;32m      5\u001b[0m \u001b[0;34m\u001b[0m\u001b[0m\n\u001b[1;32m      6\u001b[0m \u001b[0;31m# Download the dataset using datalad\u001b[0m\u001b[0;34m\u001b[0m\u001b[0;34m\u001b[0m\u001b[0m\n\u001b[0;32m----> 7\u001b[0;31m \u001b[0mdl\u001b[0m\u001b[0;34m.\u001b[0m\u001b[0minstall\u001b[0m\u001b[0;34m(\u001b[0m\u001b[0mpath\u001b[0m\u001b[0;34m=\u001b[0m\u001b[0moutput_dir\u001b[0m\u001b[0;34m,\u001b[0m \u001b[0msource\u001b[0m\u001b[0;34m=\u001b[0m\u001b[0mdataset_id\u001b[0m\u001b[0;34m)\u001b[0m\u001b[0;34m\u001b[0m\u001b[0;34m\u001b[0m\u001b[0m\n\u001b[0m",
            "\u001b[0;32m/usr/local/lib/python3.10/dist-packages/datalad/interface/base.py\u001b[0m in \u001b[0;36meval_func\u001b[0;34m(*args, **kwargs)\u001b[0m\n\u001b[1;32m    771\u001b[0m                     \u001b[0;34m\"Returning return_func from eval_func for %s\"\u001b[0m\u001b[0;34m,\u001b[0m\u001b[0;34m\u001b[0m\u001b[0;34m\u001b[0m\u001b[0m\n\u001b[1;32m    772\u001b[0m                     wrapped_class)\n\u001b[0;32m--> 773\u001b[0;31m             \u001b[0;32mreturn\u001b[0m \u001b[0mreturn_func\u001b[0m\u001b[0;34m(\u001b[0m\u001b[0;34m*\u001b[0m\u001b[0margs\u001b[0m\u001b[0;34m,\u001b[0m \u001b[0;34m**\u001b[0m\u001b[0mkwargs\u001b[0m\u001b[0;34m)\u001b[0m\u001b[0;34m\u001b[0m\u001b[0;34m\u001b[0m\u001b[0m\n\u001b[0m\u001b[1;32m    774\u001b[0m \u001b[0;34m\u001b[0m\u001b[0m\n\u001b[1;32m    775\u001b[0m     \u001b[0mret\u001b[0m \u001b[0;34m=\u001b[0m \u001b[0meval_func\u001b[0m\u001b[0;34m\u001b[0m\u001b[0;34m\u001b[0m\u001b[0m\n",
            "\u001b[0;32m/usr/local/lib/python3.10/dist-packages/datalad/interface/base.py\u001b[0m in \u001b[0;36mreturn_func\u001b[0;34m(*args_, **kwargs_)\u001b[0m\n\u001b[1;32m    761\u001b[0m                     \u001b[0;31m# unwind generator if there is one, this actually runs\u001b[0m\u001b[0;34m\u001b[0m\u001b[0;34m\u001b[0m\u001b[0m\n\u001b[1;32m    762\u001b[0m                     \u001b[0;31m# any processing\u001b[0m\u001b[0;34m\u001b[0m\u001b[0;34m\u001b[0m\u001b[0m\n\u001b[0;32m--> 763\u001b[0;31m                     \u001b[0mresults\u001b[0m \u001b[0;34m=\u001b[0m \u001b[0mlist\u001b[0m\u001b[0;34m(\u001b[0m\u001b[0mresults\u001b[0m\u001b[0;34m)\u001b[0m\u001b[0;34m\u001b[0m\u001b[0;34m\u001b[0m\u001b[0m\n\u001b[0m\u001b[1;32m    764\u001b[0m                 \u001b[0;32mif\u001b[0m \u001b[0mreturn_type\u001b[0m \u001b[0;34m==\u001b[0m \u001b[0;34m'item-or-list'\u001b[0m \u001b[0;32mand\u001b[0m\u001b[0;31m \u001b[0m\u001b[0;31m\\\u001b[0m\u001b[0;34m\u001b[0m\u001b[0;34m\u001b[0m\u001b[0m\n\u001b[1;32m    765\u001b[0m                         \u001b[0mlen\u001b[0m\u001b[0;34m(\u001b[0m\u001b[0mresults\u001b[0m\u001b[0;34m)\u001b[0m \u001b[0;34m<\u001b[0m \u001b[0;36m2\u001b[0m\u001b[0;34m:\u001b[0m\u001b[0;34m\u001b[0m\u001b[0;34m\u001b[0m\u001b[0m\n",
            "\u001b[0;32m/usr/local/lib/python3.10/dist-packages/datalad/interface/base.py\u001b[0m in \u001b[0;36m_execute_command_\u001b[0;34m(interface, cmd, cmd_args, cmd_kwargs, exec_kwargs)\u001b[0m\n\u001b[1;32m    938\u001b[0m \u001b[0;34m\u001b[0m\u001b[0m\n\u001b[1;32m    939\u001b[0m     \u001b[0;32mif\u001b[0m \u001b[0mincomplete_results\u001b[0m\u001b[0;34m:\u001b[0m\u001b[0;34m\u001b[0m\u001b[0;34m\u001b[0m\u001b[0m\n\u001b[0;32m--> 940\u001b[0;31m         raise IncompleteResultsError(\n\u001b[0m\u001b[1;32m    941\u001b[0m             \u001b[0mfailed\u001b[0m\u001b[0;34m=\u001b[0m\u001b[0mincomplete_results\u001b[0m\u001b[0;34m,\u001b[0m\u001b[0;34m\u001b[0m\u001b[0;34m\u001b[0m\u001b[0m\n\u001b[1;32m    942\u001b[0m             msg=\"Command did not complete successfully\")\n",
            "\u001b[0;31mIncompleteResultsError\u001b[0m: Command did not complete successfully. 1 failed:\n[{'action': 'install',\n  'message': ('Failed to clone from any candidate source URL. Encountered '\n              'errors per each url were:\\n'\n              '- %s',\n              'ds004504\\n'\n              \"  CommandError: 'git -c diff.ignoreSubmodules=none clone \"\n              \"--progress ds004504 /content/my_dataset' failed with exitcode \"\n              \"128 [err: 'fatal: repository 'ds004504' does not exist']\"),\n  'path': '/content/my_dataset',\n  'refds': None,\n  'source': {'default_destpath': 'ds004504',\n             'giturl': 'ds004504',\n             'source': 'ds004504',\n             'type': 'giturl',\n             'version': None},\n  'source_url': 'ds004504',\n  'status': 'error',\n  'type': 'dataset'}]"
          ]
        }
      ]
    },
    {
      "cell_type": "code",
      "source": [
        "!datalad install https://github.com/OpenNeuroDatasets/ds004504.git"
      ],
      "metadata": {
        "colab": {
          "base_uri": "https://localhost:8080/"
        },
        "id": "E-uTqh4cTz_D",
        "outputId": "79c99aec-1cf4-4d91-e6e2-2ddc97101905"
      },
      "execution_count": 25,
      "outputs": [
        {
          "output_type": "stream",
          "name": "stdout",
          "text": [
            "Cloning:   0% 0.00/2.00 [00:00<?, ? candidates/s]\n",
            "Enumerating: 0.00 Objects [00:00, ? Objects/s]\u001b[A\n",
            "                                              \u001b[A\n",
            "Counting:   0% 0.00/2.36k [00:00<?, ? Objects/s]\u001b[A\n",
            "                                                \u001b[A\n",
            "Compressing:   0% 0.00/1.39k [00:00<?, ? Objects/s]\u001b[A\n",
            "                                                   \u001b[A\n",
            "Receiving:   0% 0.00/2.36k [00:00<?, ? Objects/s]\u001b[A\n",
            "                                                 \u001b[A\n",
            "Resolving:   0% 0.00/372 [00:00<?, ? Deltas/s]\u001b[A\n",
            "\u001b[1;1minstall\u001b[0m(\u001b[1;31merror\u001b[0m): /content/ds004504 (\u001b[1;35mdataset\u001b[0m) [No working git-annex installation of version >= 8.20200309. Visit http://handbook.datalad.org/r.html?install for instructions on how to install DataLad and git-annex.]\u001b[1;31m [No working git-annex installation of version >= 8.20200309. Visit http://handbook.datalad.org/r.html?install for instructions on how to install DataLad and git-annex.]\u001b[0m\n"
          ]
        }
      ]
    }
  ]
}